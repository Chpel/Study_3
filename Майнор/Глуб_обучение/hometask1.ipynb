{
 "cells": [
  {
   "cell_type": "markdown",
   "metadata": {
    "id": "Q_upCOEI3Upu"
   },
   "source": [
    "# Основы глубинного обучения, майнор ИАД\n",
    "\n",
    "## Домашнее задание 1. Введение в PyTorch. Полносвязные нейронные сети.\n",
    "\n",
    "### Общая информация\n",
    "\n",
    "Дата выдачи: 06.10.2021\n",
    "\n",
    "Мягкий дедлайн: 23:59MSK 25.10.2021\n",
    "\n",
    "Жесткий дедлайн: 23:59MSK 28.10.2021\n",
    "\n",
    "### Оценивание и штрафы\n",
    "Максимально допустимая оценка за работу — 10 баллов. За каждый день просрочки снимается 1 балл. Сдавать задание после жёсткого дедлайна сдачи нельзя.\n",
    "\n",
    "Задание выполняется самостоятельно. «Похожие» решения считаются плагиатом и все задействованные студенты (в том числе те, у кого списали) не могут получить за него больше 0 баллов. Если вы нашли решение какого-то из заданий (или его часть) в открытом источнике, необходимо указать ссылку на этот источник в отдельном блоке в конце вашей работы (скорее всего вы будете не единственным, кто это нашел, поэтому чтобы исключить подозрение в плагиате, необходима ссылка на источник).\n",
    "\n",
    "Неэффективная реализация кода может негативно отразиться на оценке.\n",
    "Также оценка может быть снижена за плохо читаемый код и плохо оформленные графики. Все ответы должны сопровождаться кодом или комментариями о том, как они были получены.\n",
    "\n",
    "### О задании\n",
    "\n",
    "В этом задании вам предстоит предсказывать год выпуска песни по некоторым звуковым признакам: [данные](https://archive.ics.uci.edu/ml/datasets/yearpredictionmsd). В ячейках ниже находится код для загрузки данных. Обратите внимание, что обучающая и тестовая выборки располагаются в одном файле, поэтому НЕ меняйте ячейку, в которой производится деление данных."
   ]
  },
  {
   "cell_type": "code",
   "execution_count": 2,
   "metadata": {
    "id": "RI_eoe063VaP"
   },
   "outputs": [],
   "source": [
    "import torch\n",
    "from torch import nn\n",
    "import pandas as pd\n",
    "import numpy as np\n",
    "import random\n",
    "import wget\n",
    "from tqdm.notebook import tqdm"
   ]
  },
  {
   "cell_type": "code",
   "execution_count": 10,
   "metadata": {
    "id": "7NgSZeU-7vgj"
   },
   "outputs": [
    {
     "name": "stdout",
     "output_type": "stream",
     "text": [
      "100% [......................................................................] 211011981 / 211011981"
     ]
    },
    {
     "data": {
      "text/plain": [
       "'YearPredictionMSD.txt.zip'"
      ]
     },
     "execution_count": 10,
     "metadata": {},
     "output_type": "execute_result"
    }
   ],
   "source": [
    "wget.download('https://archive.ics.uci.edu/ml/machine-learning-databases/00203/YearPredictionMSD.txt.zip')"
   ]
  },
  {
   "cell_type": "code",
   "execution_count": 3,
   "metadata": {
    "id": "DSVJZzkJ7zZE"
   },
   "outputs": [
    {
     "data": {
      "text/html": [
       "<div>\n",
       "<style scoped>\n",
       "    .dataframe tbody tr th:only-of-type {\n",
       "        vertical-align: middle;\n",
       "    }\n",
       "\n",
       "    .dataframe tbody tr th {\n",
       "        vertical-align: top;\n",
       "    }\n",
       "\n",
       "    .dataframe thead th {\n",
       "        text-align: right;\n",
       "    }\n",
       "</style>\n",
       "<table border=\"1\" class=\"dataframe\">\n",
       "  <thead>\n",
       "    <tr style=\"text-align: right;\">\n",
       "      <th></th>\n",
       "      <th>0</th>\n",
       "      <th>1</th>\n",
       "      <th>2</th>\n",
       "      <th>3</th>\n",
       "      <th>4</th>\n",
       "      <th>5</th>\n",
       "      <th>6</th>\n",
       "      <th>7</th>\n",
       "      <th>8</th>\n",
       "      <th>9</th>\n",
       "      <th>...</th>\n",
       "      <th>81</th>\n",
       "      <th>82</th>\n",
       "      <th>83</th>\n",
       "      <th>84</th>\n",
       "      <th>85</th>\n",
       "      <th>86</th>\n",
       "      <th>87</th>\n",
       "      <th>88</th>\n",
       "      <th>89</th>\n",
       "      <th>90</th>\n",
       "    </tr>\n",
       "  </thead>\n",
       "  <tbody>\n",
       "    <tr>\n",
       "      <th>0</th>\n",
       "      <td>2001</td>\n",
       "      <td>49.94357</td>\n",
       "      <td>21.47114</td>\n",
       "      <td>73.07750</td>\n",
       "      <td>8.74861</td>\n",
       "      <td>-17.40628</td>\n",
       "      <td>-13.09905</td>\n",
       "      <td>-25.01202</td>\n",
       "      <td>-12.23257</td>\n",
       "      <td>7.83089</td>\n",
       "      <td>...</td>\n",
       "      <td>13.01620</td>\n",
       "      <td>-54.40548</td>\n",
       "      <td>58.99367</td>\n",
       "      <td>15.37344</td>\n",
       "      <td>1.11144</td>\n",
       "      <td>-23.08793</td>\n",
       "      <td>68.40795</td>\n",
       "      <td>-1.82223</td>\n",
       "      <td>-27.46348</td>\n",
       "      <td>2.26327</td>\n",
       "    </tr>\n",
       "    <tr>\n",
       "      <th>1</th>\n",
       "      <td>2001</td>\n",
       "      <td>48.73215</td>\n",
       "      <td>18.42930</td>\n",
       "      <td>70.32679</td>\n",
       "      <td>12.94636</td>\n",
       "      <td>-10.32437</td>\n",
       "      <td>-24.83777</td>\n",
       "      <td>8.76630</td>\n",
       "      <td>-0.92019</td>\n",
       "      <td>18.76548</td>\n",
       "      <td>...</td>\n",
       "      <td>5.66812</td>\n",
       "      <td>-19.68073</td>\n",
       "      <td>33.04964</td>\n",
       "      <td>42.87836</td>\n",
       "      <td>-9.90378</td>\n",
       "      <td>-32.22788</td>\n",
       "      <td>70.49388</td>\n",
       "      <td>12.04941</td>\n",
       "      <td>58.43453</td>\n",
       "      <td>26.92061</td>\n",
       "    </tr>\n",
       "    <tr>\n",
       "      <th>2</th>\n",
       "      <td>2001</td>\n",
       "      <td>50.95714</td>\n",
       "      <td>31.85602</td>\n",
       "      <td>55.81851</td>\n",
       "      <td>13.41693</td>\n",
       "      <td>-6.57898</td>\n",
       "      <td>-18.54940</td>\n",
       "      <td>-3.27872</td>\n",
       "      <td>-2.35035</td>\n",
       "      <td>16.07017</td>\n",
       "      <td>...</td>\n",
       "      <td>3.03800</td>\n",
       "      <td>26.05866</td>\n",
       "      <td>-50.92779</td>\n",
       "      <td>10.93792</td>\n",
       "      <td>-0.07568</td>\n",
       "      <td>43.20130</td>\n",
       "      <td>-115.00698</td>\n",
       "      <td>-0.05859</td>\n",
       "      <td>39.67068</td>\n",
       "      <td>-0.66345</td>\n",
       "    </tr>\n",
       "    <tr>\n",
       "      <th>3</th>\n",
       "      <td>2001</td>\n",
       "      <td>48.24750</td>\n",
       "      <td>-1.89837</td>\n",
       "      <td>36.29772</td>\n",
       "      <td>2.58776</td>\n",
       "      <td>0.97170</td>\n",
       "      <td>-26.21683</td>\n",
       "      <td>5.05097</td>\n",
       "      <td>-10.34124</td>\n",
       "      <td>3.55005</td>\n",
       "      <td>...</td>\n",
       "      <td>34.57337</td>\n",
       "      <td>-171.70734</td>\n",
       "      <td>-16.96705</td>\n",
       "      <td>-46.67617</td>\n",
       "      <td>-12.51516</td>\n",
       "      <td>82.58061</td>\n",
       "      <td>-72.08993</td>\n",
       "      <td>9.90558</td>\n",
       "      <td>199.62971</td>\n",
       "      <td>18.85382</td>\n",
       "    </tr>\n",
       "    <tr>\n",
       "      <th>4</th>\n",
       "      <td>2001</td>\n",
       "      <td>50.97020</td>\n",
       "      <td>42.20998</td>\n",
       "      <td>67.09964</td>\n",
       "      <td>8.46791</td>\n",
       "      <td>-15.85279</td>\n",
       "      <td>-16.81409</td>\n",
       "      <td>-12.48207</td>\n",
       "      <td>-9.37636</td>\n",
       "      <td>12.63699</td>\n",
       "      <td>...</td>\n",
       "      <td>9.92661</td>\n",
       "      <td>-55.95724</td>\n",
       "      <td>64.92712</td>\n",
       "      <td>-17.72522</td>\n",
       "      <td>-1.49237</td>\n",
       "      <td>-7.50035</td>\n",
       "      <td>51.76631</td>\n",
       "      <td>7.88713</td>\n",
       "      <td>55.66926</td>\n",
       "      <td>28.74903</td>\n",
       "    </tr>\n",
       "  </tbody>\n",
       "</table>\n",
       "<p>5 rows × 91 columns</p>\n",
       "</div>"
      ],
      "text/plain": [
       "     0         1         2         3         4         5         6         7   \\\n",
       "0  2001  49.94357  21.47114  73.07750   8.74861 -17.40628 -13.09905 -25.01202   \n",
       "1  2001  48.73215  18.42930  70.32679  12.94636 -10.32437 -24.83777   8.76630   \n",
       "2  2001  50.95714  31.85602  55.81851  13.41693  -6.57898 -18.54940  -3.27872   \n",
       "3  2001  48.24750  -1.89837  36.29772   2.58776   0.97170 -26.21683   5.05097   \n",
       "4  2001  50.97020  42.20998  67.09964   8.46791 -15.85279 -16.81409 -12.48207   \n",
       "\n",
       "         8         9   ...        81         82        83        84        85  \\\n",
       "0 -12.23257   7.83089  ...  13.01620  -54.40548  58.99367  15.37344   1.11144   \n",
       "1  -0.92019  18.76548  ...   5.66812  -19.68073  33.04964  42.87836  -9.90378   \n",
       "2  -2.35035  16.07017  ...   3.03800   26.05866 -50.92779  10.93792  -0.07568   \n",
       "3 -10.34124   3.55005  ...  34.57337 -171.70734 -16.96705 -46.67617 -12.51516   \n",
       "4  -9.37636  12.63699  ...   9.92661  -55.95724  64.92712 -17.72522  -1.49237   \n",
       "\n",
       "         86         87        88         89        90  \n",
       "0 -23.08793   68.40795  -1.82223  -27.46348   2.26327  \n",
       "1 -32.22788   70.49388  12.04941   58.43453  26.92061  \n",
       "2  43.20130 -115.00698  -0.05859   39.67068  -0.66345  \n",
       "3  82.58061  -72.08993   9.90558  199.62971  18.85382  \n",
       "4  -7.50035   51.76631   7.88713   55.66926  28.74903  \n",
       "\n",
       "[5 rows x 91 columns]"
      ]
     },
     "execution_count": 3,
     "metadata": {},
     "output_type": "execute_result"
    }
   ],
   "source": [
    "df = pd.read_csv('data.txt.zip', header=None)\n",
    "df.head()"
   ]
  },
  {
   "cell_type": "code",
   "execution_count": 4,
   "metadata": {},
   "outputs": [
    {
     "data": {
      "text/plain": [
       "(515345, 91)"
      ]
     },
     "execution_count": 4,
     "metadata": {},
     "output_type": "execute_result"
    }
   ],
   "source": [
    "df.shape"
   ]
  },
  {
   "cell_type": "code",
   "execution_count": 4,
   "metadata": {
    "id": "n4wnRJT1778j"
   },
   "outputs": [],
   "source": [
    "X = df.iloc[:, 1:].values\n",
    "y = df.iloc[:, 0].values\n",
    "\n",
    "train_size = 463715\n",
    "X_train = X[:train_size, :]\n",
    "y_train = y[:train_size]\n",
    "X_test = X[train_size:, :]\n",
    "y_test = y[train_size:]"
   ]
  },
  {
   "cell_type": "markdown",
   "metadata": {
    "id": "_386JE_o5gOd"
   },
   "source": [
    "## Задание 0. (0 баллов, но при невыполнении максимум за все задание &mdash; 0 баллов)\n",
    "\n",
    "Мы будем использовать RMSE как метрику качества. Для самого первого бейзлайна обучите `Ridge` регрессию из `sklearn`. Кроме того, посчитайте качество при наилучшем константном прогнозе."
   ]
  },
  {
   "cell_type": "code",
   "execution_count": 5,
   "metadata": {
    "id": "otwuisa56MLr"
   },
   "outputs": [
    {
     "name": "stdout",
     "output_type": "stream",
     "text": [
      "RMSE of Ridge model = 9.510160711373402\n",
      "Constant models:\n",
      "c = 1922, RMSE = 77.26166566674475\n",
      "c = 1924, RMSE = 75.28201610264942\n",
      "c = 1925, RMSE = 74.29260011548544\n",
      "c = 1926, RMSE = 73.30347137318455\n",
      "c = 1927, RMSE = 72.31464166266157\n",
      "c = 1928, RMSE = 71.3261234207987\n",
      "c = 1929, RMSE = 70.33792977959239\n",
      "c = 1930, RMSE = 69.35007461509129\n",
      "c = 1931, RMSE = 68.36257260049969\n",
      "c = 1932, RMSE = 67.37543926386269\n",
      "c = 1933, RMSE = 66.38869105079803\n",
      "c = 1934, RMSE = 65.40234539279284\n",
      "c = 1935, RMSE = 64.41642078164567\n",
      "c = 1936, RMSE = 63.43093685070317\n",
      "c = 1937, RMSE = 62.44591446362006\n",
      "c = 1938, RMSE = 61.46137581146076\n",
      "c = 1939, RMSE = 60.47734451906329\n",
      "c = 1940, RMSE = 59.49384576170324\n",
      "c = 1941, RMSE = 58.51090639322891\n",
      "c = 1942, RMSE = 57.52855508699185\n",
      "c = 1943, RMSE = 56.54682249107298\n",
      "c = 1944, RMSE = 55.56574139950602\n",
      "c = 1945, RMSE = 54.58534694143326\n",
      "c = 1946, RMSE = 53.60567679039691\n",
      "c = 1947, RMSE = 52.62677139628042\n",
      "c = 1948, RMSE = 51.64867424277432\n",
      "c = 1949, RMSE = 50.67143213365969\n",
      "c = 1950, RMSE = 49.69509551168949\n",
      "c = 1951, RMSE = 48.71971881441642\n",
      "c = 1952, RMSE = 47.74536087198065\n",
      "c = 1953, RMSE = 46.77208535264942\n",
      "c = 1954, RMSE = 45.7999612628153\n",
      "c = 1955, RMSE = 44.82906350923743\n",
      "c = 1956, RMSE = 43.8594735325802\n",
      "c = 1957, RMSE = 42.89128002280842\n",
      "c = 1958, RMSE = 41.924579728779925\n",
      "c = 1959, RMSE = 40.95947837649651\n",
      "c = 1960, RMSE = 39.99609171299798\n",
      "c = 1961, RMSE = 39.03454669590011\n",
      "c = 1962, RMSE = 38.07498285218612\n",
      "c = 1963, RMSE = 37.11755383419182\n",
      "c = 1964, RMSE = 36.16242920593123\n",
      "c = 1965, RMSE = 35.20979649918256\n",
      "c = 1966, RMSE = 34.259863586326624\n",
      "c = 1967, RMSE = 33.31286142608541\n",
      "c = 1968, RMSE = 32.3690472493929\n",
      "c = 1969, RMSE = 31.428708266062905\n",
      "c = 1970, RMSE = 30.49216598920371\n",
      "c = 1971, RMSE = 29.55978129406596\n",
      "c = 1972, RMSE = 28.631960351901725\n",
      "c = 1973, RMSE = 27.709161608261137\n",
      "c = 1974, RMSE = 26.791904009842103\n",
      "c = 1975, RMSE = 25.880776725447287\n",
      "c = 1976, RMSE = 24.97645065561387\n",
      "c = 1977, RMSE = 24.07969208258642\n",
      "c = 1978, RMSE = 23.191378877333612\n",
      "c = 1979, RMSE = 22.312519751742432\n",
      "c = 1980, RMSE = 21.444277117957526\n",
      "c = 1981, RMSE = 20.58799418475771\n",
      "c = 1982, RMSE = 19.74522696733258\n",
      "c = 1983, RMSE = 18.917781884548155\n",
      "c = 1984, RMSE = 18.107759521022995\n",
      "c = 1985, RMSE = 17.31760486646636\n",
      "c = 1986, RMSE = 16.55016379831088\n",
      "c = 1987, RMSE = 15.80874457984506\n",
      "c = 1988, RMSE = 15.097181479688224\n",
      "c = 1989, RMSE = 14.419895008997175\n",
      "c = 1990, RMSE = 13.78193946838986\n",
      "c = 1991, RMSE = 13.189023426706875\n",
      "c = 1992, RMSE = 12.647482847985337\n",
      "c = 1993, RMSE = 12.16418126426698\n",
      "c = 1994, RMSE = 11.746309602160347\n",
      "c = 1995, RMSE = 11.401064542825154\n",
      "c = 1996, RMSE = 11.135203462421577\n",
      "c = 1997, RMSE = 10.954507729212938\n",
      "c = 1998, RMSE = 10.863228020678134\n",
      "c = 1999, RMSE = 10.863618479544792\n",
      "c = 2000, RMSE = 10.955669304472806\n",
      "c = 2001, RMSE = 11.137107943664198\n",
      "c = 2002, RMSE = 11.403668567118597\n",
      "c = 2003, RMSE = 11.749559150391528\n",
      "c = 2004, RMSE = 12.168016422918315\n",
      "c = 2005, RMSE = 12.651842044076838\n",
      "c = 2006, RMSE = 13.19384669261133\n",
      "c = 2007, RMSE = 13.787170630263175\n",
      "c = 2008, RMSE = 14.42548291835847\n",
      "c = 2009, RMSE = 15.103080509211111\n",
      "c = 2010, RMSE = 15.814914615879946\n",
      "c = 2011, RMSE = 16.556569926993745\n"
     ]
    }
   ],
   "source": [
    "from sklearn.linear_model import Ridge\n",
    "from sklearn.dummy import DummyRegressor\n",
    "from sklearn.metrics import mean_squared_error as MSE\n",
    "\n",
    "rdg = Ridge()\n",
    "rdg.fit(X_train, y_train)\n",
    "print(f\"RMSE of Ridge model = {MSE(rdg.predict(X_test), y_test, squared=False)}\")\n",
    "print(\"Constant models:\")\n",
    "for y_t in np.unique(y):\n",
    "    DR = DummyRegressor(strategy='constant', constant=y_t)\n",
    "    DR.fit([X_train[0]],[y_train[0]])\n",
    "    print(f\"c = {y_t}, RMSE = {MSE(DR.predict(X_test), y_test, squared=False)}\")"
   ]
  },
  {
   "cell_type": "markdown",
   "metadata": {
    "id": "_6ilBKYt6OdD"
   },
   "source": [
    "## Задание 1. (максимум 10 баллов)\n",
    "\n",
    "Реализуйте обучение и тестирование нейронной сети для предоставленного вам набора данных. Соотношение между полученным значением метрики на тестовой выборке и баллами за задание следующее:\n",
    "\n",
    "- $\\text{RMSE} \\le 9.00 $ &mdash; 4 балла\n",
    "- $\\text{RMSE} \\le 8.90 $ &mdash; 6 баллов\n",
    "- $\\text{RMSE} \\le 8.80 $ &mdash; 8 баллов\n",
    "- $\\text{RMSE} \\le 8.75 $ &mdash; 10 баллов\n",
    "\n",
    "Есть несколько правил, которых вам нужно придерживаться:\n",
    "\n",
    "- Весь пайплайн обучения должен быть написан на PyTorch. При этом вы можете пользоваться другими библиотеками (`numpy`, `sklearn` и пр.), но только для обработки данных. То есть как угодно трансформировать данные и считать метрики с помощью этих библиотек можно, а импортировать модели из `sklearn` и выбивать с их помощью требуемое качество &mdash; нельзя. Также нельзя пользоваться библиотеками, для которых сам PyTorch является зависимостью.\n",
    "\n",
    "- Мы никак не ограничиваем ваш выбор архитектуры модели, но скорее всего вам будет достаточно полносвязной нейронной сети.\n",
    "\n",
    "- Для обучения запрещается использовать какие-либо иные данные, кроме обучающей выборки.\n",
    "\n",
    "- Ансамблирование моделей запрещено.\n",
    "\n",
    "### Полезные советы:\n",
    "\n",
    "- Очень вряд ли, что у вас с первого раза получится выбить качество на 10 баллов, поэтому пробуйте разные архитектуры, оптимизаторы и значения гиперпараметров. В идеале при запуске каждого нового эксперимента вы должны менять что-то одно, чтобы точно знать, как этот фактор влияет на качество.\n",
    "\n",
    "- Тот факт, что мы занимаемся глубинным обучением, не означает, что стоит забывать про приемы, использующиеся в классическом машинном обучении. Так что обязательно проводите исследовательский анализ данных, отрисовывайте нужные графики и не забывайте про масштабирование и подбор гиперпараметров.\n",
    "\n",
    "- Вы наверняка столкнетесь с тем, что ваша нейронная сеть будет сильно переобучаться. Для нейросетей существуют специальные методы регуляризации, например, dropout ([статья](https://jmlr.org/papers/volume15/srivastava14a/srivastava14a.pdf)) и weight decay ([блогпост](https://towardsdatascience.com/weight-decay-l2-regularization-90a9e17713cd)). Они, разумеется, реализованы в PyTorch. Попробуйте поэкспериментировать с ними.\n",
    "\n",
    "- Если вы чего-то не знаете, не гнушайтесь гуглить. В интернете очень много полезной информации, туториалов и советов по глубинному обучению в целом и по PyTorch в частности. Но не забывайте, что за скатанный код без ссылки на источник придется ответить по всей строгости!\n",
    "\n",
    "- Если вы сразу реализуете обучение на GPU, то у вас будет больше времени на эксперименты, так как любые вычисления будут работать быстрее. Google Colab предоставляет несколько GPU-часов (обычно около 8-10) в сутки бесплатно.\n",
    "\n",
    "- Чтобы отладить код, можете обучаться на небольшой части данных или даже на одном батче. Если лосс на обучающей выборке не падает, то что-то точно идет не так!\n",
    "\n",
    "- Пользуйтесь утилитами, которые вам предоставляет PyTorch (например, Dataset и Dataloader). Их специально разработали для упрощения разработки пайплайна обучения.\n",
    "\n",
    "- Скорее всего вы захотите отслеживать прогресс обучения. Для создания прогресс-баров есть удобная библиотека `tqdm`.\n",
    "\n",
    "- Быть может, вы захотите, чтобы графики рисовались прямо во время обучения. Можете воспользоваться функцией [clear_output](http://ipython.org/ipython-doc/dev/api/generated/IPython.display.html#IPython.display.clear_output), чтобы удалять старый график и рисовать новый на его месте.\n",
    "\n",
    "**ОБЯЗАТЕЛЬНО** рисуйте графики зависимости лосса/метрики на обучающей и тестовой выборках в зависимости от времени обучения. Если обучение занимает относительно небольшое число эпох, то лучше рисовать зависимость от номера шага обучения, если же эпох больше, то рисуйте зависимость по эпохам. Если проверяющий не увидит такого графика для вашей лучшей модели, то он в праве снизить баллы за задание.\n",
    "\n",
    "**ВАЖНО!** Ваше решение должно быть воспроизводимым. Если это не так, то проверяющий имеет право снизить баллы за задание. Чтобы зафиксировать random seed, воспользуйтесь функцией из ячейки ниже.\n",
    "\n"
   ]
  },
  {
   "cell_type": "code",
   "execution_count": 6,
   "metadata": {
    "id": "VaMButDmEKKw"
   },
   "outputs": [],
   "source": [
    "def set_random_seed(seed):\n",
    "    torch.backends.cudnn.deterministic = True\n",
    "    torch.manual_seed(seed)\n",
    "    torch.cuda.manual_seed(seed)\n",
    "    np.random.seed(seed)\n",
    "    random.seed(seed)"
   ]
  },
  {
   "cell_type": "markdown",
   "metadata": {
    "id": "TZW0gMe3vT8u"
   },
   "source": [
    "Вы можете придерживаться любой адекватной струкуры кода, но мы советуем воспользоваться следующими сигнатурами функций. Лучше всего, если вы проверите ваши предсказания ассертом: так вы убережете себя от разных косяков, например, что вектор предсказаний состоит из всего одного числа. В любом случае, внимательно следите за тем, для каких тензоров вы считаете метрику RMSE. При случайном или намеренном введении в заблуждение проверяющие очень сильно разозлятся."
   ]
  },
  {
   "cell_type": "code",
   "execution_count": 7,
   "metadata": {},
   "outputs": [],
   "source": [
    "# источник - первый семинар по ИАД\n",
    "class YearPredDataset(torch.utils.data.Dataset):\n",
    "    \"\"\"Our dataset\"\"\"\n",
    "    \n",
    "    def __init__(self, x, y):\n",
    "        self.x=x\n",
    "        self.y=y\n",
    "        \n",
    "    def __len__(self):\n",
    "        return len(self.x)\n",
    "    \n",
    "    def __getitem__(self, idx):\n",
    "        return {'sample': torch.tensor(self.x[idx, :], dtype=torch.float), 'target': torch.tensor(self.y[idx], dtype=torch.float)}"
   ]
  },
  {
   "cell_type": "code",
   "execution_count": 26,
   "metadata": {},
   "outputs": [],
   "source": [
    "from sklearn.preprocessing import StandardScaler\n",
    "\n",
    "s = StandardScaler()\n",
    "\n",
    "X = s.fit_transform(df.iloc[:, 1:].values)\n",
    "y = s.fit_transform(df.iloc[:, 0].values.reshape(-1,1))\n",
    "\n",
    "train_size = 463715\n",
    "X_train = X[:train_size, :]\n",
    "y_train = y[:train_size]\n",
    "X_test = X[train_size:, :]\n",
    "y_test = y[train_size:]"
   ]
  },
  {
   "cell_type": "code",
   "execution_count": 119,
   "metadata": {
    "id": "peomNjMWbkSz"
   },
   "outputs": [],
   "source": [
    "# чтобы быстро проверить работу кода, возьмём совсем небольшой датасет\n",
    "\n",
    "import torch.nn.functional as F\n",
    "b_s=40\n",
    "\n",
    "\"\"\"\n",
    "X_data = SS.fit_transform(X[:train_for_train_size+test_size, :])\n",
    "y_data = y[:train_for_train_size+test_size].reshape(-1,1)\n",
    "\n",
    "X_train2 = X_data[:train_for_train_size, :]\n",
    "y_train2 = y_data[:train_for_train_size]\n",
    "X_test2 = X_data[train_for_train_size: train_for_train_size+test_size, :]\n",
    "y_test2 = y_data[train_for_train_size:train_for_train_size+test_size]\n",
    "\"\"\"\n",
    "\n",
    "set_random_seed(100)\n",
    "\n",
    "# датасеты для тренировки и валидации\n",
    "train_set = YearPredDataset(X_train, y_train)\n",
    "train_loader = torch.utils.data.DataLoader(train_set, batch_size=b_s,shuffle=True)\n",
    "\n",
    "test_set = YearPredDataset(X_test, y_test)\n",
    "test_loader = torch.utils.data.DataLoader(test_set, batch_size=1000, shuffle=True)\n",
    "\n",
    "test_train_loader = torch.utils.data.DataLoader(train_set, batch_size=1000, shuffle=True)\n",
    "\n",
    "# это - база (нейронной сети)\n",
    "# для начала попробуем полносвязную модель\n",
    "model = nn.Sequential(\n",
    "    nn.Linear(90, 60),\n",
    "    nn.ReLU(),\n",
    "    nn.Linear(60, 45),\n",
    "    nn.ReLU(),\n",
    "    nn.Linear(45,1)\n",
    ")\n",
    "# оптимизатор и функцию потер возьмём как в первом семинаре\n",
    "optimizer = torch.optim.Adam(model.parameters(), lr=0.00001) # создаем оптимизатор и передаем туда параметры модели\n",
    "criterion = nn.MSELoss()"
   ]
  },
  {
   "cell_type": "code",
   "execution_count": 108,
   "metadata": {
    "id": "8Wmxrf5Qveux"
   },
   "outputs": [],
   "source": [
    "def train(model, optimizer, criterion, train_loader, test_train_loader, test_loader, epoches):\n",
    "    '''\n",
    "    params:\n",
    "        model - torch.nn.Module to be fitted\n",
    "        optimizer - model optimizer\n",
    "        criterion - loss function from torch.nn\n",
    "        train_loader - torch.utils.data.Dataloader with train set\n",
    "        test_loader - torch.utils.data.Dataloader with test set\n",
    "                      (if you wish to validate during training)\n",
    "    '''\n",
    "    train_loss = []\n",
    "    test_loss = []\n",
    "    for epoch in tqdm(range(epoches)): # всего у нас будет 10 эпох (10 раз подряд пройдемся по всем батчам из трейна)\n",
    "        for train_data in train_loader: # берем батч из трейн лоадера\n",
    "            x_train=train_data['sample']\n",
    "            y_train=train_data['target']\n",
    "            y_pred = model(x_train)                      # делаем предсказания\n",
    "            loss = criterion(y_pred, y_train)             # считаем лосс\n",
    "            loss.backward()                               # считаем градиенты обратным проходом\n",
    "            optimizer.step()                              # обновляем параметры сети\n",
    "            optimizer.zero_grad()                         # обнуляем посчитанные градиенты параметров\n",
    "        train_loss.append((test(model,criterion, test_train_loader)* s.scale_)[0])\n",
    "        test_loss.append((test(model,criterion, test_loader)* s.scale_)[0])\n",
    "    return train_loss, test_loss \n",
    "            \n",
    "def test(model, criterion, test_loader):\n",
    "    '''\n",
    "    params:\n",
    "        model - torch.nn.Module to be evaluated on test set\n",
    "        criterion - loss function from torch.nn\n",
    "        test_loader - torch.utils.data.Dataloader with test set\n",
    "    ----------\n",
    "    returns:\n",
    "        predicts - torch.tensor with shape (len(test_loader.dataset), ),\n",
    "                   which contains predictions for test objects\n",
    "    '''\n",
    "    val_loss = 0\n",
    "    length = 0\n",
    "    with torch.no_grad():\n",
    "        for test_data in test_loader:       # берем батч из вал лоадера\n",
    "            x_val = test_data['sample']\n",
    "            y_val = test_data['target']\n",
    "            y_pred = model(x_val)                    # делаем предсказания\n",
    "            loss = criterion(y_pred, y_val)\n",
    "            val_loss += loss.item()\n",
    "            length += 1\n",
    "    return np.sqrt(val_loss / length)"
   ]
  },
  {
   "cell_type": "code",
   "execution_count": 52,
   "metadata": {},
   "outputs": [],
   "source": [
    "import matplotlib.pyplot as plt"
   ]
  },
  {
   "cell_type": "code",
   "execution_count": null,
   "metadata": {},
   "outputs": [],
   "source": []
  },
  {
   "cell_type": "markdown",
   "metadata": {},
   "source": [
    "**Графики лосса для модели 4 (первая успешная)**\n",
    "\n",
    "(История моделей ниже)"
   ]
  },
  {
   "cell_type": "code",
   "execution_count": 112,
   "metadata": {},
   "outputs": [
    {
     "data": {
      "application/vnd.jupyter.widget-view+json": {
       "model_id": "e901987580ad46a993ba49108c8a446a",
       "version_major": 2,
       "version_minor": 0
      },
      "text/plain": [
       "HBox(children=(HTML(value=''), FloatProgress(value=0.0, max=10.0), HTML(value='')))"
      ]
     },
     "metadata": {},
     "output_type": "display_data"
    },
    {
     "name": "stdout",
     "output_type": "stream",
     "text": [
      "\n"
     ]
    },
    {
     "data": {
      "image/png": "[encoded data removed]",
      "text/plain": [
       "<Figure size 432x288 with 1 Axes>"
      ]
     },
     "metadata": {
      "needs_background": "light"
     },
     "output_type": "display_data"
    }
   ],
   "source": [
    "epoches = 10\n",
    "tr_l3, t_l3 = train(model, optimizer, criterion, train_loader, test_train_loader, test_loader, epoches)\n",
    "plt.plot(np.arange(1,epoches+1,1), tr_l3, label=\"train_loss\")\n",
    "plt.plot(np.arange(1,epoches+1,1), t_l3, label=\"test_loss\")\n",
    "plt.axhline(9.02, c='r',linestyle='--')\n",
    "plt.axhline(8.92, c='r',linestyle='--')\n",
    "plt.axhline(8.82, c='r',linestyle='--')\n",
    "plt.axhline(8.72, c='r',linestyle='--')\n",
    "plt.title(\"Model 4\")\n",
    "plt.legend()\n",
    "plt.show()"
   ]
  },
  {
   "cell_type": "code",
   "execution_count": 109,
   "metadata": {},
   "outputs": [
    {
     "data": {
      "application/vnd.jupyter.widget-view+json": {
       "model_id": "d94226bfdb7c4d498aeae4288d40b225",
       "version_major": 2,
       "version_minor": 0
      },
      "text/plain": [
       "HBox(children=(HTML(value=''), FloatProgress(value=0.0, max=10.0), HTML(value='')))"
      ]
     },
     "metadata": {},
     "output_type": "display_data"
    },
    {
     "name": "stdout",
     "output_type": "stream",
     "text": [
      "\n"
     ]
    }
   ],
   "source": [
    "epoches = 10\n",
    "tr_l, t_l = train(model, optimizer, criterion, train_loader, test_train_loader, test_loader, epoches)"
   ]
  },
  {
   "cell_type": "code",
   "execution_count": 110,
   "metadata": {},
   "outputs": [
    {
     "data": {
      "image/png": "[encoded data removed]",
      "text/plain": [
       "<Figure size 432x288 with 1 Axes>"
      ]
     },
     "metadata": {
      "needs_background": "light"
     },
     "output_type": "display_data"
    }
   ],
   "source": [
    "\n",
    "plt.plot(np.arange(1,epoches+1,1), tr_l, label=\"train_loss\")\n",
    "plt.plot(np.arange(1,epoches+1,1), t_l, label=\"test_loss\")\n",
    "plt.axhline(9.02, c='r',linestyle='--')\n",
    "plt.axhline(8.92, c='r',linestyle='--')\n",
    "plt.axhline(8.82, c='r',linestyle='--')\n",
    "plt.axhline(8.72, c='r',linestyle='--')\n",
    "plt.title(\"Model 4.1\")\n",
    "plt.legend()\n",
    "plt.show()"
   ]
  },
  {
   "cell_type": "code",
   "execution_count": 118,
   "metadata": {},
   "outputs": [
    {
     "data": {
      "application/vnd.jupyter.widget-view+json": {
       "model_id": "c28c7203d23c4e4caae52f3542009ff0",
       "version_major": 2,
       "version_minor": 0
      },
      "text/plain": [
       "HBox(children=(HTML(value=''), FloatProgress(value=0.0, max=15.0), HTML(value='')))"
      ]
     },
     "metadata": {},
     "output_type": "display_data"
    },
    {
     "name": "stdout",
     "output_type": "stream",
     "text": [
      "\n"
     ]
    },
    {
     "data": {
      "image/png": "[encoded data removed]",
      "text/plain": [
       "<Figure size 432x288 with 1 Axes>"
      ]
     },
     "metadata": {
      "needs_background": "light"
     },
     "output_type": "display_data"
    }
   ],
   "source": [
    "epoches = 15\n",
    "tr_l4, t_l4 = train(model, optimizer, criterion, train_loader, test_train_loader, test_loader, epoches)\n",
    "plt.plot(np.arange(1,2*epoches+1,1), np.append(tr_l3, tr_l4), label=\"train_loss\")\n",
    "plt.plot(np.arange(1,2*epoches+1,1), np.append(t_l3, t_l4), label=\"test_loss\")\n",
    "plt.axhline(9.02, c='r',linestyle='--')\n",
    "plt.axhline(8.92, c='r',linestyle='--')\n",
    "plt.axhline(8.82, c='r',linestyle='--')\n",
    "plt.axhline(8.72, c='r',linestyle='--')\n",
    "plt.title(\"Model 4.2 (accurate)\")\n",
    "plt.legend()\n",
    "plt.show() "
   ]
  },
  {
   "cell_type": "code",
   "execution_count": 120,
   "metadata": {},
   "outputs": [
    {
     "data": {
      "application/vnd.jupyter.widget-view+json": {
       "model_id": "b930947f39ad43b0917a68d8db238f9f",
       "version_major": 2,
       "version_minor": 0
      },
      "text/plain": [
       "HBox(children=(HTML(value=''), FloatProgress(value=0.0, max=20.0), HTML(value='')))"
      ]
     },
     "metadata": {},
     "output_type": "display_data"
    },
    {
     "name": "stdout",
     "output_type": "stream",
     "text": [
      "\n"
     ]
    },
    {
     "data": {
      "image/png": "[encoded data removed]",
      "text/plain": [
       "<Figure size 432x288 with 1 Axes>"
      ]
     },
     "metadata": {
      "needs_background": "light"
     },
     "output_type": "display_data"
    }
   ],
   "source": [
    "epoches = 20\n",
    "tr_l, t_l = train(model, optimizer, criterion, train_loader, test_train_loader, test_loader, epoches)\n",
    "plt.plot(np.arange(1,epoches+1,1), tr_l, label=\"train_loss\")\n",
    "plt.plot(np.arange(1,epoches+1,1), t_l, label=\"test_loss\")\n",
    "plt.axhline(9.02, c='r',linestyle='--')\n",
    "plt.axhline(8.92, c='r',linestyle='--')\n",
    "plt.axhline(8.82, c='r',linestyle='--')\n",
    "plt.axhline(8.72, c='r',linestyle='--')\n",
    "plt.title(\"Model 4.3 (even more accurate)\")\n",
    "plt.legend()\n",
    "plt.show() "
   ]
  },
  {
   "cell_type": "markdown",
   "metadata": {
    "id": "bine9EES6TIn"
   },
   "source": [
    "## Задание 2. (0 баллов, но при невыполнении максимум за все задание &mdash; 0 баллов)\n",
    "\n",
    "Напишите небольшой отчет о том, как вы добились полученного качества: какие средства использовали и какие эксперименты проводили. Подробно расскажите об архитектурах и значениях гиперпараметров, а также какие метрики на тесте они показывали. Чтобы отчет был зачтен, необходимо привести хотя бы 3 эксперимента."
   ]
  },
  {
   "cell_type": "raw",
   "metadata": {},
   "source": [
    "(Важный момент: первые три модели считались без shuffle, только по тестовой выборке)"
   ]
  },
  {
   "cell_type": "raw",
   "metadata": {
    "id": "bk5pEwa66UZn"
   },
   "source": [
    "Model 1: \"Linear-Example\"\n",
    "    Structure: nn.Linear(90,1) (Фактически, обычная линейная регрессия)\n",
    "    Optimizer: SGD\n",
    "    LR: 0.05\n",
    "    Batch_size: 1000\n",
    "    Used: StandardScaler on X\n",
    "    Epoches: 1\n",
    "    Test Error (RMSE): 9.717067 (Больше, чем у Ridge - значит, за это время не был достигнут минимум)\n",
    "    Comments: Для проверки    "
   ]
  },
  {
   "cell_type": "raw",
   "metadata": {},
   "source": [
    "Model 2: \"Full-connect\":\n",
    "    Structure: \n",
    "        nn.Linear(90,90)\n",
    "        nn.Linear(90,1)\n",
    "    Optimizer: Adam\n",
    "    LR: 0.0001\n",
    "    Batch_size: 1000\n",
    "    Used: StandardScaler on X and y\n",
    "    Epoches: 10\n",
    "    Test Error (RMSE): \n",
    "        9.897843434645738\n",
    "        9.685383020290837\n",
    "        9.61329316620905\n",
    "        9.58898680529417\n",
    "        9.579791552040511\n",
    "        9.575640234132381\n",
    "        9.573456555531905\n",
    "        9.572175196732278\n",
    "        9.57136796009324\n",
    "        9.570830449158112\n",
    "    Comments: \n",
    "        -Качество улучшилось, но возможно затухание градиента вследствие отсутствия функции активации; \n",
    "        -возможно так же, что шаг слишком велик для достижения более низкого минимума\n",
    "        \n",
    "        \n",
    "    Изменение 1):\n",
    "    LR: 0.00005\n",
    "    Epoches: 10\n",
    "    Test Error:\n",
    "        10.063587615813232\n",
    "        9.806619226192137\n",
    "        9.691427592720173\n",
    "        9.633038122653984\n",
    "        9.603223406596435\n",
    "        9.587765601147932\n",
    "        9.579402810678282\n",
    "        9.574588497934403\n",
    "        9.571621515191401\n",
    "        9.569671340137955\n",
    "    Comments:\n",
    "        -совсем не значительное улучшение - пока браться за ReLU"
   ]
  },
  {
   "cell_type": "raw",
   "metadata": {},
   "source": [
    "Model 3: \"Full\"\n",
    "    Structure: \n",
    "        nn.Linear(90,90)\n",
    "        nn.ReLU()\n",
    "        nn.Linear(90,1)\n",
    "    Optimizer: Adam\n",
    "    LR: 0.0001\n",
    "    Batch_size: 1000\n",
    "    Used: StandardScaler on X and y\n",
    "    Epoches: 10\n",
    "    Test Error (RMSE):\n",
    "        9.946857834322332\n",
    "        9.614466505362268\n",
    "        9.433415228791862\n",
    "        9.336590169330703\n",
    "        9.281110761475276\n",
    "        9.245565182739941\n",
    "        9.219580312948214\n",
    "        9.199059167427283\n",
    "        9.182288955616112\n",
    "        9.168371238659237\n",
    "    Comments:\n",
    "        -гораздо лучше - не вижу смысла менять lr... хотя...\n",
    "       \n",
    "    Изменение 1):\n",
    "    LR: 0.00005\n",
    "    Epoches: 10\n",
    "    Test Error (RMSE):\n",
    "        10.207097214074528\n",
    "        9.918833527733419\n",
    "        9.732672986570254\n",
    "        9.594153637243396\n",
    "        9.489754266048957\n",
    "        9.41276213112801\n",
    "        9.356760736118975\n",
    "        9.315849103571573\n",
    "        9.285468416312776\n",
    "        9.262065668847201\n",
    "    Comments:\n",
    "        -Скорость спуска нисколько не изменилась (буквально, тут только начальное значение хуже) - попробую-ка я увеличить LR\n",
    "        \n",
    "    Изменение 2):\n",
    "    LR: 0.0005\n",
    "    Epoches: 5\n",
    "    Test Error (RMSE):\n",
    "        9.297662346696706\n",
    "        9.184214551348818\n",
    "        9.136837910622582\n",
    "        9.109782546730207\n",
    "        9.092698625167488\n",
    "    Comments:\n",
    "        -Гораздо лучшее начало, но скорость спуска слишком быстро уменьшается - попробую последний раз поменять LR\n",
    "        \n",
    "    Изменение 3):\n",
    "    LR: 0.0003\n",
    "    Epoches: 10\n",
    "    Test Error (RMSE):\n",
    "        9.43793782380801\n",
    "        9.254105849872841\n",
    "        9.193298550834916\n",
    "        9.159861619089376\n",
    "        9.138170368536379\n",
    "        9.123358740493645\n",
    "        9.111930003173802\n",
    "        9.102926209892223\n",
    "        9.094833791950713\n",
    "        9.087998800312318\n",
    "    Comments:\n",
    "        -Непонятно - хочется сделать вывод, что мы выжали максимум - попробую увеличить число нейронов\n",
    "    \n",
    "    Изменение 4):\n",
    "    N: 90*100 + 100*1\n",
    "    LR: 0.0004\n",
    "    Epoches: 10\n",
    "    Test Error (RMSE):\n",
    "        9.336059126637874\n",
    "        9.209780925863736\n",
    "        9.161456040816322\n",
    "        9.13368917027095\n",
    "        9.114477843815765\n",
    "        9.101167494810857\n",
    "        9.090626847158802\n",
    "        9.082600405288751\n",
    "        9.075789992971098\n",
    "        9.069760297499052\n",
    "    Comments:\n",
    "        -Помогло, но... не то. Пора добавить ещё один слой"
   ]
  },
  {
   "cell_type": "raw",
   "metadata": {},
   "source": [
    "Model 4: \"Double Full-Connect\"\n",
    "    Structure: \n",
    "        nn.Linear(90,100)\n",
    "        nn.ReLU()\n",
    "        nn.Linear(100,50)\n",
    "        nn.ReLU()\n",
    "        nn.Linear(50,1)\n",
    "    Optimizer: Adam\n",
    "    LR: 0.0004\n",
    "    Batch_size: 400\n",
    "    Used: StandardScaler on X and y\n",
    "    Epoches: 10\n",
    "    Error: Plot \"Model 4\"\n",
    "    Comments: РЕШЕНИЕ НА 8!!!!!!!!!!!!! (но пожалуй добавлю выходов во втором слое)\n",
    "    \n",
    "    Изменение 1):\n",
    "    Structure:\n",
    "        90*60 + 60*45 + 45*1\n",
    "    LR: 0.0005\n",
    "    Batch-size: 400\n",
    "    Error: Plot \"Model 4.1\"\n",
    "    \n",
    "    Изменение 2):\n",
    "    Structure:\n",
    "        90*60 + 60*45 + 45*1\n",
    "    LR: 0.0001\n",
    "    Batch-size: 400\n",
    "    Epoches: 15\n",
    "    Error: Plot \"Model 4.2 (accurate)\"\n",
    "    \n",
    "    Изменение 3):\n",
    "    Structure:\n",
    "        90*60 + 60*45 + 45*1\n",
    "    LR: 0.00001\n",
    "    Batch-size: 40\n",
    "    Epoches: 20\n",
    "    Error: Plot \"Model 4.3 (even more accurate)\"\n",
    "    Comments: Это решение не флуктуирует по ошибке, так что точно на 8!!!"
   ]
  },
  {
   "cell_type": "code",
   "execution_count": null,
   "metadata": {},
   "outputs": [],
   "source": []
  }
 ],
 "metadata": {
  "colab": {
   "collapsed_sections": [],
   "name": "intro-hw01.ipynb",
   "provenance": []
  },
  "kernelspec": {
   "display_name": "Python 3 (ipykernel)",
   "language": "python",
   "name": "python3"
  },
  "language_info": {
   "codemirror_mode": {
    "name": "ipython",
    "version": 3
   },
   "file_extension": ".py",
   "mimetype": "text/x-python",
   "name": "python",
   "nbconvert_exporter": "python",
   "pygments_lexer": "ipython3",
   "version": "3.8.5"
  }
 },
 "nbformat": 4,
 "nbformat_minor": 4
}
