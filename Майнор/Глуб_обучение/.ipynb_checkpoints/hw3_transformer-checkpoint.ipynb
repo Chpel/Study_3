{
 "cells": [
  {
   "cell_type": "markdown",
   "metadata": {
    "id": "dHKsl4zhHnUf"
   },
   "source": [
    "# Трансформеры\n",
    "В этом домашнем задании мы рассмотим использование трансформеров в библиотеке PyTorch. Рассмотрим задачу языкового моделирования. Попробуем генерировать текст нейронной сетью. "
   ]
  },
  {
   "cell_type": "markdown",
   "metadata": {
    "id": "OJGpxVDPHnU3"
   },
   "source": [
    "Ссылка на данные - https://drive.google.com/drive/folders/1x1A4ElliUGBPnHladGMwPxPuGxI8Vnpu?usp=sharing"
   ]
  },
  {
   "cell_type": "code",
   "execution_count": null,
   "metadata": {
    "colab": {
     "base_uri": "https://localhost:8080/"
    },
    "id": "MYfNOMu6HnU5",
    "outputId": "75e36aa8-d483-4d75-c590-003c64d15fc0"
   },
   "outputs": [
    {
     "name": "stdout",
     "output_type": "stream",
     "text": [
      "--2021-12-20 19:32:17--  https://drive.google.com/u/0/uc?id=1ijpKzdj4d1b0zYKot3_380OWtiI-2UJX\n",
      "Resolving drive.google.com (drive.google.com)... 64.233.189.100, 64.233.189.102, 64.233.189.138, ...\n",
      "Connecting to drive.google.com (drive.google.com)|64.233.189.100|:443... connected.\n",
      "HTTP request sent, awaiting response... 302 Moved Temporarily\n",
      "Location: https://doc-0s-54-docs.googleusercontent.com/docs/securesc/ha0ro937gcuc7l7deffksulhg5h7mbp1/3ge8qj133gdscoutdcn2mvhscd2aabbv/1640028675000/09709797766287458306/*/1ijpKzdj4d1b0zYKot3_380OWtiI-2UJX [following]\n",
      "Warning: wildcards not supported in HTTP.\n",
      "--2021-12-20 19:32:19--  https://doc-0s-54-docs.googleusercontent.com/docs/securesc/ha0ro937gcuc7l7deffksulhg5h7mbp1/3ge8qj133gdscoutdcn2mvhscd2aabbv/1640028675000/09709797766287458306/*/1ijpKzdj4d1b0zYKot3_380OWtiI-2UJX\n",
      "Resolving doc-0s-54-docs.googleusercontent.com (doc-0s-54-docs.googleusercontent.com)... 74.125.203.132, 2404:6800:4008:c03::84\n",
      "Connecting to doc-0s-54-docs.googleusercontent.com (doc-0s-54-docs.googleusercontent.com)|74.125.203.132|:443... connected.\n",
      "HTTP request sent, awaiting response... 200 OK\n",
      "Length: 56028286 (53M) [text/plain]\n",
      "Saving to: ‘small_corp_for_test.txt’\n",
      "\n",
      "small_corp_for_test 100%[===================>]  53.43M   174MB/s    in 0.3s    \n",
      "\n",
      "2021-12-20 19:32:19 (174 MB/s) - ‘small_corp_for_test.txt’ saved [56028286/56028286]\n",
      "\n"
     ]
    }
   ],
   "source": [
    "# хороший тон, импортировать все необходимые библиотеки в одной ячейке ;)\n",
    "\n",
    "import torch\n",
    "from torch import nn\n",
    "\n",
    "import numpy as np\n",
    "import time\n",
    "import math\n",
    "import codecs\n",
    "\n",
    "!wget -O small_corp_for_test.txt https://drive.google.com/u/0/uc?id=1ijpKzdj4d1b0zYKot3_380OWtiI-2UJX&export=download"
   ]
  },
  {
   "cell_type": "markdown",
   "metadata": {
    "id": "d7YNeSMrHnU-"
   },
   "source": [
    "Что такое языковое моделирование? Это предсказание вероятности следующего токена (слова или буквы) на основе предыдущих токенов. Математически это можно описать так:\n",
    "\n",
    "$$P(x_i|x_1, x_2 , ... , x_{i-1})$$ \n",
    "\n",
    "Последовательность $$ x_1, x_2, ... x_{i-1} $$ называют контекстом."
   ]
  },
  {
   "cell_type": "markdown",
   "metadata": {
    "id": "985bl2ycHnVA"
   },
   "source": [
    "## Задание 0 (0 баллов, но сделать нужно)\n",
    "Проставьте знаки неравенств, исходя из вашего опыта:\n",
    "$$ P(раму | мама, мыла) > P(папу | мама, мыла) $$ \n",
    "(очевидно, вероятность второго события значительно реже, нежели первого)\n",
    "$$ P(столу | дорога, ложка, к) < P(обеду | дорога, ложка, к) $$ \n",
    "(вторая последовательность является известной пословицей -> более вероятной последовательностью)\n",
    "$$ P(Евпатий | меня, зовут) < P(Ваня | меня, зовут) $$ \n",
    "(Имя Ваня - более частое имя, чем Евпатий) \n",
    "$$ P(журналы | я, часто ,читаю) < P(комиксы | я, часто ,читаю) $$ \n",
    "(из личного опыта))))\n",
    "Попробуйте объяснить выбор для каждого из примеров."
   ]
  },
  {
   "cell_type": "markdown",
   "metadata": {
    "id": "c-t34baeHnVB"
   },
   "source": [
    "Ответ : "
   ]
  },
  {
   "cell_type": "markdown",
   "metadata": {
    "id": "d5tIAss5HnVD"
   },
   "source": [
    "Если для некоторых из примеров проставить знаки достаточно просто, то на некоторые сложно сказать, какой овтет верный. Мы принимаем решение для данного задания исходя их опыта использования русского языка. Мы много читали на русском и слушали огромное количество русской речи. Обучение языковых моделей происходит по схожему принципу. \n",
    "\n",
    "Мы хотим показать модели столько текстов, сколько можем и надеемся, что она наберется достаточно опыта, чтобы расставлять такие знаки неравества максимально схоже с человеком."
   ]
  },
  {
   "cell_type": "markdown",
   "metadata": {
    "id": "mWQBWHEhHnVH"
   },
   "source": [
    "## Задание 1 (0.5 балла)\n",
    "Мы будем обучать языковую модель для предсказания следущей буквы. Такие языковые модели применяются в распозновании речи, так как предоставляют дополнительную информацию акустической модели при выборе следующего символа. Для начала, откройте файл с данными, посмотрите, какие символы входят в тексты, сколько их. Уберите из текста все символы переноса на новую строку и табуляцию."
   ]
  },
  {
   "cell_type": "code",
   "execution_count": null,
   "metadata": {
    "colab": {
     "base_uri": "https://localhost:8080/"
    },
    "id": "LZ1wjA5BHnVK",
    "outputId": "42a85ce9-958d-42fe-a85a-36c281ac2976",
    "scrolled": true
   },
   "outputs": [
    {
     "data": {
      "text/plain": [
       "700000"
      ]
     },
     "execution_count": 2,
     "metadata": {},
     "output_type": "execute_result"
    }
   ],
   "source": [
    "path = 'small_corp_for_test.txt'\n",
    "file = codecs.open(path, 'r', \"utf-8\")\n",
    "data = file.readlines()\n",
    "file.close()\n",
    "len(data)"
   ]
  },
  {
   "cell_type": "code",
   "execution_count": null,
   "metadata": {
    "colab": {
     "base_uri": "https://localhost:8080/",
     "height": 35
    },
    "id": "xJWrZR3qHnVO",
    "outputId": "ce6f6690-49a5-4914-c082-1d99d46e49f6"
   },
   "outputs": [
    {
     "data": {
      "application/vnd.google.colaboratory.intrinsic+json": {
       "type": "string"
      },
      "text/plain": [
       "'что происходит'"
      ]
     },
     "execution_count": 3,
     "metadata": {},
     "output_type": "execute_result"
    }
   ],
   "source": [
    "# YOUR CODE HERE\n",
    "\n",
    "for i in range(len(data)):\n",
    "    data[i] = data[i].replace('\\n', '')\n",
    "    data[i] = data[i].replace('\\t', '')\n",
    "data[5]\n",
    "\n",
    "################"
   ]
  },
  {
   "cell_type": "markdown",
   "metadata": {
    "id": "BP-TidnTHnVQ"
   },
   "source": [
    "## Задание 2 (0.5 балла)\n",
    "Для обучения модели требуется сначала подготовить текст в подходящий для нейросети вид. Важно также отметить, что нужно добавить два токена start и end, которые отвечают за начало и конец текста. Используйте [ и ] для этой задачи. Также нам нужен токен pad, чтобы заполнять им текст до требуемой длинны для формирования батча.\n",
    "\n",
    "Реализуйте метод preprocess класса Preprocessor. Он должен принимать на вход текст и длинну текста, которую мы ожидаем получить на выходе. Текст должен быть переведен в нижний регистр, в конец текста добавляется требуемое число pad токенов, далее текст векторизуется (каждому символу ставится свое число). Вернуть требуется два вектора. Полученный результат без последнего токена (на нем будем обучаться) и полученный результат без первого токена (целевые метки при обучении)."
   ]
  },
  {
   "cell_type": "code",
   "execution_count": null,
   "metadata": {
    "id": "U01dfwSCHnVS"
   },
   "outputs": [],
   "source": [
    "class Preprocessor:\n",
    "    def __init__(self):\n",
    "        self.alphabet = '_добсркгаупитнезчмф яжлйвцыэь-шхющёъ][ '\n",
    "        self.token2ind = {}\n",
    "        self.ind2token = {}\n",
    "        for i in range(len(self.alphabet)):\n",
    "            self.token2ind[self.alphabet[i]] = i\n",
    "            self.ind2token[i] = self.alphabet[i]\n",
    "        \n",
    "    \n",
    "    def preprocess(self, text, window_size):\n",
    "        # YOUR CODE HERE\n",
    "        v = np.zeros(window_size, dtype=np.longlong)\n",
    "        s = text\n",
    "        while len(s) < window_size:\n",
    "            s += '_'\n",
    "        for i in range(window_size):\n",
    "            v[i] = self.token2ind[s[i]]\n",
    "        return v[:-1], v[1:]"
   ]
  },
  {
   "cell_type": "markdown",
   "metadata": {
    "id": "RPNvUg4GHnVU"
   },
   "source": [
    "## Задание 3 (0.5 балла)\n",
    "Так как мы решили, что текст будет начинаться токеном [ и заканчиваться токеном ], данные нужно поправить. Реализуйте эту идею, добавьте данные токены в ваши тексты."
   ]
  },
  {
   "cell_type": "code",
   "execution_count": null,
   "metadata": {
    "colab": {
     "base_uri": "https://localhost:8080/",
     "height": 35
    },
    "id": "qKKNHP2QHnVX",
    "outputId": "d70eb128-3dac-408b-e15a-b360109f0c1e"
   },
   "outputs": [
    {
     "data": {
      "application/vnd.google.colaboratory.intrinsic+json": {
       "type": "string"
      },
      "text/plain": [
       "'[что происходит]'"
      ]
     },
     "execution_count": 5,
     "metadata": {},
     "output_type": "execute_result"
    }
   ],
   "source": [
    "# YOUR CODE HERE\n",
    "for i in range(len(data)):\n",
    "    data[i] = '[' + data[i] + ']'\n",
    "data[5]"
   ]
  },
  {
   "cell_type": "markdown",
   "metadata": {
    "id": "5Yq7HPZdHnVZ"
   },
   "source": [
    "## Задание 4 (0.5 балла)\n",
    "Так как мы не располагаем большими мощностями, то давайте ограничим максимальную длинну текста. Вы можете менять этот порог и тем самым уменьшать кол-во текстов в вашей выборке и увеличивая тем самым скорость обучения. Начнем же мы с 128. \n",
    "Выберите порог и оставьте только те тексты, длина которых не превосходит данный порог.\n",
    "\n",
    "Далее разбейте тексты на train и test, перемешайте тексты при разбиении, размер тестовой выборки должен быть 15% от общего числа текстов. "
   ]
  },
  {
   "cell_type": "code",
   "execution_count": null,
   "metadata": {
    "id": "VxgMLgpwHnVb",
    "outputId": "12e3516d-1546-418e-a583-44ee046a1909"
   },
   "outputs": [
    {
     "data": {
      "text/plain": [
       "[5, 4, 3, 2, 1, 0]"
      ]
     },
     "execution_count": 11,
     "metadata": {},
     "output_type": "execute_result"
    }
   ],
   "source": [
    "list(range(5,-1,-1))"
   ]
  },
  {
   "cell_type": "code",
   "execution_count": null,
   "metadata": {
    "id": "7Ov2sxA4HnVc"
   },
   "outputs": [],
   "source": [
    "THRESHOLD = 128\n",
    "\n",
    "# YOUR CODE HERE\n",
    "for i in range(len(data)-1, -1, -1):\n",
    "    if len(data[i]) > THRESHOLD:\n",
    "        data.pop(i)"
   ]
  },
  {
   "cell_type": "code",
   "execution_count": null,
   "metadata": {
    "id": "S0Ol-3OZHnVd"
   },
   "outputs": [],
   "source": [
    "from sklearn.model_selection import train_test_split\n",
    "\n",
    "data_train, data_test = train_test_split(data, test_size=0.15, shuffle=True,random_state=100)"
   ]
  },
  {
   "cell_type": "code",
   "execution_count": null,
   "metadata": {
    "colab": {
     "base_uri": "https://localhost:8080/"
    },
    "id": "jnbrZi5NHnVf",
    "outputId": "901458ea-ba6f-4db0-c3a2-bc3dc8a8d4e1"
   },
   "outputs": [
    {
     "name": "stdout",
     "output_type": "stream",
     "text": [
      "683438 0.17647119578876339\n"
     ]
    }
   ],
   "source": [
    "print(len(data), len(data_test) / len(data_train))"
   ]
  },
  {
   "cell_type": "markdown",
   "metadata": {
    "id": "OQImY7p0HnVg"
   },
   "source": [
    "## Задание 5 (2 балла)\n",
    "Напишем датасет. На вход датасету передается набор текстов, объект класса Preprocessor и размер окна, который вы выбрали в прошлом задании.\n",
    "Реализуйте методы __len__ и __getitem__."
   ]
  },
  {
   "cell_type": "code",
   "execution_count": null,
   "metadata": {
    "id": "6MJ9EqOcHnVi"
   },
   "outputs": [],
   "source": [
    "class TextDataset(torch.utils.data.Dataset):\n",
    "    \n",
    "    def __init__(self, x, preproc, win_size = 128):\n",
    "        # YOUR CODE HERE\n",
    "        self.x = x\n",
    "        self.preproc = preproc\n",
    "        self.win_size = win_size\n",
    "        self.length = len(x)\n",
    "        ################\n",
    "    \n",
    "    def __len__(self):\n",
    "        # YOUR CODE HERE\n",
    "        return self.length\n",
    "        ################\n",
    "    \n",
    "    def __getitem__(self, idx):\n",
    "        # YOUR CODE HERE\n",
    "        return self.preproc.preprocess(self.x[idx], self.win_size)\n",
    "        ################"
   ]
  },
  {
   "cell_type": "code",
   "execution_count": null,
   "metadata": {
    "id": "nT4nmRUpHnVj"
   },
   "outputs": [],
   "source": [
    "preproc = Preprocessor()\n",
    "train_dataset = TextDataset(data_train, preproc)\n",
    "test_dataset = TextDataset(data_test, preproc)"
   ]
  },
  {
   "cell_type": "markdown",
   "metadata": {
    "id": "J9gsLCIvHnVk"
   },
   "source": [
    "## Задание 6 (2 балла)\n",
    "Напишем модель. Класс для реализации positional encoding реализован за вас, он нужен, чтобы модель могла после получения эмбедингов понимать, на каком месте какой токен находится.\n",
    "\n",
    "Заполните пропуски в классе модели. Гипперпараметры модели вам предлагается подобрать самостоятельно. Рекомендуется использовать не более 6 слоев в трансформере. В декореде испоьлзуйте две линейных слоя с функцией активации ReLU между ними.\n",
    "\n",
    "## Задание 6_1 (0 баллов, но надо ответить!)\n",
    "При обучении языковой модели на основе трансформеров мы используем маскирование символов (как мы это делаем - уже реализовано). Напишите, почему мы это делаем? Почему это так важно?"
   ]
  },
  {
   "cell_type": "markdown",
   "metadata": {
    "id": "gE9y9uoAHnVm"
   },
   "source": [
    "Ответ:\n",
    "\n",
    "Это необходимо в слоях самовнимания в кодировщике - чтобы они не могли \"посмотреть\" на последующие токены"
   ]
  },
  {
   "cell_type": "code",
   "execution_count": null,
   "metadata": {
    "id": "mx4lQGhMHnVn"
   },
   "outputs": [],
   "source": [
    "class PositionalEncoding(nn.Module):\n",
    "\n",
    "    def __init__(self, d_model, dropout=0.1, max_len=500):\n",
    "        super(PositionalEncoding, self).__init__()\n",
    "        self.dropout = nn.Dropout(p=dropout)\n",
    "\n",
    "        pe = torch.zeros(max_len, d_model)\n",
    "        position = torch.arange(0, max_len, dtype=torch.float).unsqueeze(1)\n",
    "        div_term = torch.exp(torch.arange(0, d_model, 2).float() * (-math.log(10000.0) / d_model))\n",
    "        pe[:, 0::2] = torch.sin(position * div_term)\n",
    "        pe[:, 1::2] = torch.cos(position * div_term)\n",
    "        pe = pe.unsqueeze(0).transpose(0, 1)\n",
    "        self.register_buffer('pe', pe)\n",
    "\n",
    "    def forward(self, x):\n",
    "        x = x + self.pe[:x.size(0), :]\n",
    "        return self.dropout(x)"
   ]
  },
  {
   "cell_type": "markdown",
   "metadata": {
    "id": "bdlRv4IrHnVo"
   },
   "source": [
    "### (Взял многое из Pytorch-Tutorial, чтобы разобраться с возможными начальными коэффициентами)"
   ]
  },
  {
   "cell_type": "code",
   "execution_count": null,
   "metadata": {
    "id": "XSBVirRoHnVo"
   },
   "outputs": [],
   "source": [
    "class LanguageModel(nn.Module):\n",
    "    def __init__(self, vocab_size: int, d_model: int, nhead: int, d_hid: int,\n",
    "                 nlayers: int, dropout: float = 0.5):\n",
    "        super(LanguageModel, self).__init__()\n",
    "        self.emb = nn.Embedding(vocab_size, d_model)\n",
    "        self.pe = PositionalEncoding(d_model, dropout)\n",
    "        self.transformer_encoder_layer = nn.TransformerEncoderLayer(d_model, nhead, d_hid, dropout)\n",
    "        self.transformer_encoder = nn.TransformerEncoder(self.transformer_encoder_layer, nlayers)\n",
    "        self.decoder = nn.Sequential(\n",
    "            nn.Linear(d_model, d_model),\n",
    "            nn.ReLU(),\n",
    "            nn.Linear(d_model, vocab_size))\n",
    "    \n",
    "    def forward(self, x, src_mask):\n",
    "        x = self.emb(x)\n",
    "        x = self.pe(x)\n",
    "        x = x.transpose(1, 0)\n",
    "        x = self.transformer_encoder(x, src_mask)\n",
    "        x = self.decoder(x)\n",
    "        return x.transpose(1, 0)\n",
    "    \n",
    "    def generate_square_subsequent_mask(self, sz):\n",
    "        # А вот и то самое маскирование\n",
    "        mask = (torch.triu(torch.ones(sz, sz)) == 1).transpose(0, 1)\n",
    "        mask = mask.float().masked_fill(mask == 0, float('-inf')).masked_fill(mask == 1, float(0.0))\n",
    "        return mask"
   ]
  },
  {
   "cell_type": "code",
   "execution_count": null,
   "metadata": {
    "id": "mt1A-NKDHnVp"
   },
   "outputs": [],
   "source": [
    "model = LanguageModel(len('_добсркгаупитнезчмф яжлйвцыэь-шхющёъ][ '), 200, 2, 200, 2, 0.2)"
   ]
  },
  {
   "cell_type": "markdown",
   "metadata": {
    "id": "u1ws4DsPHnVq"
   },
   "source": [
    "## Задание 7 (2,5 балла)\n",
    "Финишная прямая. Давайте реализуем класс для обучения модели и ее валидации. Следуйте указаниям в коде и заполните недостающие фрагменты в коде."
   ]
  },
  {
   "cell_type": "code",
   "execution_count": null,
   "metadata": {
    "id": "xnRw3MR8HnVr"
   },
   "outputs": [],
   "source": [
    "class Trainer:\n",
    "    \n",
    "    def __init__(self, model, train_dataset, test_dataset):\n",
    "        \n",
    "        self.model = model\n",
    "        self.ntokens = len('_добсркгаупитнезчмф яжлйвцыэь-шхющёъ][ ')\n",
    "        \n",
    "        self.train_batch_size = 127\n",
    "        self.test_batch_size = 127\n",
    "        \n",
    "        self.train_dataloader = torch.utils.data.DataLoader(train_dataset, batch_size=self.train_batch_size, shuffle=True)\n",
    "        self.test_dataloader = torch.utils.data.DataLoader(test_dataset, batch_size=self.test_batch_size, shuffle=True)\n",
    "        self.train_dataloader_size = train_dataset.__len__() // self.train_batch_size\n",
    "        self.test_dataloader_size = test_dataset.__len__() // self.test_batch_size\n",
    "        \n",
    "        self.device = 'cuda:0'\n",
    "        self.criterion = nn.CrossEntropyLoss(ignore_index=0) # используйте CrossEntrophyLoss, передайте в качетсве параметра \n",
    "                             # ignore index индекс символа _, чтобы модель не штрафовалась за то\n",
    "                             # что идет после закрывающего токена\n",
    "        \n",
    "        self.optimizer = torch.optim.Adam(self.model.parameters(), lr=0.001)\n",
    "        self.steps_to_print = 100\n",
    "        \n",
    "    def train_one_epoch(self, epoch_number):\n",
    "        step = 0\n",
    "        counted_loss = 0\n",
    "        current_time = time.time()\n",
    "        it = 0\n",
    "        src_mask = self.model.generate_square_subsequent_mask(127).to(self.device)\n",
    "        for batch in self.train_dataloader:\n",
    "            inputs, targets = batch\n",
    "            # YOUR CODE HERE\n",
    "            \n",
    "            # реализуйте шаги обучения модели\n",
    "            # сохраняйте значение ошибки в переменную counted_loss\n",
    "            step += 1\n",
    "            it += 1\n",
    "            inputs, targets = torch.LongTensor(inputs), torch.LongTensor(targets)\n",
    "            inputs, targets = inputs.to(self.device), targets.to(self.device)\n",
    "            results = self.model(inputs, src_mask)\n",
    "            loss = self.criterion(results.transpose(1,2), targets)\n",
    "            self.optimizer.zero_grad()\n",
    "            loss.backward()\n",
    "            self.optimizer.step()\n",
    "            counted_loss += loss.item()\n",
    "            ################\n",
    "            \n",
    "            \n",
    "            if step%self.steps_to_print == 0:\n",
    "                result = 'Train epoch '+str(epoch_number)+' | '\n",
    "                result += 'Step '+str(step)+'/'+str(self.train_dataloader_size)+' | '\n",
    "                result += 'Counted loss '+str(counted_loss)+' | '\n",
    "                result += 'ppl '+str(math.exp(counted_loss/it))+' | '\n",
    "                result += 'time '+str(time.time() - current_time) + ' | '\n",
    "                print(result)\n",
    "                current_time = time.time()\n",
    "                counted_loss = 0\n",
    "                it = 0\n",
    "    \n",
    "    def validate_one_epoch(self, epoch_number):\n",
    "        step = 0\n",
    "        counted_loss = 0\n",
    "        current_time = time.time()\n",
    "        it = 0\n",
    "        src_mask = self.model.generate_square_subsequent_mask(127).to(self.device)\n",
    "        for batch in self.test_dataloader:\n",
    "            inputs, targets = batch\n",
    "            \n",
    "            # YOUR CODE HERE\n",
    "            \n",
    "            # реализуйте шаги для теста модели\n",
    "            # помните, что данный метод уже запускается из \n",
    "            # блока with torch.no_grad(), а потому \n",
    "            # повторно его использовать не нужно\n",
    "            step += 1\n",
    "            it += 1\n",
    "            inputs, targets = torch.LongTensor(inputs), torch.LongTensor(targets)\n",
    "            inputs, targets = inputs.to(self.device), targets.to(self.device)\n",
    "            results = self.model(inputs, src_mask)\n",
    "            loss = self.criterion(results.transpose(1,2), targets)\n",
    "            counted_loss += loss.item()\n",
    "            \n",
    "            ################\n",
    "            \n",
    "            if step%(self.steps_to_print//2) == 0:\n",
    "                result = 'Validate epoch '+str(epoch_number)+' | '\n",
    "                result += 'Step '+str(step)+'/'+str(self.test_dataloader_size)+' | '\n",
    "                result += 'Counted loss '+str(counted_loss)+' | '\n",
    "                result += 'ppl '+str(math.exp(counted_loss/it))+' | '\n",
    "                result += 'time '+str(time.time() - current_time) + ' | '\n",
    "                print(result)\n",
    "                current_time = time.time()\n",
    "                counted_loss = 0\n",
    "                it = 0\n",
    "        \n",
    "    def train(self, number_of_epochs):\n",
    "        model.to(self.device)\n",
    "        for epoch in range(1, number_of_epochs+1):\n",
    "            model.train()\n",
    "            #self.train_one_epoch(epoch)\n",
    "            with torch.no_grad():\n",
    "                model.eval()\n",
    "                self.validate_one_epoch(epoch)\n",
    "            print()"
   ]
  },
  {
   "cell_type": "code",
   "execution_count": null,
   "metadata": {
    "colab": {
     "base_uri": "https://localhost:8080/"
    },
    "id": "HMfRJX0EJy7x",
    "outputId": "7fe6d775-1673-4514-e9f0-4036108eb33c"
   },
   "outputs": [
    {
     "data": {
      "text/plain": [
       "580922"
      ]
     },
     "execution_count": 15,
     "metadata": {},
     "output_type": "execute_result"
    }
   ],
   "source": [
    "train_dataset.__len__()"
   ]
  },
  {
   "cell_type": "markdown",
   "metadata": {
    "id": "Wj7QcNLMHnVw"
   },
   "source": [
    "Что такое ppl? Перплексия. Ее можно интерпретировать как меру \"удивленности\" модели нужному символу. Чем меньше данная величина, тем лучше, ведь это значит, что модель если и сделала неправильный выбор, то не сильно удивлена своей ошибке.\n",
    "\n",
    "Проведите несколько экспериментов, посмотрите, при каких гипперпараметрах значение перплексии минимально."
   ]
  },
  {
   "cell_type": "markdown",
   "metadata": {
    "id": "AQEcNEkhHnV0"
   },
   "source": [
    "## Задание 8 (0.5 балла)\n",
    "Запустите обучение на нескольких эпохах. Ориентируйтесь на ваши вычислительные мощности и время работы. Вы всегда можете посчитать, сколько секунд уходит на один батч."
   ]
  },
  {
   "cell_type": "code",
   "execution_count": null,
   "metadata": {
    "colab": {
     "base_uri": "https://localhost:8080/"
    },
    "id": "Sf9mZrQmHnV0",
    "outputId": "9bcfe8bb-e852-4aef-ea75-ac4bfd92f095"
   },
   "outputs": [
    {
     "name": "stdout",
     "output_type": "stream",
     "text": [
      "Validate epoch 1 | Step 50/807 | Counted loss 98.04364037513733 | ppl 7.105526115979055 | time 2.049182176589966 | \n",
      "Validate epoch 1 | Step 100/807 | Counted loss 98.09216642379761 | ppl 7.112425525569575 | time 1.8907289505004883 | \n",
      "Validate epoch 1 | Step 150/807 | Counted loss 97.6574672460556 | ppl 7.050858235318007 | time 1.8789403438568115 | \n",
      "Validate epoch 1 | Step 200/807 | Counted loss 98.33454871177673 | ppl 7.1469877500360095 | time 1.883697509765625 | \n",
      "Validate epoch 1 | Step 250/807 | Counted loss 98.21051979064941 | ppl 7.129281056936987 | time 1.8582439422607422 | \n",
      "Validate epoch 1 | Step 300/807 | Counted loss 97.92279601097107 | ppl 7.088373596470628 | time 1.8804700374603271 | \n",
      "Validate epoch 1 | Step 350/807 | Counted loss 98.4006427526474 | ppl 7.1564414630093935 | time 1.8762269020080566 | \n",
      "Validate epoch 1 | Step 400/807 | Counted loss 98.73631691932678 | ppl 7.204647748488083 | time 1.8924622535705566 | \n",
      "Validate epoch 1 | Step 450/807 | Counted loss 97.98258781433105 | ppl 7.096855199567778 | time 1.8534133434295654 | \n",
      "Validate epoch 1 | Step 500/807 | Counted loss 98.82561874389648 | ppl 7.217527010266624 | time 1.87176513671875 | \n",
      "Validate epoch 1 | Step 550/807 | Counted loss 98.33889329433441 | ppl 7.147608790583612 | time 1.8510842323303223 | \n",
      "Validate epoch 1 | Step 600/807 | Counted loss 98.5628011226654 | ppl 7.179688677592611 | time 1.8760144710540771 | \n",
      "Validate epoch 1 | Step 650/807 | Counted loss 98.49734914302826 | ppl 7.17029632966894 | time 1.859903335571289 | \n",
      "Validate epoch 1 | Step 700/807 | Counted loss 98.4358983039856 | ppl 7.161489328240926 | time 1.8805699348449707 | \n",
      "Validate epoch 1 | Step 750/807 | Counted loss 97.95458018779755 | ppl 7.09288099135325 | time 1.8492178916931152 | \n",
      "Validate epoch 1 | Step 800/807 | Counted loss 97.94130480289459 | ppl 7.090998026830479 | time 1.8685760498046875 | \n",
      "\n"
     ]
    }
   ],
   "source": [
    "# YOUR CODE HERE\n",
    "###############\n",
    "\n",
    "tr = Trainer(model,train_dataset, test_dataset)\n",
    "tr.train(1)"
   ]
  },
  {
   "cell_type": "markdown",
   "metadata": {
    "id": "kc1wGVA-HnV1"
   },
   "source": [
    "## Задание 9 (1 балл)\n",
    "Итак, давайте попробуем погенерировать текст нашей сеткой. Закончите функцию по генерации текста. Попробуйте сгенерировать какой-нибудь текст. Помните, что если вы хотите генерировать текст с нуля, то вы должны передать в качестве текста только токен start.\n",
    "Прекратите генерировать текст, если модель выдала токен end или длинна текста больше 150."
   ]
  },
  {
   "cell_type": "code",
   "execution_count": null,
   "metadata": {
    "id": "LinsFNtBHnV8"
   },
   "outputs": [],
   "source": [
    "def generate_text(text):\n",
    "    x = []\n",
    "    src_mask = model.generate_square_subsequent_mask(127).to('cpu')\n",
    "    for letter in text:\n",
    "        x.append(preproc.token2ind[letter])\n",
    "    x = torch.from_numpy(np.array(x))\n",
    "    \n",
    "    pred = model(x, src_mask)\n",
    "    return pred\n",
    "    ind = ... \n",
    "    \n",
    "    text += ... \n",
    "    \n",
    "    if len(text) > 150 or ind == 36:\n",
    "        return text\n",
    "    else:\n",
    "        return generate_text(text)"
   ]
  },
  {
   "cell_type": "code",
   "execution_count": null,
   "metadata": {
    "colab": {
     "base_uri": "https://localhost:8080/",
     "height": 328
    },
    "id": "gcXL1NH-YnJu",
    "outputId": "73cc4779-556d-4b56-c942-d25621345acf"
   },
   "outputs": [
    {
     "ename": "RuntimeError",
     "evalue": "ignored",
     "output_type": "error",
     "traceback": [
      "\u001b[0;31m---------------------------------------------------------------------------\u001b[0m",
      "\u001b[0;31mRuntimeError\u001b[0m                              Traceback (most recent call last)",
      "\u001b[0;32m<ipython-input-29-952dc45900bc>\u001b[0m in \u001b[0;36m<module>\u001b[0;34m()\u001b[0m\n\u001b[0;32m----> 1\u001b[0;31m \u001b[0mgenerate_text\u001b[0m\u001b[0;34m(\u001b[0m\u001b[0;34m'я'\u001b[0m\u001b[0;34m)\u001b[0m\u001b[0;34m\u001b[0m\u001b[0;34m\u001b[0m\u001b[0m\n\u001b[0m",
      "\u001b[0;32m<ipython-input-28-249634e25afe>\u001b[0m in \u001b[0;36mgenerate_text\u001b[0;34m(text)\u001b[0m\n\u001b[1;32m      6\u001b[0m     \u001b[0mx\u001b[0m \u001b[0;34m=\u001b[0m \u001b[0mtorch\u001b[0m\u001b[0;34m.\u001b[0m\u001b[0mfrom_numpy\u001b[0m\u001b[0;34m(\u001b[0m\u001b[0mnp\u001b[0m\u001b[0;34m.\u001b[0m\u001b[0marray\u001b[0m\u001b[0;34m(\u001b[0m\u001b[0mx\u001b[0m\u001b[0;34m)\u001b[0m\u001b[0;34m)\u001b[0m\u001b[0;34m\u001b[0m\u001b[0;34m\u001b[0m\u001b[0m\n\u001b[1;32m      7\u001b[0m \u001b[0;34m\u001b[0m\u001b[0m\n\u001b[0;32m----> 8\u001b[0;31m     \u001b[0mpred\u001b[0m \u001b[0;34m=\u001b[0m \u001b[0mmodel\u001b[0m\u001b[0;34m(\u001b[0m\u001b[0mx\u001b[0m\u001b[0;34m,\u001b[0m \u001b[0msrc_mask\u001b[0m\u001b[0;34m)\u001b[0m\u001b[0;34m\u001b[0m\u001b[0;34m\u001b[0m\u001b[0m\n\u001b[0m\u001b[1;32m      9\u001b[0m     \u001b[0;32mreturn\u001b[0m \u001b[0mpred\u001b[0m\u001b[0;34m\u001b[0m\u001b[0;34m\u001b[0m\u001b[0m\n\u001b[1;32m     10\u001b[0m     \u001b[0mind\u001b[0m \u001b[0;34m=\u001b[0m \u001b[0;34m...\u001b[0m\u001b[0;34m\u001b[0m\u001b[0;34m\u001b[0m\u001b[0m\n",
      "\u001b[0;32m/usr/local/lib/python3.7/dist-packages/torch/nn/modules/module.py\u001b[0m in \u001b[0;36m_call_impl\u001b[0;34m(self, *input, **kwargs)\u001b[0m\n\u001b[1;32m   1100\u001b[0m         if not (self._backward_hooks or self._forward_hooks or self._forward_pre_hooks or _global_backward_hooks\n\u001b[1;32m   1101\u001b[0m                 or _global_forward_hooks or _global_forward_pre_hooks):\n\u001b[0;32m-> 1102\u001b[0;31m             \u001b[0;32mreturn\u001b[0m \u001b[0mforward_call\u001b[0m\u001b[0;34m(\u001b[0m\u001b[0;34m*\u001b[0m\u001b[0minput\u001b[0m\u001b[0;34m,\u001b[0m \u001b[0;34m**\u001b[0m\u001b[0mkwargs\u001b[0m\u001b[0;34m)\u001b[0m\u001b[0;34m\u001b[0m\u001b[0;34m\u001b[0m\u001b[0m\n\u001b[0m\u001b[1;32m   1103\u001b[0m         \u001b[0;31m# Do not call functions when jit is used\u001b[0m\u001b[0;34m\u001b[0m\u001b[0;34m\u001b[0m\u001b[0;34m\u001b[0m\u001b[0m\n\u001b[1;32m   1104\u001b[0m         \u001b[0mfull_backward_hooks\u001b[0m\u001b[0;34m,\u001b[0m \u001b[0mnon_full_backward_hooks\u001b[0m \u001b[0;34m=\u001b[0m \u001b[0;34m[\u001b[0m\u001b[0;34m]\u001b[0m\u001b[0;34m,\u001b[0m \u001b[0;34m[\u001b[0m\u001b[0;34m]\u001b[0m\u001b[0;34m\u001b[0m\u001b[0;34m\u001b[0m\u001b[0m\n",
      "\u001b[0;32m<ipython-input-12-2b231a14069d>\u001b[0m in \u001b[0;36mforward\u001b[0;34m(self, x, src_mask)\u001b[0m\n\u001b[1;32m     13\u001b[0m \u001b[0;34m\u001b[0m\u001b[0m\n\u001b[1;32m     14\u001b[0m     \u001b[0;32mdef\u001b[0m \u001b[0mforward\u001b[0m\u001b[0;34m(\u001b[0m\u001b[0mself\u001b[0m\u001b[0;34m,\u001b[0m \u001b[0mx\u001b[0m\u001b[0;34m,\u001b[0m \u001b[0msrc_mask\u001b[0m\u001b[0;34m)\u001b[0m\u001b[0;34m:\u001b[0m\u001b[0;34m\u001b[0m\u001b[0;34m\u001b[0m\u001b[0m\n\u001b[0;32m---> 15\u001b[0;31m         \u001b[0mx\u001b[0m \u001b[0;34m=\u001b[0m \u001b[0mself\u001b[0m\u001b[0;34m.\u001b[0m\u001b[0memb\u001b[0m\u001b[0;34m(\u001b[0m\u001b[0mx\u001b[0m\u001b[0;34m)\u001b[0m\u001b[0;34m\u001b[0m\u001b[0;34m\u001b[0m\u001b[0m\n\u001b[0m\u001b[1;32m     16\u001b[0m         \u001b[0mx\u001b[0m \u001b[0;34m=\u001b[0m \u001b[0mself\u001b[0m\u001b[0;34m.\u001b[0m\u001b[0mpe\u001b[0m\u001b[0;34m(\u001b[0m\u001b[0mx\u001b[0m\u001b[0;34m)\u001b[0m\u001b[0;34m\u001b[0m\u001b[0;34m\u001b[0m\u001b[0m\n\u001b[1;32m     17\u001b[0m         \u001b[0mx\u001b[0m \u001b[0;34m=\u001b[0m \u001b[0mx\u001b[0m\u001b[0;34m.\u001b[0m\u001b[0mtranspose\u001b[0m\u001b[0;34m(\u001b[0m\u001b[0;36m1\u001b[0m\u001b[0;34m,\u001b[0m \u001b[0;36m0\u001b[0m\u001b[0;34m)\u001b[0m\u001b[0;34m\u001b[0m\u001b[0;34m\u001b[0m\u001b[0m\n",
      "\u001b[0;32m/usr/local/lib/python3.7/dist-packages/torch/nn/modules/module.py\u001b[0m in \u001b[0;36m_call_impl\u001b[0;34m(self, *input, **kwargs)\u001b[0m\n\u001b[1;32m   1100\u001b[0m         if not (self._backward_hooks or self._forward_hooks or self._forward_pre_hooks or _global_backward_hooks\n\u001b[1;32m   1101\u001b[0m                 or _global_forward_hooks or _global_forward_pre_hooks):\n\u001b[0;32m-> 1102\u001b[0;31m             \u001b[0;32mreturn\u001b[0m \u001b[0mforward_call\u001b[0m\u001b[0;34m(\u001b[0m\u001b[0;34m*\u001b[0m\u001b[0minput\u001b[0m\u001b[0;34m,\u001b[0m \u001b[0;34m**\u001b[0m\u001b[0mkwargs\u001b[0m\u001b[0;34m)\u001b[0m\u001b[0;34m\u001b[0m\u001b[0;34m\u001b[0m\u001b[0m\n\u001b[0m\u001b[1;32m   1103\u001b[0m         \u001b[0;31m# Do not call functions when jit is used\u001b[0m\u001b[0;34m\u001b[0m\u001b[0;34m\u001b[0m\u001b[0;34m\u001b[0m\u001b[0m\n\u001b[1;32m   1104\u001b[0m         \u001b[0mfull_backward_hooks\u001b[0m\u001b[0;34m,\u001b[0m \u001b[0mnon_full_backward_hooks\u001b[0m \u001b[0;34m=\u001b[0m \u001b[0;34m[\u001b[0m\u001b[0;34m]\u001b[0m\u001b[0;34m,\u001b[0m \u001b[0;34m[\u001b[0m\u001b[0;34m]\u001b[0m\u001b[0;34m\u001b[0m\u001b[0;34m\u001b[0m\u001b[0m\n",
      "\u001b[0;32m/usr/local/lib/python3.7/dist-packages/torch/nn/modules/sparse.py\u001b[0m in \u001b[0;36mforward\u001b[0;34m(self, input)\u001b[0m\n\u001b[1;32m    158\u001b[0m         return F.embedding(\n\u001b[1;32m    159\u001b[0m             \u001b[0minput\u001b[0m\u001b[0;34m,\u001b[0m \u001b[0mself\u001b[0m\u001b[0;34m.\u001b[0m\u001b[0mweight\u001b[0m\u001b[0;34m,\u001b[0m \u001b[0mself\u001b[0m\u001b[0;34m.\u001b[0m\u001b[0mpadding_idx\u001b[0m\u001b[0;34m,\u001b[0m \u001b[0mself\u001b[0m\u001b[0;34m.\u001b[0m\u001b[0mmax_norm\u001b[0m\u001b[0;34m,\u001b[0m\u001b[0;34m\u001b[0m\u001b[0;34m\u001b[0m\u001b[0m\n\u001b[0;32m--> 160\u001b[0;31m             self.norm_type, self.scale_grad_by_freq, self.sparse)\n\u001b[0m\u001b[1;32m    161\u001b[0m \u001b[0;34m\u001b[0m\u001b[0m\n\u001b[1;32m    162\u001b[0m     \u001b[0;32mdef\u001b[0m \u001b[0mextra_repr\u001b[0m\u001b[0;34m(\u001b[0m\u001b[0mself\u001b[0m\u001b[0;34m)\u001b[0m \u001b[0;34m->\u001b[0m \u001b[0mstr\u001b[0m\u001b[0;34m:\u001b[0m\u001b[0;34m\u001b[0m\u001b[0;34m\u001b[0m\u001b[0m\n",
      "\u001b[0;32m/usr/local/lib/python3.7/dist-packages/torch/nn/functional.py\u001b[0m in \u001b[0;36membedding\u001b[0;34m(input, weight, padding_idx, max_norm, norm_type, scale_grad_by_freq, sparse)\u001b[0m\n\u001b[1;32m   2042\u001b[0m         \u001b[0;31m# remove once script supports set_grad_enabled\u001b[0m\u001b[0;34m\u001b[0m\u001b[0;34m\u001b[0m\u001b[0;34m\u001b[0m\u001b[0m\n\u001b[1;32m   2043\u001b[0m         \u001b[0m_no_grad_embedding_renorm_\u001b[0m\u001b[0;34m(\u001b[0m\u001b[0mweight\u001b[0m\u001b[0;34m,\u001b[0m \u001b[0minput\u001b[0m\u001b[0;34m,\u001b[0m \u001b[0mmax_norm\u001b[0m\u001b[0;34m,\u001b[0m \u001b[0mnorm_type\u001b[0m\u001b[0;34m)\u001b[0m\u001b[0;34m\u001b[0m\u001b[0;34m\u001b[0m\u001b[0m\n\u001b[0;32m-> 2044\u001b[0;31m     \u001b[0;32mreturn\u001b[0m \u001b[0mtorch\u001b[0m\u001b[0;34m.\u001b[0m\u001b[0membedding\u001b[0m\u001b[0;34m(\u001b[0m\u001b[0mweight\u001b[0m\u001b[0;34m,\u001b[0m \u001b[0minput\u001b[0m\u001b[0;34m,\u001b[0m \u001b[0mpadding_idx\u001b[0m\u001b[0;34m,\u001b[0m \u001b[0mscale_grad_by_freq\u001b[0m\u001b[0;34m,\u001b[0m \u001b[0msparse\u001b[0m\u001b[0;34m)\u001b[0m\u001b[0;34m\u001b[0m\u001b[0;34m\u001b[0m\u001b[0m\n\u001b[0m\u001b[1;32m   2045\u001b[0m \u001b[0;34m\u001b[0m\u001b[0m\n\u001b[1;32m   2046\u001b[0m \u001b[0;34m\u001b[0m\u001b[0m\n",
      "\u001b[0;31mRuntimeError\u001b[0m: Expected all tensors to be on the same device, but found at least two devices, cuda:0 and cpu! (when checking argument for argument index in method wrapper__index_select)"
     ]
    }
   ],
   "source": [
    "generate_text('я')"
   ]
  },
  {
   "cell_type": "markdown",
   "metadata": {
    "id": "vvn1sxWtHnV9"
   },
   "source": [
    "## Задание 10* (Задание - бонус, 5 баллов за реализацию при условии, что сделаны прошлые задания)\n",
    "Давайте вспомним, что такое transfer learning. Мы хотим использовать уже предобученные эмбединги для нашей сети, чтобы наша сеть обучалась быстрее. Давайте попробуем обучить новую модель на уровне слов, а не символов, но для упрощения задачи используем предобученный слой из библиотеки Natasha, а вернее, ее блок Navec."
   ]
  },
  {
   "cell_type": "markdown",
   "metadata": {
    "id": "dX-bUb4FHnV-"
   },
   "source": [
    "[Изучите](https://github.com/natasha/navec) то, как вставить слой в вашу нейронную сеть."
   ]
  },
  {
   "cell_type": "markdown",
   "metadata": {
    "id": "Ee8eJZz5HnV-"
   },
   "source": [
    "Теперь мы хотим, чтобы на вход модели подавались слова, модифицируйте ваш датасет. Возвращайте теперь номер слова в словаре navec."
   ]
  },
  {
   "cell_type": "code",
   "execution_count": null,
   "metadata": {
    "id": "1cCTruPsHnV_",
    "outputId": "b39facc3-39b5-46b7-b034-39c625c3072e"
   },
   "outputs": [
    {
     "ename": "IndentationError",
     "evalue": "expected an indented block (<ipython-input-30-84de98a61cab>, line 12)",
     "output_type": "error",
     "traceback": [
      "\u001b[1;36m  File \u001b[1;32m\"<ipython-input-30-84de98a61cab>\"\u001b[1;36m, line \u001b[1;32m12\u001b[0m\n\u001b[1;33m    def __getitem__(self, idx):\u001b[0m\n\u001b[1;37m    ^\u001b[0m\n\u001b[1;31mIndentationError\u001b[0m\u001b[1;31m:\u001b[0m expected an indented block\n"
     ]
    }
   ],
   "source": [
    "class TextDataset_Navec(torch.utils.data.Dataset):\n",
    "    \n",
    "    def __init__(self, x, win_size = 128):\n",
    "        # YOUR CODE HERE\n",
    "        self.navec = ...\n",
    "        ################\n",
    "    \n",
    "    def __len__(self):\n",
    "        # YOUR CODE HERE\n",
    "        ################\n",
    "    \n",
    "    def __getitem__(self, idx):\n",
    "        # YOUR CODE HERE\n",
    "        ################"
   ]
  },
  {
   "cell_type": "markdown",
   "metadata": {
    "id": "449dJ-j4HnV_"
   },
   "source": [
    "Немного модифицируем модель. Теперь нам не нужны слои с трансформером, так как весь механизм внимания уже заложен в ембедингах. Давайте попробуем просто пройтись линейной головой над эмбедингами. Выберите параметры самостоятельно."
   ]
  },
  {
   "cell_type": "code",
   "execution_count": null,
   "metadata": {
    "id": "viM_3X36HnWA"
   },
   "outputs": [],
   "source": [
    "class LanguageModel(nn.Module):\n",
    "    def __init__(self):\n",
    "        super(LanguageModel, self).__init__()\n",
    "        self.emb_navec = ...\n",
    "        self.head = ...\n",
    "    \n",
    "    def forward(self, x):\n",
    "        x = ... # emb\n",
    "        x = ... # head\n",
    "        return x"
   ]
  },
  {
   "cell_type": "markdown",
   "metadata": {
    "id": "B9pJwV7cHnWB"
   },
   "source": [
    "Теперь дело за малым! Надо немного модифицировать класс обучения, так как мы не используем маскирование, после чего можно приступить к тесту!"
   ]
  },
  {
   "cell_type": "code",
   "execution_count": null,
   "metadata": {
    "id": "u8I7pJecHnWB"
   },
   "outputs": [],
   "source": [
    "class Trainer:\n",
    "    \n",
    "    def __init__(self, model, train_dataset, test_dataset):\n",
    "        \n",
    "        self.model = model\n",
    "        \n",
    "        self.train_batch_size = 64\n",
    "        self.test_batch_size = 64\n",
    "        \n",
    "        self.train_dataloader = ...\n",
    "        self.test_dataloader = ...\n",
    "        self.train_dataloader_size = ...\n",
    "        self.test_dataloader_size = ...\n",
    "        \n",
    "        self.device = 'cuda:0'\n",
    "        self.criterion = ... \n",
    "        \n",
    "        self.optimizer = ...\n",
    "        \n",
    "        self.steps_to_print = 1000\n",
    "        \n",
    "    def train_one_epoch(self, epoch_number):\n",
    "        step = 0\n",
    "        counted_loss = 0\n",
    "        current_time = time.time()\n",
    "        it = 0\n",
    "        \n",
    "        for batch in self.train_dataloader:\n",
    "            x, y = batch\n",
    "            # YOUR CODE HERE\n",
    "            \n",
    "            # реализуйте шаги обучения модели\n",
    "            # сохраняйте значение ошибки в переменную counted_loss\n",
    "            \n",
    "            ################\n",
    "            \n",
    "            \n",
    "            if step%self.steps_to_print == 0:\n",
    "                result = 'Train epoch '+str(epoch_number)+' | '\n",
    "                result += 'Step '+str(step)+'/'+str(self.train_dataloader_size)+' | '\n",
    "                result += 'Counted loss '+str(counted_loss)+' | '\n",
    "                result += 'ppl '+str(math.exp(counted_loss/it))+' | '\n",
    "                result += 'time '+str(time.time() - current_time) + ' | '\n",
    "                print(result)\n",
    "                current_time = time.time()\n",
    "                counted_loss = 0\n",
    "                it = 0\n",
    "    \n",
    "    def validate_one_epoch(self, epoch_number):\n",
    "        step = 0\n",
    "        counted_loss = 0\n",
    "        current_time = time.time()\n",
    "        it = 0\n",
    "        for batch in self.test_dataloader:\n",
    "            x, y = batch\n",
    "            \n",
    "            # YOUR CODE HERE\n",
    "            \n",
    "            # реализуйте шаги для теста модели\n",
    "            # помните, что данный метод уже запускается из \n",
    "            # блока with torch.no_grad(), а потому \n",
    "            # повторно его использовать не нужно\n",
    "            \n",
    "            ################\n",
    "            \n",
    "            if step%(self.steps_to_print//2) == 0:\n",
    "                result = 'Validate epoch '+str(epoch_number)+' | '\n",
    "                result += 'Step '+str(step)+'/'+str(self.test_dataloader_size)+' | '\n",
    "                result += 'Counted loss '+str(counted_loss)+' | '\n",
    "                result += 'ppl '+str(math.exp(counted_loss/it))+' | '\n",
    "                result += 'time '+str(time.time() - current_time) + ' | '\n",
    "                print(result)\n",
    "                current_time = time.time()\n",
    "                counted_loss = 0\n",
    "                it = 0\n",
    "        \n",
    "    def train(self, number_of_epochs):\n",
    "        model.to(self.device)\n",
    "        for epoch in range(1, number_of_epochs+1):\n",
    "            model.train()\n",
    "            self.train_one_epoch(epoch)\n",
    "            with torch.no_grad():\n",
    "                model.eval()\n",
    "                self.validate_one_epoch(epoch)\n",
    "            print()"
   ]
  },
  {
   "cell_type": "markdown",
   "metadata": {
    "id": "gqa3c-87HnWD"
   },
   "source": [
    "Запустите обучение. "
   ]
  },
  {
   "cell_type": "code",
   "execution_count": null,
   "metadata": {
    "id": "vxvQQTeiHnWE"
   },
   "outputs": [],
   "source": [
    "# YOUR CODE HERE\n",
    "###############"
   ]
  }
 ],
 "metadata": {
  "accelerator": "GPU",
  "colab": {
   "name": "hw3_transformer.ipynb",
   "provenance": []
  },
  "kernelspec": {
   "display_name": "Python 3 (ipykernel)",
   "language": "python",
   "name": "python3"
  },
  "language_info": {
   "codemirror_mode": {
    "name": "ipython",
    "version": 3
   },
   "file_extension": ".py",
   "mimetype": "text/x-python",
   "name": "python",
   "nbconvert_exporter": "python",
   "pygments_lexer": "ipython3",
   "version": "3.9.12"
  }
 },
 "nbformat": 4,
 "nbformat_minor": 1
}
