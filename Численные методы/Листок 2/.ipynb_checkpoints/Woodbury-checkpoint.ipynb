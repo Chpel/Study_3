{
 "cells": [
  {
   "cell_type": "code",
   "execution_count": 1,
   "id": "ruled-professor",
   "metadata": {},
   "outputs": [],
   "source": [
    "import numpy as np"
   ]
  },
  {
   "cell_type": "code",
   "execution_count": 2,
   "id": "generous-musical",
   "metadata": {},
   "outputs": [],
   "source": [
    "def woodbury(a,u,v):\n",
    "    A_inv = np.linalg.inv(a)\n",
    "    C_inv = np.eye(v.shape[0])\n",
    "    return A_inv - A_inv @ u @ np.linalg.inv(C_inv + v @ A_inv @ u) @ v @ A_inv"
   ]
  },
  {
   "cell_type": "code",
   "execution_count": 3,
   "id": "plain-burlington",
   "metadata": {},
   "outputs": [],
   "source": [
    "def standard_inv(a,u,v):\n",
    "    return np.linalg.inv(a + u @ v)"
   ]
  },
  {
   "cell_type": "code",
   "execution_count": 4,
   "id": "molecular-nelson",
   "metadata": {},
   "outputs": [],
   "source": [
    "p=5000\n",
    "k=100"
   ]
  },
  {
   "cell_type": "code",
   "execution_count": 7,
   "id": "tropical-scenario",
   "metadata": {},
   "outputs": [],
   "source": [
    "a=np.diag(np.random.rand(p))\n",
    "u=np.random.rand(p,k)\n",
    "v=np.random.rand(k,p)"
   ]
  },
  {
   "cell_type": "code",
   "execution_count": 14,
   "id": "favorite-spiritual",
   "metadata": {},
   "outputs": [
    {
     "name": "stdout",
     "output_type": "stream",
     "text": [
      "Wall time: 1min 15s\n"
     ]
    }
   ],
   "source": [
    "%time inv_w = woodbury(a,u,v)"
   ]
  },
  {
   "cell_type": "code",
   "execution_count": 15,
   "id": "italic-offense",
   "metadata": {},
   "outputs": [
    {
     "name": "stdout",
     "output_type": "stream",
     "text": [
      "Wall time: 43.2 s\n"
     ]
    }
   ],
   "source": [
    "%time inv = standard_inv(a,u,v)"
   ]
  },
  {
   "cell_type": "code",
   "execution_count": 16,
   "id": "portuguese-assurance",
   "metadata": {},
   "outputs": [
    {
     "data": {
      "text/plain": [
       "True"
      ]
     },
     "execution_count": 16,
     "metadata": {},
     "output_type": "execute_result"
    }
   ],
   "source": [
    "np.allclose(inv, inv_w)"
   ]
  },
  {
   "cell_type": "markdown",
   "id": "handy-dream",
   "metadata": {},
   "source": [
    "Результаты программ одинаковы, однако woodbury занимает дольше времени, поскольку производится значительно больше операций (2 операции на поиск обратной матрицы, 6 операций умножения матриц и 2 операции сложения) по сравнению со стандартной функцией (по 1 операции на каждый вид)"
   ]
  },
  {
   "cell_type": "code",
   "execution_count": null,
   "id": "charitable-paintball",
   "metadata": {},
   "outputs": [],
   "source": []
  }
 ],
 "metadata": {
  "kernelspec": {
   "display_name": "Python 3",
   "language": "python",
   "name": "python3"
  },
  "language_info": {
   "codemirror_mode": {
    "name": "ipython",
    "version": 3
   },
   "file_extension": ".py",
   "mimetype": "text/x-python",
   "name": "python",
   "nbconvert_exporter": "python",
   "pygments_lexer": "ipython3",
   "version": "3.8.5"
  }
 },
 "nbformat": 4,
 "nbformat_minor": 5
}
