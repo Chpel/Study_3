{
 "cells": [
  {
   "cell_type": "markdown",
   "id": "absent-validity",
   "metadata": {},
   "source": [
    "Before you turn this problem in, make sure everything runs as expected. First, **restart the kernel** (in the menubar, select Kernel$\\rightarrow$Restart) and then **run all cells** (in the menubar, select Cell$\\rightarrow$Run All).\n",
    "\n",
    "Make sure you fill in any place that says `YOUR CODE HERE` or \"YOUR ANSWER HERE\", as well as your name and collaborators below:"
   ]
  },
  {
   "cell_type": "code",
   "execution_count": 1,
   "id": "central-directory",
   "metadata": {},
   "outputs": [],
   "source": [
    "NAME = \"Pchelintsev Ilya\"\n",
    "COLLABORATORS = \"\""
   ]
  },
  {
   "cell_type": "markdown",
   "id": "weekly-count",
   "metadata": {},
   "source": [
    "---"
   ]
  },
  {
   "cell_type": "markdown",
   "id": "banned-exhibit",
   "metadata": {
    "deletable": false,
    "editable": false,
    "nbgrader": {
     "cell_type": "markdown",
     "checksum": "a38678e51fd78faa11565d2fdde1fe5c",
     "grade": false,
     "grade_id": "cell-86773b6eb7417ca1",
     "locked": true,
     "schema_version": 3,
     "solution": false,
     "task": false
    }
   },
   "source": [
    "# Large-scale eigenvalue problem with structured matrices\n",
    "\n",
    "\n",
    "Consider a diagonal matrix $D$ of the size $n\\times n$ and a column vector $u$ of size $n$. Consider a matrix \n",
    "\n",
    "$$\n",
    "A = D +  \\frac{u\\, u^T}{u^T u}\n",
    "$$\n",
    "\n",
    "Drawing the elements of $D$ and $u$ from a standard normal distribution, find the smallest (by the absolute value) eigenvalue of $A$. You will need to consider values of up to $n=10^5$. Note that matrices of this size do not fit into memory, so you will need to write a matrix-free implementation which uses the special structure of $A$. You may want to consider using the Sherman-Morrison formula and the so-called [Bunch-Nielsen-Sorensen formula](https://en.wikipedia.org/wiki/Bunch%E2%80%93Nielsen%E2%80%93Sorensen_formula)."
   ]
  },
  {
   "cell_type": "code",
   "execution_count": 2,
   "id": "yellow-operation",
   "metadata": {
    "deletable": false,
    "editable": false,
    "nbgrader": {
     "cell_type": "code",
     "checksum": "f6bcbd5d1c3a850535ff6ea8549a4b17",
     "grade": false,
     "grade_id": "cell-e402cb2d47bdd932",
     "locked": true,
     "schema_version": 3,
     "solution": false,
     "task": false
    }
   },
   "outputs": [],
   "source": [
    "import numpy as np\n",
    "from numpy.testing import assert_allclose\n",
    "from numpy.linalg import eigvals, eig"
   ]
  },
  {
   "cell_type": "code",
   "execution_count": 3,
   "id": "floppy-aging",
   "metadata": {
    "deletable": false,
    "editable": false,
    "nbgrader": {
     "cell_type": "code",
     "checksum": "228ffd441eca29113c9b3d137abaefe5",
     "grade": false,
     "grade_id": "cell-c6101b076d6cd559",
     "locked": true,
     "schema_version": 3,
     "solution": false,
     "task": false
    }
   },
   "outputs": [],
   "source": [
    "from math import sqrt\n",
    "\n",
    "def generate_d_u(n, rndm):\n",
    "    \"\"\"Generate two vectors of size $n$ drawn from a standard normal distribution.\"\"\"\n",
    "    d = rndm.standard_normal(size=n)\n",
    "    u = rndm.standard_normal(size=n)\n",
    "    u /= sqrt(u @ u)\n",
    "    return d, u"
   ]
  },
  {
   "cell_type": "markdown",
   "id": "rolled-belfast",
   "metadata": {
    "deletable": false,
    "editable": false,
    "nbgrader": {
     "cell_type": "markdown",
     "checksum": "9efa1a9f156ebcf348a911e6ad4fafc7",
     "grade": false,
     "grade_id": "cell-ded5e5598a1f0ba3",
     "locked": true,
     "schema_version": 3,
     "solution": false,
     "task": false
    }
   },
   "source": [
    "We start from a simple case of small $n$, and write out the matrices explicitly."
   ]
  },
  {
   "cell_type": "code",
   "execution_count": 4,
   "id": "based-leonard",
   "metadata": {
    "deletable": false,
    "editable": false,
    "nbgrader": {
     "cell_type": "code",
     "checksum": "91dfbb2777515168ba15dd1aa897acd5",
     "grade": false,
     "grade_id": "cell-c1278343b66863e7",
     "locked": true,
     "schema_version": 3,
     "solution": false,
     "task": false
    }
   },
   "outputs": [
    {
     "data": {
      "text/plain": [
       "array([[-1.34292291,  0.14935839, -0.07085692, -0.03942634,  0.21324611],\n",
       "       [ 0.14935839,  1.53946816, -0.13081332, -0.07278739,  0.39368675],\n",
       "       [-0.07085692, -0.13081332, -0.80860276,  0.03453097, -0.18676843],\n",
       "       [-0.03942634, -0.07278739,  0.03453097, -0.23995945, -0.10392203],\n",
       "       [ 0.21324611,  0.39368675, -0.18676843, -0.10392203,  0.4867421 ]])"
      ]
     },
     "execution_count": 4,
     "metadata": {},
     "output_type": "execute_result"
    }
   ],
   "source": [
    "rndm = np.random.default_rng(12345)\n",
    "d, u = generate_d_u(5, rndm)\n",
    "\n",
    "A = np.diag(d) + u[:, None] @ u[None, :]\n",
    "A"
   ]
  },
  {
   "cell_type": "markdown",
   "id": "killing-wichita",
   "metadata": {
    "deletable": false,
    "editable": false,
    "nbgrader": {
     "cell_type": "markdown",
     "checksum": "f4ab9c3bff9dccfab8f5f96dcead1c10",
     "grade": false,
     "grade_id": "cell-57ea026cea457e60",
     "locked": true,
     "schema_version": 3,
     "solution": false,
     "task": false
    }
   },
   "source": [
    "## Find the min eigenvalue of $A$\n",
    "\n",
    "Min eigenvalue of $A$ is the max eigenvalue of $A^{-1}$. Use the power iteration with $A^{-1}$ as the iteration matrix.\n",
    "\n",
    "Demo version: use full matrices for clarity. Also we only do a fixed number of iterations instead of a proper convergence check."
   ]
  },
  {
   "cell_type": "code",
   "execution_count": 5,
   "id": "departmental-flush",
   "metadata": {
    "deletable": false,
    "nbgrader": {
     "cell_type": "code",
     "checksum": "1aa776842f9144a591f6ca7d9d54d5fd",
     "grade": false,
     "grade_id": "cell-d833d5a69f14bd61",
     "locked": false,
     "schema_version": 3,
     "solution": true,
     "task": false
    }
   },
   "outputs": [],
   "source": [
    "def power_iter(A, x0, niter=20):\n",
    "    \"\"\"Compute min eigenvalue and corresponding eigenvector of matrix A.\n",
    "    \n",
    "    Use the power iteration.\n",
    "    \n",
    "    Parameters\n",
    "    ----------\n",
    "    A : ndarray of floats, shape (n, n)\n",
    "        original matrix\n",
    "    x0 : ndarray of floats, shape (n,)\n",
    "        The starting vector for the iteration\n",
    "    niter : int, optional\n",
    "        the number of iterations (default is 20)\n",
    "    \n",
    "    Returns\n",
    "    -------\n",
    "    la : float\n",
    "        min eigenvalue\n",
    "    x : ndarray of floats, shape (n,)\n",
    "        the iteration vector on the last iteration\n",
    "    \"\"\"\n",
    "    A_inv = np.linalg.solve(A, np.eye(A.shape[0]))\n",
    "    x = x0 / np.linalg.norm(x0)\n",
    "    for i in range(niter):\n",
    "        y = A_inv @ x\n",
    "        x_new = y / np.linalg.norm(y)\n",
    "        la = np.dot(x,y)\n",
    "        x = x_new\n",
    "    la = 1 / la\n",
    "    return la, x"
   ]
  },
  {
   "cell_type": "code",
   "execution_count": 6,
   "id": "industrial-sheep",
   "metadata": {
    "deletable": false,
    "editable": false,
    "nbgrader": {
     "cell_type": "code",
     "checksum": "ae0413a89b61ec47a56cdcfa20b7dadc",
     "grade": false,
     "grade_id": "cell-9203387327f9ee06",
     "locked": true,
     "schema_version": 3,
     "solution": false,
     "task": false
    }
   },
   "outputs": [
    {
     "data": {
      "text/plain": [
       "6.961561576041357e-14"
      ]
     },
     "execution_count": 6,
     "metadata": {},
     "output_type": "execute_result"
    }
   ],
   "source": [
    "d, u = generate_d_u(5, rndm=np.random.default_rng(1234))\n",
    "A = np.diag(d) + u[:, None] @ u[None, :]\n",
    "\n",
    "la, x = power_iter(A, x0=np.ones(5))\n",
    "\n",
    "# Check that the iteration vector approximates the eigenvector\n",
    "np.linalg.norm(la * x - A @ x)"
   ]
  },
  {
   "cell_type": "code",
   "execution_count": 7,
   "id": "secure-better",
   "metadata": {
    "deletable": false,
    "editable": false,
    "nbgrader": {
     "cell_type": "code",
     "checksum": "cf21dbef9f103693a00efd80ca6326c8",
     "grade": true,
     "grade_id": "cell-8d3c475509476796",
     "locked": true,
     "points": 3,
     "schema_version": 3,
     "solution": false,
     "task": false
    }
   },
   "outputs": [],
   "source": [
    "# this is a graded test\n",
    "\n",
    "d1, u1 = generate_d_u(6, rndm)\n",
    "A1 = np.diag(d1) + u1[:, None] @ u1[None, :]\n",
    "\n",
    "la1, x1 = power_iter(A1, x0=np.ones(6))\n",
    "\n",
    "err1 = np.linalg.norm(la1 * x1 - A1 @ x1)\n",
    "assert_allclose(err1, 0., atol=1e-4)\n"
   ]
  },
  {
   "cell_type": "markdown",
   "id": "informational-thompson",
   "metadata": {
    "deletable": false,
    "editable": false,
    "nbgrader": {
     "cell_type": "markdown",
     "checksum": "120a791a7043b52f7c0cf4045aa7c0b5",
     "grade": false,
     "grade_id": "cell-d5036789c5baa37c",
     "locked": true,
     "schema_version": 3,
     "solution": false,
     "task": false
    }
   },
   "source": [
    "## Check the BNS formula\n",
    "\n",
    "Implement the [Bunch-Nielsen-Sorensen formula](https://en.wikipedia.org/wiki/Bunch%E2%80%93Nielsen%E2%80%93Sorensen_formula) for the matrix of the above structure. "
   ]
  },
  {
   "cell_type": "code",
   "execution_count": 8,
   "id": "going-korea",
   "metadata": {
    "deletable": false,
    "nbgrader": {
     "cell_type": "code",
     "checksum": "88572ec10782d5fa9d23e9b4a6dea317",
     "grade": false,
     "grade_id": "cell-4ea65883045a7664",
     "locked": false,
     "schema_version": 3,
     "solution": true,
     "task": false
    }
   },
   "outputs": [],
   "source": [
    "def BNS(d, u, la):\n",
    "    \"\"\"Compute the eigenvector of $D + u u^T$ for a given eigenvalue.\n",
    "    \n",
    "    Given the matrix $A = D + u u^T$ where $D$ is a diagonal matrix and\n",
    "    $u$ is a 1D vector, and also a precomputed eigenvalue of $A$,\n",
    "    compute its corresponding eigenvector using the B-N-S formula.\n",
    "    \n",
    "    Parameters\n",
    "    ----------\n",
    "    d : ndarray, shape (n,)\n",
    "        Diagonal elements of the matrix $D$\n",
    "    u : ndarray, shape (n,)\n",
    "        1D array representing the vector $u$\n",
    "    la : float\n",
    "        An eigenvalue of $A = D + u u^T$\n",
    "        \n",
    "    Returns\n",
    "    -------\n",
    "    q : ndarray, shape (n,)\n",
    "        The normalized eigenvector of $A$, which corresponds\n",
    "        to the eigenvalue `la`.\n",
    "    \"\"\"\n",
    "    q = u / (d - la)\n",
    "    q = q / np.linalg.norm(q)\n",
    "    return q"
   ]
  },
  {
   "cell_type": "code",
   "execution_count": 9,
   "id": "refined-international",
   "metadata": {
    "deletable": false,
    "editable": false,
    "nbgrader": {
     "cell_type": "code",
     "checksum": "7324f4f541a49b92c7523167a044145d",
     "grade": false,
     "grade_id": "cell-32253521a4532090",
     "locked": true,
     "schema_version": 3,
     "solution": false,
     "task": false
    }
   },
   "outputs": [
    {
     "name": "stdout",
     "output_type": "stream",
     "text": [
      "1.9705863592704593e-06\n",
      "7.162326051885191e-10\n"
     ]
    }
   ],
   "source": [
    "# Note that the B-N-S vector $q$ looks to be a better approximation for the eigenvector.\n",
    "\n",
    "d, u = generate_d_u(6, rndm=np.random.default_rng(1234))\n",
    "A = np.diag(d) + u[:, None] @ u[None, :]\n",
    "la, x = power_iter(A, x0=np.ones(6), niter=30)\n",
    "\n",
    "q = BNS(d, u, la)\n",
    "\n",
    "print(np.linalg.norm(la * x - A @ x))\n",
    "print(np.linalg.norm(la * q - A @ q))"
   ]
  },
  {
   "cell_type": "code",
   "execution_count": 10,
   "id": "tamil-thursday",
   "metadata": {
    "deletable": false,
    "editable": false,
    "nbgrader": {
     "cell_type": "code",
     "checksum": "6c3943d445bfa2afe81faa2c3d2062b3",
     "grade": true,
     "grade_id": "cell-75affba958c9af75",
     "locked": true,
     "points": 2,
     "schema_version": 3,
     "solution": false,
     "task": false
    }
   },
   "outputs": [],
   "source": [
    "q1 = BNS(d1, u1, la1)\n",
    "assert np.linalg.norm(la1 * q1 - A1 @ q1) < 1e-9\n"
   ]
  },
  {
   "cell_type": "markdown",
   "id": "blocked-butterfly",
   "metadata": {
    "deletable": false,
    "editable": false,
    "nbgrader": {
     "cell_type": "markdown",
     "checksum": "4ff082538ca05353b810ffe86653e8ea",
     "grade": false,
     "grade_id": "cell-c4205134044c466a",
     "locked": true,
     "schema_version": 3,
     "solution": false,
     "task": false
    }
   },
   "source": [
    "## Implement the the matrix-free version of the above prototype\n",
    "\n",
    "\n",
    "First, implement the function which computes the result of the matrix-vector product of the matrix \n",
    "\n",
    "$$\\left(D + \\dfrac{u\\, u^T}{u^T u} \\right)^{-1}$$\n",
    "\n",
    "and a given vector $x$. Your implementation must never construct the matrix explicitly. Use the [Sherman-Morrison formula](https://en.wikipedia.org/wiki/Sherman%E2%80%93Morrison_formula)."
   ]
  },
  {
   "cell_type": "code",
   "execution_count": 12,
   "id": "governmental-heaven",
   "metadata": {
    "deletable": false,
    "nbgrader": {
     "cell_type": "code",
     "checksum": "e957258bc3e0762e00511ac1bf3106eb",
     "grade": false,
     "grade_id": "cell-2bb178411dfcf57c",
     "locked": false,
     "schema_version": 3,
     "solution": true,
     "task": false
    }
   },
   "outputs": [],
   "source": [
    "def SMproduct(d, u, x):\n",
    "    \"\"\"Compute the matrix-vector product $(D + u u^T)^{-1} x$.\n",
    "    \n",
    "    Here $D$ is the diagonal matrix with `d` on the main diagonal,\n",
    "    and `u` is a 1D array representing the (column) vector $u$.\n",
    "    \n",
    "    `x` is also a 1D array representing the $x$ vector.\n",
    "    \n",
    "    Use the Sherman-Morrison formula.\n",
    "    \n",
    "    Parameters\n",
    "    ----------\n",
    "    d : ndarray of floats, shape (n,)\n",
    "        $D$ is the diagonal matrix with `d` on the main diagonal\n",
    "    u : ndarray of floats, shape (n,)\n",
    "        a 1D array representing the vector $u$\n",
    "    x : ndarray of floats, shape (n,)\n",
    "        a 1D array representing the vector $x$\n",
    "    \n",
    "    Returns\n",
    "    -------\n",
    "    y : array-like of floats, shape (n,)\n",
    "        The result of the matrix-vector product of $D+(u u^T)^{-1} x$\n",
    "    \"\"\"\n",
    "    return x / d - (u / d) * np.dot((u / d), x) / (1 + np.dot(u / d, u)) "
   ]
  },
  {
   "cell_type": "code",
   "execution_count": 13,
   "id": "alive-clarity",
   "metadata": {
    "deletable": false,
    "editable": false,
    "nbgrader": {
     "cell_type": "code",
     "checksum": "aec6ca423add41bf3daad91e90ff0ac4",
     "grade": true,
     "grade_id": "cell-59d9b1b7ecd28a9f",
     "locked": true,
     "points": 2,
     "schema_version": 3,
     "solution": false,
     "task": false
    }
   },
   "outputs": [],
   "source": [
    "# Test your matrix-vector product routine on small size matrices\n",
    "\n",
    "n = 5\n",
    "rndm = np.random.default_rng(1234)\n",
    "\n",
    "d, u = generate_d_u(n, rndm)\n",
    "A = np.diag(d) + u[:, None] @ u[None, :]\n",
    "\n",
    "for x in [np.arange(n), np.ones(n), rndm.uniform(size=n)]:\n",
    "    assert_allclose(SMproduct(d, u, x),\n",
    "                    np.linalg.solve(A, x), atol=1e-10)"
   ]
  },
  {
   "cell_type": "markdown",
   "id": "tired-broadcasting",
   "metadata": {
    "deletable": false,
    "editable": false,
    "nbgrader": {
     "cell_type": "markdown",
     "checksum": "ba96ffd9e1caa4fba134cdd159e373b9",
     "grade": false,
     "grade_id": "cell-4cfab62259e57b8b",
     "locked": true,
     "schema_version": 3,
     "solution": false,
     "task": false
    }
   },
   "source": [
    "## Compute the leading eigenvalue of $(D + u u^T)^{-1}$.\n",
    "\n",
    "Write a function which computes the leading eigenvalue and its corresponding eigenvector."
   ]
  },
  {
   "cell_type": "code",
   "execution_count": 32,
   "id": "wound-enemy",
   "metadata": {
    "deletable": false,
    "nbgrader": {
     "cell_type": "code",
     "checksum": "7af1669e9319953bf4a5c988a0394e3e",
     "grade": false,
     "grade_id": "cell-fd3839d046b3752c",
     "locked": false,
     "schema_version": 3,
     "solution": true,
     "task": false
    }
   },
   "outputs": [],
   "source": [
    "def leading_eigv(d, u, x0, eps=1e-7, maxiter=1000):\n",
    "    \"\"\"Compute the leading eigenvalue of (D + u@u.T)^{-1}.\n",
    "    \n",
    "    Use the power iteration method to compute the eigenvalue.\n",
    "    \n",
    "    Use the B-N-S formula to compute the corresponding eigenvector.\n",
    "    \n",
    "    Parameters\n",
    "    ----------\n",
    "    d : array, shape (n,)\n",
    "        The diagonal elements\n",
    "    u : array, shape (n,)\n",
    "        The outer product vector\n",
    "    x0 : array, shape (n,)\n",
    "        The initial approximation\n",
    "    eps : float\n",
    "        The target accuracy.\n",
    "        Iterations stop when |true_lambda - current estimate| < eps.\n",
    "    maxiter : int\n",
    "        The maximum allowed number of iterations.\n",
    "    \n",
    "    Returns\n",
    "    -------\n",
    "    lmbda : float\n",
    "        The estimate for the leading eigenvalue\n",
    "    vec : array, shape (n,)\n",
    "        The estimate for the corresponding eigenvector\n",
    "        \n",
    "    Raises\n",
    "    ------\n",
    "    ValueError\n",
    "        if the maximum number of iterations `maxiter` is reached\n",
    "        without reaching the target tolerance.\n",
    "    \n",
    "    \"\"\"\n",
    "    iters = 0\n",
    "    vec = x0 / np.linalg.norm(x0)\n",
    "    while True:\n",
    "        iters += 1\n",
    "        y = SMproduct(d, u, vec)\n",
    "        x = y / np.linalg.norm(y)\n",
    "        lm = np.dot(vec, y)\n",
    "        if np.linalg.norm(y - lm * vec) < eps:\n",
    "            break\n",
    "        if iters == maxiter:\n",
    "            raise ValueError(\"the maximum number of iterations `maxiter` is reached without reaching the target tolerance\")\n",
    "        vec = x\n",
    "    vec = BNS(d, u, 1.0/lm)\n",
    "    return lm, vec"
   ]
  },
  {
   "cell_type": "code",
   "execution_count": 33,
   "id": "quiet-punishment",
   "metadata": {
    "deletable": false,
    "editable": false,
    "nbgrader": {
     "cell_type": "code",
     "checksum": "537a0d66e184de4b443de19d2dd98fa2",
     "grade": true,
     "grade_id": "cell-9147b698f61621a7",
     "locked": true,
     "points": 2,
     "schema_version": 3,
     "solution": false,
     "task": false
    }
   },
   "outputs": [],
   "source": [
    "# test on a small example (useful for debugging)\n",
    "n = 5\n",
    "rndm = np.random.default_rng(1234)\n",
    "d, u = generate_d_u(n, rndm)\n",
    "\n",
    "la1, x = leading_eigv(d, u, np.ones(n))\n",
    "assert np.linalg.norm(SMproduct(d, u, x) - la1*x) < 1e-9\n",
    "\n",
    "e = eigvals(np.diag(d) + u[:, None] @ u[None, :])\n",
    "e = e[np.argsort(abs(e))]\n",
    "assert_allclose(e[0], 1./la1, atol=1e-14, rtol=0)"
   ]
  },
  {
   "cell_type": "code",
   "execution_count": 34,
   "id": "outdoor-venezuela",
   "metadata": {
    "deletable": false,
    "editable": false,
    "nbgrader": {
     "cell_type": "code",
     "checksum": "6748f8d53e33a69561165812b2c8f782",
     "grade": true,
     "grade_id": "cell-47d20ae241d1646a",
     "locked": true,
     "points": 1,
     "schema_version": 3,
     "solution": false,
     "task": false
    }
   },
   "outputs": [],
   "source": [
    "# test interface\n",
    "import pytest\n",
    "with pytest.raises(ValueError):\n",
    "    la1, x = leading_eigv(d, u, np.ones(n), eps=1e-20, maxiter=1)"
   ]
  },
  {
   "cell_type": "code",
   "execution_count": 35,
   "id": "cordless-layout",
   "metadata": {
    "deletable": false,
    "editable": false,
    "nbgrader": {
     "cell_type": "code",
     "checksum": "c932f2e406ddfdf52043adf6865fa68d",
     "grade": true,
     "grade_id": "cell-21df48a03479fdf2",
     "locked": true,
     "points": 10,
     "schema_version": 3,
     "solution": false,
     "task": false
    }
   },
   "outputs": [],
   "source": [
    "# test on a slightly larger example\n",
    "n = 100\n",
    "rndm = np.random.default_rng(1234)\n",
    "d, u = generate_d_u(n, rndm)\n",
    "\n",
    "la1, x = leading_eigv(d, u, np.ones(n))\n",
    "assert np.linalg.norm(SMproduct(d, u, x) - la1*x) < 1e-9\n",
    "\n",
    "# and a yet larger one\n",
    "n = int(1e5)\n",
    "rndm = np.random.default_rng(1234)\n",
    "d, u = generate_d_u(n, rndm)\n",
    "\n",
    "la1, x = leading_eigv(d, u, np.ones(n))\n",
    "assert np.linalg.norm(SMproduct(d, u, x) - la1*x) < 1e-9"
   ]
  },
  {
   "cell_type": "code",
   "execution_count": null,
   "id": "approximate-encoding",
   "metadata": {},
   "outputs": [],
   "source": []
  }
 ],
 "metadata": {
  "kernelspec": {
   "display_name": "Python 3",
   "language": "python",
   "name": "python3"
  },
  "language_info": {
   "codemirror_mode": {
    "name": "ipython",
    "version": 3
   },
   "file_extension": ".py",
   "mimetype": "text/x-python",
   "name": "python",
   "nbconvert_exporter": "python",
   "pygments_lexer": "ipython3",
   "version": "3.8.5"
  }
 },
 "nbformat": 4,
 "nbformat_minor": 5
}
