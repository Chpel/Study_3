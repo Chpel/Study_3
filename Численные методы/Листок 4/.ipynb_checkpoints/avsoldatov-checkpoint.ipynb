{
  "cells": [
    {
      "cell_type": "markdown",
      "metadata": {
        "id": "eObv_Tmi_pZ7"
      },
      "source": [
        "Before you turn this problem in, make sure everything runs as expected. First, **restart the kernel** (in the menubar, select Kernel$\\rightarrow$Restart) and then **run all cells** (in the menubar, select Cell$\\rightarrow$Run All).\n",
        "\n",
        "Make sure you fill in any place that says `YOUR CODE HERE` or \"YOUR ANSWER HERE\", as well as your name and collaborators below:"
      ],
      "id": "eObv_Tmi_pZ7"
    },
    {
      "cell_type": "code",
      "execution_count": 2,
      "metadata": {
        "id": "Q4xvpOx1_pZ-"
      },
      "outputs": [],
      "source": [
        "NAME = \"Aleksey Soldatov\"\n",
        "COLLABORATORS = \"\""
      ],
      "id": "Q4xvpOx1_pZ-"
    },
    {
      "cell_type": "markdown",
      "metadata": {
        "id": "3czRDkiy_pZ_"
      },
      "source": [
        "---"
      ],
      "id": "3czRDkiy_pZ_"
    },
    {
      "cell_type": "markdown",
      "metadata": {
        "deletable": false,
        "editable": false,
        "nbgrader": {
          "cell_type": "markdown",
          "checksum": "a38678e51fd78faa11565d2fdde1fe5c",
          "grade": false,
          "grade_id": "cell-86773b6eb7417ca1",
          "locked": true,
          "schema_version": 3,
          "solution": false,
          "task": false
        },
        "id": "-Ml4Ps57_paA"
      },
      "source": [
        "# Large-scale eigenvalue problem with structured matrices\n",
        "\n",
        "\n",
        "Consider a diagonal matrix $D$ of the size $n\\times n$ and a column vector $u$ of size $n$. Consider a matrix \n",
        "\n",
        "$$\n",
        "A = D +  \\frac{u\\, u^T}{u^T u}\n",
        "$$\n",
        "\n",
        "Drawing the elements of $D$ and $u$ from a standard normal distribution, find the smallest (by the absolute value) eigenvalue of $A$. You will need to consider values of up to $n=10^5$. Note that matrices of this size do not fit into memory, so you will need to write a matrix-free implementation which uses the special structure of $A$. You may want to consider using the Sherman-Morrison formula and the so-called [Bunch-Nielsen-Sorensen formula](https://en.wikipedia.org/wiki/Bunch%E2%80%93Nielsen%E2%80%93Sorensen_formula)."
      ],
      "id": "-Ml4Ps57_paA"
    },
    {
      "cell_type": "code",
      "execution_count": 3,
      "metadata": {
        "deletable": false,
        "editable": false,
        "nbgrader": {
          "cell_type": "code",
          "checksum": "f6bcbd5d1c3a850535ff6ea8549a4b17",
          "grade": false,
          "grade_id": "cell-e402cb2d47bdd932",
          "locked": true,
          "schema_version": 3,
          "solution": false,
          "task": false
        },
        "id": "dBiJ5eEh_paB"
      },
      "outputs": [],
      "source": [
        "import numpy as np\n",
        "from numpy.testing import assert_allclose\n",
        "from numpy.linalg import eigvals, eig"
      ],
      "id": "dBiJ5eEh_paB"
    },
    {
      "cell_type": "code",
      "execution_count": 4,
      "metadata": {
        "deletable": false,
        "editable": false,
        "nbgrader": {
          "cell_type": "code",
          "checksum": "228ffd441eca29113c9b3d137abaefe5",
          "grade": false,
          "grade_id": "cell-c6101b076d6cd559",
          "locked": true,
          "schema_version": 3,
          "solution": false,
          "task": false
        },
        "id": "F7rHWAst_paC"
      },
      "outputs": [],
      "source": [
        "from math import sqrt\n",
        "\n",
        "def generate_d_u(n, rndm):\n",
        "    \"\"\"Generate two vectors of size $n$ drawn from a standard normal distribution.\"\"\"\n",
        "    d = rndm.standard_normal(size=n)\n",
        "    u = rndm.standard_normal(size=n)\n",
        "    u /= sqrt(u @ u)\n",
        "    return d, u"
      ],
      "id": "F7rHWAst_paC"
    },
    {
      "cell_type": "markdown",
      "metadata": {
        "deletable": false,
        "editable": false,
        "nbgrader": {
          "cell_type": "markdown",
          "checksum": "9efa1a9f156ebcf348a911e6ad4fafc7",
          "grade": false,
          "grade_id": "cell-ded5e5598a1f0ba3",
          "locked": true,
          "schema_version": 3,
          "solution": false,
          "task": false
        },
        "id": "jwgUM8v0_paD"
      },
      "source": [
        "We start from a simple case of small $n$, and write out the matrices explicitly."
      ],
      "id": "jwgUM8v0_paD"
    },
    {
      "cell_type": "code",
      "execution_count": 5,
      "metadata": {
        "deletable": false,
        "editable": false,
        "nbgrader": {
          "cell_type": "code",
          "checksum": "91dfbb2777515168ba15dd1aa897acd5",
          "grade": false,
          "grade_id": "cell-c1278343b66863e7",
          "locked": true,
          "schema_version": 3,
          "solution": false,
          "task": false
        },
        "colab": {
          "base_uri": "https://localhost:8080/"
        },
        "id": "GYAqh_XM_paD",
        "outputId": "dd33fd03-5226-4509-d689-a758a0116da0"
      },
      "outputs": [
        {
          "output_type": "execute_result",
          "data": {
            "text/plain": [
              "array([[-1.34292291,  0.14935839, -0.07085692, -0.03942634,  0.21324611],\n",
              "       [ 0.14935839,  1.53946816, -0.13081332, -0.07278739,  0.39368675],\n",
              "       [-0.07085692, -0.13081332, -0.80860276,  0.03453097, -0.18676843],\n",
              "       [-0.03942634, -0.07278739,  0.03453097, -0.23995945, -0.10392203],\n",
              "       [ 0.21324611,  0.39368675, -0.18676843, -0.10392203,  0.4867421 ]])"
            ]
          },
          "metadata": {},
          "execution_count": 5
        }
      ],
      "source": [
        "rndm = np.random.default_rng(12345)\n",
        "d, u = generate_d_u(5, rndm)\n",
        "\n",
        "A = np.diag(d) + u[:, None] @ u[None, :]\n",
        "A"
      ],
      "id": "GYAqh_XM_paD"
    },
    {
      "cell_type": "markdown",
      "metadata": {
        "deletable": false,
        "editable": false,
        "nbgrader": {
          "cell_type": "markdown",
          "checksum": "f4ab9c3bff9dccfab8f5f96dcead1c10",
          "grade": false,
          "grade_id": "cell-57ea026cea457e60",
          "locked": true,
          "schema_version": 3,
          "solution": false,
          "task": false
        },
        "id": "qevXF_fZ_paD"
      },
      "source": [
        "## Find the min eigenvalue of $A$\n",
        "\n",
        "Min eigenvalue of $A$ is the max eigenvalue of $A^{-1}$. Use the power iteration with $A^{-1}$ as the iteration matrix.\n",
        "\n",
        "Demo version: use full matrices for clarity. Also we only do a fixed number of iterations instead of a proper convergence check."
      ],
      "id": "qevXF_fZ_paD"
    },
    {
      "cell_type": "code",
      "execution_count": 6,
      "metadata": {
        "deletable": false,
        "nbgrader": {
          "cell_type": "code",
          "checksum": "1aa776842f9144a591f6ca7d9d54d5fd",
          "grade": false,
          "grade_id": "cell-d833d5a69f14bd61",
          "locked": false,
          "schema_version": 3,
          "solution": true,
          "task": false
        },
        "id": "UT9C_eHq_paE"
      },
      "outputs": [],
      "source": [
        "def power_iter(A, x0, niter=20):\n",
        "    \"\"\"Compute min eigenvalue and corresponding eigenvector of matrix A.\n",
        "    \n",
        "    Use the power iteration.\n",
        "    \n",
        "    Parameters\n",
        "    ----------\n",
        "    A : ndarray of floats, shape (n, n)\n",
        "        original matrix\n",
        "    x0 : ndarray of floats, shape (n,)\n",
        "        The starting vector for the iteration\n",
        "    niter : int, optional\n",
        "        the number of iterations (default is 20)\n",
        "    \n",
        "    Returns\n",
        "    -------\n",
        "    la : float\n",
        "        min eigenvalue\n",
        "    x : ndarray of floats, shape (n,)\n",
        "        the iteration vector on the last iteration\n",
        "    \"\"\"\n",
        "    # используем код номера 2.16\n",
        "    y_k_plus_one = np.empty(x0.shape[0])\n",
        "    x = x0 / np.linalg.norm(x0) # начальное приближение отнормированное\n",
        "    A_inverse = np.linalg.solve(A, np.eye(A.shape[0]))\n",
        "    for i in range(niter): # итерируемся пока не пройдет niter итераций\n",
        "      y_k_plus_one = A_inverse @ x\n",
        "      x_k_plus_one = y_k_plus_one / np.linalg.norm(y_k_plus_one)\n",
        "      l_k = x.T @ y_k_plus_one\n",
        "      x = x_k_plus_one\n",
        "    la = 1 / l_k\n",
        "    return la, x"
      ],
      "id": "UT9C_eHq_paE"
    },
    {
      "cell_type": "code",
      "execution_count": 7,
      "metadata": {
        "deletable": false,
        "editable": false,
        "nbgrader": {
          "cell_type": "code",
          "checksum": "ae0413a89b61ec47a56cdcfa20b7dadc",
          "grade": false,
          "grade_id": "cell-9203387327f9ee06",
          "locked": true,
          "schema_version": 3,
          "solution": false,
          "task": false
        },
        "colab": {
          "base_uri": "https://localhost:8080/"
        },
        "id": "QmvAFY4c_paF",
        "outputId": "316a2931-3281-4299-e4c3-d29f14e72b8e"
      },
      "outputs": [
        {
          "output_type": "execute_result",
          "data": {
            "text/plain": [
              "6.965346372233074e-14"
            ]
          },
          "metadata": {},
          "execution_count": 7
        }
      ],
      "source": [
        "d, u = generate_d_u(5, rndm=np.random.default_rng(1234))\n",
        "A = np.diag(d) + u[:, None] @ u[None, :]\n",
        "\n",
        "la, x = power_iter(A, x0=np.ones(5))\n",
        "\n",
        "# Check that the iteration vector approximates the eigenvector\n",
        "np.linalg.norm(la * x - A @ x)"
      ],
      "id": "QmvAFY4c_paF"
    },
    {
      "cell_type": "code",
      "execution_count": 8,
      "metadata": {
        "deletable": false,
        "editable": false,
        "nbgrader": {
          "cell_type": "code",
          "checksum": "cf21dbef9f103693a00efd80ca6326c8",
          "grade": true,
          "grade_id": "cell-8d3c475509476796",
          "locked": true,
          "points": 3,
          "schema_version": 3,
          "solution": false,
          "task": false
        },
        "id": "LEvgvuHN_paF"
      },
      "outputs": [],
      "source": [
        "# this is a graded test\n",
        "\n",
        "d1, u1 = generate_d_u(6, rndm)\n",
        "A1 = np.diag(d1) + u1[:, None] @ u1[None, :]\n",
        "\n",
        "la1, x1 = power_iter(A1, x0=np.ones(6))\n",
        "\n",
        "err1 = np.linalg.norm(la1 * x1 - A1 @ x1)\n",
        "assert_allclose(err1, 0., atol=1e-4)\n"
      ],
      "id": "LEvgvuHN_paF"
    },
    {
      "cell_type": "markdown",
      "metadata": {
        "deletable": false,
        "editable": false,
        "nbgrader": {
          "cell_type": "markdown",
          "checksum": "120a791a7043b52f7c0cf4045aa7c0b5",
          "grade": false,
          "grade_id": "cell-d5036789c5baa37c",
          "locked": true,
          "schema_version": 3,
          "solution": false,
          "task": false
        },
        "id": "PWL0sGI-_paG"
      },
      "source": [
        "## Check the BNS formula\n",
        "\n",
        "Implement the [Bunch-Nielsen-Sorensen formula](https://en.wikipedia.org/wiki/Bunch%E2%80%93Nielsen%E2%80%93Sorensen_formula) for the matrix of the above structure. "
      ],
      "id": "PWL0sGI-_paG"
    },
    {
      "cell_type": "code",
      "execution_count": 9,
      "metadata": {
        "deletable": false,
        "nbgrader": {
          "cell_type": "code",
          "checksum": "88572ec10782d5fa9d23e9b4a6dea317",
          "grade": false,
          "grade_id": "cell-4ea65883045a7664",
          "locked": false,
          "schema_version": 3,
          "solution": true,
          "task": false
        },
        "id": "ji2XO3RV_paG"
      },
      "outputs": [],
      "source": [
        "def BNS(d, u, la):\n",
        "    \"\"\"Compute the eigenvector of $D + u u^T$ for a given eigenvalue.\n",
        "    \n",
        "    Given the matrix $A = D + u u^T$ where $D$ is a diagonal matrix and\n",
        "    $u$ is a 1D vector, and also a precomputed eigenvalue of $A$,\n",
        "    compute its corresponding eigenvector using the B-N-S formula.\n",
        "    \n",
        "    Parameters\n",
        "    ----------\n",
        "    d : ndarray, shape (n,)\n",
        "        Diagonal elements of the matrix $D$\n",
        "    u : ndarray, shape (n,)\n",
        "        1D array representing the vector $u$\n",
        "    la : float\n",
        "        An eigenvalue of $A = D + u u^T$\n",
        "        \n",
        "    Returns\n",
        "    -------\n",
        "    q : ndarray, shape (n,)\n",
        "        The normalized eigenvector of $A$, which corresponds\n",
        "        to the eigenvalue `la`.\n",
        "    \"\"\"\n",
        "    return u / (d - la) / np.linalg.norm(u / (d - la))"
      ],
      "id": "ji2XO3RV_paG"
    },
    {
      "cell_type": "code",
      "execution_count": 10,
      "metadata": {
        "deletable": false,
        "editable": false,
        "nbgrader": {
          "cell_type": "code",
          "checksum": "7324f4f541a49b92c7523167a044145d",
          "grade": false,
          "grade_id": "cell-32253521a4532090",
          "locked": true,
          "schema_version": 3,
          "solution": false,
          "task": false
        },
        "colab": {
          "base_uri": "https://localhost:8080/"
        },
        "id": "WtQd7na2_paH",
        "outputId": "a6a54690-0cb3-47b8-b13a-8c1b1c02048c"
      },
      "outputs": [
        {
          "output_type": "stream",
          "name": "stdout",
          "text": [
            "1.970586359267042e-06\n",
            "7.162325834083003e-10\n"
          ]
        }
      ],
      "source": [
        "# Note that the B-N-S vector $q$ looks to be a better approximation for the eigenvector.\n",
        "\n",
        "d, u = generate_d_u(6, rndm=np.random.default_rng(1234))\n",
        "A = np.diag(d) + u[:, None] @ u[None, :]\n",
        "la, x = power_iter(A, x0=np.ones(6), niter=30)\n",
        "\n",
        "q = BNS(d, u, la)\n",
        "\n",
        "print(np.linalg.norm(la * x - A @ x))\n",
        "print(np.linalg.norm(la * q - A @ q))"
      ],
      "id": "WtQd7na2_paH"
    },
    {
      "cell_type": "code",
      "execution_count": 11,
      "metadata": {
        "deletable": false,
        "editable": false,
        "nbgrader": {
          "cell_type": "code",
          "checksum": "6c3943d445bfa2afe81faa2c3d2062b3",
          "grade": true,
          "grade_id": "cell-75affba958c9af75",
          "locked": true,
          "points": 2,
          "schema_version": 3,
          "solution": false,
          "task": false
        },
        "id": "WmZ48eER_paI"
      },
      "outputs": [],
      "source": [
        "q1 = BNS(d1, u1, la1)\n",
        "assert np.linalg.norm(la1 * q1 - A1 @ q1) < 1e-9\n"
      ],
      "id": "WmZ48eER_paI"
    },
    {
      "cell_type": "markdown",
      "metadata": {
        "deletable": false,
        "editable": false,
        "nbgrader": {
          "cell_type": "markdown",
          "checksum": "4ff082538ca05353b810ffe86653e8ea",
          "grade": false,
          "grade_id": "cell-c4205134044c466a",
          "locked": true,
          "schema_version": 3,
          "solution": false,
          "task": false
        },
        "id": "gYKkmumZ_paI"
      },
      "source": [
        "## Implement the the matrix-free version of the above prototype\n",
        "\n",
        "\n",
        "First, implement the function which computes the result of the matrix-vector product of the matrix \n",
        "\n",
        "$$\\left(D + \\dfrac{u\\, u^T}{u^T u} \\right)^{-1}$$\n",
        "\n",
        "and a given vector $x$. Your implementation must never construct the matrix explicitly. Use the [Sherman-Morrison formula](https://en.wikipedia.org/wiki/Sherman%E2%80%93Morrison_formula)."
      ],
      "id": "gYKkmumZ_paI"
    },
    {
      "cell_type": "code",
      "execution_count": 12,
      "metadata": {
        "deletable": false,
        "nbgrader": {
          "cell_type": "code",
          "checksum": "e957258bc3e0762e00511ac1bf3106eb",
          "grade": false,
          "grade_id": "cell-2bb178411dfcf57c",
          "locked": false,
          "schema_version": 3,
          "solution": true,
          "task": false
        },
        "id": "H3_4Q9mZ_paJ"
      },
      "outputs": [],
      "source": [
        "def SMproduct(d, u, x):\n",
        "    \"\"\"Compute the matrix-vector product $(D + u u^T)^{-1} x$.\n",
        "    \n",
        "    Here $D$ is the diagonal matrix with `d` on the main diagonal,\n",
        "    and `u` is a 1D array representing the (column) vector $u$.\n",
        "    \n",
        "    `x` is also a 1D array representing the $x$ vector.\n",
        "    \n",
        "    Use the Sherman-Morrison formula.\n",
        "    \n",
        "    Parameters\n",
        "    ----------\n",
        "    d : ndarray of floats, shape (n,)\n",
        "        $D$ is the diagonal matrix with `d` on the main diagonal\n",
        "    u : ndarray of floats, shape (n,)\n",
        "        a 1D array representing the vector $u$\n",
        "    x : ndarray of floats, shape (n,)\n",
        "        a 1D array representing the vector $x$\n",
        "    \n",
        "    Returns\n",
        "    -------\n",
        "    y : array-like of floats, shape (n,)\n",
        "        The result of the matrix-vector product of $D+(u u^T)^{-1} x$\n",
        "    \"\"\"\n",
        "\n",
        "    A_inv = x / d\n",
        "    nominator = np.dot(u / d, u @ (x / d))\n",
        "    denominator = 1 + (u / d) @ u\n",
        "    return A_inv - nominator / denominator"
      ],
      "id": "H3_4Q9mZ_paJ"
    },
    {
      "cell_type": "code",
      "execution_count": 13,
      "metadata": {
        "deletable": false,
        "editable": false,
        "nbgrader": {
          "cell_type": "code",
          "checksum": "aec6ca423add41bf3daad91e90ff0ac4",
          "grade": true,
          "grade_id": "cell-59d9b1b7ecd28a9f",
          "locked": true,
          "points": 2,
          "schema_version": 3,
          "solution": false,
          "task": false
        },
        "id": "Cm5Wx5kP_paJ"
      },
      "outputs": [],
      "source": [
        "# Test your matrix-vector product routine on small size matrices\n",
        "\n",
        "n = 5\n",
        "rndm = np.random.default_rng(1234)\n",
        "\n",
        "d, u = generate_d_u(n, rndm)\n",
        "A = np.diag(d) + u[:, None] @ u[None, :]\n",
        "\n",
        "for x in [np.arange(n), np.ones(n), rndm.uniform(size=n)]:\n",
        "    assert_allclose(SMproduct(d, u, x),\n",
        "                    np.linalg.solve(A, x), atol=1e-10)"
      ],
      "id": "Cm5Wx5kP_paJ"
    },
    {
      "cell_type": "markdown",
      "metadata": {
        "deletable": false,
        "editable": false,
        "nbgrader": {
          "cell_type": "markdown",
          "checksum": "ba96ffd9e1caa4fba134cdd159e373b9",
          "grade": false,
          "grade_id": "cell-4cfab62259e57b8b",
          "locked": true,
          "schema_version": 3,
          "solution": false,
          "task": false
        },
        "id": "-L1btp_E_paK"
      },
      "source": [
        "## Compute the leading eigenvalue of $(D + u u^T)^{-1}$.\n",
        "\n",
        "Write a function which computes the leading eigenvalue and its corresponding eigenvector."
      ],
      "id": "-L1btp_E_paK"
    },
    {
      "cell_type": "code",
      "execution_count": 17,
      "metadata": {
        "deletable": false,
        "nbgrader": {
          "cell_type": "code",
          "checksum": "7af1669e9319953bf4a5c988a0394e3e",
          "grade": false,
          "grade_id": "cell-fd3839d046b3752c",
          "locked": false,
          "schema_version": 3,
          "solution": true,
          "task": false
        },
        "id": "Bp9WpQif_paK"
      },
      "outputs": [],
      "source": [
        "def leading_eigv(d, u, x0, eps=1e-7, maxiter=1000):\n",
        "    \"\"\"Compute the leading eigenvalue of (D + u@u.T)^{-1}.\n",
        "    \n",
        "    Use the power iteration method to compute the eigenvalue.\n",
        "    \n",
        "    Use the B-N-S formula to compute the corresponding eigenvector.\n",
        "    \n",
        "    Parameters\n",
        "    ----------\n",
        "    d : array, shape (n,)\n",
        "        The diagonal elements\n",
        "    u : array, shape (n,)\n",
        "        The outer product vector\n",
        "    x0 : array, shape (n,)\n",
        "        The initial approximation\n",
        "    eps : float\n",
        "        The target accuracy.\n",
        "        Iterations stop when |true_lambda - current estimate| < eps.\n",
        "    maxiter : int\n",
        "        The maximum allowed number of iterations.\n",
        "    \n",
        "    Returns\n",
        "    -------\n",
        "    lmbda : float\n",
        "        The estimate for the leading eigenvalue\n",
        "    vec : array, shape (n,)\n",
        "        The estimate for the corresponding eigenvector\n",
        "        \n",
        "    Raises\n",
        "    ------\n",
        "    ValueError\n",
        "        if the maximum number of iterations `maxiter` is reached\n",
        "        without reaching the target tolerance.\n",
        "    \n",
        "    \"\"\"\n",
        "    x_k = x0 / np.linalg.norm(x0) # нормируем\n",
        "    cur_iter = maxiter # текущую итерацию инициализируем maxiter\n",
        "    for i in range(maxiter):\n",
        "      y_k_plus_one = SMproduct(d, u, x_k)\n",
        "      l_k = x_k[None, :] @ y_k_plus_one\n",
        "      if np.linalg.norm(y_k_plus_one - l_k * x_k) < eps:\n",
        "        cur_iter = i+1\n",
        "        break\n",
        "      x_k = y_k_plus_one / np.linalg.norm(y_k_plus_one)\n",
        "    vec = BNS(d, u, 1.0 / l_k)\n",
        "\n",
        "    if cur_iter == maxiter:\n",
        "      raise ValueError('Maximum number of iterations is reached without reaching the target tolerance')\n",
        "    return l_k, vec"
      ],
      "id": "Bp9WpQif_paK"
    },
    {
      "cell_type": "code",
      "execution_count": 18,
      "metadata": {
        "deletable": false,
        "editable": false,
        "nbgrader": {
          "cell_type": "code",
          "checksum": "537a0d66e184de4b443de19d2dd98fa2",
          "grade": true,
          "grade_id": "cell-9147b698f61621a7",
          "locked": true,
          "points": 2,
          "schema_version": 3,
          "solution": false,
          "task": false
        },
        "id": "A_MtRq9x_paL"
      },
      "outputs": [],
      "source": [
        "# test on a small example (useful for debugging)\n",
        "n = 5\n",
        "rndm = np.random.default_rng(1234)\n",
        "d, u = generate_d_u(n, rndm)\n",
        "\n",
        "la1, x = leading_eigv(d, u, np.ones(n))\n",
        "assert np.linalg.norm(SMproduct(d, u, x) - la1*x) < 1e-9\n",
        "\n",
        "e = eigvals(np.diag(d) + u[:, None] @ u[None, :])\n",
        "e = e[np.argsort(abs(e))]\n",
        "assert_allclose(e[0], 1./la1, atol=1e-14, rtol=0)"
      ],
      "id": "A_MtRq9x_paL"
    },
    {
      "cell_type": "code",
      "execution_count": 19,
      "metadata": {
        "deletable": false,
        "editable": false,
        "nbgrader": {
          "cell_type": "code",
          "checksum": "6748f8d53e33a69561165812b2c8f782",
          "grade": true,
          "grade_id": "cell-47d20ae241d1646a",
          "locked": true,
          "points": 1,
          "schema_version": 3,
          "solution": false,
          "task": false
        },
        "id": "DW8fOeio_paL"
      },
      "outputs": [],
      "source": [
        "# test interface\n",
        "import pytest\n",
        "with pytest.raises(ValueError):\n",
        "    la1, x = leading_eigv(d, u, np.ones(n), eps=1e-20, maxiter=1)"
      ],
      "id": "DW8fOeio_paL"
    },
    {
      "cell_type": "code",
      "execution_count": 20,
      "metadata": {
        "deletable": false,
        "editable": false,
        "nbgrader": {
          "cell_type": "code",
          "checksum": "c932f2e406ddfdf52043adf6865fa68d",
          "grade": true,
          "grade_id": "cell-21df48a03479fdf2",
          "locked": true,
          "points": 10,
          "schema_version": 3,
          "solution": false,
          "task": false
        },
        "id": "Zlz0e_DM_paM"
      },
      "outputs": [],
      "source": [
        "# test on a slightly larger example\n",
        "n = 100\n",
        "rndm = np.random.default_rng(1234)\n",
        "d, u = generate_d_u(n, rndm)\n",
        "\n",
        "la1, x = leading_eigv(d, u, np.ones(n))\n",
        "assert np.linalg.norm(SMproduct(d, u, x) - la1*x) < 1e-9\n",
        "\n",
        "# and a yet larger one\n",
        "n = int(1e5)\n",
        "rndm = np.random.default_rng(1234)\n",
        "d, u = generate_d_u(n, rndm)\n",
        "\n",
        "la1, x = leading_eigv(d, u, np.ones(n))\n",
        "assert np.linalg.norm(SMproduct(d, u, x) - la1*x) < 1e-9"
      ],
      "id": "Zlz0e_DM_paM"
    }
  ],
  "metadata": {
    "kernelspec": {
      "display_name": "Python 3",
      "language": "python",
      "name": "python3"
    },
    "language_info": {
      "codemirror_mode": {
        "name": "ipython",
        "version": 3
      },
      "file_extension": ".py",
      "mimetype": "text/x-python",
      "name": "python",
      "nbconvert_exporter": "python",
      "pygments_lexer": "ipython3",
      "version": "3.8.10"
    },
    "colab": {
      "name": "BNS_formula_avsoldatov.ipynb",
      "provenance": []
    }
  },
  "nbformat": 4,
  "nbformat_minor": 5
}