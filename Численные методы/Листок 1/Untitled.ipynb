{
 "cells": [
  {
   "cell_type": "code",
   "execution_count": 1,
   "id": "abroad-williams",
   "metadata": {},
   "outputs": [],
   "source": [
    "import numpy as np"
   ]
  },
  {
   "cell_type": "code",
   "execution_count": 4,
   "id": "hindu-philadelphia",
   "metadata": {},
   "outputs": [],
   "source": [
    "N=100000\n",
    "M1_m = 40e4\n",
    "M1_s = 5e2\n",
    "M2_m = 30e4\n",
    "M2_s = 1e3\n",
    "R_m = 3.2\n",
    "R_s = 0.01\n",
    "\n",
    "G = 667e-13\n",
    "Fs = np.array([])\n",
    "for i in range(N):\n",
    "    m1=np.random.normal(M1_m, M1_s)\n",
    "    m2=np.random.normal(M2_m, M2_s)\n",
    "    r=np.random.normal(R_m, R_s)\n",
    "    Fs = np.append(Fs, G*m1*m2/(r**2))"
   ]
  },
  {
   "cell_type": "code",
   "execution_count": 19,
   "id": "political-murray",
   "metadata": {},
   "outputs": [
    {
     "data": {
      "text/plain": [
       "[<matplotlib.lines.Line2D at 0x22a625dedf0>]"
      ]
     },
     "execution_count": 19,
     "metadata": {},
     "output_type": "execute_result"
    },
    {
     "data": {
      "image/png": "[encoded data removed]",
      "text/plain": [
       "<Figure size 432x288 with 1 Axes>"
      ]
     },
     "metadata": {
      "needs_background": "light"
     },
     "output_type": "display_data"
    }
   ],
   "source": [
    "import matplotlib.pyplot as plt\n",
    "\n",
    "plt.hist(Fs,21, density=True);\n",
    "F_m = 0.782\n",
    "F_s = 0.006\n",
    "x = np.sort(Fs)\n",
    "plt.plot(x, 1/(F_s * np.sqrt(2*np.pi)) * np.exp(- (x - F_m) ** 2 / (2 * F_s ** 2)))"
   ]
  },
  {
   "cell_type": "code",
   "execution_count": 10,
   "id": "entertaining-impossible",
   "metadata": {},
   "outputs": [
    {
     "data": {
      "text/plain": [
       "3.141592653589793"
      ]
     },
     "execution_count": 10,
     "metadata": {},
     "output_type": "execute_result"
    }
   ],
   "source": [
    "np.pi"
   ]
  },
  {
   "cell_type": "code",
   "execution_count": null,
   "id": "statutory-document",
   "metadata": {},
   "outputs": [],
   "source": []
  }
 ],
 "metadata": {
  "kernelspec": {
   "display_name": "Python 3",
   "language": "python",
   "name": "python3"
  },
  "language_info": {
   "codemirror_mode": {
    "name": "ipython",
    "version": 3
   },
   "file_extension": ".py",
   "mimetype": "text/x-python",
   "name": "python",
   "nbconvert_exporter": "python",
   "pygments_lexer": "ipython3",
   "version": "3.8.5"
  }
 },
 "nbformat": 4,
 "nbformat_minor": 5
}
