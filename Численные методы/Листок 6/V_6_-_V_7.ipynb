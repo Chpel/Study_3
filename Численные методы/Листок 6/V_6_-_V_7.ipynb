{
 "cells": [
  {
   "cell_type": "code",
   "execution_count": 14,
   "id": "fitted-empty",
   "metadata": {},
   "outputs": [],
   "source": [
    "%config Completer.use_jedi = False"
   ]
  },
  {
   "cell_type": "code",
   "execution_count": 13,
   "id": "promotional-climb",
   "metadata": {},
   "outputs": [],
   "source": [
    "import numpy as np\n",
    "import matplotlib.pyplot as plt\n",
    "\n",
    "from scipy.special import roots_sh_legendre"
   ]
  },
  {
   "cell_type": "markdown",
   "id": "artificial-puppy",
   "metadata": {},
   "source": [
    "## V.6"
   ]
  },
  {
   "cell_type": "markdown",
   "id": "starting-baltimore",
   "metadata": {},
   "source": [
    "Решите интегральное уравнение на функцию φ(x), где $0 \\leq x \\leq 1$:\n",
    "$$\n",
    "\\phi(x) = \\int_0^1 \\sqrt{x t}  \\phi(t) dt + 5 \\sqrt{x} ,\n",
    "$$\n",
    "используя квадратуру Лежандра либо квадратуру Якоби."
   ]
  },
  {
   "cell_type": "code",
   "execution_count": 5,
   "id": "armed-xerox",
   "metadata": {},
   "outputs": [
    {
     "name": "stdout",
     "output_type": "stream",
     "text": [
      "[0.06943184 0.33000948 0.66999052 0.93056816]\n",
      "[0.17392742 0.32607258 0.32607258 0.17392742]\n"
     ]
    }
   ],
   "source": [
    "nodes, weights = roots_sh_legendre(4)\n",
    "\n",
    "print(nodes)\n",
    "print(weights)"
   ]
  },
  {
   "cell_type": "code",
   "execution_count": 8,
   "id": "accepting-potential",
   "metadata": {},
   "outputs": [],
   "source": [
    "rhs = lambda x: 5*np.sqrt(x)\n",
    "k = lambda x,t: np.sqrt(x*t)\n",
    "\n",
    "A = np.empty((4,4))\n",
    "\n",
    "for i in range(A.shape[0]):\n",
    "    for j in range(A.shape[0]):\n",
    "        A[i][j] = - weights[j]*k(nodes[i], nodes[j])\n",
    "\n",
    "A += np.eye(A.shape[0])\n",
    "\n",
    "b = rhs(nodes)"
   ]
  },
  {
   "cell_type": "code",
   "execution_count": 9,
   "id": "designed-insertion",
   "metadata": {},
   "outputs": [],
   "source": [
    "phi_nodes = np.linalg.solve(A, b)\n",
    "phi_true = lambda x: 10 * np.sqrt(x)"
   ]
  },
  {
   "cell_type": "code",
   "execution_count": 16,
   "id": "necessary-launch",
   "metadata": {},
   "outputs": [
    {
     "data": {
      "image/png": "[encoded data removed]",
      "text/plain": [
       "<Figure size 720x432 with 1 Axes>"
      ]
     },
     "metadata": {
      "needs_background": "light"
     },
     "output_type": "display_data"
    }
   ],
   "source": [
    "xx = np.linspace(0,1,50)\n",
    "phi_num = np.array([np.sum([weights[i]*phi_nodes[i]*k(nodes[i],x) for i in range(4)]) + rhs(x) for x in xx])\n",
    "\n",
    "plt.figure(figsize=(10,6))\n",
    "\n",
    "plt.plot(xx, phi_num, '--.g', label='numeric', ms=7)\n",
    "plt.plot(xx, phi_true(xx), label='true')\n",
    "\n",
    "plt.legend(fontsize=12)\n",
    "plt.show()"
   ]
  },
  {
   "cell_type": "code",
   "execution_count": null,
   "id": "electoral-ocean",
   "metadata": {},
   "outputs": [],
   "source": []
  }
 ],
 "metadata": {
  "kernelspec": {
   "display_name": "Python 3",
   "language": "python",
   "name": "python3"
  },
  "language_info": {
   "codemirror_mode": {
    "name": "ipython",
    "version": 3
   },
   "file_extension": ".py",
   "mimetype": "text/x-python",
   "name": "python",
   "nbconvert_exporter": "python",
   "pygments_lexer": "ipython3",
   "version": "3.8.3"
  }
 },
 "nbformat": 4,
 "nbformat_minor": 5
}
