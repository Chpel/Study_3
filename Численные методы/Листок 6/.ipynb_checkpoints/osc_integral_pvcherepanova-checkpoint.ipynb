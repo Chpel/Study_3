{
 "cells": [
  {
   "cell_type": "markdown",
   "metadata": {},
   "source": [
    "Before you turn this problem in, make sure everything runs as expected. First, **restart the kernel** (in the menubar, select Kernel$\\rightarrow$Restart) and then **run all cells** (in the menubar, select Cell$\\rightarrow$Run All).\n",
    "\n",
    "Make sure you fill in any place that says `YOUR CODE HERE` or \"YOUR ANSWER HERE\", as well as your name and collaborators below:"
   ]
  },
  {
   "cell_type": "code",
   "execution_count": 1,
   "metadata": {},
   "outputs": [],
   "source": [
    "NAME = \"Polina Cherepanova\"\n",
    "COLLABORATORS = \"\""
   ]
  },
  {
   "cell_type": "markdown",
   "metadata": {},
   "source": [
    "---"
   ]
  },
  {
   "cell_type": "markdown",
   "metadata": {
    "deletable": false,
    "editable": false,
    "nbgrader": {
     "cell_type": "markdown",
     "checksum": "475498f3a6203f2deee48a33d1416e0c",
     "grade": false,
     "grade_id": "cell-70721ae1c137e72e",
     "locked": true,
     "schema_version": 3,
     "solution": false,
     "task": false
    }
   },
   "source": [
    "# Интеграл от осциллирующей функции\n",
    "\n",
    "Рассмотрим определенный интеграл\n",
    "\n",
    "$$\n",
    "I = \\int_0^\\infty\\! \\frac{\\sin(x) \\cos{(\\cos{(x)})}}{x}\\,dx\n",
    "$$\n",
    "\n",
    "Вычислите значение данного интеграла с относительной точностью $10^{-6}$. Для упрощения задачи можете воспользоваться функционалом `scipy.integrate.quad`.\n",
    "\n",
    "Заметим, что \"из коробки\" интеграл вычислить не удается, и нужно что-то придумать."
   ]
  },
  {
   "cell_type": "code",
   "execution_count": 2,
   "metadata": {
    "deletable": false,
    "editable": false,
    "nbgrader": {
     "cell_type": "code",
     "checksum": "11f9ea8995c2fc47c6518788c1e3a53b",
     "grade": false,
     "grade_id": "cell-515f8f19764eb256",
     "locked": true,
     "schema_version": 3,
     "solution": false,
     "task": false
    }
   },
   "outputs": [
    {
     "name": "stderr",
     "output_type": "stream",
     "text": [
      "<ipython-input-2-5a28b85f551f>:4: IntegrationWarning: The integral is probably divergent, or slowly convergent.\n",
      "  quad(lambda x: sin(x) * cos(cos(x)) / x, 0, float('inf'))\n"
     ]
    },
    {
     "data": {
      "text/plain": [
       "(1.9653912540956733, 4.089174284042322)"
      ]
     },
     "execution_count": 2,
     "metadata": {},
     "output_type": "execute_result"
    }
   ],
   "source": [
    "from math import sin, cos\n",
    "\n",
    "from scipy.integrate import quad\n",
    "quad(lambda x: sin(x) * cos(cos(x)) / x, 0, float('inf'))"
   ]
  },
  {
   "cell_type": "markdown",
   "metadata": {
    "deletable": false,
    "editable": false,
    "nbgrader": {
     "cell_type": "markdown",
     "checksum": "53e2ba2b52667aada8dc1a7f43391ef4",
     "grade": false,
     "grade_id": "cell-e34178c9823af271",
     "locked": true,
     "schema_version": 3,
     "solution": false,
     "task": false
    }
   },
   "source": [
    "Напишите функцию, которая возвращает значение данного интеграла. Только само значение интеграла, без оценки погрешности.\n",
    "(оборачиваем интеграл в функцию только для удобства автопроверки)."
   ]
  },
  {
   "cell_type": "code",
   "execution_count": 3,
   "metadata": {},
   "outputs": [],
   "source": [
    "def integ():\n",
    "    \"\"\"Return a single float, the computed value of the integral.\"\"\"\n",
    "    def f(n):\n",
    "        return 2 * jv(n, 1) * (-np.sin(100 * n) / (100**2 * n) + 2 * np.cos(100 * n) / (100**3 * n**2) + 6 * np.sin(100 * n) / (n**3 * 100**4) + 24 / n**3 * quad(lambda x: sin(n/x)*x**3, 0, 0.01)[0])\n",
    "\n",
    "    result = quad(lambda x: sin(x) * cos(cos(x)) / x, 0, 100)[0] + np.sin(np.cos(100)) / 100\n",
    "    result += (-f(1) + f(3) - f(5))\n",
    "    return result\n",
    "\n",
    "#integ()"
   ]
  },
  {
   "cell_type": "code",
   "execution_count": 4,
   "metadata": {},
   "outputs": [],
   "source": [
    "import numpy as np\n",
    "from scipy.special import jv"
   ]
  },
  {
   "cell_type": "code",
   "execution_count": 5,
   "metadata": {
    "deletable": false,
    "nbgrader": {
     "cell_type": "code",
     "checksum": "f9fa2326b0f5d084ce9385ccd5a2fbd7",
     "grade": false,
     "grade_id": "cell-ddd4e0b6d148fcfd",
     "locked": false,
     "schema_version": 3,
     "solution": true,
     "task": false
    }
   },
   "outputs": [],
   "source": [
    "from scipy.integrate import quad\n",
    "\n",
    "def integ():\n",
    "    \"\"\"Return a single float, the computed value of the integral.\"\"\"\n",
    "    def f(n):\n",
    "        return (\n",
    "            2 * jv(n, 1) * (-np.sin(100 * n) / (100**2 * n) +\n",
    "                            2 * np.cos(100 * n) / (100**3 * n**2) +\n",
    "                            6 * np.sin(100 * n) / (n**3 * 100**4) +\n",
    "                            24 / n**3 * quad(lambda x: sin(n/x)*x**3, 0, 0.01)[0])\n",
    "        )\n",
    "    \n",
    "    result = quad(lambda x: sin(x) * cos(cos(x)) / x, 0, 100)[0] + np.sin(np.cos(100)) / 100\n",
    "    result += (-f(1) + f(3) - f(5))\n",
    "    \n",
    "    return result"
   ]
  },
  {
   "cell_type": "code",
   "execution_count": 6,
   "metadata": {
    "deletable": false,
    "editable": false,
    "nbgrader": {
     "cell_type": "code",
     "checksum": "4bc7f63812ac2d3affaad5fdd7efbd15",
     "grade": true,
     "grade_id": "cell-b341c2ce36bc957d",
     "locked": true,
     "points": 5,
     "schema_version": 3,
     "solution": false,
     "task": false
    }
   },
   "outputs": [],
   "source": [
    "from numpy.testing import assert_allclose\n",
    "\n",
    "# this is a test cell, keep it intact\n"
   ]
  },
  {
   "cell_type": "code",
   "execution_count": 7,
   "metadata": {
    "deletable": false,
    "editable": false,
    "nbgrader": {
     "cell_type": "code",
     "checksum": "51d0a785bae864841fc2055345484d95",
     "grade": true,
     "grade_id": "cell-b1efbd0432fcd7cb",
     "locked": true,
     "points": 15,
     "schema_version": 3,
     "solution": false,
     "task": false
    }
   },
   "outputs": [],
   "source": [
    "# this is a test cell, keep it intact\n"
   ]
  },
  {
   "cell_type": "code",
   "execution_count": null,
   "metadata": {},
   "outputs": [],
   "source": []
  }
 ],
 "metadata": {
  "kernelspec": {
   "display_name": "Python 3",
   "language": "python",
   "name": "python3"
  },
  "language_info": {
   "codemirror_mode": {
    "name": "ipython",
    "version": 3
   },
   "file_extension": ".py",
   "mimetype": "text/x-python",
   "name": "python",
   "nbconvert_exporter": "python",
   "pygments_lexer": "ipython3",
   "version": "3.8.3"
  }
 },
 "nbformat": 4,
 "nbformat_minor": 4
}
