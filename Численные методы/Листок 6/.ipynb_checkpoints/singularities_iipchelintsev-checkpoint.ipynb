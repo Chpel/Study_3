{
 "cells": [
  {
   "cell_type": "markdown",
   "id": "phantom-dodge",
   "metadata": {},
   "source": [
    "Before you turn this problem in, make sure everything runs as expected. First, **restart the kernel** (in the menubar, select Kernel$\\rightarrow$Restart) and then **run all cells** (in the menubar, select Cell$\\rightarrow$Run All).\n",
    "\n",
    "Make sure you fill in any place that says `YOUR CODE HERE` or \"YOUR ANSWER HERE\", as well as your name and collaborators below:"
   ]
  },
  {
   "cell_type": "code",
   "execution_count": null,
   "id": "designed-constitution",
   "metadata": {},
   "outputs": [],
   "source": [
    "NAME = \"Pchelitsev Ilya\"\n",
    "COLLABORATORS = \"\""
   ]
  },
  {
   "cell_type": "markdown",
   "id": "forty-intervention",
   "metadata": {},
   "source": [
    "---"
   ]
  },
  {
   "cell_type": "markdown",
   "id": "based-angola",
   "metadata": {
    "deletable": false,
    "editable": false,
    "nbgrader": {
     "cell_type": "markdown",
     "checksum": "fb5c96d8c964fb45ec72c7f7fc98c42e",
     "grade": false,
     "grade_id": "cell-6250fa764b3a098c",
     "locked": true,
     "schema_version": 3,
     "solution": false,
     "task": false
    }
   },
   "source": [
    "# Integrable singularities\n",
    "\n",
    "Compue the integral\n",
    "\n",
    "$$\n",
    "I = \\int_{0}^{1}\\frac{e^x}{\\sqrt{x(1-x)}}dx.\n",
    "$$\n",
    "\n",
    "using the trapezoid formula. Note that the integrand diverges at the integration limits and the singularities are integrable (the integral itself exists). So, you will need to subtract these singularities.\n",
    "\n",
    "The following integrals might be useful:\n",
    "\n",
    "$$\n",
    "\\int_0^1 \\frac{1}{\\sqrt{x (1-x)}} \\, dx=\\pi,\\quad \\int_0^1 \\frac{x}{\\sqrt{x (1-x)}} \\, dx=\\pi/2.\n",
    "$$"
   ]
  },
  {
   "cell_type": "markdown",
   "id": "occasional-juice",
   "metadata": {
    "deletable": false,
    "editable": false,
    "nbgrader": {
     "cell_type": "markdown",
     "checksum": "3c3c338a25bb2f6cd18e02eee09bc82d",
     "grade": false,
     "grade_id": "cell-8f2608864459aa2d",
     "locked": true,
     "points": 10,
     "schema_version": 3,
     "solution": false,
     "task": true
    }
   },
   "source": [
    "Transform the integral to subtract the singularities. Write out the formulas in the cell below (5pt, manual grading)."
   ]
  },
  {
   "cell_type": "markdown",
   "id": "killing-fiber",
   "metadata": {},
   "source": [
    "Есть две сингулярности - в 0 и 1:  \n",
    "$e^x,\\ \\ x\\to0 = 1 + x + o(x^2)$\n",
    "\n",
    "$e^x,\\ \\ x\\to1 = e * e^{x-1},\\ \\ x-1\\to0  = e + e*(x-1) + o(x^2)$\n",
    "\n",
    "Заметим, что \n",
    "\n",
    "$\\int^{1}_{0}\\frac{1}{\\sqrt{x(1-x)}} = 2 * \\int^{1}_{1/2}\\frac{1}{\\sqrt{x(1-x)}} = 2 * \\int^{1/2}_{0}\\frac{1}{\\sqrt{x(1-x)}}$\n",
    "\n",
    "$I = 1/2 \\left(\\int^{0.5}_{0}\\frac{e^x-1}{\\sqrt{x(1-x)}} + \\pi/2 + \\int^{1}_{0.5}\\frac{e^x-e}{\\sqrt{x(1-x)}} + \\pi * e / 2 \\right)$"
   ]
  },
  {
   "cell_type": "markdown",
   "id": "scientific-little",
   "metadata": {
    "deletable": false,
    "editable": false,
    "nbgrader": {
     "cell_type": "markdown",
     "checksum": "9a7f787065324defbd03f0e15c74623b",
     "grade": false,
     "grade_id": "cell-6d3b9f7e6261b99a",
     "locked": true,
     "schema_version": 3,
     "solution": false,
     "task": false
    }
   },
   "source": [
    "Write a function which computes the value of the integrals using the trapezoid rule."
   ]
  },
  {
   "cell_type": "code",
   "execution_count": 22,
   "id": "supreme-surrey",
   "metadata": {
    "deletable": false,
    "nbgrader": {
     "cell_type": "code",
     "checksum": "2067db26be5e9267e87e43723fd66b74",
     "grade": false,
     "grade_id": "cell-9e8a974c206201a3",
     "locked": false,
     "schema_version": 3,
     "solution": true,
     "task": false
    }
   },
   "outputs": [],
   "source": [
    "import numpy as np\n",
    "\n",
    "def integ(npts=10):\n",
    "    \"\"\"Compute the value of the integral above.\n",
    "    \n",
    "    Subtract the singularities and use the trapezoid rule. \n",
    "    \n",
    "    Parameters\n",
    "    ----------\n",
    "    npts : int\n",
    "        The number of points for the trapezoid rule\n",
    "        \n",
    "    Returns\n",
    "    -------\n",
    "    I : float\n",
    "       The computed value of the integral\n",
    "    \"\"\"\n",
    "    \n",
    "    l_I = lambda x: (np.exp(x) - 1) / np.sqrt(x * (1 - x))\n",
    "    r_I = lambda x: (np.exp(x) - np.e) / np.sqrt(x * (1 - x)) \n",
    "    dx = 0.5 / npts\n",
    "    I = 0\n",
    "    for f, x, x_crit in [(l_I, np.linspace(0, 1/2, npts + 1), 0), (r_I, np.linspace(1/2, 1, npts + 1), 1)]:\n",
    "        for i in range(npts+1):\n",
    "            if x[i] != x_crit:\n",
    "                if i == 0 or i == npts:\n",
    "                    I += f(x[i]) / 2\n",
    "                else:\n",
    "                    I += f(x[i])\n",
    "    I *= dx \n",
    "    I += np.pi*(1 + np.e) / 2\n",
    "    return I"
   ]
  },
  {
   "cell_type": "code",
   "execution_count": 24,
   "id": "spoken-collective",
   "metadata": {
    "deletable": false,
    "editable": false,
    "nbgrader": {
     "cell_type": "code",
     "checksum": "843a7710bd2d005e2e7bd4baecfb9730",
     "grade": true,
     "grade_id": "cell-d30dfbfd2e3409f2",
     "locked": true,
     "points": 10,
     "schema_version": 3,
     "solution": false,
     "task": false
    }
   },
   "outputs": [],
   "source": [
    "# this is a test to check your computed value\n",
    "from numpy.testing import assert_allclose\n"
   ]
  },
  {
   "cell_type": "code",
   "execution_count": 25,
   "id": "intermediate-creation",
   "metadata": {},
   "outputs": [
    {
     "data": {
      "text/plain": [
       "5.508429900177446"
      ]
     },
     "execution_count": 25,
     "metadata": {},
     "output_type": "execute_result"
    }
   ],
   "source": [
    "integ(10000)"
   ]
  },
  {
   "cell_type": "code",
   "execution_count": null,
   "id": "pursuant-wheat",
   "metadata": {},
   "outputs": [],
   "source": []
  }
 ],
 "metadata": {
  "kernelspec": {
   "display_name": "Python 3",
   "language": "python",
   "name": "python3"
  },
  "language_info": {
   "codemirror_mode": {
    "name": "ipython",
    "version": 3
   },
   "file_extension": ".py",
   "mimetype": "text/x-python",
   "name": "python",
   "nbconvert_exporter": "python",
   "pygments_lexer": "ipython3",
   "version": "3.8.5"
  }
 },
 "nbformat": 4,
 "nbformat_minor": 5
}
