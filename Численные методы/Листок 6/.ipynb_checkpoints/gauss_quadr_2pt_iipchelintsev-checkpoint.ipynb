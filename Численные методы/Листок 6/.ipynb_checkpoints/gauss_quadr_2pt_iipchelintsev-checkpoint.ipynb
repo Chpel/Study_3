{
 "cells": [
  {
   "cell_type": "markdown",
   "id": "twenty-machinery",
   "metadata": {},
   "source": [
    "Before you turn this problem in, make sure everything runs as expected. First, **restart the kernel** (in the menubar, select Kernel$\\rightarrow$Restart) and then **run all cells** (in the menubar, select Cell$\\rightarrow$Run All).\n",
    "\n",
    "Make sure you fill in any place that says `YOUR CODE HERE` or \"YOUR ANSWER HERE\", as well as your name and collaborators below:"
   ]
  },
  {
   "cell_type": "code",
   "execution_count": 1,
   "id": "worth-liechtenstein",
   "metadata": {},
   "outputs": [],
   "source": [
    "NAME = \"Pchelintsev Ilya\"\n",
    "COLLABORATORS = \"\""
   ]
  },
  {
   "cell_type": "markdown",
   "id": "spare-technician",
   "metadata": {},
   "source": [
    "---"
   ]
  },
  {
   "cell_type": "markdown",
   "id": "enabling-envelope",
   "metadata": {
    "deletable": false,
    "editable": false,
    "nbgrader": {
     "cell_type": "markdown",
     "checksum": "0493571662a4375d852369d0471227a2",
     "grade": false,
     "grade_id": "cell-693cfa5a07431339",
     "locked": true,
     "schema_version": 3,
     "solution": false,
     "task": false
    }
   },
   "source": [
    "# Two-point Gauss quadrature\n",
    "\n",
    "Construct a Gaussian quadrature formula which integrates exactly cubic polynomials over the interval $[a, b]$ with the weighting function $w(x) = 1$. Note that it is enough to use a _two-point_ quadrature formula:\n",
    "\n",
    "$$\n",
    "\\int_a^b\\! f(x)\\, dx \\approx w_1 f(x_1) + w_2 f(x_2)\n",
    "$$\n",
    "\n",
    "Write a function which returns the nodes nodes, $x_1$ and $x_2$, and weights, $w_1$ and $w_2$, of the two-point Gaussian quadrature with the weighting function $w(x) = 1$ on $[a, b]$."
   ]
  },
  {
   "cell_type": "code",
   "execution_count": 8,
   "id": "satisfactory-development",
   "metadata": {
    "deletable": false,
    "nbgrader": {
     "cell_type": "code",
     "checksum": "8206e80d1f9f27209fb4314bcd625290",
     "grade": false,
     "grade_id": "cell-9794df4167f2e72d",
     "locked": false,
     "schema_version": 3,
     "solution": true,
     "task": false
    }
   },
   "outputs": [],
   "source": [
    "def gauss_2(a, b):\n",
    "    r\"\"\"Return nodes and weights for a two-point Gauss quadrature on [a, b].\n",
    "    \n",
    "    Parameters\n",
    "    ----------\n",
    "    a, b : float\n",
    "       Boundaries of the integration interval\n",
    "       \n",
    "    Returns\n",
    "    -------\n",
    "    x1, x2, w1, w2 : float\n",
    "       Nodes and weights of the quadrature.\n",
    "    \"\"\"\n",
    "    return ((a+b) / 2 - (b-a) / (2 * 3**0.5)), ((a+b) / 2 + (b-a) / (2 * 3**0.5)), (b-a)/2, (b-a)/2"
   ]
  },
  {
   "cell_type": "code",
   "execution_count": 9,
   "id": "social-german",
   "metadata": {
    "deletable": false,
    "editable": false,
    "nbgrader": {
     "cell_type": "code",
     "checksum": "00fc1a79259cd75ec40b6ed21a9cba0a",
     "grade": true,
     "grade_id": "cell-e9111ed2725bd5e2",
     "locked": true,
     "points": 10,
     "schema_version": 3,
     "solution": false,
     "task": false
    }
   },
   "outputs": [],
   "source": [
    "from numpy.testing import assert_allclose\n",
    "\n",
    "x1, x2, w1, w2 = gauss_2(0, 1)\n",
    "\n",
    "def f(x, n): \n",
    "    return x**n\n",
    "\n",
    "for n in [0, 1, 2, 3]:\n",
    "    assert_allclose(w1*f(x1, n=n) + w2*f(x2, n=n),\n",
    "                    1./(n+1), atol=1e-14)\n"
   ]
  }
 ],
 "metadata": {
  "kernelspec": {
   "display_name": "Python 3",
   "language": "python",
   "name": "python3"
  },
  "language_info": {
   "codemirror_mode": {
    "name": "ipython",
    "version": 3
   },
   "file_extension": ".py",
   "mimetype": "text/x-python",
   "name": "python",
   "nbconvert_exporter": "python",
   "pygments_lexer": "ipython3",
   "version": "3.8.5"
  }
 },
 "nbformat": 4,
 "nbformat_minor": 5
}
