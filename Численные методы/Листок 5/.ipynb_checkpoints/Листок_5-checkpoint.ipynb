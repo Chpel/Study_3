{
  "nbformat": 4,
  "nbformat_minor": 0,
  "metadata": {
    "colab": {
      "name": "Листок_5.ipynb",
      "provenance": []
    },
    "kernelspec": {
      "name": "python3",
      "display_name": "Python 3"
    },
    "language_info": {
      "name": "python"
    }
  },
  "cells": [
    {
      "cell_type": "markdown",
      "source": [
        "# Задача II.26"
      ],
      "metadata": {
        "id": "oI_xDqg8GHcD"
      }
    },
    {
      "cell_type": "code",
      "source": [
        "import numpy as np\n",
        "rnd = np.random.RandomState(1234)\n",
        "n = 10\n",
        "A = rnd.uniform(size=(n,n)) + np.diag([15] * n)\n",
        "b = rnd.uniform(size=n)"
      ],
      "metadata": {
        "id": "4u6IWk5tGEMh"
      },
      "execution_count": null,
      "outputs": []
    },
    {
      "cell_type": "code",
      "source": [
        "D = np.diag(A)\n",
        "D_inv = 1/np.diag(A)\n",
        "B = np.diag(D_inv) @ (np.diag(D) - A)\n",
        "C = np.diag(D_inv) @ b\n",
        "B_norm = np.linalg.norm(B)\n",
        "B_norm"
      ],
      "metadata": {
        "colab": {
          "base_uri": "https://localhost:8080/"
        },
        "id": "0a3HJ7ueHYaW",
        "outputId": "e272d56e-2d5c-4f80-9697-277bc6033686"
      },
      "execution_count": null,
      "outputs": [
        {
          "output_type": "execute_result",
          "data": {
            "text/plain": [
              "0.36436161983015336"
            ]
          },
          "metadata": {},
          "execution_count": 9
        }
      ]
    },
    {
      "cell_type": "markdown",
      "source": [
        "||B|| < 0 -> можно выполнять метод Якоби"
      ],
      "metadata": {
        "id": "wOGAjRzAIai_"
      }
    },
    {
      "cell_type": "code",
      "source": [
        "eps = 1e-6\n",
        "x_0 = np.ones(len(D))\n",
        "while True:\n",
        "    x_1 = B @ x_0 + C\n",
        "    if B_norm / (1 - B_norm) * np.linalg.norm(x_1 - x_0) < eps:\n",
        "        break\n",
        "    x_0 = x_1\n",
        "x_1"
      ],
      "metadata": {
        "colab": {
          "base_uri": "https://localhost:8080/"
        },
        "id": "QOdwL9wLHe8l",
        "outputId": "c40c9e45-b7be-4dae-dc66-abe726ec7123"
      },
      "execution_count": null,
      "outputs": [
        {
          "output_type": "execute_result",
          "data": {
            "text/plain": [
              "array([ 0.03919435,  0.03780042,  0.04283237,  0.02365957,  0.05745035,\n",
              "       -0.00030239, -0.00577276,  0.03177553, -0.00422844,  0.05284653])"
            ]
          },
          "metadata": {},
          "execution_count": 23
        }
      ]
    },
    {
      "cell_type": "code",
      "source": [
        "np.allclose(A @ x_1, b, 1e-4)"
      ],
      "metadata": {
        "colab": {
          "base_uri": "https://localhost:8080/"
        },
        "id": "5NgUprc0KErF",
        "outputId": "594b93ce-bda5-4fbd-a732-15249fd1ca50"
      },
      "execution_count": null,
      "outputs": [
        {
          "output_type": "execute_result",
          "data": {
            "text/plain": [
              "True"
            ]
          },
          "metadata": {},
          "execution_count": 31
        }
      ]
    },
    {
      "cell_type": "markdown",
      "source": [
        "Результирующий вектор действительно решает данную систему"
      ],
      "metadata": {
        "id": "pwpOBiZFL1eN"
      }
    },
    {
      "cell_type": "code",
      "source": [
        "A_rand = rnd.uniform(size=(n,n)) \n",
        "b = rnd.uniform(size=n)\n",
        "    \n",
        "for diag_value in range(15,0,-1):\n",
        "    A = A_rand + np.diag([diag_value] * n)\n",
        "    D = np.diag(A)\n",
        "    D_inv = 1/np.diag(A)\n",
        "    B = np.diag(D_inv) @ (np.diag(D) - A)\n",
        "    C = np.diag(D_inv) @ b\n",
        "    B_norm = np.linalg.norm(B)\n",
        "    print(f'diag_value = {diag_value}, B_norm = {B_norm}')"
      ],
      "metadata": {
        "colab": {
          "base_uri": "https://localhost:8080/"
        },
        "id": "oWdj2Cb_KoTg",
        "outputId": "d8e042ce-e599-48e1-9c40-c28132348b14"
      },
      "execution_count": null,
      "outputs": [
        {
          "output_type": "stream",
          "name": "stdout",
          "text": [
            "diag_value = 15, B_norm = 0.3544305199864064\n",
            "diag_value = 14, B_norm = 0.3789729111950195\n",
            "diag_value = 13, B_norm = 0.4071697198815535\n",
            "diag_value = 12, B_norm = 0.43990357803237695\n",
            "diag_value = 11, B_norm = 0.47836654507374615\n",
            "diag_value = 10, B_norm = 0.5242089013262993\n",
            "diag_value = 9, B_norm = 0.5797830676859187\n",
            "diag_value = 8, B_norm = 0.6485621969715607\n",
            "diag_value = 7, B_norm = 0.7358994919442725\n",
            "diag_value = 6, B_norm = 0.8505036315585947\n",
            "diag_value = 5, B_norm = 1.0075686471923617\n",
            "diag_value = 4, B_norm = 1.236234439137646\n",
            "diag_value = 3, B_norm = 1.6005413052883992\n",
            "diag_value = 2, B_norm = 2.275283108541467\n",
            "diag_value = 1, B_norm = 3.98700915609407\n"
          ]
        }
      ]
    },
    {
      "cell_type": "markdown",
      "source": [
        "С ослаблением диагонального доминирования увеличивается норма B -> сходимость метода Якоби исчезает (при ||B|| >= 1 её нет "
      ],
      "metadata": {
        "id": "aEvOisZjMc8x"
      }
    },
    {
      "cell_type": "markdown",
      "source": [
        "# Задача III.3"
      ],
      "metadata": {
        "id": "OeuzorxoXPkv"
      }
    },
    {
      "cell_type": "code",
      "source": [
        "x0 = 1\n",
        "x_kp1 = lambda x: x + (1 + np.cos(x)) / np.sin(x)\n",
        "xs=[x0]\n",
        "Ns=[1]\n",
        "for i in range(100):\n",
        "    Ns.append(i)\n",
        "    xs.append(x_kp1(xs[len(xs)-1]))"
      ],
      "metadata": {
        "id": "38YQpTF0MTWO"
      },
      "execution_count": null,
      "outputs": []
    },
    {
      "cell_type": "code",
      "source": [
        "import matplotlib.pyplot as plt"
      ],
      "metadata": {
        "id": "2e39MZe0XtZr"
      },
      "execution_count": null,
      "outputs": []
    },
    {
      "cell_type": "code",
      "source": [
        "plt.plot(1/np.array(Ns)[1:], np.array(xs)[1:],'o--')\n",
        "plt.axhline(np.pi, label='True_x', c='r')\n",
        "plt.xscale('linear')\n",
        "plt.yscale('linear')"
      ],
      "metadata": {
        "colab": {
          "base_uri": "https://localhost:8080/",
          "height": 321
        },
        "id": "InX15KJYYWuj",
        "outputId": "03f0408d-3cf8-4132-8b0b-582eb5957e4c"
      },
      "execution_count": null,
      "outputs": [
        {
          "output_type": "stream",
          "name": "stderr",
          "text": [
            "/usr/local/lib/python3.7/dist-packages/ipykernel_launcher.py:1: RuntimeWarning: divide by zero encountered in true_divide\n",
            "  \"\"\"Entry point for launching an IPython kernel.\n"
          ]
        },
        {
          "output_type": "display_data",
          "data": {
            "text/plain": [
              "<Figure size 432x288 with 1 Axes>"
            ],
            "image/png": "[encoded data removed]"
          },
          "metadata": {
            "needs_background": "light"
          }
        }
      ]
    },
    {
      "cell_type": "code",
      "source": [
        "x0 = 1\n",
        "x_kp1 = lambda x: (x + 2/x) / 2\n",
        "xs=[x0]\n",
        "Ns=[1]\n",
        "for i in range(100):\n",
        "    Ns.append(i)\n",
        "    xs.append(x_kp1(xs[len(xs)-1]))"
      ],
      "metadata": {
        "id": "_EO1KwXvYeHR"
      },
      "execution_count": null,
      "outputs": []
    },
    {
      "cell_type": "code",
      "source": [
        "plt.plot(1/np.array(Ns)[1:], np.array(xs)[1:],'o--')\n",
        "plt.axhline(np.sqrt(2), c='r')\n",
        "plt.xscale('log')\n",
        "plt.yscale('log')"
      ],
      "metadata": {
        "colab": {
          "base_uri": "https://localhost:8080/",
          "height": 325
        },
        "id": "oSIokYI-ajxt",
        "outputId": "2bbd94fe-f21b-4eb0-9df7-071d02381d46"
      },
      "execution_count": null,
      "outputs": [
        {
          "output_type": "stream",
          "name": "stderr",
          "text": [
            "/usr/local/lib/python3.7/dist-packages/ipykernel_launcher.py:1: RuntimeWarning: divide by zero encountered in true_divide\n",
            "  \"\"\"Entry point for launching an IPython kernel.\n"
          ]
        },
        {
          "output_type": "display_data",
          "data": {
            "text/plain": [
              "<Figure size 432x288 with 1 Axes>"
            ],
            "image/png": "[encoded data removed]"
          },
          "metadata": {
            "needs_background": "light"
          }
        }
      ]
    },
    {
      "cell_type": "code",
      "source": [
        ""
      ],
      "metadata": {
        "id": "Vi50HL2iawyc"
      },
      "execution_count": null,
      "outputs": []
    },
    {
      "cell_type": "markdown",
      "source": [
        "# Задача III.5"
      ],
      "metadata": {
        "id": "UhuwIWZKgxdv"
      }
    },
    {
      "cell_type": "code",
      "source": [
        "def newton_iteration(f, fder, x0, maxiter=200):\n",
        "    i = 0\n",
        "    x_0 = x0\n",
        "    while i < maxiter:\n",
        "        x_1 = x_0 - f(x_0) / fder(x_0)\n",
        "        i += 1\n",
        "        x_0 = x_1\n",
        "    return x_1, i"
      ],
      "metadata": {
        "id": "ZZGztKhUg2sg"
      },
      "execution_count": null,
      "outputs": []
    },
    {
      "cell_type": "code",
      "source": [
        "n = 200\n",
        "x = np.linspace(-5,5,n)\n",
        "y = np.linspace(-5,5,n)\n",
        "mat = np.zeros((n,n))\n",
        "xs = np.array([complex(1.,0), complex(-0.5, (3 ** 0.5 / 2)), complex(-0.5, -(3 ** 0.5 / 2))])\n",
        "color = [20, 0, -20]\n",
        "for i in range(n):\n",
        "    for j in range(n):\n",
        "        res, n = newton_iteration(lambda x: x ** 3 - 1, lambda x: 3. * (x ** 2), complex(x[i], y[j]))\n",
        "        norms = abs(xs - res)\n",
        "        mat[i][j] = color[np.argmin(norms)]\n",
        "plt.matshow(mat)"
      ],
      "metadata": {
        "colab": {
          "base_uri": "https://localhost:8080/",
          "height": 293
        },
        "id": "JuqdSdprh-Fw",
        "outputId": "0d8cb736-7592-4559-eda7-1c8182f5d563"
      },
      "execution_count": null,
      "outputs": [
        {
          "output_type": "execute_result",
          "data": {
            "text/plain": [
              "<matplotlib.image.AxesImage at 0x7fc7a05a8990>"
            ]
          },
          "metadata": {},
          "execution_count": 46
        },
        {
          "output_type": "display_data",
          "data": {
            "text/plain": [
              "<Figure size 288x288 with 1 Axes>"
            ],
            "image/png": "[encoded data removed]"
          },
          "metadata": {
            "needs_background": "light"
          }
        }
      ]
    },
    {
      "cell_type": "code",
      "source": [
        ""
      ],
      "metadata": {
        "colab": {
          "base_uri": "https://localhost:8080/"
        },
        "id": "jSy_YWEBi1fT",
        "outputId": "eb523826-d849-47e3-eaee-06eb10470f6f"
      },
      "execution_count": null,
      "outputs": [
        {
          "output_type": "execute_result",
          "data": {
            "text/plain": [
              "0.9999999999999999"
            ]
          },
          "metadata": {},
          "execution_count": 36
        }
      ]
    },
    {
      "cell_type": "code",
      "source": [
        "res, n = newton_iteration(lambda x: x ** 3, lambda x: 3 * x ** 2, complex(-1.5, -0.1))\n",
        "xs[np.argmin(abs(xs - res))]"
      ],
      "metadata": {
        "colab": {
          "base_uri": "https://localhost:8080/"
        },
        "id": "NgNL87zIi44h",
        "outputId": "49883c4a-1bf5-4170-de72-21587bf55d50"
      },
      "execution_count": null,
      "outputs": [
        {
          "output_type": "execute_result",
          "data": {
            "text/plain": [
              "(0.5-0.8660254037844386j)"
            ]
          },
          "metadata": {},
          "execution_count": 25
        }
      ]
    }
  ]
}