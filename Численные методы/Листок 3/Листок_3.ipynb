{
 "cells": [
  {
   "cell_type": "code",
   "execution_count": 1,
   "id": "enabling-integrity",
   "metadata": {},
   "outputs": [],
   "source": [
    "import numpy as np\n",
    "import matplotlib.pyplot as plt\n",
    "from sympy import *"
   ]
  },
  {
   "cell_type": "markdown",
   "id": "promising-alberta",
   "metadata": {},
   "source": [
    "# Задача II.13"
   ]
  },
  {
   "cell_type": "code",
   "execution_count": 16,
   "id": "young-moisture",
   "metadata": {},
   "outputs": [
    {
     "data": {
      "text/plain": [
       "<matplotlib.image.AxesImage at 0x1eff393fb20>"
      ]
     },
     "execution_count": 16,
     "metadata": {},
     "output_type": "execute_result"
    },
    {
     "data": {
      "image/png": "[encoded data removed]",
      "text/plain": [
       "<Figure size 432x288 with 1 Axes>"
      ]
     },
     "metadata": {
      "needs_background": "light"
     },
     "output_type": "display_data"
    }
   ],
   "source": [
    "a = np.zeros((15,28))\n",
    "a[2:-2,1] = 1; a[2,2:6] = 1\n",
    "a[2:7,6] = 1; a[7:-2,7] = 1\n",
    "a[7,2:7] = 1; a[-3,2:7] = 1\n",
    "a[2:-2, 10] = 1; a[2:-2, 14] = 1;\n",
    "a[2:-2, 18] = 1; a[-3,10:19] = 1;\n",
    "a[2:-2, -2] = 1;\n",
    "a[2, 21:-2] = 1;\n",
    "a[7, 21:-2] = 1;\n",
    "a[-3, 21:-2] = 1;\n",
    "plt.imshow(a)"
   ]
  },
  {
   "cell_type": "code",
   "execution_count": 31,
   "id": "nervous-midnight",
   "metadata": {},
   "outputs": [],
   "source": [
    "U, E1, VT = np.linalg.svd(a)"
   ]
  },
  {
   "cell_type": "code",
   "execution_count": 33,
   "id": "patient-headline",
   "metadata": {},
   "outputs": [
    {
     "data": {
      "text/latex": [
       "$\\displaystyle \\left[\\begin{array}{ccccccccccccccc}8.65821174609727 & 0.0 & 0.0 & 0.0 & 0.0 & 0.0 & 0.0 & 0.0 & 0.0 & 0.0 & 0.0 & 0.0 & 0.0 & 0.0 & 0.0\\\\0.0 & 4.21505897870151 & 0.0 & 0.0 & 0.0 & 0.0 & 0.0 & 0.0 & 0.0 & 0.0 & 0.0 & 0.0 & 0.0 & 0.0 & 0.0\\\\0.0 & 0.0 & 2.18518482273649 & 0.0 & 0.0 & 0.0 & 0.0 & 0.0 & 0.0 & 0.0 & 0.0 & 0.0 & 0.0 & 0.0 & 0.0\\\\0.0 & 0.0 & 0.0 & 1.81299688988413 & 0.0 & 0.0 & 0.0 & 0.0 & 0.0 & 0.0 & 0.0 & 0.0 & 0.0 & 0.0 & 0.0\\\\0.0 & 0.0 & 0.0 & 0.0 & 0.45459513147802 & 0.0 & 0.0 & 0.0 & 0.0 & 0.0 & 0.0 & 0.0 & 0.0 & 0.0 & 0.0\\\\0.0 & 0.0 & 0.0 & 0.0 & 0.0 & 3.7823605297137 \\cdot 10^{-16} & 0.0 & 0.0 & 0.0 & 0.0 & 0.0 & 0.0 & 0.0 & 0.0 & 0.0\\\\0.0 & 0.0 & 0.0 & 0.0 & 0.0 & 0.0 & 3.1030859847133 \\cdot 10^{-16} & 0.0 & 0.0 & 0.0 & 0.0 & 0.0 & 0.0 & 0.0 & 0.0\\\\0.0 & 0.0 & 0.0 & 0.0 & 0.0 & 0.0 & 0.0 & 9.16479177631313 \\cdot 10^{-17} & 0.0 & 0.0 & 0.0 & 0.0 & 0.0 & 0.0 & 0.0\\\\0.0 & 0.0 & 0.0 & 0.0 & 0.0 & 0.0 & 0.0 & 0.0 & 4.22615578681617 \\cdot 10^{-32} & 0.0 & 0.0 & 0.0 & 0.0 & 0.0 & 0.0\\\\0.0 & 0.0 & 0.0 & 0.0 & 0.0 & 0.0 & 0.0 & 0.0 & 0.0 & 7.30290719882709 \\cdot 10^{-33} & 0.0 & 0.0 & 0.0 & 0.0 & 0.0\\\\0.0 & 0.0 & 0.0 & 0.0 & 0.0 & 0.0 & 0.0 & 0.0 & 0.0 & 0.0 & 1.87523163198682 \\cdot 10^{-48} & 0.0 & 0.0 & 0.0 & 0.0\\\\0.0 & 0.0 & 0.0 & 0.0 & 0.0 & 0.0 & 0.0 & 0.0 & 0.0 & 0.0 & 0.0 & 0.0 & 0.0 & 0.0 & 0.0\\\\0.0 & 0.0 & 0.0 & 0.0 & 0.0 & 0.0 & 0.0 & 0.0 & 0.0 & 0.0 & 0.0 & 0.0 & 0.0 & 0.0 & 0.0\\\\0.0 & 0.0 & 0.0 & 0.0 & 0.0 & 0.0 & 0.0 & 0.0 & 0.0 & 0.0 & 0.0 & 0.0 & 0.0 & 0.0 & 0.0\\\\0.0 & 0.0 & 0.0 & 0.0 & 0.0 & 0.0 & 0.0 & 0.0 & 0.0 & 0.0 & 0.0 & 0.0 & 0.0 & 0.0 & 0.0\\end{array}\\right]$"
      ],
      "text/plain": [
       "Matrix([\n",
       "[8.65821174609727,              0.0,              0.0,              0.0,              0.0,                 0.0,                 0.0,                  0.0,                  0.0,                  0.0,                  0.0, 0.0, 0.0, 0.0, 0.0],\n",
       "[             0.0, 4.21505897870151,              0.0,              0.0,              0.0,                 0.0,                 0.0,                  0.0,                  0.0,                  0.0,                  0.0, 0.0, 0.0, 0.0, 0.0],\n",
       "[             0.0,              0.0, 2.18518482273649,              0.0,              0.0,                 0.0,                 0.0,                  0.0,                  0.0,                  0.0,                  0.0, 0.0, 0.0, 0.0, 0.0],\n",
       "[             0.0,              0.0,              0.0, 1.81299688988413,              0.0,                 0.0,                 0.0,                  0.0,                  0.0,                  0.0,                  0.0, 0.0, 0.0, 0.0, 0.0],\n",
       "[             0.0,              0.0,              0.0,              0.0, 0.45459513147802,                 0.0,                 0.0,                  0.0,                  0.0,                  0.0,                  0.0, 0.0, 0.0, 0.0, 0.0],\n",
       "[             0.0,              0.0,              0.0,              0.0,              0.0, 3.7823605297137e-16,                 0.0,                  0.0,                  0.0,                  0.0,                  0.0, 0.0, 0.0, 0.0, 0.0],\n",
       "[             0.0,              0.0,              0.0,              0.0,              0.0,                 0.0, 3.1030859847133e-16,                  0.0,                  0.0,                  0.0,                  0.0, 0.0, 0.0, 0.0, 0.0],\n",
       "[             0.0,              0.0,              0.0,              0.0,              0.0,                 0.0,                 0.0, 9.16479177631313e-17,                  0.0,                  0.0,                  0.0, 0.0, 0.0, 0.0, 0.0],\n",
       "[             0.0,              0.0,              0.0,              0.0,              0.0,                 0.0,                 0.0,                  0.0, 4.22615578681617e-32,                  0.0,                  0.0, 0.0, 0.0, 0.0, 0.0],\n",
       "[             0.0,              0.0,              0.0,              0.0,              0.0,                 0.0,                 0.0,                  0.0,                  0.0, 7.30290719882709e-33,                  0.0, 0.0, 0.0, 0.0, 0.0],\n",
       "[             0.0,              0.0,              0.0,              0.0,              0.0,                 0.0,                 0.0,                  0.0,                  0.0,                  0.0, 1.87523163198682e-48, 0.0, 0.0, 0.0, 0.0],\n",
       "[             0.0,              0.0,              0.0,              0.0,              0.0,                 0.0,                 0.0,                  0.0,                  0.0,                  0.0,                  0.0, 0.0, 0.0, 0.0, 0.0],\n",
       "[             0.0,              0.0,              0.0,              0.0,              0.0,                 0.0,                 0.0,                  0.0,                  0.0,                  0.0,                  0.0, 0.0, 0.0, 0.0, 0.0],\n",
       "[             0.0,              0.0,              0.0,              0.0,              0.0,                 0.0,                 0.0,                  0.0,                  0.0,                  0.0,                  0.0, 0.0, 0.0, 0.0, 0.0],\n",
       "[             0.0,              0.0,              0.0,              0.0,              0.0,                 0.0,                 0.0,                  0.0,                  0.0,                  0.0,                  0.0, 0.0, 0.0, 0.0, 0.0]])"
      ]
     },
     "execution_count": 33,
     "metadata": {},
     "output_type": "execute_result"
    }
   ],
   "source": [
    "Matrix(np.diag(E1))"
   ]
  },
  {
   "cell_type": "markdown",
   "id": "accomplished-eugene",
   "metadata": {},
   "source": [
    "Ранг матрицы А - 5"
   ]
  },
  {
   "cell_type": "markdown",
   "id": "spiritual-aggregate",
   "metadata": {},
   "source": [
    "Воспользуемся теоремой Эркарта-Янга:\n",
    "\n",
    "Наиболее приближенная к искомой матрице A ранга 5 матрица B ранга k < 5 - матрица A_k, такая что:\n",
    "\n",
    "$A_k = \\sum_{i=1}^{k} \\sigma_{i} u_{i} v_{i}^{T}$"
   ]
  },
  {
   "cell_type": "code",
   "execution_count": 43,
   "id": "muslim-driving",
   "metadata": {},
   "outputs": [
    {
     "data": {
      "image/png": "[encoded data removed]",
      "text/plain": [
       "<Figure size 432x288 with 1 Axes>"
      ]
     },
     "metadata": {
      "needs_background": "light"
     },
     "output_type": "display_data"
    },
    {
     "data": {
      "image/png": "[encoded data removed]",
      "text/plain": [
       "<Figure size 432x288 with 1 Axes>"
      ]
     },
     "metadata": {
      "needs_background": "light"
     },
     "output_type": "display_data"
    },
    {
     "data": {
      "image/png": "[encoded data removed]",
      "text/plain": [
       "<Figure size 432x288 with 1 Axes>"
      ]
     },
     "metadata": {
      "needs_background": "light"
     },
     "output_type": "display_data"
    },
    {
     "data": {
      "image/png": "[encoded data removed]",
      "text/plain": [
       "<Figure size 432x288 with 1 Axes>"
      ]
     },
     "metadata": {
      "needs_background": "light"
     },
     "output_type": "display_data"
    },
    {
     "data": {
      "image/png": "[encoded data removed]",
      "text/plain": [
       "<Figure size 432x288 with 1 Axes>"
      ]
     },
     "metadata": {
      "needs_background": "light"
     },
     "output_type": "display_data"
    }
   ],
   "source": [
    "a_0 = np.zeros((15,28))\n",
    "for i in range(0,5):\n",
    "    a_0 += E1[i] * (U[:,i].reshape(15,1) @ VT[i].reshape(1,28))\n",
    "    plt.imshow(a_0)\n",
    "    plt.show()"
   ]
  },
  {
   "cell_type": "markdown",
   "id": "desperate-diving",
   "metadata": {},
   "source": [
    "# Задача II.14 (продолжение)"
   ]
  },
  {
   "cell_type": "code",
   "execution_count": 2,
   "id": "everyday-anxiety",
   "metadata": {},
   "outputs": [],
   "source": [
    "A = np.array([[9.5 - i for i in range(10)], [1 for i in range(10)]])"
   ]
  },
  {
   "cell_type": "code",
   "execution_count": 4,
   "id": "aging-barrel",
   "metadata": {},
   "outputs": [
    {
     "data": {
      "text/latex": [
       "$\\displaystyle \\left[\\begin{matrix}9.5 & 8.5 & 7.5 & 6.5 & 5.5 & 4.5 & 3.5 & 2.5 & 1.5 & 0.5\\\\1.0 & 1.0 & 1.0 & 1.0 & 1.0 & 1.0 & 1.0 & 1.0 & 1.0 & 1.0\\end{matrix}\\right]$"
      ],
      "text/plain": [
       "Matrix([\n",
       "[9.5, 8.5, 7.5, 6.5, 5.5, 4.5, 3.5, 2.5, 1.5, 0.5],\n",
       "[1.0, 1.0, 1.0, 1.0, 1.0, 1.0, 1.0, 1.0, 1.0, 1.0]])"
      ]
     },
     "execution_count": 4,
     "metadata": {},
     "output_type": "execute_result"
    }
   ],
   "source": [
    "Matrix(A)"
   ]
  },
  {
   "cell_type": "code",
   "execution_count": 5,
   "id": "engaged-amplifier",
   "metadata": {},
   "outputs": [],
   "source": [
    "U, E, VT = np.linalg.svd(A)"
   ]
  },
  {
   "cell_type": "code",
   "execution_count": 10,
   "id": "subject-import",
   "metadata": {},
   "outputs": [
    {
     "data": {
      "text/latex": [
       "$\\displaystyle \\left[\\begin{matrix}0.0542267090232122 & 0.0\\\\0.0 & 0.642036587103903\\\\0.0 & 0.0\\\\0.0 & 0.0\\\\0.0 & 0.0\\\\0.0 & 0.0\\\\0.0 & 0.0\\\\0.0 & 0.0\\\\0.0 & 0.0\\\\0.0 & 0.0\\end{matrix}\\right]$"
      ],
      "text/plain": [
       "Matrix([\n",
       "[0.0542267090232122,               0.0],\n",
       "[               0.0, 0.642036587103903],\n",
       "[               0.0,               0.0],\n",
       "[               0.0,               0.0],\n",
       "[               0.0,               0.0],\n",
       "[               0.0,               0.0],\n",
       "[               0.0,               0.0],\n",
       "[               0.0,               0.0],\n",
       "[               0.0,               0.0],\n",
       "[               0.0,               0.0]])"
      ]
     },
     "execution_count": 10,
     "metadata": {},
     "output_type": "execute_result"
    }
   ],
   "source": [
    "PsInv_E = np.zeros((len(VT), len(U)))\n",
    "PsInv_E[0:2,0:2] = np.diag(1/E)\n",
    "Matrix(PsInv_E)"
   ]
  },
  {
   "cell_type": "markdown",
   "id": "subject-intervention",
   "metadata": {},
   "source": [
    "$||f||_{2} -> min$\n",
    "\n",
    "$f_{min} = A^{p}b$\n",
    "\n",
    "$A^{p} = V \\times E^{p} \\times U^{T}$\n",
    "\n",
    "$E^{P} = diag(1/\\sigma_{1}, 1/\\sigma_{2},\\dots, 0, 0)$, $E_{ii} = 0$ if $\\sigma_{i} = 0$"
   ]
  },
  {
   "cell_type": "code",
   "execution_count": 19,
   "id": "smaller-connectivity",
   "metadata": {},
   "outputs": [],
   "source": [
    "a = np.array([1,0]).T\n",
    "f = VT.T @ PsInv_E @ U.T @ a"
   ]
  },
  {
   "cell_type": "code",
   "execution_count": 20,
   "id": "serial-generator",
   "metadata": {},
   "outputs": [
    {
     "data": {
      "text/latex": [
       "$\\displaystyle \\left[\\begin{matrix}0.0545454545454546\\\\0.0424242424242424\\\\0.0303030303030303\\\\0.0181818181818182\\\\0.00606060606060604\\\\-0.00606060606060606\\\\-0.0181818181818182\\\\-0.0303030303030303\\\\-0.0424242424242424\\\\-0.0545454545454545\\end{matrix}\\right]$"
      ],
      "text/plain": [
       "Matrix([\n",
       "[  0.0545454545454546],\n",
       "[  0.0424242424242424],\n",
       "[  0.0303030303030303],\n",
       "[  0.0181818181818182],\n",
       "[ 0.00606060606060604],\n",
       "[-0.00606060606060606],\n",
       "[ -0.0181818181818182],\n",
       "[ -0.0303030303030303],\n",
       "[ -0.0424242424242424],\n",
       "[ -0.0545454545454545]])"
      ]
     },
     "execution_count": 20,
     "metadata": {},
     "output_type": "execute_result"
    }
   ],
   "source": [
    "Matrix(f)"
   ]
  },
  {
   "cell_type": "code",
   "execution_count": 21,
   "id": "distant-highway",
   "metadata": {},
   "outputs": [
    {
     "data": {
      "text/latex": [
       "$\\displaystyle \\left[\\begin{matrix}1.0\\\\-2.77555756156289 \\cdot 10^{-17}\\end{matrix}\\right]$"
      ],
      "text/plain": [
       "Matrix([\n",
       "[                  1.0],\n",
       "[-2.77555756156289e-17]])"
      ]
     },
     "execution_count": 21,
     "metadata": {},
     "output_type": "execute_result"
    }
   ],
   "source": [
    "Matrix(A @ f.reshape(len(f), 1))"
   ]
  },
  {
   "cell_type": "code",
   "execution_count": 22,
   "id": "collaborative-notice",
   "metadata": {},
   "outputs": [
    {
     "data": {
      "text/plain": [
       "0.11009637651263605"
      ]
     },
     "execution_count": 22,
     "metadata": {},
     "output_type": "execute_result"
    }
   ],
   "source": [
    "np.linalg.norm(f)"
   ]
  },
  {
   "cell_type": "markdown",
   "id": "chicken-tenant",
   "metadata": {},
   "source": [
    "# Задача II.15"
   ]
  },
  {
   "cell_type": "code",
   "execution_count": 24,
   "id": "virgin-bruce",
   "metadata": {},
   "outputs": [
    {
     "data": {
      "text/latex": [
       "$\\displaystyle \\left[\\begin{matrix}1.0 & 0.9 & 0.7\\\\0.9 & 1.0 & 0.4\\\\0.7 & 0.4 & 1.0\\end{matrix}\\right]$"
      ],
      "text/plain": [
       "Matrix([\n",
       "[1.0, 0.9, 0.7],\n",
       "[0.9, 1.0, 0.4],\n",
       "[0.7, 0.4, 1.0]])"
      ]
     },
     "execution_count": 24,
     "metadata": {},
     "output_type": "execute_result"
    }
   ],
   "source": [
    "C = np.eye(3)\n",
    "C[0,1] = 0.9; C[1,0] = 0.9\n",
    "C[0,2] = 0.7; C[2,0] = 0.7\n",
    "C[1,2] = 0.4; C[2,1] = 0.4\n",
    "Matrix(C)"
   ]
  },
  {
   "cell_type": "code",
   "execution_count": 27,
   "id": "nutritional-engineering",
   "metadata": {},
   "outputs": [
    {
     "data": {
      "text/plain": [
       "array([2.35363603, 0.03034736, 0.6160166 ])"
      ]
     },
     "execution_count": 27,
     "metadata": {},
     "output_type": "execute_result"
    }
   ],
   "source": [
    "lambdas, s_i = np.linalg.eig(C)\n",
    "lambdas"
   ]
  },
  {
   "cell_type": "code",
   "execution_count": 29,
   "id": "green-facility",
   "metadata": {},
   "outputs": [
    {
     "data": {
      "text/latex": [
       "$\\displaystyle \\left[\\begin{matrix}1.0 & 0.9 & 0.7\\\\0.9 & 1.0 & 0.3\\\\0.7 & 0.3 & 1.0\\end{matrix}\\right]$"
      ],
      "text/plain": [
       "Matrix([\n",
       "[1.0, 0.9, 0.7],\n",
       "[0.9, 1.0, 0.3],\n",
       "[0.7, 0.3, 1.0]])"
      ]
     },
     "execution_count": 29,
     "metadata": {},
     "output_type": "execute_result"
    }
   ],
   "source": [
    "C1 = C.copy()\n",
    "C1[1,2] = 0.3\n",
    "C1[2,1] = 0.3\n",
    "Matrix(C1)"
   ]
  },
  {
   "cell_type": "code",
   "execution_count": 71,
   "id": "remarkable-spoke",
   "metadata": {},
   "outputs": [
    {
     "data": {
      "text/latex": [
       "$\\displaystyle \\left[\\begin{matrix}2.29672779250086\\\\-0.00735243940589657\\\\0.710624646905036\\end{matrix}\\right]$"
      ],
      "text/plain": [
       "Matrix([\n",
       "[    2.29672779250086],\n",
       "[-0.00735243940589657],\n",
       "[   0.710624646905036]])"
      ]
     },
     "execution_count": 71,
     "metadata": {},
     "output_type": "execute_result"
    }
   ],
   "source": [
    "lambdas, s_i = np.linalg.eig(C1)\n",
    "Matrix(lambdas)"
   ]
  },
  {
   "cell_type": "code",
   "execution_count": 72,
   "id": "public-particular",
   "metadata": {},
   "outputs": [
    {
     "data": {
      "text/latex": [
       "$\\displaystyle \\left[\\begin{matrix}0.659916844979967 & 0.747670382924799 & -0.0741535987580563\\\\0.570995981829225 & -0.563217098366739 & -0.597285600732372\\\\0.488337328541005 & -0.351817422258245 & 0.798593234975728\\end{matrix}\\right]$"
      ],
      "text/plain": [
       "Matrix([\n",
       "[0.659916844979967,  0.747670382924799, -0.0741535987580563],\n",
       "[0.570995981829225, -0.563217098366739,  -0.597285600732372],\n",
       "[0.488337328541005, -0.351817422258245,   0.798593234975728]])"
      ]
     },
     "execution_count": 72,
     "metadata": {},
     "output_type": "execute_result"
    }
   ],
   "source": [
    "Matrix(s_i)"
   ]
  },
  {
   "cell_type": "code",
   "execution_count": 73,
   "id": "worst-consensus",
   "metadata": {},
   "outputs": [
    {
     "data": {
      "text/plain": [
       "array([2.29672779, 0.        , 0.71062465])"
      ]
     },
     "execution_count": 73,
     "metadata": {},
     "output_type": "execute_result"
    }
   ],
   "source": [
    "lambdas[lambdas < 0] = 0\n",
    "lambdas"
   ]
  },
  {
   "cell_type": "code",
   "execution_count": 74,
   "id": "minus-chemical",
   "metadata": {},
   "outputs": [
    {
     "data": {
      "text/latex": [
       "$\\displaystyle \\left[\\begin{matrix}1.51564935860497 & 0.0 & -0.0526953749341815\\\\1.3114223408735 & 0.0 & -0.424445869121904\\\\1.12157791457575 & 0.0 & 0.567500035625377\\end{matrix}\\right]$"
      ],
      "text/plain": [
       "Matrix([\n",
       "[1.51564935860497, 0.0, -0.0526953749341815],\n",
       "[ 1.3114223408735, 0.0,  -0.424445869121904],\n",
       "[1.12157791457575, 0.0,   0.567500035625377]])"
      ]
     },
     "execution_count": 74,
     "metadata": {},
     "output_type": "execute_result"
    }
   ],
   "source": [
    "B_not_norm = s_i * lambdas\n",
    "Matrix(B_not_norm)"
   ]
  },
  {
   "cell_type": "code",
   "execution_count": 75,
   "id": "serious-condition",
   "metadata": {},
   "outputs": [],
   "source": [
    "B = (B_not_norm.T / np.linalg.norm(B_not_norm, axis=1)).T"
   ]
  },
  {
   "cell_type": "code",
   "execution_count": 79,
   "id": "attached-freedom",
   "metadata": {},
   "outputs": [
    {
     "data": {
      "text/plain": [
       "array([1., 1., 1.])"
      ]
     },
     "execution_count": 79,
     "metadata": {},
     "output_type": "execute_result"
    }
   ],
   "source": [
    "np.linalg.norm(B, axis=1)"
   ]
  },
  {
   "cell_type": "code",
   "execution_count": 77,
   "id": "bridal-waterproof",
   "metadata": {},
   "outputs": [
    {
     "data": {
      "text/latex": [
       "$\\displaystyle \\left[\\begin{matrix}0.999396157029494 & 0.0 & -0.0347465295343255\\\\0.95141005555097 & 0.0 & -0.307926787072025\\\\0.892281369063001 & 0.0 & 0.451479743092707\\end{matrix}\\right]$"
      ],
      "text/plain": [
       "Matrix([\n",
       "[0.999396157029494, 0.0, -0.0347465295343255],\n",
       "[ 0.95141005555097, 0.0,  -0.307926787072025],\n",
       "[0.892281369063001, 0.0,   0.451479743092707]])"
      ]
     },
     "execution_count": 77,
     "metadata": {},
     "output_type": "execute_result"
    }
   ],
   "source": [
    "Matrix(B)"
   ]
  },
  {
   "cell_type": "code",
   "execution_count": 80,
   "id": "conservative-lebanon",
   "metadata": {},
   "outputs": [],
   "source": [
    "C1_new = B @ B.T"
   ]
  },
  {
   "cell_type": "code",
   "execution_count": 81,
   "id": "relative-loading",
   "metadata": {},
   "outputs": [
    {
     "data": {
      "text/latex": [
       "$\\displaystyle \\left[\\begin{matrix}1.0 & 0.961534940478264 & 0.876055217003058\\\\0.961534940478264 & 1.0 & 0.709902760188684\\\\0.876055217003058 & 0.709902760188684 & 1.0\\end{matrix}\\right]$"
      ],
      "text/plain": [
       "Matrix([\n",
       "[              1.0, 0.961534940478264, 0.876055217003058],\n",
       "[0.961534940478264,               1.0, 0.709902760188684],\n",
       "[0.876055217003058, 0.709902760188684,               1.0]])"
      ]
     },
     "execution_count": 81,
     "metadata": {},
     "output_type": "execute_result"
    }
   ],
   "source": [
    "Matrix(C1_new)"
   ]
  },
  {
   "cell_type": "code",
   "execution_count": 82,
   "id": "champion-combining",
   "metadata": {},
   "outputs": [
    {
     "data": {
      "text/plain": [
       "array([-0.        ,  0.93531748,  0.51555842])"
      ]
     },
     "execution_count": 82,
     "metadata": {},
     "output_type": "execute_result"
    }
   ],
   "source": [
    "w, _ = np.linalg.eig(B)\n",
    "w"
   ]
  },
  {
   "cell_type": "markdown",
   "id": "economic-secondary",
   "metadata": {},
   "source": [
    "Доказательство, что свойства неотрицательно определённости и единиц на диагонали действует всегда:\n",
    "\n",
    "1) Собственные значения B и B.T - неотрицательные, следовательно, произведение таких матриц так же будет неотрицательно определённым\n",
    "2) Нормировка строк матрицы B значит, что диагональные элементы (B @ B.T) = норме строк B = 1"
   ]
  },
  {
   "cell_type": "code",
   "execution_count": null,
   "id": "artistic-bachelor",
   "metadata": {},
   "outputs": [],
   "source": []
  }
 ],
 "metadata": {
  "kernelspec": {
   "display_name": "Python 3",
   "language": "python",
   "name": "python3"
  },
  "language_info": {
   "codemirror_mode": {
    "name": "ipython",
    "version": 3
   },
   "file_extension": ".py",
   "mimetype": "text/x-python",
   "name": "python",
   "nbconvert_exporter": "python",
   "pygments_lexer": "ipython3",
   "version": "3.8.5"
  }
 },
 "nbformat": 4,
 "nbformat_minor": 5
}
