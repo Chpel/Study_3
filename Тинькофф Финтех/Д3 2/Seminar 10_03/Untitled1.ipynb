{
 "cells": [
  {
   "cell_type": "code",
   "execution_count": 1,
   "id": "outstanding-county",
   "metadata": {},
   "outputs": [],
   "source": [
    "import numpy as np\n",
    "import matplotlib.pyplot as plt"
   ]
  },
  {
   "cell_type": "code",
   "execution_count": 10,
   "id": "wrong-shame",
   "metadata": {},
   "outputs": [
    {
     "data": {
      "text/plain": [
       "array([-0.33333333,  0.        ,  0.33333333])"
      ]
     },
     "execution_count": 10,
     "metadata": {},
     "output_type": "execute_result"
    }
   ],
   "source": []
  },
  {
   "cell_type": "code",
   "execution_count": 41,
   "id": "monetary-oklahoma",
   "metadata": {},
   "outputs": [
    {
     "data": {
      "image/png": "[encoded data removed]",
      "text/plain": [
       "<Figure size 432x288 with 1 Axes>"
      ]
     },
     "metadata": {
      "needs_background": "light"
     },
     "output_type": "display_data"
    }
   ],
   "source": [
    "n = 3\n",
    "a = np.linspace(-0.5 + 0.5 / n, 0.5 - 0.5 / n, n)\n",
    "aa = np.meshgrid(a,a)\n",
    "plt.scatter(aa[0],aa[1])\n",
    "plt.xlim(-0.5,0.5)\n",
    "plt.ylim(-0.5, 0.5)\n",
    "plt.xticks(np.linspace(-0.5,0.5, n+1))\n",
    "plt.yticks(np.linspace(-0.5,0.5, n+1))\n",
    "plt.grid()"
   ]
  },
  {
   "cell_type": "code",
   "execution_count": 5,
   "id": "adult-jason",
   "metadata": {},
   "outputs": [
    {
     "data": {
      "text/plain": [
       "array([[-0.33333333, -0.33333333],\n",
       "       [ 0.        , -0.33333333],\n",
       "       [ 0.33333333, -0.33333333],\n",
       "       [-0.33333333,  0.        ],\n",
       "       [ 0.        ,  0.        ],\n",
       "       [ 0.33333333,  0.        ],\n",
       "       [-0.33333333,  0.33333333],\n",
       "       [ 0.        ,  0.33333333],\n",
       "       [ 0.33333333,  0.33333333]])"
      ]
     },
     "execution_count": 5,
     "metadata": {},
     "output_type": "execute_result"
    }
   ],
   "source": [
    "n = 3\n",
    "a = np.linspace(-0.5 + 0.5 / n, 0.5 - 0.5 / n, n)\n",
    "aa = np.meshgrid(a,a)\n",
    "np.array([aa[0].flatten(), aa[1].flatten()]).T"
   ]
  },
  {
   "cell_type": "code",
   "execution_count": 48,
   "id": "eligible-wrist",
   "metadata": {},
   "outputs": [
    {
     "data": {
      "text/plain": [
       "[array([[-0.33333333,  0.        ,  0.33333333]]),\n",
       " array([[-0.33333333],\n",
       "        [ 0.        ],\n",
       "        [ 0.33333333]])]"
      ]
     },
     "execution_count": 48,
     "metadata": {},
     "output_type": "execute_result"
    }
   ],
   "source": [
    "aa = np.meshgrid(a,a, sparse=True)\n",
    "aa"
   ]
  },
  {
   "cell_type": "code",
   "execution_count": 39,
   "id": "liked-nancy",
   "metadata": {},
   "outputs": [
    {
     "data": {
      "text/plain": [
       "[array([[-0.25,  0.25],\n",
       "        [-0.25,  0.25]]),\n",
       " array([[-0.25, -0.25],\n",
       "        [ 0.25,  0.25]])]"
      ]
     },
     "execution_count": 39,
     "metadata": {},
     "output_type": "execute_result"
    }
   ],
   "source": [
    "aa"
   ]
  },
  {
   "cell_type": "code",
   "execution_count": null,
   "id": "recorded-albert",
   "metadata": {},
   "outputs": [],
   "source": []
  }
 ],
 "metadata": {
  "kernelspec": {
   "display_name": "Python 3",
   "language": "python",
   "name": "python3"
  },
  "language_info": {
   "codemirror_mode": {
    "name": "ipython",
    "version": 3
   },
   "file_extension": ".py",
   "mimetype": "text/x-python",
   "name": "python",
   "nbconvert_exporter": "python",
   "pygments_lexer": "ipython3",
   "version": "3.8.5"
  }
 },
 "nbformat": 4,
 "nbformat_minor": 5
}
