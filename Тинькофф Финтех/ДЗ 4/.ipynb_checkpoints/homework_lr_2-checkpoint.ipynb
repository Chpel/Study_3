{
 "cells": [
  {
   "cell_type": "markdown",
   "metadata": {},
   "source": [
    "# Альтернативный подход к задачам мультиклассовой классификации:\n",
    "\n",
    "Вместо того, чтобы предсказывать таргет напрямую, мы можем закодировать таргет в двоичном коде и предсказывать каждый бит по отдельности.\n",
    "\n",
    "Тогда нам понадобится всего $~ \\text{log}_2(L + 1)$ классификаторов на L + 1 класс.\n",
    "\n",
    "Попробуем обучить набор таких логрегов и сравнить качество полученного классификатора с мультиномиальной и OvR регрессиями."
   ]
  },
  {
   "cell_type": "code",
   "execution_count": 1,
   "metadata": {},
   "outputs": [],
   "source": [
    "# импорт базовых библиотек\n",
    "import pandas as pd\n",
    "import numpy as np\n",
    "import matplotlib.pyplot as plt\n",
    "import seaborn as sns\n",
    "sns.set();\n",
    "import scipy.stats as sps"
   ]
  },
  {
   "cell_type": "markdown",
   "metadata": {},
   "source": [
    "#### Шаг 0: импорт и препроцессинг данных"
   ]
  },
  {
   "cell_type": "code",
   "execution_count": 2,
   "metadata": {},
   "outputs": [
    {
     "name": "stdout",
     "output_type": "stream",
     "text": [
      "Wall time: 1min 33s\n"
     ]
    }
   ],
   "source": [
    "%%time\n",
    "# выгружаем датасет\n",
    "from sklearn.datasets import fetch_openml\n",
    "mnist = fetch_openml(data_id=554) # https://www.openml.org/d/554\n",
    "# генерируем сегментирующую случайную переменую\n",
    "rn = pd.Series(sps.randint.rvs(1, 101, size = len(mnist.data), random_state = 42))\n",
    "# разбиваем на трейн/валидацию/тест\n",
    "X = mnist.data\n",
    "y = mnist.target\n",
    "train_mask, val_mask, test_mask = (rn <= 60), ((rn > 60) & (rn <= 70)), (rn > 70)\n",
    "X_train, y_train, X_test, y_test, X_val, y_val = X[train_mask], y[train_mask], X[test_mask], y[test_mask], X[val_mask], y[val_mask]"
   ]
  },
  {
   "cell_type": "code",
   "execution_count": 3,
   "metadata": {},
   "outputs": [],
   "source": [
    "# нормируем данные\n",
    "from sklearn.preprocessing import StandardScaler\n",
    "scaler = StandardScaler()\n",
    "X_train = scaler.fit_transform(X_train)\n",
    "X_val = scaler.transform(X_val)\n",
    "X_test = scaler.transform(X_test)"
   ]
  },
  {
   "cell_type": "markdown",
   "metadata": {},
   "source": [
    "#### Шаг 1: учим классификаторы с семинара"
   ]
  },
  {
   "cell_type": "markdown",
   "metadata": {},
   "source": [
    "Вообще говоря, мы можем научить классификаторы с базовыми гиперпараметрами -- на семинаре мы видели, что они показывают на нашей задаче неплохое качество, но ведь нет предела совершенству -- давайте подберём какие-нибудь гиперпараметры для логрега (список можно посмотреть тут: https://scikit-learn.org/stable/modules/generated/sklearn.linear_model.LogisticRegression.html)"
   ]
  },
  {
   "cell_type": "markdown",
   "metadata": {},
   "source": [
    "#### Автоматизировать подбор гиперпараметров , как правило, удобнее -- ручной подбор предпочтителен для понимания, что и как влияет на качество моделей, но обычно занимает слишком много времени и сил без каких-либо преимуществ над автоматическим отбором"
   ]
  },
  {
   "cell_type": "markdown",
   "metadata": {},
   "source": [
    "Реализуем функцию grid_search, которая будет делать следующее: принимая обучающую и валидационную выборки, функция обучает набор из классификаторов со всевозможными комбинациями гиперпараметров (предварительно указанных нами для перебора в словаре) и выбирает из них тот, чьё качество по целевой метрике на валидационной выборке оказывается наилучшим."
   ]
  },
  {
   "cell_type": "markdown",
   "metadata": {},
   "source": [
    "$\\textbf{Вопрос для размышления:}$ можно ли тут попробовать \"встроить\" защиту от переобучения?"
   ]
  },
  {
   "cell_type": "code",
   "execution_count": 19,
   "metadata": {},
   "outputs": [
    {
     "name": "stderr",
     "output_type": "stream",
     "text": [
      "C:\\Users\\user\\miniconda3\\lib\\site-packages\\ipykernel\\ipkernel.py:283: DeprecationWarning: `should_run_async` will not call `transform_cell` automatically in the future. Please pass the result to `transformed_cell` argument and any exception that happen during thetransform in `preprocessing_exc_tuple` in IPython 7.17 and above.\n",
      "  and should_run_async(code)\n"
     ]
    }
   ],
   "source": [
    "#реализуем функцию для подбора гиперпараметров модели\n",
    "#для перехода от словаря параметров к списку комбинаций может быть полезен sklearn.model_selection.ParameterGrid\n",
    "from sklearn.model_selection import ParameterGrid\n",
    "from sklearn.linear_model import LogisticRegression\n",
    "from IPython.display import clear_output\n",
    "\n",
    "def grid_search(X_train,\n",
    "                X_val,\n",
    "                y_train,\n",
    "                y_val,\n",
    "                params_dict):\n",
    "    '''\n",
    "    Функция подбирает гиперпараметры мультиномиальной логитиеской регрессии для получения максимального значения accuracy\n",
    "    на валидационной выборке, принимает:\n",
    "    X_train -- DataFrame независимых переменных на обучающей выборке\n",
    "    X_val -- DataFrame независимых переменных на валидационной выборке\n",
    "    y_train -- Series таргета на обучающей выборке\n",
    "    y_val -- Series таргета на валидационной выборке\n",
    "    params_dict -- словарь гиперпараметров в формате {'paramater_nm':[value_1, value_2, ...]}\n",
    "    '''\n",
    "    grid_of_pars = ParameterGrid(params_dict)\n",
    "    length = len(grid_of_pars)\n",
    "    grid_of_scores = np.zeros(length)\n",
    "    for i,par_set in enumerate(grid_of_pars):\n",
    "        print(f'par_set №{i} of {length}: {par_set}')\n",
    "        LogReg = LogisticRegression(penalty=par_set['penalty'],\n",
    "                                    max_iter=par_set['m_i'],\n",
    "                                    C=par_set['C'],\n",
    "                                    multi_class=par_set['m_c'])\n",
    "        LogReg.fit(X_train, y_train)\n",
    "        score = LogReg.score(X_val, y_val)\n",
    "        grid_of_scores[i] = score\n",
    "    best_model = grid_of_pars[np.argmax(grid_of_scores)]\n",
    "    return(best_model) #ну или best_parameters, если вдруг так интереснее"
   ]
  },
  {
   "cell_type": "code",
   "execution_count": null,
   "metadata": {},
   "outputs": [],
   "source": [
    "import warnings\n",
    "warnings.filterwarnings('default')\n",
    "\n",
    "LogReg_parameters = {'penalty': ['none', 'l1', 'l2'], \n",
    "                     'm_i': [500, 1000],\n",
    "                     'm_c': ['ovr', 'multinomial'],\n",
    "                     'C': [0.1, 1, 5, 10]}\n",
    "grid_search(X_train, X_val, y_train, y_val, LogReg_parameters)"
   ]
  },
  {
   "cell_type": "code",
   "execution_count": 85,
   "metadata": {},
   "outputs": [
    {
     "data": {
      "text/plain": [
       "LogisticRegression(C=0.1, max_iter=5000, multi_class='ovr')"
      ]
     },
     "execution_count": 85,
     "metadata": {},
     "output_type": "execute_result"
    }
   ],
   "source": [
    "# тут обучаем свой классификатор -- можно просто .fit() без подбора параметров, можно -- с подбором\n",
    "clf = LogisticRegression(penalty='l2',\n",
    "                            max_iter=5000,\n",
    "                            C=0.1,\n",
    "                            multi_class='ovr')\n",
    "\n",
    "clf.fit(X_train, y_train)"
   ]
  },
  {
   "cell_type": "markdown",
   "metadata": {},
   "source": [
    "#### Шаг 2: бинаризуем таргет и учим классификаторы"
   ]
  },
  {
   "cell_type": "code",
   "execution_count": 24,
   "metadata": {},
   "outputs": [
    {
     "data": {
      "text/plain": [
       "['5', '4', '2', '3', '6', '1', '7', '9', '8', '0']\n",
       "Categories (10, object): ['5', '4', '2', '3', ..., '7', '9', '8', '0']"
      ]
     },
     "execution_count": 24,
     "metadata": {},
     "output_type": "execute_result"
    }
   ],
   "source": [
    "pd.unique(y_train)"
   ]
  },
  {
   "cell_type": "code",
   "execution_count": 30,
   "metadata": {},
   "outputs": [
    {
     "name": "stderr",
     "output_type": "stream",
     "text": [
      "C:\\Users\\user\\miniconda3\\lib\\site-packages\\ipykernel\\ipkernel.py:283: DeprecationWarning: `should_run_async` will not call `transform_cell` automatically in the future. Please pass the result to `transformed_cell` argument and any exception that happen during thetransform in `preprocessing_exc_tuple` in IPython 7.17 and above.\n",
      "  and should_run_async(code)\n"
     ]
    },
    {
     "data": {
      "text/html": [
       "<div>\n",
       "<style scoped>\n",
       "    .dataframe tbody tr th:only-of-type {\n",
       "        vertical-align: middle;\n",
       "    }\n",
       "\n",
       "    .dataframe tbody tr th {\n",
       "        vertical-align: top;\n",
       "    }\n",
       "\n",
       "    .dataframe thead th {\n",
       "        text-align: right;\n",
       "    }\n",
       "</style>\n",
       "<table border=\"1\" class=\"dataframe\">\n",
       "  <thead>\n",
       "    <tr style=\"text-align: right;\">\n",
       "      <th></th>\n",
       "      <th>num</th>\n",
       "    </tr>\n",
       "  </thead>\n",
       "  <tbody>\n",
       "    <tr>\n",
       "      <th>0</th>\n",
       "      <td>0</td>\n",
       "    </tr>\n",
       "    <tr>\n",
       "      <th>1</th>\n",
       "      <td>5</td>\n",
       "    </tr>\n",
       "    <tr>\n",
       "      <th>2</th>\n",
       "      <td>10</td>\n",
       "    </tr>\n",
       "    <tr>\n",
       "      <th>3</th>\n",
       "      <td>15</td>\n",
       "    </tr>\n",
       "    <tr>\n",
       "      <th>4</th>\n",
       "      <td>20</td>\n",
       "    </tr>\n",
       "    <tr>\n",
       "      <th>...</th>\n",
       "      <td>...</td>\n",
       "    </tr>\n",
       "    <tr>\n",
       "      <th>95</th>\n",
       "      <td>475</td>\n",
       "    </tr>\n",
       "    <tr>\n",
       "      <th>96</th>\n",
       "      <td>480</td>\n",
       "    </tr>\n",
       "    <tr>\n",
       "      <th>97</th>\n",
       "      <td>485</td>\n",
       "    </tr>\n",
       "    <tr>\n",
       "      <th>98</th>\n",
       "      <td>490</td>\n",
       "    </tr>\n",
       "    <tr>\n",
       "      <th>99</th>\n",
       "      <td>495</td>\n",
       "    </tr>\n",
       "  </tbody>\n",
       "</table>\n",
       "<p>100 rows × 1 columns</p>\n",
       "</div>"
      ],
      "text/plain": [
       "    num\n",
       "0     0\n",
       "1     5\n",
       "2    10\n",
       "3    15\n",
       "4    20\n",
       "..  ...\n",
       "95  475\n",
       "96  480\n",
       "97  485\n",
       "98  490\n",
       "99  495\n",
       "\n",
       "[100 rows x 1 columns]"
      ]
     },
     "execution_count": 30,
     "metadata": {},
     "output_type": "execute_result"
    }
   ],
   "source": [
    "data = pd.DataFrame(index=range(100))\n",
    "data['num'] = [5*i for i in range(100)]\n",
    "data"
   ]
  },
  {
   "cell_type": "markdown",
   "metadata": {},
   "source": [
    "10 классов => Log_2 (10) $\\approx$ 4 столбца"
   ]
  },
  {
   "cell_type": "code",
   "execution_count": 60,
   "metadata": {},
   "outputs": [],
   "source": [
    "def make_binary_predictors(y):\n",
    "    '''\n",
    "    Функция принимает Series y c категориальной переменной и делает DataFrame с [log_2(L+1)] столбцами из 0 и 1\n",
    "    \n",
    "    подсказка: в нашем конкретном случае можно переводить десятичное число в двоичное \n",
    "    '''\n",
    "    cols = 4\n",
    "    len_y = len(y)\n",
    "    bin_data = np.zeros((len_y, cols), dtype=int)\n",
    "    for i, y0 in enumerate(y):\n",
    "        bin_object = np.binary_repr(int(y0), width=4)\n",
    "        for j in range(cols):\n",
    "            bin_data[i][j] = int(bin_object[j])\n",
    "    targets = pd.DataFrame(data=bin_data, columns=list(map(str, range(cols-1,-1,-1))))\n",
    "    return(targets)\n",
    "\n",
    "y_train_b = make_binary_predictors(y_train)\n",
    "y_val_b = make_binary_predictors(y_val)\n",
    "y_test_b = make_binary_predictors(y_test)"
   ]
  },
  {
   "cell_type": "code",
   "execution_count": 63,
   "metadata": {},
   "outputs": [
    {
     "data": {
      "text/plain": [
       "Index(['2', '1', '0'], dtype='object')"
      ]
     },
     "execution_count": 63,
     "metadata": {},
     "output_type": "execute_result"
    }
   ],
   "source": [
    "y_train_b.columns[1:]"
   ]
  },
  {
   "cell_type": "code",
   "execution_count": 89,
   "metadata": {},
   "outputs": [
    {
     "name": "stderr",
     "output_type": "stream",
     "text": [
      "C:\\Users\\user\\miniconda3\\lib\\site-packages\\ipykernel\\ipkernel.py:283: DeprecationWarning: `should_run_async` will not call `transform_cell` automatically in the future. Please pass the result to `transformed_cell` argument and any exception that happen during thetransform in `preprocessing_exc_tuple` in IPython 7.17 and above.\n",
      "  and should_run_async(code)\n"
     ]
    }
   ],
   "source": [
    "class BinarisedTargetClassifier():\n",
    "    '''\n",
    "    класс BinarisedTargetClassifier -- мультиклассовый классификатор на основании нескольких бинарных логистических регрессий\n",
    "    '''\n",
    "    def __init__(self):\n",
    "        self.models = [LogisticRegression(max_iter=5000, C=0.5) for i in range(4)]\n",
    "    \n",
    "    def fit(self,X_train, y_train):\n",
    "        for col in y_train.columns:\n",
    "            self.models[int(col)].fit(X_train, y_train[col])\n",
    "            \n",
    "    def predict(self, X):\n",
    "        i = 0\n",
    "        predict = 2 ** i * self.models[i].predict(X)\n",
    "        for i in range(1,4):\n",
    "            predict += 2 ** i * self.models[i].predict(X)\n",
    "        return list(map(str, predict))\n",
    "    \n",
    "    def predict_score(self, X): #(без него не построить AUC, но в целом обойтись можно)\n",
    "        pass"
   ]
  },
  {
   "cell_type": "code",
   "execution_count": 90,
   "metadata": {},
   "outputs": [],
   "source": [
    "#учим созданный классификатор\n",
    "from sklearn.metrics import accuracy_score\n",
    "\n",
    "clf_bin = BinarisedTargetClassifier()\n",
    "#обучаем\n",
    "clf_bin.fit(X_train, y_train_b)\n",
    "#предсказываем класс, считаем accuracy\n",
    "y_pred = clf_bin.predict(X_test)\n",
    "accuracy_bin = accuracy_score(y_test, y_pred)\n",
    "#предсказываем вероятность, считаем AUC\n",
    "score_bin = clf_bin.predict_score(X_test)\n",
    "#auc_bin = roc_auc_score(y_test, score_bin, average='macro', multi_class = 'ovr')"
   ]
  },
  {
   "cell_type": "markdown",
   "metadata": {},
   "source": [
    "#### Шаг 3: сравнение качества полученных классификаторов"
   ]
  },
  {
   "cell_type": "code",
   "execution_count": 92,
   "metadata": {},
   "outputs": [
    {
     "name": "stderr",
     "output_type": "stream",
     "text": [
      "C:\\Users\\user\\miniconda3\\lib\\site-packages\\ipykernel\\ipkernel.py:283: DeprecationWarning: `should_run_async` will not call `transform_cell` automatically in the future. Please pass the result to `transformed_cell` argument and any exception that happen during thetransform in `preprocessing_exc_tuple` in IPython 7.17 and above.\n",
      "  and should_run_async(code)\n"
     ]
    }
   ],
   "source": [
    "accuracy_test = clf.score(X_test, y_test)\n",
    "y_score = clf.predict_proba(X_test)\n",
    "#auc_test = roc_auc_score(y_test, y_score, average='macro', multi_class = 'ovr')"
   ]
  },
  {
   "cell_type": "code",
   "execution_count": 93,
   "metadata": {},
   "outputs": [
    {
     "name": "stderr",
     "output_type": "stream",
     "text": [
      "C:\\Users\\user\\miniconda3\\lib\\site-packages\\ipykernel\\ipkernel.py:283: DeprecationWarning: `should_run_async` will not call `transform_cell` automatically in the future. Please pass the result to `transformed_cell` argument and any exception that happen during thetransform in `preprocessing_exc_tuple` in IPython 7.17 and above.\n",
      "  and should_run_async(code)\n"
     ]
    },
    {
     "data": {
      "text/html": [
       "<div>\n",
       "<style scoped>\n",
       "    .dataframe tbody tr th:only-of-type {\n",
       "        vertical-align: middle;\n",
       "    }\n",
       "\n",
       "    .dataframe tbody tr th {\n",
       "        vertical-align: top;\n",
       "    }\n",
       "\n",
       "    .dataframe thead th {\n",
       "        text-align: right;\n",
       "    }\n",
       "</style>\n",
       "<table border=\"1\" class=\"dataframe\">\n",
       "  <thead>\n",
       "    <tr style=\"text-align: right;\">\n",
       "      <th></th>\n",
       "      <th>regression_type</th>\n",
       "      <th>accuracy</th>\n",
       "    </tr>\n",
       "  </thead>\n",
       "  <tbody>\n",
       "    <tr>\n",
       "      <th>0</th>\n",
       "      <td>sample</td>\n",
       "      <td>0.914932</td>\n",
       "    </tr>\n",
       "    <tr>\n",
       "      <th>1</th>\n",
       "      <td>BinaryClass</td>\n",
       "      <td>0.712144</td>\n",
       "    </tr>\n",
       "  </tbody>\n",
       "</table>\n",
       "</div>"
      ],
      "text/plain": [
       "  regression_type  accuracy\n",
       "0          sample  0.914932\n",
       "1     BinaryClass  0.712144"
      ]
     },
     "execution_count": 93,
     "metadata": {},
     "output_type": "execute_result"
    }
   ],
   "source": [
    "res = pd.DataFrame(\n",
    "{'regression_type' : ['sample','BinaryClass'],\n",
    "'accuracy' : [accuracy_test,accuracy_bin]\n",
    "#,'macro AUC' : [auc_test,auc_bin]\n",
    "}\n",
    ")\n",
    "res"
   ]
  },
  {
   "cell_type": "markdown",
   "metadata": {},
   "source": [
    "$\\textbf{Вывод}:$"
   ]
  },
  {
   "cell_type": "markdown",
   "metadata": {},
   "source": [
    "One-Vs-Rest-алгоритм действует лучше Лог-бинаризации, т.к не зависит от порядка классов - например, во втором случае 1 в одном из разрядов будет обозначать принадлежность к нескольким классам, причём разряды разные по мощности множества соответствующих классов (4-й для 9-го и 10-го, 1-й для всех чётных)"
   ]
  },
  {
   "cell_type": "code",
   "execution_count": null,
   "metadata": {},
   "outputs": [],
   "source": []
  }
 ],
 "metadata": {
  "kernelspec": {
   "display_name": "Python 3",
   "language": "python",
   "name": "python3"
  },
  "language_info": {
   "codemirror_mode": {
    "name": "ipython",
    "version": 3
   },
   "file_extension": ".py",
   "mimetype": "text/x-python",
   "name": "python",
   "nbconvert_exporter": "python",
   "pygments_lexer": "ipython3",
   "version": "3.8.5"
  }
 },
 "nbformat": 4,
 "nbformat_minor": 4
}
