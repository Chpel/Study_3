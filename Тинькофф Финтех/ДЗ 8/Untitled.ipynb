{
 "cells": [
  {
   "cell_type": "code",
   "execution_count": 2,
   "id": "respiratory-sender",
   "metadata": {},
   "outputs": [],
   "source": [
    "import pandas as pd\n",
    "import numpy as np\n",
    "import matplotlib.pyplot as plt"
   ]
  },
  {
   "cell_type": "code",
   "execution_count": 3,
   "id": "sharing-botswana",
   "metadata": {},
   "outputs": [
    {
     "data": {
      "text/html": [
       "<div>\n",
       "<style scoped>\n",
       "    .dataframe tbody tr th:only-of-type {\n",
       "        vertical-align: middle;\n",
       "    }\n",
       "\n",
       "    .dataframe tbody tr th {\n",
       "        vertical-align: top;\n",
       "    }\n",
       "\n",
       "    .dataframe thead th {\n",
       "        text-align: right;\n",
       "    }\n",
       "</style>\n",
       "<table border=\"1\" class=\"dataframe\">\n",
       "  <thead>\n",
       "    <tr style=\"text-align: right;\">\n",
       "      <th></th>\n",
       "      <th>user_id</th>\n",
       "      <th>statement_num</th>\n",
       "      <th>my_pd_bucket</th>\n",
       "      <th>x_bucket</th>\n",
       "      <th>my_pd</th>\n",
       "      <th>x_score</th>\n",
       "    </tr>\n",
       "  </thead>\n",
       "  <tbody>\n",
       "    <tr>\n",
       "      <th>0</th>\n",
       "      <td>127336</td>\n",
       "      <td>19</td>\n",
       "      <td>2.0</td>\n",
       "      <td>2.0</td>\n",
       "      <td>0.074753</td>\n",
       "      <td>0.469410</td>\n",
       "    </tr>\n",
       "    <tr>\n",
       "      <th>1</th>\n",
       "      <td>35907</td>\n",
       "      <td>16</td>\n",
       "      <td>1.0</td>\n",
       "      <td>0.0</td>\n",
       "      <td>0.058043</td>\n",
       "      <td>0.157215</td>\n",
       "    </tr>\n",
       "    <tr>\n",
       "      <th>2</th>\n",
       "      <td>45228</td>\n",
       "      <td>21</td>\n",
       "      <td>1.0</td>\n",
       "      <td>2.0</td>\n",
       "      <td>0.059475</td>\n",
       "      <td>0.469583</td>\n",
       "    </tr>\n",
       "    <tr>\n",
       "      <th>3</th>\n",
       "      <td>39035</td>\n",
       "      <td>23</td>\n",
       "      <td>0.0</td>\n",
       "      <td>1.0</td>\n",
       "      <td>0.033255</td>\n",
       "      <td>0.210896</td>\n",
       "    </tr>\n",
       "    <tr>\n",
       "      <th>4</th>\n",
       "      <td>130780</td>\n",
       "      <td>19</td>\n",
       "      <td>1.0</td>\n",
       "      <td>1.0</td>\n",
       "      <td>0.046993</td>\n",
       "      <td>0.269492</td>\n",
       "    </tr>\n",
       "    <tr>\n",
       "      <th>...</th>\n",
       "      <td>...</td>\n",
       "      <td>...</td>\n",
       "      <td>...</td>\n",
       "      <td>...</td>\n",
       "      <td>...</td>\n",
       "      <td>...</td>\n",
       "    </tr>\n",
       "    <tr>\n",
       "      <th>2538699</th>\n",
       "      <td>64006</td>\n",
       "      <td>19</td>\n",
       "      <td>1.0</td>\n",
       "      <td>1.0</td>\n",
       "      <td>0.066447</td>\n",
       "      <td>0.188233</td>\n",
       "    </tr>\n",
       "    <tr>\n",
       "      <th>2538700</th>\n",
       "      <td>138666</td>\n",
       "      <td>21</td>\n",
       "      <td>0.0</td>\n",
       "      <td>1.0</td>\n",
       "      <td>0.024477</td>\n",
       "      <td>0.221981</td>\n",
       "    </tr>\n",
       "    <tr>\n",
       "      <th>2538701</th>\n",
       "      <td>120568</td>\n",
       "      <td>1</td>\n",
       "      <td>1.0</td>\n",
       "      <td>0.0</td>\n",
       "      <td>0.045209</td>\n",
       "      <td>0.104274</td>\n",
       "    </tr>\n",
       "    <tr>\n",
       "      <th>2538702</th>\n",
       "      <td>191861</td>\n",
       "      <td>6</td>\n",
       "      <td>1.0</td>\n",
       "      <td>0.0</td>\n",
       "      <td>0.056931</td>\n",
       "      <td>0.172479</td>\n",
       "    </tr>\n",
       "    <tr>\n",
       "      <th>2538703</th>\n",
       "      <td>64790</td>\n",
       "      <td>17</td>\n",
       "      <td>0.0</td>\n",
       "      <td>0.0</td>\n",
       "      <td>0.013900</td>\n",
       "      <td>0.167916</td>\n",
       "    </tr>\n",
       "  </tbody>\n",
       "</table>\n",
       "<p>2538632 rows × 6 columns</p>\n",
       "</div>"
      ],
      "text/plain": [
       "         user_id  statement_num  my_pd_bucket  x_bucket     my_pd   x_score\n",
       "0         127336             19           2.0       2.0  0.074753  0.469410\n",
       "1          35907             16           1.0       0.0  0.058043  0.157215\n",
       "2          45228             21           1.0       2.0  0.059475  0.469583\n",
       "3          39035             23           0.0       1.0  0.033255  0.210896\n",
       "4         130780             19           1.0       1.0  0.046993  0.269492\n",
       "...          ...            ...           ...       ...       ...       ...\n",
       "2538699    64006             19           1.0       1.0  0.066447  0.188233\n",
       "2538700   138666             21           0.0       1.0  0.024477  0.221981\n",
       "2538701   120568              1           1.0       0.0  0.045209  0.104274\n",
       "2538702   191861              6           1.0       0.0  0.056931  0.172479\n",
       "2538703    64790             17           0.0       0.0  0.013900  0.167916\n",
       "\n",
       "[2538632 rows x 6 columns]"
      ]
     },
     "execution_count": 3,
     "metadata": {},
     "output_type": "execute_result"
    }
   ],
   "source": [
    "df_scores = pd.read_csv('my_data_scores.csv', index_col=0)\n",
    "df_scores"
   ]
  },
  {
   "cell_type": "code",
   "execution_count": 4,
   "id": "terminal-embassy",
   "metadata": {},
   "outputs": [
    {
     "name": "stdout",
     "output_type": "stream",
     "text": [
      "my_pd_bucket\n",
      "0    0.025896\n",
      "1    0.050567\n",
      "2    0.103601\n",
      "Name: my_pd, dtype: float64\n",
      "x_bucket\n",
      "0    0.132996\n",
      "1    0.220232\n",
      "2    0.378351\n",
      "Name: x_score, dtype: float64\n"
     ]
    },
    {
     "data": {
      "text/html": [
       "<div>\n",
       "<style scoped>\n",
       "    .dataframe tbody tr th:only-of-type {\n",
       "        vertical-align: middle;\n",
       "    }\n",
       "\n",
       "    .dataframe tbody tr th {\n",
       "        vertical-align: top;\n",
       "    }\n",
       "\n",
       "    .dataframe thead th {\n",
       "        text-align: right;\n",
       "    }\n",
       "</style>\n",
       "<table border=\"1\" class=\"dataframe\">\n",
       "  <thead>\n",
       "    <tr style=\"text-align: right;\">\n",
       "      <th></th>\n",
       "      <th>user_id</th>\n",
       "      <th>statement_num</th>\n",
       "      <th>my_pd_bucket</th>\n",
       "      <th>x_bucket</th>\n",
       "      <th>my_pd</th>\n",
       "      <th>x_score</th>\n",
       "    </tr>\n",
       "  </thead>\n",
       "  <tbody>\n",
       "    <tr>\n",
       "      <th>0</th>\n",
       "      <td>47228</td>\n",
       "      <td>10</td>\n",
       "      <td>0</td>\n",
       "      <td>0</td>\n",
       "      <td>0.024272</td>\n",
       "      <td>0.039711</td>\n",
       "    </tr>\n",
       "    <tr>\n",
       "      <th>1</th>\n",
       "      <td>47228</td>\n",
       "      <td>20</td>\n",
       "      <td>0</td>\n",
       "      <td>0</td>\n",
       "      <td>0.024272</td>\n",
       "      <td>0.039711</td>\n",
       "    </tr>\n",
       "    <tr>\n",
       "      <th>2</th>\n",
       "      <td>47228</td>\n",
       "      <td>14</td>\n",
       "      <td>0</td>\n",
       "      <td>0</td>\n",
       "      <td>0.024272</td>\n",
       "      <td>0.039711</td>\n",
       "    </tr>\n",
       "    <tr>\n",
       "      <th>3</th>\n",
       "      <td>47228</td>\n",
       "      <td>19</td>\n",
       "      <td>0</td>\n",
       "      <td>0</td>\n",
       "      <td>0.024272</td>\n",
       "      <td>0.039711</td>\n",
       "    </tr>\n",
       "    <tr>\n",
       "      <th>4</th>\n",
       "      <td>47228</td>\n",
       "      <td>9</td>\n",
       "      <td>0</td>\n",
       "      <td>0</td>\n",
       "      <td>0.024272</td>\n",
       "      <td>0.039711</td>\n",
       "    </tr>\n",
       "    <tr>\n",
       "      <th>...</th>\n",
       "      <td>...</td>\n",
       "      <td>...</td>\n",
       "      <td>...</td>\n",
       "      <td>...</td>\n",
       "      <td>...</td>\n",
       "      <td>...</td>\n",
       "    </tr>\n",
       "    <tr>\n",
       "      <th>2538627</th>\n",
       "      <td>212993</td>\n",
       "      <td>21</td>\n",
       "      <td>0</td>\n",
       "      <td>2</td>\n",
       "      <td>0.032879</td>\n",
       "      <td>0.793186</td>\n",
       "    </tr>\n",
       "    <tr>\n",
       "      <th>2538628</th>\n",
       "      <td>212993</td>\n",
       "      <td>18</td>\n",
       "      <td>0</td>\n",
       "      <td>2</td>\n",
       "      <td>0.032879</td>\n",
       "      <td>0.793186</td>\n",
       "    </tr>\n",
       "    <tr>\n",
       "      <th>2538629</th>\n",
       "      <td>212993</td>\n",
       "      <td>11</td>\n",
       "      <td>0</td>\n",
       "      <td>2</td>\n",
       "      <td>0.032879</td>\n",
       "      <td>0.793186</td>\n",
       "    </tr>\n",
       "    <tr>\n",
       "      <th>2538630</th>\n",
       "      <td>212993</td>\n",
       "      <td>19</td>\n",
       "      <td>0</td>\n",
       "      <td>2</td>\n",
       "      <td>0.032879</td>\n",
       "      <td>0.793186</td>\n",
       "    </tr>\n",
       "    <tr>\n",
       "      <th>2538631</th>\n",
       "      <td>212993</td>\n",
       "      <td>6</td>\n",
       "      <td>0</td>\n",
       "      <td>2</td>\n",
       "      <td>0.032879</td>\n",
       "      <td>0.793186</td>\n",
       "    </tr>\n",
       "  </tbody>\n",
       "</table>\n",
       "<p>2538632 rows × 6 columns</p>\n",
       "</div>"
      ],
      "text/plain": [
       "         user_id  statement_num  my_pd_bucket  x_bucket     my_pd   x_score\n",
       "0          47228             10             0         0  0.024272  0.039711\n",
       "1          47228             20             0         0  0.024272  0.039711\n",
       "2          47228             14             0         0  0.024272  0.039711\n",
       "3          47228             19             0         0  0.024272  0.039711\n",
       "4          47228              9             0         0  0.024272  0.039711\n",
       "...          ...            ...           ...       ...       ...       ...\n",
       "2538627   212993             21             0         2  0.032879  0.793186\n",
       "2538628   212993             18             0         2  0.032879  0.793186\n",
       "2538629   212993             11             0         2  0.032879  0.793186\n",
       "2538630   212993             19             0         2  0.032879  0.793186\n",
       "2538631   212993              6             0         2  0.032879  0.793186\n",
       "\n",
       "[2538632 rows x 6 columns]"
      ]
     },
     "execution_count": 4,
     "metadata": {},
     "output_type": "execute_result"
    }
   ],
   "source": [
    "df_scores = df_scores.sort_values(['my_pd'], ignore_index=True)\n",
    "df_scores['my_pd_bucket'] = np.minimum(df_scores.index // (df_scores.shape[0]//3),2)\n",
    "print(df_scores.groupby(['my_pd_bucket'])['my_pd'].mean())\n",
    "\n",
    "df_scores = df_scores.sort_values(['x_score'], ignore_index=True)\n",
    "df_scores['x_bucket'] = np.minimum(df_scores.index // (df_scores.shape[0]//3),2)\n",
    "print(df_scores.groupby(['x_bucket'])['x_score'].mean())\n",
    "\n",
    "df_scores"
   ]
  },
  {
   "cell_type": "code",
   "execution_count": 5,
   "id": "incredible-officer",
   "metadata": {},
   "outputs": [
    {
     "data": {
      "text/html": [
       "<div>\n",
       "<style scoped>\n",
       "    .dataframe tbody tr th:only-of-type {\n",
       "        vertical-align: middle;\n",
       "    }\n",
       "\n",
       "    .dataframe tbody tr th {\n",
       "        vertical-align: top;\n",
       "    }\n",
       "\n",
       "    .dataframe thead th {\n",
       "        text-align: right;\n",
       "    }\n",
       "</style>\n",
       "<table border=\"1\" class=\"dataframe\">\n",
       "  <thead>\n",
       "    <tr style=\"text-align: right;\">\n",
       "      <th></th>\n",
       "      <th>pd</th>\n",
       "      <th>x</th>\n",
       "    </tr>\n",
       "  </thead>\n",
       "  <tbody>\n",
       "    <tr>\n",
       "      <th>0</th>\n",
       "      <td>0.025896</td>\n",
       "      <td>0.132996</td>\n",
       "    </tr>\n",
       "    <tr>\n",
       "      <th>1</th>\n",
       "      <td>0.050567</td>\n",
       "      <td>0.220232</td>\n",
       "    </tr>\n",
       "    <tr>\n",
       "      <th>2</th>\n",
       "      <td>0.103601</td>\n",
       "      <td>0.378351</td>\n",
       "    </tr>\n",
       "  </tbody>\n",
       "</table>\n",
       "</div>"
      ],
      "text/plain": [
       "         pd         x\n",
       "0  0.025896  0.132996\n",
       "1  0.050567  0.220232\n",
       "2  0.103601  0.378351"
      ]
     },
     "execution_count": 5,
     "metadata": {},
     "output_type": "execute_result"
    }
   ],
   "source": [
    "mean_pd = df_scores.groupby(['my_pd_bucket'])['my_pd'].mean()\n",
    "mean_x = df_scores.groupby(['x_bucket'])['x_score'].mean()\n",
    "mean_scores = pd.DataFrame({'pd': mean_pd, 'x': mean_x})\n",
    "mean_scores"
   ]
  },
  {
   "cell_type": "code",
   "execution_count": 6,
   "id": "informative-rugby",
   "metadata": {},
   "outputs": [
    {
     "data": {
      "text/plain": [
       "1"
      ]
     },
     "execution_count": 6,
     "metadata": {},
     "output_type": "execute_result"
    }
   ],
   "source": [
    "pd_0 = 0.05\n",
    "mean_scores[mean_scores['pd'] > pd_0].index[0]"
   ]
  },
  {
   "cell_type": "code",
   "execution_count": 7,
   "id": "metallic-marijuana",
   "metadata": {},
   "outputs": [
    {
     "data": {
      "text/plain": [
       "1"
      ]
     },
     "execution_count": 7,
     "metadata": {},
     "output_type": "execute_result"
    }
   ],
   "source": [
    "x_0 = 0.15\n",
    "mean_scores[mean_scores['x'] > x_0].index[0]"
   ]
  },
  {
   "cell_type": "code",
   "execution_count": 10,
   "id": "driven-glossary",
   "metadata": {},
   "outputs": [],
   "source": [
    "def lin_interpolation(rates, bucket_0, bucket_1, feat_name, feat_0):\n",
    "    result = []\n",
    "    mean_score = mean_scores[feat_name]\n",
    "    for i in df.index:\n",
    "        result.append(rates[bucket_0][i] +\n",
    "              (feat_0 - mean_score[float(bucket_0)]) * \n",
    "              (rates[bucket_1][i] - rates[bucket_0][i]) / \n",
    "              (mean_score[float(bucket_1)] - mean_score[float(bucket_0)]))\n",
    "    return result"
   ]
  },
  {
   "cell_type": "markdown",
   "id": "polyphonic-riding",
   "metadata": {},
   "source": [
    "# Кривые для первого задания"
   ]
  },
  {
   "cell_type": "code",
   "execution_count": 98,
   "id": "generous-provider",
   "metadata": {},
   "outputs": [],
   "source": [
    "database = {}\n",
    "df = pd.read_csv('clo_rate_by_buckets.csv')\n",
    "database['clo'] = lin_interpolation(df, '0.0', '1.0', 'x', 0.15)"
   ]
  },
  {
   "cell_type": "code",
   "execution_count": 99,
   "id": "attended-surface",
   "metadata": {},
   "outputs": [],
   "source": [
    "df = pd.read_csv('def_rate_by_buckets.csv')\n",
    "database['def'] = lin_interpolation(df, '0.0', '1.0', 'pd', 0.05)"
   ]
  },
  {
   "cell_type": "code",
   "execution_count": 100,
   "id": "certified-hindu",
   "metadata": {},
   "outputs": [],
   "source": [
    "df = pd.read_csv('dlq_ratio_by_buckets.csv')\n",
    "database['dlq'] = lin_interpolation(df, '0.0', '1.0', 'pd', 0.05)"
   ]
  },
  {
   "cell_type": "code",
   "execution_count": 102,
   "id": "vocational-contents",
   "metadata": {},
   "outputs": [],
   "source": [
    "pd.DataFrame(database).to_excel('result.xlsx')"
   ]
  },
  {
   "cell_type": "markdown",
   "id": "numeric-bhutan",
   "metadata": {},
   "source": [
    "# Кривые при изменении параметров"
   ]
  },
  {
   "cell_type": "markdown",
   "id": "introductory-signal",
   "metadata": {},
   "source": [
    "## Pd"
   ]
  },
  {
   "cell_type": "markdown",
   "id": "activated-attachment",
   "metadata": {},
   "source": [
    "### +1%"
   ]
  },
  {
   "cell_type": "code",
   "execution_count": 8,
   "id": "lonely-rough",
   "metadata": {},
   "outputs": [
    {
     "data": {
      "text/plain": [
       "2"
      ]
     },
     "execution_count": 8,
     "metadata": {},
     "output_type": "execute_result"
    }
   ],
   "source": [
    "pd_0 = 0.06\n",
    "mean_scores[mean_scores['pd'] > pd_0].index[0]"
   ]
  },
  {
   "cell_type": "code",
   "execution_count": 11,
   "id": "needed-classification",
   "metadata": {},
   "outputs": [],
   "source": [
    "database = {}\n",
    "df = pd.read_csv('def_rate_by_buckets.csv')\n",
    "database['def_pd_p1'] = lin_interpolation(df, '1.0', '2.0', 'pd', 0.06)\n",
    "df = pd.read_csv('dlq_ratio_by_buckets.csv')\n",
    "database['dlq_pd_p1'] = lin_interpolation(df, '1.0', '2.0', 'pd', 0.06)"
   ]
  },
  {
   "cell_type": "markdown",
   "id": "induced-christianity",
   "metadata": {},
   "source": [
    "### -1%"
   ]
  },
  {
   "cell_type": "code",
   "execution_count": 12,
   "id": "amateur-service",
   "metadata": {},
   "outputs": [
    {
     "data": {
      "text/plain": [
       "1"
      ]
     },
     "execution_count": 12,
     "metadata": {},
     "output_type": "execute_result"
    }
   ],
   "source": [
    "pd_0 = 0.04\n",
    "mean_scores[mean_scores['pd'] > pd_0].index[0]"
   ]
  },
  {
   "cell_type": "code",
   "execution_count": 13,
   "id": "universal-danger",
   "metadata": {},
   "outputs": [],
   "source": [
    "df = pd.read_csv('def_rate_by_buckets.csv')\n",
    "database['def_pd_m1'] = lin_interpolation(df, '0.0', '1.0', 'pd', 0.04)\n",
    "df = pd.read_csv('dlq_ratio_by_buckets.csv')\n",
    "database['dlq_pd_m1'] = lin_interpolation(df, '0.0', '1.0', 'pd', 0.04)"
   ]
  },
  {
   "cell_type": "markdown",
   "id": "substantial-maria",
   "metadata": {},
   "source": [
    "## x"
   ]
  },
  {
   "cell_type": "markdown",
   "id": "interim-performance",
   "metadata": {},
   "source": [
    "### +1%"
   ]
  },
  {
   "cell_type": "code",
   "execution_count": 18,
   "id": "burning-wichita",
   "metadata": {},
   "outputs": [
    {
     "data": {
      "text/plain": [
       "1"
      ]
     },
     "execution_count": 18,
     "metadata": {},
     "output_type": "execute_result"
    }
   ],
   "source": [
    "x_0 = 0.16\n",
    "mean_scores[mean_scores['x'] > x_0].index[0]"
   ]
  },
  {
   "cell_type": "code",
   "execution_count": 19,
   "id": "fancy-timothy",
   "metadata": {},
   "outputs": [],
   "source": [
    "df = pd.read_csv('clo_rate_by_buckets.csv')\n",
    "database['clo_x_p1'] = lin_interpolation(df, '0.0', '1.0', 'x', 0.16)"
   ]
  },
  {
   "cell_type": "markdown",
   "id": "creative-scoop",
   "metadata": {},
   "source": [
    "### -1%"
   ]
  },
  {
   "cell_type": "code",
   "execution_count": 20,
   "id": "joined-welcome",
   "metadata": {},
   "outputs": [
    {
     "data": {
      "text/plain": [
       "1"
      ]
     },
     "execution_count": 20,
     "metadata": {},
     "output_type": "execute_result"
    }
   ],
   "source": [
    "x_0 = 0.14\n",
    "mean_scores[mean_scores['x'] > x_0].index[0]"
   ]
  },
  {
   "cell_type": "code",
   "execution_count": 21,
   "id": "ethical-ukraine",
   "metadata": {},
   "outputs": [],
   "source": [
    "df = pd.read_csv('clo_rate_by_buckets.csv')\n",
    "database['clo_x_m1'] = lin_interpolation(df, '0.0', '1.0', 'x', 0.14)"
   ]
  },
  {
   "cell_type": "code",
   "execution_count": 22,
   "id": "charged-auckland",
   "metadata": {},
   "outputs": [],
   "source": [
    "pd.DataFrame(database).to_excel('result_diff.xlsx')"
   ]
  },
  {
   "cell_type": "code",
   "execution_count": null,
   "id": "mineral-potential",
   "metadata": {},
   "outputs": [],
   "source": []
  }
 ],
 "metadata": {
  "kernelspec": {
   "display_name": "Python 3",
   "language": "python",
   "name": "python3"
  },
  "language_info": {
   "codemirror_mode": {
    "name": "ipython",
    "version": 3
   },
   "file_extension": ".py",
   "mimetype": "text/x-python",
   "name": "python",
   "nbconvert_exporter": "python",
   "pygments_lexer": "ipython3",
   "version": "3.8.5"
  }
 },
 "nbformat": 4,
 "nbformat_minor": 5
}
