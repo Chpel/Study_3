{
 "cells": [
  {
   "cell_type": "code",
   "execution_count": 84,
   "id": "756a08a9",
   "metadata": {},
   "outputs": [],
   "source": [
    "import numpy as np\n",
    "import pandas as pd\n",
    "from scipy import stats\n",
    "import matplotlib.pyplot as plt"
   ]
  },
  {
   "cell_type": "code",
   "execution_count": 87,
   "id": "94689188",
   "metadata": {},
   "outputs": [
    {
     "data": {
      "text/plain": [
       "0.454129343445806"
      ]
     },
     "execution_count": 87,
     "metadata": {},
     "output_type": "execute_result"
    }
   ],
   "source": [
    "#3 \n",
    "def log_func(x):\n",
    "    return 1/(1 + np.exp(-x))\n",
    "\n",
    "log_func(0.2 - 0.131 * 64 + 2 * 4)"
   ]
  },
  {
   "cell_type": "code",
   "execution_count": 88,
   "id": "be17fad3",
   "metadata": {},
   "outputs": [
    {
     "data": {
      "text/plain": [
       "12.0"
      ]
     },
     "execution_count": 88,
     "metadata": {},
     "output_type": "execute_result"
    }
   ],
   "source": [
    "#13\n",
    "3 + 12 * 1 - 0.03 * 100"
   ]
  },
  {
   "cell_type": "code",
   "execution_count": null,
   "id": "5b8e9898",
   "metadata": {},
   "outputs": [],
   "source": [
    "stats.norm.cdf(, loc=30, scale=1)"
   ]
  },
  {
   "cell_type": "code",
   "execution_count": 13,
   "id": "d272434d",
   "metadata": {},
   "outputs": [
    {
     "data": {
      "text/html": [
       "<div>\n",
       "<style scoped>\n",
       "    .dataframe tbody tr th:only-of-type {\n",
       "        vertical-align: middle;\n",
       "    }\n",
       "\n",
       "    .dataframe tbody tr th {\n",
       "        vertical-align: top;\n",
       "    }\n",
       "\n",
       "    .dataframe thead th {\n",
       "        text-align: right;\n",
       "    }\n",
       "</style>\n",
       "<table border=\"1\" class=\"dataframe\">\n",
       "  <thead>\n",
       "    <tr style=\"text-align: right;\">\n",
       "      <th></th>\n",
       "      <th>age</th>\n",
       "      <th>material</th>\n",
       "      <th>country</th>\n",
       "      <th>M1</th>\n",
       "      <th>M2</th>\n",
       "      <th>M3</th>\n",
       "    </tr>\n",
       "  </thead>\n",
       "  <tbody>\n",
       "    <tr>\n",
       "      <th>0</th>\n",
       "      <td>29</td>\n",
       "      <td>Rubber</td>\n",
       "      <td>Mexico</td>\n",
       "      <td>13</td>\n",
       "      <td>NaN</td>\n",
       "      <td>-3.07</td>\n",
       "    </tr>\n",
       "    <tr>\n",
       "      <th>1</th>\n",
       "      <td>22</td>\n",
       "      <td>Aluminum</td>\n",
       "      <td>Venezuela</td>\n",
       "      <td>11</td>\n",
       "      <td>0.054840</td>\n",
       "      <td>1.46</td>\n",
       "    </tr>\n",
       "    <tr>\n",
       "      <th>2</th>\n",
       "      <td>21</td>\n",
       "      <td>Stone</td>\n",
       "      <td>Bolivia</td>\n",
       "      <td>5</td>\n",
       "      <td>0.022358</td>\n",
       "      <td>1.47</td>\n",
       "    </tr>\n",
       "    <tr>\n",
       "      <th>3</th>\n",
       "      <td>14</td>\n",
       "      <td>Wood</td>\n",
       "      <td>Serbia</td>\n",
       "      <td>6</td>\n",
       "      <td>0.402240</td>\n",
       "      <td>2.94</td>\n",
       "    </tr>\n",
       "    <tr>\n",
       "      <th>4</th>\n",
       "      <td>28</td>\n",
       "      <td>Plastic</td>\n",
       "      <td>Sweden</td>\n",
       "      <td>5</td>\n",
       "      <td>NaN</td>\n",
       "      <td>2.96</td>\n",
       "    </tr>\n",
       "    <tr>\n",
       "      <th>...</th>\n",
       "      <td>...</td>\n",
       "      <td>...</td>\n",
       "      <td>...</td>\n",
       "      <td>...</td>\n",
       "      <td>...</td>\n",
       "      <td>...</td>\n",
       "    </tr>\n",
       "    <tr>\n",
       "      <th>995</th>\n",
       "      <td>23</td>\n",
       "      <td>Plexiglass</td>\n",
       "      <td>Poland</td>\n",
       "      <td>12</td>\n",
       "      <td>0.050998</td>\n",
       "      <td>-0.04</td>\n",
       "    </tr>\n",
       "    <tr>\n",
       "      <th>996</th>\n",
       "      <td>19</td>\n",
       "      <td>Vinyl</td>\n",
       "      <td>Greece</td>\n",
       "      <td>11</td>\n",
       "      <td>0.125669</td>\n",
       "      <td>1.19</td>\n",
       "    </tr>\n",
       "    <tr>\n",
       "      <th>997</th>\n",
       "      <td>10</td>\n",
       "      <td>Plastic</td>\n",
       "      <td>France</td>\n",
       "      <td>14</td>\n",
       "      <td>NaN</td>\n",
       "      <td>-0.45</td>\n",
       "    </tr>\n",
       "    <tr>\n",
       "      <th>998</th>\n",
       "      <td>19</td>\n",
       "      <td>Stone</td>\n",
       "      <td>Argentina</td>\n",
       "      <td>7</td>\n",
       "      <td>0.024231</td>\n",
       "      <td>1.20</td>\n",
       "    </tr>\n",
       "    <tr>\n",
       "      <th>999</th>\n",
       "      <td>11</td>\n",
       "      <td>Plexiglass</td>\n",
       "      <td>Philippines</td>\n",
       "      <td>12</td>\n",
       "      <td>NaN</td>\n",
       "      <td>-0.02</td>\n",
       "    </tr>\n",
       "  </tbody>\n",
       "</table>\n",
       "<p>1000 rows × 6 columns</p>\n",
       "</div>"
      ],
      "text/plain": [
       "     age    material      country  M1        M2    M3\n",
       "0     29      Rubber       Mexico  13       NaN -3.07\n",
       "1     22    Aluminum    Venezuela  11  0.054840  1.46\n",
       "2     21       Stone      Bolivia   5  0.022358  1.47\n",
       "3     14        Wood       Serbia   6  0.402240  2.94\n",
       "4     28     Plastic       Sweden   5       NaN  2.96\n",
       "..   ...         ...          ...  ..       ...   ...\n",
       "995   23  Plexiglass       Poland  12  0.050998 -0.04\n",
       "996   19       Vinyl       Greece  11  0.125669  1.19\n",
       "997   10     Plastic       France  14       NaN -0.45\n",
       "998   19       Stone    Argentina   7  0.024231  1.20\n",
       "999   11  Plexiglass  Philippines  12       NaN -0.02\n",
       "\n",
       "[1000 rows x 6 columns]"
      ]
     },
     "execution_count": 13,
     "metadata": {},
     "output_type": "execute_result"
    }
   ],
   "source": [
    "data=pd.read_csv('c.csv')\n",
    "data"
   ]
  },
  {
   "cell_type": "code",
   "execution_count": 14,
   "id": "d82da1f4",
   "metadata": {},
   "outputs": [
    {
     "data": {
      "text/plain": [
       "19.824"
      ]
     },
     "execution_count": 14,
     "metadata": {},
     "output_type": "execute_result"
    }
   ],
   "source": [
    "#20\n",
    "data['age'].mean()"
   ]
  },
  {
   "cell_type": "code",
   "execution_count": 15,
   "id": "ab5f7092",
   "metadata": {},
   "outputs": [
    {
     "data": {
      "text/plain": [
       "10"
      ]
     },
     "execution_count": 15,
     "metadata": {},
     "output_type": "execute_result"
    }
   ],
   "source": [
    "#21\n",
    "data['age'].min()"
   ]
  },
  {
   "cell_type": "code",
   "execution_count": 16,
   "id": "beeeff34",
   "metadata": {},
   "outputs": [
    {
     "data": {
      "text/plain": [
       "20.0"
      ]
     },
     "execution_count": 16,
     "metadata": {},
     "output_type": "execute_result"
    }
   ],
   "source": [
    "#22\n",
    "data['age'].median()"
   ]
  },
  {
   "cell_type": "code",
   "execution_count": 22,
   "id": "d0ea0888",
   "metadata": {},
   "outputs": [
    {
     "data": {
      "text/plain": [
       "Plastic       108\n",
       "Wood          104\n",
       "Plexiglass     96\n",
       "Steel          93\n",
       "Vinyl          93\n",
       "Stone          90\n",
       "Brass          85\n",
       "Granite        84\n",
       "Rubber         83\n",
       "Aluminum       82\n",
       "Glass          82\n",
       "Name: material, dtype: int64"
      ]
     },
     "execution_count": 22,
     "metadata": {},
     "output_type": "execute_result"
    },
    {
     "data": {
      "text/plain": [
       "<Figure size 864x648 with 0 Axes>"
      ]
     },
     "metadata": {},
     "output_type": "display_data"
    }
   ],
   "source": [
    "#23\n",
    "data['material'].value_counts()"
   ]
  },
  {
   "cell_type": "code",
   "execution_count": 26,
   "id": "029165e4",
   "metadata": {},
   "outputs": [
    {
     "data": {
      "text/html": [
       "<div>\n",
       "<style scoped>\n",
       "    .dataframe tbody tr th:only-of-type {\n",
       "        vertical-align: middle;\n",
       "    }\n",
       "\n",
       "    .dataframe tbody tr th {\n",
       "        vertical-align: top;\n",
       "    }\n",
       "\n",
       "    .dataframe thead th {\n",
       "        text-align: right;\n",
       "    }\n",
       "</style>\n",
       "<table border=\"1\" class=\"dataframe\">\n",
       "  <thead>\n",
       "    <tr style=\"text-align: right;\">\n",
       "      <th></th>\n",
       "      <th>age</th>\n",
       "      <th>material</th>\n",
       "      <th>country</th>\n",
       "      <th>M1</th>\n",
       "      <th>M2</th>\n",
       "      <th>M3</th>\n",
       "      <th>Country_Coded</th>\n",
       "    </tr>\n",
       "  </thead>\n",
       "  <tbody>\n",
       "    <tr>\n",
       "      <th>0</th>\n",
       "      <td>29</td>\n",
       "      <td>Rubber</td>\n",
       "      <td>Mexico</td>\n",
       "      <td>13</td>\n",
       "      <td>NaN</td>\n",
       "      <td>-3.07</td>\n",
       "      <td>0</td>\n",
       "    </tr>\n",
       "    <tr>\n",
       "      <th>1</th>\n",
       "      <td>22</td>\n",
       "      <td>Aluminum</td>\n",
       "      <td>Venezuela</td>\n",
       "      <td>11</td>\n",
       "      <td>0.054840</td>\n",
       "      <td>1.46</td>\n",
       "      <td>0</td>\n",
       "    </tr>\n",
       "    <tr>\n",
       "      <th>2</th>\n",
       "      <td>21</td>\n",
       "      <td>Stone</td>\n",
       "      <td>Bolivia</td>\n",
       "      <td>5</td>\n",
       "      <td>0.022358</td>\n",
       "      <td>1.47</td>\n",
       "      <td>0</td>\n",
       "    </tr>\n",
       "    <tr>\n",
       "      <th>3</th>\n",
       "      <td>14</td>\n",
       "      <td>Wood</td>\n",
       "      <td>Serbia</td>\n",
       "      <td>6</td>\n",
       "      <td>0.402240</td>\n",
       "      <td>2.94</td>\n",
       "      <td>0</td>\n",
       "    </tr>\n",
       "    <tr>\n",
       "      <th>4</th>\n",
       "      <td>28</td>\n",
       "      <td>Plastic</td>\n",
       "      <td>Sweden</td>\n",
       "      <td>5</td>\n",
       "      <td>NaN</td>\n",
       "      <td>2.96</td>\n",
       "      <td>0</td>\n",
       "    </tr>\n",
       "    <tr>\n",
       "      <th>...</th>\n",
       "      <td>...</td>\n",
       "      <td>...</td>\n",
       "      <td>...</td>\n",
       "      <td>...</td>\n",
       "      <td>...</td>\n",
       "      <td>...</td>\n",
       "      <td>...</td>\n",
       "    </tr>\n",
       "    <tr>\n",
       "      <th>995</th>\n",
       "      <td>23</td>\n",
       "      <td>Plexiglass</td>\n",
       "      <td>Poland</td>\n",
       "      <td>12</td>\n",
       "      <td>0.050998</td>\n",
       "      <td>-0.04</td>\n",
       "      <td>0</td>\n",
       "    </tr>\n",
       "    <tr>\n",
       "      <th>996</th>\n",
       "      <td>19</td>\n",
       "      <td>Vinyl</td>\n",
       "      <td>Greece</td>\n",
       "      <td>11</td>\n",
       "      <td>0.125669</td>\n",
       "      <td>1.19</td>\n",
       "      <td>0</td>\n",
       "    </tr>\n",
       "    <tr>\n",
       "      <th>997</th>\n",
       "      <td>10</td>\n",
       "      <td>Plastic</td>\n",
       "      <td>France</td>\n",
       "      <td>14</td>\n",
       "      <td>NaN</td>\n",
       "      <td>-0.45</td>\n",
       "      <td>0</td>\n",
       "    </tr>\n",
       "    <tr>\n",
       "      <th>998</th>\n",
       "      <td>19</td>\n",
       "      <td>Stone</td>\n",
       "      <td>Argentina</td>\n",
       "      <td>7</td>\n",
       "      <td>0.024231</td>\n",
       "      <td>1.20</td>\n",
       "      <td>0</td>\n",
       "    </tr>\n",
       "    <tr>\n",
       "      <th>999</th>\n",
       "      <td>11</td>\n",
       "      <td>Plexiglass</td>\n",
       "      <td>Philippines</td>\n",
       "      <td>12</td>\n",
       "      <td>NaN</td>\n",
       "      <td>-0.02</td>\n",
       "      <td>0</td>\n",
       "    </tr>\n",
       "  </tbody>\n",
       "</table>\n",
       "<p>1000 rows × 7 columns</p>\n",
       "</div>"
      ],
      "text/plain": [
       "     age    material      country  M1        M2    M3  Country_Coded\n",
       "0     29      Rubber       Mexico  13       NaN -3.07              0\n",
       "1     22    Aluminum    Venezuela  11  0.054840  1.46              0\n",
       "2     21       Stone      Bolivia   5  0.022358  1.47              0\n",
       "3     14        Wood       Serbia   6  0.402240  2.94              0\n",
       "4     28     Plastic       Sweden   5       NaN  2.96              0\n",
       "..   ...         ...          ...  ..       ...   ...            ...\n",
       "995   23  Plexiglass       Poland  12  0.050998 -0.04              0\n",
       "996   19       Vinyl       Greece  11  0.125669  1.19              0\n",
       "997   10     Plastic       France  14       NaN -0.45              0\n",
       "998   19       Stone    Argentina   7  0.024231  1.20              0\n",
       "999   11  Plexiglass  Philippines  12       NaN -0.02              0\n",
       "\n",
       "[1000 rows x 7 columns]"
      ]
     },
     "execution_count": 26,
     "metadata": {},
     "output_type": "execute_result"
    }
   ],
   "source": [
    "#24\n",
    "data['Country_Coded'] = data['country'].apply(lambda x: 1 if x == 'China' else 0)"
   ]
  },
  {
   "cell_type": "code",
   "execution_count": 30,
   "id": "6a888ac2",
   "metadata": {},
   "outputs": [
    {
     "data": {
      "text/plain": [
       "0.165"
      ]
     },
     "execution_count": 30,
     "metadata": {},
     "output_type": "execute_result"
    }
   ],
   "source": [
    "data['Country_Coded'].mean()"
   ]
  },
  {
   "cell_type": "code",
   "execution_count": 33,
   "id": "095d445c",
   "metadata": {},
   "outputs": [
    {
     "data": {
      "text/plain": [
       "0.10233333333333329"
      ]
     },
     "execution_count": 33,
     "metadata": {},
     "output_type": "execute_result"
    }
   ],
   "source": [
    "#25\n",
    "data[data.material == 'Stone']['M3'].mean()"
   ]
  },
  {
   "cell_type": "code",
   "execution_count": 36,
   "id": "78377755",
   "metadata": {},
   "outputs": [
    {
     "data": {
      "text/plain": [
       "328"
      ]
     },
     "execution_count": 36,
     "metadata": {},
     "output_type": "execute_result"
    }
   ],
   "source": [
    "#26\n",
    "data['M2'].isna().sum()"
   ]
  },
  {
   "cell_type": "code",
   "execution_count": 45,
   "id": "f0042d1a",
   "metadata": {},
   "outputs": [
    {
     "name": "stdout",
     "output_type": "stream",
     "text": [
      "0.20696502354583335\n"
     ]
    }
   ],
   "source": [
    "#27\n",
    "na_replace = data['M2'].mean()\n",
    "print(na_replace)\n",
    "data['M2_fixed'] = data['M2']\n",
    "data['M2_fixed'].fillna(na_replace, inplace=True)"
   ]
  },
  {
   "cell_type": "code",
   "execution_count": 49,
   "id": "41cb8d47",
   "metadata": {},
   "outputs": [
    {
     "data": {
      "text/plain": [
       "0.20696502354583182"
      ]
     },
     "execution_count": 49,
     "metadata": {},
     "output_type": "execute_result"
    }
   ],
   "source": [
    "M2f_mean = data['M2_fixed'].mean()\n",
    "M2f_mean"
   ]
  },
  {
   "cell_type": "code",
   "execution_count": 51,
   "id": "c9a023e9",
   "metadata": {},
   "outputs": [
    {
     "data": {
      "text/plain": [
       "586"
      ]
     },
     "execution_count": 51,
     "metadata": {},
     "output_type": "execute_result"
    }
   ],
   "source": [
    "\n",
    "data[data['M2_fixed'] > M2f_mean].shape[0]"
   ]
  },
  {
   "cell_type": "code",
   "execution_count": 53,
   "id": "81a22fec",
   "metadata": {},
   "outputs": [
    {
     "data": {
      "text/plain": [
       "<AxesSubplot:xlabel='M1', ylabel='M3'>"
      ]
     },
     "execution_count": 53,
     "metadata": {},
     "output_type": "execute_result"
    },
    {
     "data": {
      "image/png": "[encoded data removed]",
      "text/plain": [
       "<Figure size 432x288 with 1 Axes>"
      ]
     },
     "metadata": {
      "needs_background": "light"
     },
     "output_type": "display_data"
    }
   ],
   "source": [
    "#28\n",
    "data.plot(x='M1', y='M3', kind='scatter')"
   ]
  },
  {
   "cell_type": "code",
   "execution_count": 61,
   "id": "a96c7542",
   "metadata": {
    "scrolled": true
   },
   "outputs": [
    {
     "data": {
      "text/plain": [
       "<AxesSubplot:>"
      ]
     },
     "execution_count": 61,
     "metadata": {},
     "output_type": "execute_result"
    },
    {
     "data": {
      "image/png": "[encoded data removed]",
      "text/plain": [
       "<Figure size 432x288 with 1 Axes>"
      ]
     },
     "metadata": {
      "needs_background": "light"
     },
     "output_type": "display_data"
    }
   ],
   "source": [
    "#29 \n",
    "data['M1'].hist(bins=19)"
   ]
  },
  {
   "cell_type": "code",
   "execution_count": 67,
   "id": "a27fb343",
   "metadata": {},
   "outputs": [
    {
     "data": {
      "text/html": [
       "<style type=\"text/css\">\n",
       "#T_a8f39_row0_col0, #T_a8f39_row1_col1, #T_a8f39_row2_col2, #T_a8f39_row3_col3, #T_a8f39_row4_col4 {\n",
       "  background-color: #b40426;\n",
       "  color: #f1f1f1;\n",
       "}\n",
       "#T_a8f39_row0_col1, #T_a8f39_row4_col2 {\n",
       "  background-color: #4961d2;\n",
       "  color: #f1f1f1;\n",
       "}\n",
       "#T_a8f39_row0_col2 {\n",
       "  background-color: #3f53c6;\n",
       "  color: #f1f1f1;\n",
       "}\n",
       "#T_a8f39_row0_col3 {\n",
       "  background-color: #3e51c5;\n",
       "  color: #f1f1f1;\n",
       "}\n",
       "#T_a8f39_row0_col4 {\n",
       "  background-color: #5572df;\n",
       "  color: #f1f1f1;\n",
       "}\n",
       "#T_a8f39_row1_col0, #T_a8f39_row2_col0, #T_a8f39_row2_col1, #T_a8f39_row3_col2 {\n",
       "  background-color: #445acc;\n",
       "  color: #f1f1f1;\n",
       "}\n",
       "#T_a8f39_row1_col2, #T_a8f39_row1_col3, #T_a8f39_row1_col4, #T_a8f39_row3_col0, #T_a8f39_row3_col1, #T_a8f39_row4_col1 {\n",
       "  background-color: #3b4cc0;\n",
       "  color: #f1f1f1;\n",
       "}\n",
       "#T_a8f39_row2_col3 {\n",
       "  background-color: #4c66d6;\n",
       "  color: #f1f1f1;\n",
       "}\n",
       "#T_a8f39_row2_col4, #T_a8f39_row3_col4 {\n",
       "  background-color: #536edd;\n",
       "  color: #f1f1f1;\n",
       "}\n",
       "#T_a8f39_row4_col0 {\n",
       "  background-color: #506bda;\n",
       "  color: #f1f1f1;\n",
       "}\n",
       "#T_a8f39_row4_col3 {\n",
       "  background-color: #516ddb;\n",
       "  color: #f1f1f1;\n",
       "}\n",
       "</style>\n",
       "<table id=\"T_a8f39\">\n",
       "  <thead>\n",
       "    <tr>\n",
       "      <th class=\"blank level0\" >&nbsp;</th>\n",
       "      <th id=\"T_a8f39_level0_col0\" class=\"col_heading level0 col0\" >age</th>\n",
       "      <th id=\"T_a8f39_level0_col1\" class=\"col_heading level0 col1\" >M1</th>\n",
       "      <th id=\"T_a8f39_level0_col2\" class=\"col_heading level0 col2\" >M2_fixed</th>\n",
       "      <th id=\"T_a8f39_level0_col3\" class=\"col_heading level0 col3\" >M3</th>\n",
       "      <th id=\"T_a8f39_level0_col4\" class=\"col_heading level0 col4\" >Country_Coded</th>\n",
       "    </tr>\n",
       "  </thead>\n",
       "  <tbody>\n",
       "    <tr>\n",
       "      <th id=\"T_a8f39_level0_row0\" class=\"row_heading level0 row0\" >age</th>\n",
       "      <td id=\"T_a8f39_row0_col0\" class=\"data row0 col0\" >1.000000</td>\n",
       "      <td id=\"T_a8f39_row0_col1\" class=\"data row0 col1\" >0.013564</td>\n",
       "      <td id=\"T_a8f39_row0_col2\" class=\"data row0 col2\" >0.016127</td>\n",
       "      <td id=\"T_a8f39_row0_col3\" class=\"data row0 col3\" >-0.018774</td>\n",
       "      <td id=\"T_a8f39_row0_col4\" class=\"data row0 col4\" >0.055902</td>\n",
       "    </tr>\n",
       "    <tr>\n",
       "      <th id=\"T_a8f39_level0_row1\" class=\"row_heading level0 row1\" >M1</th>\n",
       "      <td id=\"T_a8f39_row1_col0\" class=\"data row1 col0\" >0.013564</td>\n",
       "      <td id=\"T_a8f39_row1_col1\" class=\"data row1 col1\" >1.000000</td>\n",
       "      <td id=\"T_a8f39_row1_col2\" class=\"data row1 col2\" >-0.002771</td>\n",
       "      <td id=\"T_a8f39_row1_col3\" class=\"data row1 col3\" >-0.034451</td>\n",
       "      <td id=\"T_a8f39_row1_col4\" class=\"data row1 col4\" >-0.035886</td>\n",
       "    </tr>\n",
       "    <tr>\n",
       "      <th id=\"T_a8f39_level0_row2\" class=\"row_heading level0 row2\" >M2_fixed</th>\n",
       "      <td id=\"T_a8f39_row2_col0\" class=\"data row2 col0\" >0.016127</td>\n",
       "      <td id=\"T_a8f39_row2_col1\" class=\"data row2 col1\" >-0.002771</td>\n",
       "      <td id=\"T_a8f39_row2_col2\" class=\"data row2 col2\" >1.000000</td>\n",
       "      <td id=\"T_a8f39_row2_col3\" class=\"data row2 col3\" >0.029908</td>\n",
       "      <td id=\"T_a8f39_row2_col4\" class=\"data row2 col4\" >0.045775</td>\n",
       "    </tr>\n",
       "    <tr>\n",
       "      <th id=\"T_a8f39_level0_row3\" class=\"row_heading level0 row3\" >M3</th>\n",
       "      <td id=\"T_a8f39_row3_col0\" class=\"data row3 col0\" >-0.018774</td>\n",
       "      <td id=\"T_a8f39_row3_col1\" class=\"data row3 col1\" >-0.034451</td>\n",
       "      <td id=\"T_a8f39_row3_col2\" class=\"data row3 col2\" >0.029908</td>\n",
       "      <td id=\"T_a8f39_row3_col3\" class=\"data row3 col3\" >1.000000</td>\n",
       "      <td id=\"T_a8f39_row3_col4\" class=\"data row3 col4\" >0.045882</td>\n",
       "    </tr>\n",
       "    <tr>\n",
       "      <th id=\"T_a8f39_level0_row4\" class=\"row_heading level0 row4\" >Country_Coded</th>\n",
       "      <td id=\"T_a8f39_row4_col0\" class=\"data row4 col0\" >0.055902</td>\n",
       "      <td id=\"T_a8f39_row4_col1\" class=\"data row4 col1\" >-0.035886</td>\n",
       "      <td id=\"T_a8f39_row4_col2\" class=\"data row4 col2\" >0.045775</td>\n",
       "      <td id=\"T_a8f39_row4_col3\" class=\"data row4 col3\" >0.045882</td>\n",
       "      <td id=\"T_a8f39_row4_col4\" class=\"data row4 col4\" >1.000000</td>\n",
       "    </tr>\n",
       "  </tbody>\n",
       "</table>\n"
      ],
      "text/plain": [
       "<pandas.io.formats.style.Styler at 0x2c8853eb100>"
      ]
     },
     "execution_count": 67,
     "metadata": {},
     "output_type": "execute_result"
    }
   ],
   "source": [
    "# 30\n",
    "corr = data[['age', 'M1', 'M2_fixed', 'M3', 'Country_Coded']].corr()\n",
    "corr.style.background_gradient(cmap='coolwarm')"
   ]
  },
  {
   "cell_type": "code",
   "execution_count": 68,
   "id": "6be58713",
   "metadata": {},
   "outputs": [],
   "source": [
    "#31\n",
    "from sklearn.linear_model import LinearRegression\n",
    "data['logM3'] = np.log(100 + data['M3'])"
   ]
  },
  {
   "cell_type": "code",
   "execution_count": 69,
   "id": "c503ef33",
   "metadata": {},
   "outputs": [],
   "source": [
    "X = data[['M1', 'logM3']]\n",
    "y = data['age']"
   ]
  },
  {
   "cell_type": "code",
   "execution_count": 70,
   "id": "67ca1870",
   "metadata": {},
   "outputs": [],
   "source": [
    "model = LinearRegression()"
   ]
  },
  {
   "cell_type": "code",
   "execution_count": 73,
   "id": "7bc3ab25",
   "metadata": {},
   "outputs": [
    {
     "data": {
      "text/plain": [
       "LinearRegression()"
      ]
     },
     "execution_count": 73,
     "metadata": {},
     "output_type": "execute_result"
    }
   ],
   "source": [
    "model.fit(X,y)"
   ]
  },
  {
   "cell_type": "code",
   "execution_count": 74,
   "id": "c8a51154",
   "metadata": {},
   "outputs": [
    {
     "data": {
      "text/plain": [
       "array([ 0.02565779, -3.78467532])"
      ]
     },
     "execution_count": 74,
     "metadata": {},
     "output_type": "execute_result"
    }
   ],
   "source": [
    "model.coef_"
   ]
  },
  {
   "cell_type": "code",
   "execution_count": 76,
   "id": "07de629a",
   "metadata": {},
   "outputs": [
    {
     "data": {
      "text/plain": [
       "37.024981343123116"
      ]
     },
     "execution_count": 76,
     "metadata": {},
     "output_type": "execute_result"
    }
   ],
   "source": [
    "model.intercept_"
   ]
  },
  {
   "cell_type": "code",
   "execution_count": 81,
   "id": "9c5dfcbe",
   "metadata": {},
   "outputs": [],
   "source": [
    "#32 \n",
    "from sklearn.metrics import mean_squared_error as MSE"
   ]
  },
  {
   "cell_type": "code",
   "execution_count": 82,
   "id": "16ef78ca",
   "metadata": {},
   "outputs": [
    {
     "data": {
      "text/plain": [
       "37.466299724201846"
      ]
     },
     "execution_count": 82,
     "metadata": {},
     "output_type": "execute_result"
    }
   ],
   "source": [
    "MSE(y, model.predict(X))"
   ]
  },
  {
   "cell_type": "code",
   "execution_count": null,
   "id": "379e1a23",
   "metadata": {},
   "outputs": [],
   "source": []
  }
 ],
 "metadata": {
  "kernelspec": {
   "display_name": "Python 3 (ipykernel)",
   "language": "python",
   "name": "python3"
  },
  "language_info": {
   "codemirror_mode": {
    "name": "ipython",
    "version": 3
   },
   "file_extension": ".py",
   "mimetype": "text/x-python",
   "name": "python",
   "nbconvert_exporter": "python",
   "pygments_lexer": "ipython3",
   "version": "3.9.12"
  }
 },
 "nbformat": 4,
 "nbformat_minor": 5
}
