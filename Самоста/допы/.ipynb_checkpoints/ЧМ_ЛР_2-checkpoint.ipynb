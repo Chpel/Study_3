{
 "cells": [
  {
   "cell_type": "code",
   "execution_count": 10,
   "id": "ae16c356",
   "metadata": {},
   "outputs": [],
   "source": [
    "import numpy as np\n",
    "from scipy.optimize import root_scalar\n",
    "import matplotlib.pyplot as plt"
   ]
  },
  {
   "cell_type": "markdown",
   "id": "65b138f8",
   "metadata": {},
   "source": [
    "# Задача 2.1.11"
   ]
  },
  {
   "cell_type": "code",
   "execution_count": 12,
   "id": "bd781745",
   "metadata": {},
   "outputs": [],
   "source": [
    "def f(x):\n",
    "    tgx = np.tan(x)\n",
    "    return tgx ** 2 - 28/9 * tgx + 1/3\n",
    "\n",
    "def g(x):\n",
    "    tgx = np.tan(x)\n",
    "    return tgx ** 2 - 6 * tgx + 9"
   ]
  },
  {
   "cell_type": "markdown",
   "id": "cd67fec3",
   "metadata": {},
   "source": [
    "## f(x)"
   ]
  },
  {
   "cell_type": "markdown",
   "id": "468b3b61",
   "metadata": {},
   "source": [
    "### Аналитически:\n",
    "\n",
    "$$[tg(x) = u]$$\n",
    "\n",
    "$$u^2 - \\frac{28}{9}u+1/3=0$$\n",
    "\n",
    "Теорема Виета:\n",
    "\n",
    "$$u_1 + u_2 = \\frac{28}{9},\\ \\ u_1 u_2 = 1/3 $$\n",
    "\n",
    "Получим:\n",
    "\n",
    "$$ u_1 = 3,\\ \\ u_2 = 1/9 $$\n",
    "\n",
    "$$ tg(x_1) = 3,\\ \\ x_1 = arctg(3) + \\pi n $$\n",
    "\n",
    "$$ tg(x_2) = 1/9,\\ \\ x_2 = arctg(1/9) + \\pi n $$"
   ]
  },
  {
   "cell_type": "code",
   "execution_count": 7,
   "id": "8c66e463",
   "metadata": {},
   "outputs": [
    {
     "data": {
      "text/plain": [
       "1.2490457723982544"
      ]
     },
     "execution_count": 7,
     "metadata": {},
     "output_type": "execute_result"
    }
   ],
   "source": [
    "np.arctan(3)"
   ]
  },
  {
   "cell_type": "code",
   "execution_count": 8,
   "id": "095d2d7d",
   "metadata": {},
   "outputs": [
    {
     "data": {
      "text/plain": [
       "0.11065722117389563"
      ]
     },
     "execution_count": 8,
     "metadata": {},
     "output_type": "execute_result"
    }
   ],
   "source": [
    "np.arctan(1/9)"
   ]
  },
  {
   "cell_type": "code",
   "execution_count": 18,
   "id": "221309ce",
   "metadata": {},
   "outputs": [
    {
     "data": {
      "image/png": "[encoded data removed]",
      "text/plain": [
       "<Figure size 432x288 with 1 Axes>"
      ]
     },
     "metadata": {
      "needs_background": "light"
     },
     "output_type": "display_data"
    }
   ],
   "source": [
    "x = np.linspace(0, 1.5, 100)\n",
    "plt.plot(x, f(x));"
   ]
  },
  {
   "cell_type": "code",
   "execution_count": 31,
   "id": "f7dde1ee",
   "metadata": {},
   "outputs": [
    {
     "data": {
      "image/png": "[encoded data removed]",
      "text/plain": [
       "<Figure size 432x288 with 1 Axes>"
      ]
     },
     "metadata": {
      "needs_background": "light"
     },
     "output_type": "display_data"
    }
   ],
   "source": [
    "x = np.linspace(0, 1.3, 100)\n",
    "plt.plot(x, f(x));\n",
    "plt.axhline(0, color='k');\n",
    "x_gran = [0., 0.2, 1.1, 1.3]\n",
    "plt.vlines(x_gran, f(x_gran), 0*len(x_gran));"
   ]
  },
  {
   "cell_type": "markdown",
   "id": "79fd0f9e",
   "metadata": {},
   "source": [
    "$$ x_1 \\in [0, 0.2]$$\n",
    "$$ x_2 \\in [1.1, 1.3]$$"
   ]
  },
  {
   "cell_type": "code",
   "execution_count": 52,
   "id": "ebd42bef",
   "metadata": {},
   "outputs": [],
   "source": [
    "def bisec(f, a, b, eps):\n",
    "    a_n = a\n",
    "    b_n = b\n",
    "    k = 0\n",
    "    xn=0\n",
    "    while abs(b_n - a_n) > 2*eps or k < 1000:\n",
    "        xn = (a_n + b_n) / 2\n",
    "        fa = f(a)\n",
    "        fb = f(b)\n",
    "        fxn = f(xn)\n",
    "        if fa * fxn < 0:\n",
    "            b_n = xn\n",
    "        else:\n",
    "            a_n = xn\n",
    "        k += 1\n",
    "    return xn, k"
   ]
  },
  {
   "cell_type": "code",
   "execution_count": 41,
   "id": "a7a96b4d",
   "metadata": {},
   "outputs": [
    {
     "data": {
      "text/plain": [
       "(0.1106572212651372, 30)"
      ]
     },
     "execution_count": 41,
     "metadata": {},
     "output_type": "execute_result"
    }
   ],
   "source": [
    "bisec(f, 0, 0.2, 1e-10)"
   ]
  },
  {
   "cell_type": "code",
   "execution_count": 44,
   "id": "e8a38ce1",
   "metadata": {},
   "outputs": [
    {
     "data": {
      "text/plain": [
       "(1.24904577229172, 30)"
      ]
     },
     "execution_count": 44,
     "metadata": {},
     "output_type": "execute_result"
    }
   ],
   "source": [
    "bisec(f, 1.1, 1.3, 1e-10)"
   ]
  },
  {
   "cell_type": "code",
   "execution_count": 43,
   "id": "839b8ed0",
   "metadata": {},
   "outputs": [
    {
     "data": {
      "text/plain": [
       "      converged: True\n",
       "           flag: 'converged'\n",
       " function_calls: 7\n",
       "     iterations: 6\n",
       "           root: 0.11065722117389565"
      ]
     },
     "execution_count": 43,
     "metadata": {},
     "output_type": "execute_result"
    }
   ],
   "source": [
    "root_scalar(f, bracket=(0,0.2), xtol=1e-10)"
   ]
  },
  {
   "cell_type": "code",
   "execution_count": 46,
   "id": "1b154aa0",
   "metadata": {},
   "outputs": [
    {
     "data": {
      "text/plain": [
       "      converged: True\n",
       "           flag: 'converged'\n",
       " function_calls: 9\n",
       "     iterations: 8\n",
       "           root: 1.2490457723982544"
      ]
     },
     "execution_count": 46,
     "metadata": {},
     "output_type": "execute_result"
    }
   ],
   "source": [
    "root_scalar(f, bracket=(1.1,1.3), xtol=1e-10)"
   ]
  },
  {
   "cell_type": "markdown",
   "id": "74aceffd",
   "metadata": {},
   "source": [
    "## g(x)"
   ]
  },
  {
   "cell_type": "markdown",
   "id": "5886b1ef",
   "metadata": {},
   "source": [
    "### Аналитически:\n",
    "\n",
    "$$[tg(x) = u]$$\n",
    "\n",
    "$$u^2 - 6u+9=0$$\n",
    "\n",
    "Полный квадрат выделяем.\n",
    "\n",
    "Получим:\n",
    "\n",
    "$$ u_1 = u_2 = 3 $$\n",
    "\n",
    "$$ x_1 = x_2 = arctg(3) + \\pi n $$"
   ]
  },
  {
   "cell_type": "code",
   "execution_count": 7,
   "id": "beb6ae38",
   "metadata": {},
   "outputs": [
    {
     "data": {
      "text/plain": [
       "1.2490457723982544"
      ]
     },
     "execution_count": 7,
     "metadata": {},
     "output_type": "execute_result"
    }
   ],
   "source": [
    "np.arctan(3)"
   ]
  },
  {
   "cell_type": "code",
   "execution_count": 47,
   "id": "fd46f0d8",
   "metadata": {},
   "outputs": [
    {
     "data": {
      "image/png": "[encoded data removed]",
      "text/plain": [
       "<Figure size 432x288 with 1 Axes>"
      ]
     },
     "metadata": {
      "needs_background": "light"
     },
     "output_type": "display_data"
    }
   ],
   "source": [
    "x = np.linspace(0, 1.5, 100)\n",
    "plt.plot(x, g(x));"
   ]
  },
  {
   "cell_type": "code",
   "execution_count": 51,
   "id": "a02ba503",
   "metadata": {},
   "outputs": [
    {
     "data": {
      "image/png": "[encoded data removed]",
      "text/plain": [
       "<Figure size 432x288 with 1 Axes>"
      ]
     },
     "metadata": {
      "needs_background": "light"
     },
     "output_type": "display_data"
    }
   ],
   "source": [
    "x = np.linspace(1.1, 1.3, 100)\n",
    "plt.plot(x, g(x));\n",
    "plt.axhline(0, color='k');\n",
    "x_gran = [1.1, 1.3]\n",
    "plt.vlines(x_gran, g(x_gran), 0*len(x_gran));"
   ]
  },
  {
   "cell_type": "markdown",
   "id": "77d2de63",
   "metadata": {},
   "source": [
    "$$ x_1 = x_2 \\in [1.1, 1.3]$$"
   ]
  },
  {
   "cell_type": "code",
   "execution_count": 53,
   "id": "e0a3296f",
   "metadata": {},
   "outputs": [
    {
     "data": {
      "text/plain": [
       "(1.2999999999999998, 1000)"
      ]
     },
     "execution_count": 53,
     "metadata": {},
     "output_type": "execute_result"
    }
   ],
   "source": [
    "bisec(g, 1.1, 1.3, 1e-10)"
   ]
  },
  {
   "cell_type": "code",
   "execution_count": 54,
   "id": "64c315cb",
   "metadata": {},
   "outputs": [
    {
     "ename": "ValueError",
     "evalue": "f(a) and f(b) must have different signs",
     "output_type": "error",
     "traceback": [
      "\u001b[1;31m---------------------------------------------------------------------------\u001b[0m",
      "\u001b[1;31mValueError\u001b[0m                                Traceback (most recent call last)",
      "Input \u001b[1;32mIn [54]\u001b[0m, in \u001b[0;36m<cell line: 1>\u001b[1;34m()\u001b[0m\n\u001b[1;32m----> 1\u001b[0m \u001b[43mroot_scalar\u001b[49m\u001b[43m(\u001b[49m\u001b[43mg\u001b[49m\u001b[43m,\u001b[49m\u001b[43m \u001b[49m\u001b[43mbracket\u001b[49m\u001b[38;5;241;43m=\u001b[39;49m\u001b[43m(\u001b[49m\u001b[38;5;241;43m1.1\u001b[39;49m\u001b[43m,\u001b[49m\u001b[38;5;241;43m1.3\u001b[39;49m\u001b[43m)\u001b[49m\u001b[43m,\u001b[49m\u001b[43m \u001b[49m\u001b[43mxtol\u001b[49m\u001b[38;5;241;43m=\u001b[39;49m\u001b[38;5;241;43m1e-10\u001b[39;49m\u001b[43m)\u001b[49m\n",
      "File \u001b[1;32mD:\\ProgramFiles\\anaconda3\\lib\\site-packages\\scipy\\optimize\\_root_scalar.py:249\u001b[0m, in \u001b[0;36mroot_scalar\u001b[1;34m(f, args, method, bracket, fprime, fprime2, x0, x1, xtol, rtol, maxiter, options)\u001b[0m\n\u001b[0;32m    246\u001b[0m         \u001b[38;5;28;01mraise\u001b[39;00m \u001b[38;5;167;01mValueError\u001b[39;00m(\u001b[38;5;124m'\u001b[39m\u001b[38;5;124mBracket needed for \u001b[39m\u001b[38;5;132;01m%s\u001b[39;00m\u001b[38;5;124m'\u001b[39m \u001b[38;5;241m%\u001b[39m method)\n\u001b[0;32m    248\u001b[0m     a, b \u001b[38;5;241m=\u001b[39m bracket[:\u001b[38;5;241m2\u001b[39m]\n\u001b[1;32m--> 249\u001b[0m     r, sol \u001b[38;5;241m=\u001b[39m methodc(f, a, b, args\u001b[38;5;241m=\u001b[39margs, \u001b[38;5;241m*\u001b[39m\u001b[38;5;241m*\u001b[39mkwargs)\n\u001b[0;32m    250\u001b[0m \u001b[38;5;28;01melif\u001b[39;00m meth \u001b[38;5;129;01min\u001b[39;00m [\u001b[38;5;124m'\u001b[39m\u001b[38;5;124msecant\u001b[39m\u001b[38;5;124m'\u001b[39m]:\n\u001b[0;32m    251\u001b[0m     \u001b[38;5;28;01mif\u001b[39;00m x0 \u001b[38;5;129;01mis\u001b[39;00m \u001b[38;5;28;01mNone\u001b[39;00m:\n",
      "File \u001b[1;32mD:\\ProgramFiles\\anaconda3\\lib\\site-packages\\scipy\\optimize\\zeros.py:776\u001b[0m, in \u001b[0;36mbrentq\u001b[1;34m(f, a, b, args, xtol, rtol, maxiter, full_output, disp)\u001b[0m\n\u001b[0;32m    774\u001b[0m \u001b[38;5;28;01mif\u001b[39;00m rtol \u001b[38;5;241m<\u001b[39m _rtol:\n\u001b[0;32m    775\u001b[0m     \u001b[38;5;28;01mraise\u001b[39;00m \u001b[38;5;167;01mValueError\u001b[39;00m(\u001b[38;5;124m\"\u001b[39m\u001b[38;5;124mrtol too small (\u001b[39m\u001b[38;5;132;01m%g\u001b[39;00m\u001b[38;5;124m < \u001b[39m\u001b[38;5;132;01m%g\u001b[39;00m\u001b[38;5;124m)\u001b[39m\u001b[38;5;124m\"\u001b[39m \u001b[38;5;241m%\u001b[39m (rtol, _rtol))\n\u001b[1;32m--> 776\u001b[0m r \u001b[38;5;241m=\u001b[39m \u001b[43m_zeros\u001b[49m\u001b[38;5;241;43m.\u001b[39;49m\u001b[43m_brentq\u001b[49m\u001b[43m(\u001b[49m\u001b[43mf\u001b[49m\u001b[43m,\u001b[49m\u001b[43m \u001b[49m\u001b[43ma\u001b[49m\u001b[43m,\u001b[49m\u001b[43m \u001b[49m\u001b[43mb\u001b[49m\u001b[43m,\u001b[49m\u001b[43m \u001b[49m\u001b[43mxtol\u001b[49m\u001b[43m,\u001b[49m\u001b[43m \u001b[49m\u001b[43mrtol\u001b[49m\u001b[43m,\u001b[49m\u001b[43m \u001b[49m\u001b[43mmaxiter\u001b[49m\u001b[43m,\u001b[49m\u001b[43m \u001b[49m\u001b[43margs\u001b[49m\u001b[43m,\u001b[49m\u001b[43m \u001b[49m\u001b[43mfull_output\u001b[49m\u001b[43m,\u001b[49m\u001b[43m \u001b[49m\u001b[43mdisp\u001b[49m\u001b[43m)\u001b[49m\n\u001b[0;32m    777\u001b[0m \u001b[38;5;28;01mreturn\u001b[39;00m results_c(full_output, r)\n",
      "\u001b[1;31mValueError\u001b[0m: f(a) and f(b) must have different signs"
     ]
    }
   ],
   "source": [
    "root_scalar(g, bracket=(1.1,1.3), xtol=1e-10)"
   ]
  },
  {
   "cell_type": "markdown",
   "id": "025df619",
   "metadata": {},
   "source": [
    "## Вывод\n",
    "Метод бисекции, ровно как в другие методы поиска корней уравнения, требующие лишь локализации, не способны проводить вычисления, если функция на краях локализованной зоны не имеет значения разных знаков, что видно во втором случае.\n",
    "\n",
    "Заметно, что метод бисекции при успешных для его применения условиях находит корень с постоянной скоростью, уменьшая погрешность на каждом шаге в два раза. Рез-ы показывают, что метод уступает реализациям поиска корня в пакете Scipy."
   ]
  },
  {
   "cell_type": "markdown",
   "id": "da1469f3",
   "metadata": {},
   "source": [
    "# Задача 2.6.2"
   ]
  },
  {
   "cell_type": "code",
   "execution_count": 75,
   "id": "95a5555b",
   "metadata": {},
   "outputs": [],
   "source": [
    "def f(x):\n",
    "    return np.sqrt(2-np.power(x,2)) - np.exp(x)"
   ]
  },
  {
   "cell_type": "markdown",
   "id": "b74b7686",
   "metadata": {},
   "source": [
    "## Локализация"
   ]
  },
  {
   "cell_type": "code",
   "execution_count": 80,
   "id": "88bcaca3",
   "metadata": {},
   "outputs": [
    {
     "data": {
      "image/png": "[encoded data removed]",
      "text/plain": [
       "<Figure size 432x288 with 1 Axes>"
      ]
     },
     "metadata": {
      "needs_background": "light"
     },
     "output_type": "display_data"
    }
   ],
   "source": [
    "x = np.linspace(-np.sqrt(1.99), 1.3, 200)\n",
    "plt.plot(x, f(x));\n",
    "plt.axhline(0, color='k');\n",
    "x_gran = [-1.4, -1.35, 0., 0.5]\n",
    "plt.vlines(x_gran, f(x_gran), 0*len(x_gran));"
   ]
  },
  {
   "cell_type": "markdown",
   "id": "33d5867f",
   "metadata": {},
   "source": [
    "$$ x_1 \\in [-1.4, -1.35]$$\n",
    "$$ x_1 \\in [0., 0.5]$$"
   ]
  },
  {
   "cell_type": "markdown",
   "id": "26531e8f",
   "metadata": {},
   "source": [
    "## Производная"
   ]
  },
  {
   "cell_type": "code",
   "execution_count": 78,
   "id": "4e850770",
   "metadata": {},
   "outputs": [],
   "source": [
    "def f_der(x):\n",
    "    return -x/np.sqrt(2-np.power(x,2)) - np.exp(x)"
   ]
  },
  {
   "cell_type": "markdown",
   "id": "55c894cb",
   "metadata": {},
   "source": [
    "## Ньютон"
   ]
  },
  {
   "cell_type": "code",
   "execution_count": 86,
   "id": "362c4968",
   "metadata": {},
   "outputs": [],
   "source": [
    "def newton_iteration(f, fder, x0, eps=1e-5, maxiter=100):\n",
    "    i = 0\n",
    "    x_0 = x0\n",
    "    while i < maxiter:\n",
    "        x_1 = x_0 - f(x_0) / fder(x_0)\n",
    "        if abs(x_1 - x_0) < eps:\n",
    "            break\n",
    "        i += 1\n",
    "        x_0 = x_1\n",
    "    return x_1, i"
   ]
  },
  {
   "cell_type": "code",
   "execution_count": 92,
   "id": "5dc4da19",
   "metadata": {},
   "outputs": [
    {
     "name": "stdout",
     "output_type": "stream",
     "text": [
      "eps=1e-5: (-1.392204894033541, 4)\n",
      "eps=1e-12: (-1.3922048940333005, 5)\n"
     ]
    }
   ],
   "source": [
    "print(f'eps=1e-5: {newton_iteration(f, f_der, -1.35, 1e-5)}')\n",
    "print(f'eps=1e-12: {newton_iteration(f, f_der, -1.35, 1e-12)}')"
   ]
  },
  {
   "cell_type": "code",
   "execution_count": 93,
   "id": "0ff44b01",
   "metadata": {},
   "outputs": [
    {
     "name": "stdout",
     "output_type": "stream",
     "text": [
      "eps=1e-5: (0.32025238556103663, 2)\n",
      "eps=1e-12: (0.32025238551809854, 4)\n"
     ]
    }
   ],
   "source": [
    "print(f'eps=1e-5: {newton_iteration(f, f_der, 0.25, 1e-5)}')\n",
    "print(f'eps=1e-12: {newton_iteration(f, f_der, 0.25, 1e-12)}')"
   ]
  },
  {
   "cell_type": "markdown",
   "id": "798f70f4",
   "metadata": {},
   "source": [
    "## Метод Ложного положения"
   ]
  },
  {
   "cell_type": "code",
   "execution_count": 114,
   "id": "cfd312c5",
   "metadata": {},
   "outputs": [],
   "source": [
    "def hord(f, fder, a, b, eps=1e-5, maxiter=100):\n",
    "    i = 0\n",
    "    x0 = a\n",
    "    x1 = b\n",
    "    while i < maxiter:\n",
    "        x2 = x1 - (x1 - x0) * f(x1) / (f(x1) - f(x0))\n",
    "        if abs(x2 - x1) < eps:\n",
    "            break\n",
    "        i += 1\n",
    "        x0 = x1\n",
    "        x1 = x2\n",
    "    return x2, i"
   ]
  },
  {
   "cell_type": "code",
   "execution_count": 116,
   "id": "c1de4ceb",
   "metadata": {},
   "outputs": [
    {
     "name": "stdout",
     "output_type": "stream",
     "text": [
      "eps=1e-5: (-1.3922048945537802, 4)\n",
      "eps=1e-12: (-1.3922048940333005, 6)\n"
     ]
    }
   ],
   "source": [
    "print(f'eps=1e-5: {hord(f, f_der, -1.4, -1.35, 1e-5)}')\n",
    "print(f'eps=1e-12: {hord(f, f_der, -1.4, -1.35, 1e-12)}')"
   ]
  },
  {
   "cell_type": "code",
   "execution_count": 119,
   "id": "a77b922a",
   "metadata": {},
   "outputs": [
    {
     "name": "stdout",
     "output_type": "stream",
     "text": [
      "eps=1e-5: (0.32025238548610174, 4)\n",
      "eps=1e-12: (0.3202523855180986, 6)\n"
     ]
    }
   ],
   "source": [
    "print(f'eps=1e-5: {hord(f, f_der, 0, 0.5, 1e-5)}')\n",
    "print(f'eps=1e-12: {hord(f, f_der, 0, 0.5, 1e-12)}')"
   ]
  },
  {
   "cell_type": "markdown",
   "id": "2fbe6132",
   "metadata": {},
   "source": [
    "## Истинный ответ"
   ]
  },
  {
   "cell_type": "code",
   "execution_count": 105,
   "id": "5cc598bc",
   "metadata": {},
   "outputs": [
    {
     "data": {
      "text/plain": [
       "      converged: True\n",
       "           flag: 'converged'\n",
       " function_calls: 6\n",
       "     iterations: 3\n",
       "           root: 0.32025238556103663"
      ]
     },
     "execution_count": 105,
     "metadata": {},
     "output_type": "execute_result"
    }
   ],
   "source": [
    "root_scalar(f, fprime=f_der, x0=0.25, xtol=1e-5)"
   ]
  },
  {
   "cell_type": "code",
   "execution_count": 117,
   "id": "499c2532",
   "metadata": {},
   "outputs": [
    {
     "data": {
      "text/plain": [
       "      converged: True\n",
       "           flag: 'converged'\n",
       " function_calls: 9\n",
       "     iterations: 4\n",
       "           root: 0.32025238551809854"
      ]
     },
     "execution_count": 117,
     "metadata": {},
     "output_type": "execute_result"
    }
   ],
   "source": [
    "root_scalar(f, fprime=f_der, x0=0.25, xtol=1e-12)"
   ]
  },
  {
   "cell_type": "code",
   "execution_count": 106,
   "id": "d95da43a",
   "metadata": {
    "scrolled": true
   },
   "outputs": [
    {
     "data": {
      "text/plain": [
       "      converged: True\n",
       "           flag: 'converged'\n",
       " function_calls: 10\n",
       "     iterations: 5\n",
       "           root: -1.3922048940333005"
      ]
     },
     "execution_count": 106,
     "metadata": {},
     "output_type": "execute_result"
    }
   ],
   "source": [
    "root_scalar(f, fprime=f_der, x0=-1.36, xtol=1e-5)"
   ]
  },
  {
   "cell_type": "code",
   "execution_count": 118,
   "id": "37e47148",
   "metadata": {},
   "outputs": [
    {
     "data": {
      "text/plain": [
       "      converged: True\n",
       "           flag: 'converged'\n",
       " function_calls: 12\n",
       "     iterations: 6\n",
       "           root: -1.3922048940333005"
      ]
     },
     "execution_count": 118,
     "metadata": {},
     "output_type": "execute_result"
    }
   ],
   "source": [
    "root_scalar(f, fprime=f_der, x0=-1.36, xtol=1e-12)"
   ]
  },
  {
   "cell_type": "markdown",
   "id": "41cce43d",
   "metadata": {},
   "source": [
    "## Вывод \n",
    "\n",
    "Метод ложного положения оказался незначительно медленнее метода Ньютона."
   ]
  },
  {
   "cell_type": "markdown",
   "id": "113f28d6",
   "metadata": {},
   "source": [
    "# Задача 2.9.4"
   ]
  },
  {
   "cell_type": "markdown",
   "id": "b3dad90d",
   "metadata": {},
   "source": []
  }
 ],
 "metadata": {
  "kernelspec": {
   "display_name": "Python 3 (ipykernel)",
   "language": "python",
   "name": "python3"
  },
  "language_info": {
   "codemirror_mode": {
    "name": "ipython",
    "version": 3
   },
   "file_extension": ".py",
   "mimetype": "text/x-python",
   "name": "python",
   "nbconvert_exporter": "python",
   "pygments_lexer": "ipython3",
   "version": "3.9.12"
  }
 },
 "nbformat": 4,
 "nbformat_minor": 5
}
