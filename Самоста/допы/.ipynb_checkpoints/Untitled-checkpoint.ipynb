{
 "cells": [
  {
   "cell_type": "code",
   "execution_count": 1,
   "id": "dietary-accent",
   "metadata": {},
   "outputs": [],
   "source": [
    "import numpy as np\n",
    "import matplotlib.pyplot as plt\n",
    "from IPython.display import clear_output\n",
    "from time import sleep"
   ]
  },
  {
   "cell_type": "markdown",
   "id": "unlike-liverpool",
   "metadata": {},
   "source": [
    "$ \\frac{\\partial T}{\\partial t} + u\\frac{\\partial T}{\\partial x} + v \\frac{\\partial T}{\\partial y} = D \\frac{\\partial^2 T}{\\partial y^2} $\n",
    "\n",
    "$ T|_{t=0} = C$\n",
    "\n",
    "$ T|_{y=0} = D$\n",
    "\n",
    "$ T|_{x=\\pm A} = 0$\n",
    "\n",
    "$ \\frac{\\partial T}{\\partial y}|_{y=B} = 0$\n",
    "\n",
    "$ x \\in [-A, A]$\n",
    "\n",
    "$ y \\in [0, B] $"
   ]
  },
  {
   "cell_type": "code",
   "execution_count": 2,
   "id": "entitled-seventh",
   "metadata": {},
   "outputs": [],
   "source": [
    "A = 10\n",
    "B = 10\n",
    "C = 5\n",
    "D = 10\n",
    "dx = 0.1\n",
    "dt = 0.1\n",
    "T_end = 10"
   ]
  },
  {
   "cell_type": "code",
   "execution_count": 3,
   "id": "raised-stereo",
   "metadata": {},
   "outputs": [],
   "source": [
    "def init(A, B, C, D, dx, dt):\n",
    "    Nt = int(T_end / dt)\n",
    "    Nx = int(2 * A / dx)\n",
    "    Ny = int(B / dx)\n",
    "    T0 = np.zeros((Ny, Nx))\n",
    "    T0.fill(C)\n",
    "    T0[0,:] = D\n",
    "    T0[:,0] = 0\n",
    "    T0[:,-1] = 0\n",
    "    T1 = T0.copy()\n",
    "    return T1, T0\n",
    "\n",
    "T1, T0 = init(A, B, C, D, dx, dt)"
   ]
  },
  {
   "cell_type": "code",
   "execution_count": 4,
   "id": "committed-therapy",
   "metadata": {},
   "outputs": [
    {
     "data": {
      "image/png": "[encoded data removed]",
      "text/plain": [
       "<Figure size 720x360 with 2 Axes>"
      ]
     },
     "metadata": {
      "needs_background": "light"
     },
     "output_type": "display_data"
    }
   ],
   "source": [
    "ticks = np.linspace(-A,A,11)\n",
    "extent=(-A,A,0,B)\n",
    "\n",
    "plt.figure(figsize=(10,5))\n",
    "plt.imshow(T0, extent=extent, origin='lower')\n",
    "plt.xticks(ticks);\n",
    "plt.colorbar();"
   ]
  },
  {
   "cell_type": "markdown",
   "id": "northern-bulgarian",
   "metadata": {},
   "source": [
    "$\\hat T_{i,j} = T_{i,j} + dt * (-u_{i,j} * \\frac{T_{i,j+1} - T_{i,j-1}}{2 dx} - v_{i,j} \\frac{T_{i,j} - T_{i-1,j}}{dx} + D * \\frac{T_{i+1,j} - 2 * T_{i,j} + T_{i-1,j}}{dx^2})$\n",
    "\n",
    "1) производная по x - краевая, левый край минус правый\n",
    "2) производная по y - правая, текущий слой минус предыдущий\n",
    "3) вторая производная по y - классическая"
   ]
  },
  {
   "cell_type": "code",
   "execution_count": 11,
   "id": "changing-invention",
   "metadata": {},
   "outputs": [],
   "source": [
    "def u(x,y,t):\n",
    "    return 1\n",
    "\n",
    "def v(x,y,t):\n",
    "    return 1\n",
    "\n",
    "D_diffusion=1\n",
    "\n",
    "def diffstep(T1, T, t, dt, dx, D):\n",
    "    y,x=T.shape\n",
    "    for i in range(1,y-1):\n",
    "        for j in range(1,x-1):\n",
    "            T1[i, j] = T[i,j] + dt * (-u(j*dx, i*dx, t) * (T[i, j] - T[i,j-1]) / (2*dx) + \\\n",
    "                                      -v(j*dx, i*dx, t) * (T[i, j] - T[i-1,j]) / (dx) + \\\n",
    "                                      3 * (T[i+1,j] - 2*T[i,j] + T[i-1, j]) / (dx ** 2)\n",
    "                                     )\n",
    "    T1[-1,:] = T1[-2,:]"
   ]
  },
  {
   "cell_type": "code",
   "execution_count": 12,
   "id": "stuck-means",
   "metadata": {},
   "outputs": [],
   "source": [
    "dt=0.001\n",
    "T1, T0 = init(A, B, C, D, dx, dt)\n",
    "plot = False\n",
    "\n",
    "for i in range(100):\n",
    "    if plot:\n",
    "        clear_output(wait=True)\n",
    "        plt.figure(figsize=(9,6))\n",
    "        plt.plot(T0[:,5])\n",
    "        plt.title(fr'График функции в момент времени t = {i} * $\\Delta\\tau$')\n",
    "        plt.show()\n",
    "        sleep(2)\n",
    "    \n",
    "    diffstep(T1, T0, i*dt, dt, dx, D)\n",
    "    T0 = T1.copy()"
   ]
  },
  {
   "cell_type": "code",
   "execution_count": 31,
   "id": "26e2b86e",
   "metadata": {},
   "outputs": [],
   "source": [
    "def m(x, a):\n",
    "    return a*np.exp(-abs(x)**(1/2))\n",
    "\n",
    "def mchange_T(T, dx, a):\n",
    "    y,x = T.shape\n",
    "    y1 = y + (int(a // dx) + 1)\n",
    "    T_res = np.full((y1,x), np.nan)\n",
    "    for i in range(y):\n",
    "        for j in range(x):\n",
    "            shift = int(m(j*dx - A, a) // dx)\n",
    "            T_res[i+shift, j] = T[i,j]\n",
    "    return T_res"
   ]
  },
  {
   "cell_type": "code",
   "execution_count": 32,
   "id": "liberal-vault",
   "metadata": {},
   "outputs": [
    {
     "data": {
      "text/plain": [
       "<matplotlib.colorbar.Colorbar at 0x2d38c0c6580>"
      ]
     },
     "execution_count": 32,
     "metadata": {},
     "output_type": "execute_result"
    },
    {
     "data": {
      "image/png": "[encoded data removed]",
      "text/plain": [
       "<Figure size 720x360 with 2 Axes>"
      ]
     },
     "metadata": {
      "needs_background": "light"
     },
     "output_type": "display_data"
    }
   ],
   "source": [
    "#rows=100\n",
    "a = 1\n",
    "ticks = np.linspace(-A,A,11)\n",
    "extent=(-A,A,0,B+a)#rows*dx)\n",
    "\n",
    "T = mchange_T(T0, dx, a)\n",
    "\n",
    "plt.figure(figsize=(10,5))\n",
    "plt.imshow(T, extent=extent, origin='lower')\n",
    "#plt.xticks(ticks);\n",
    "plt.colorbar()"
   ]
  },
  {
   "cell_type": "code",
   "execution_count": 30,
   "id": "509711d4",
   "metadata": {},
   "outputs": [
    {
     "data": {
      "text/plain": [
       "<matplotlib.image.AxesImage at 0x2d38b053fd0>"
      ]
     },
     "execution_count": 30,
     "metadata": {},
     "output_type": "execute_result"
    },
    {
     "data": {
      "image/png": "[encoded data removed]",
      "text/plain": [
       "<Figure size 432x288 with 1 Axes>"
      ]
     },
     "metadata": {
      "needs_background": "light"
     },
     "output_type": "display_data"
    }
   ],
   "source": [
    "Tx = np.empty((20,20))\n",
    "Tx.fill(np.nan)\n",
    "plt.imshow(Tx)"
   ]
  },
  {
   "cell_type": "code",
   "execution_count": 171,
   "id": "moderate-institution",
   "metadata": {},
   "outputs": [
    {
     "data": {
      "text/plain": [
       "<matplotlib.legend.Legend at 0x249dfb9c6a0>"
      ]
     },
     "execution_count": 171,
     "metadata": {},
     "output_type": "execute_result"
    },
    {
     "data": {
      "image/png": "[encoded data removed]",
      "text/plain": [
       "<Figure size 432x288 with 1 Axes>"
      ]
     },
     "metadata": {
      "needs_background": "light"
     },
     "output_type": "display_data"
    }
   ],
   "source": [
    "plt.plot(T0[:,0], label='x=-A')\n",
    "plt.plot(T0[:,1], label='x=-A+dx')\n",
    "\n",
    "plt.plot(T0[:,-1], label='x=A')\n",
    "plt.plot(T0[:,-2], label='x=A-dx')\n",
    "plt.legend()"
   ]
  },
  {
   "cell_type": "code",
   "execution_count": 172,
   "id": "incoming-japanese",
   "metadata": {},
   "outputs": [
    {
     "data": {
      "text/plain": [
       "<matplotlib.legend.Legend at 0x249dfabce50>"
      ]
     },
     "execution_count": 172,
     "metadata": {},
     "output_type": "execute_result"
    },
    {
     "data": {
      "image/png": "[encoded data removed]",
      "text/plain": [
       "<Figure size 432x288 with 1 Axes>"
      ]
     },
     "metadata": {
      "needs_background": "light"
     },
     "output_type": "display_data"
    }
   ],
   "source": [
    "plt.plot(T0[0,:], label='y=0')\n",
    "plt.plot(T0[1,:], label='y=dy')\n",
    "plt.plot(T0[-1,:], label='y=B')\n",
    "plt.plot(T0[-2,:], label='y=B-dy')\n",
    "plt.legend()"
   ]
  },
  {
   "cell_type": "code",
   "execution_count": null,
   "id": "mighty-viking",
   "metadata": {},
   "outputs": [],
   "source": []
  }
 ],
 "metadata": {
  "kernelspec": {
   "display_name": "Python 3 (ipykernel)",
   "language": "python",
   "name": "python3"
  },
  "language_info": {
   "codemirror_mode": {
    "name": "ipython",
    "version": 3
   },
   "file_extension": ".py",
   "mimetype": "text/x-python",
   "name": "python",
   "nbconvert_exporter": "python",
   "pygments_lexer": "ipython3",
   "version": "3.9.12"
  }
 },
 "nbformat": 4,
 "nbformat_minor": 5
}
