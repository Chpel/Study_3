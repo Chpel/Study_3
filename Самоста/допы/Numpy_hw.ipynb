{
  "cells": [
    {
      "cell_type": "markdown",
      "metadata": {
        "id": "DXjqbZmqFrE4"
      },
      "source": [
        "# `Python` в науке и инженерии\n",
        "\n",
        "## Домашнее задание 1. `Numpy`\n",
        "\n",
        "Правила выполнения работы:\n",
        "\n",
        "- Решение каждой задачи должно располагаться в **ячейке типа \"Код\" под ячейкой с условием задачи**\n",
        "- **Результат** каждой задачи должен быть **выведен на экран**\n",
        "- **Запрещено** изменять ячейки с условиями задач каким-либо образом и перемещать их. За нарушение правила **штраф** 10% от оценки.\n",
        "- **Можно** добавлять любые ячейки: как код, так и текст.\n",
        "- Если в условии задачи не сказано иное, **не допускается** применение циклов `for`, `while`, генераторов списков и любых других циклов и их заменителей, не входящих в `numpy`\n",
        "- Задачи на 9 и 10 выполняются по желанию.\n",
        "- Файл домашнего задания должен иметь формат ipynb. За другие форматы  **штраф** 20% от оценки.\n",
        "- Часть 1 **необходимое** условие для проверки остальных частей домашнего задания.\n",
        "- Критерии оценивания в конце домашнего задания.\n",
        "\n"
      ]
    },
    {
      "cell_type": "markdown",
      "source": [
        "# 1. Часть 1\n"
      ],
      "metadata": {
        "id": "vM0jeJAhLa80"
      }
    },
    {
      "cell_type": "markdown",
      "metadata": {
        "id": "MwDWtv2UFrFA"
      },
      "source": [
        "**1. Импортировать модуль `numpy` под именем `np`**"
      ]
    },
    {
      "cell_type": "code",
      "execution_count": null,
      "metadata": {
        "id": "-qTzUpHJFrFB"
      },
      "outputs": [],
      "source": [
        "import numpy as np"
      ]
    },
    {
      "cell_type": "markdown",
      "metadata": {
        "id": "Td21YA2iFrFD"
      },
      "source": [
        "**2. Сгенерировать одномерный целочисленный массив от 5 до 50 включительно с шагом 5**"
      ]
    },
    {
      "cell_type": "code",
      "execution_count": null,
      "metadata": {
        "id": "BimbhwQnFrFE",
        "colab": {
          "base_uri": "https://localhost:8080/"
        },
        "outputId": "4748dbca-c470-40e4-c187-92e038b66844"
      },
      "outputs": [
        {
          "output_type": "execute_result",
          "data": {
            "text/plain": [
              "array([ 5, 10, 15, 20, 25, 30, 35, 40, 45, 50], dtype=int32)"
            ]
          },
          "metadata": {},
          "execution_count": 133
        }
      ],
      "source": [
        "start=5\n",
        "end=50\n",
        "step=5\n",
        "np.linspace(start, end, int((end-start)/step)+1, dtype=np.int32)"
      ]
    },
    {
      "cell_type": "markdown",
      "metadata": {
        "id": "VT4gtp7HFrFF"
      },
      "source": [
        "**3. Сгенерировать двумерный целочисленный массив от 100 до 1 включительно**"
      ]
    },
    {
      "cell_type": "code",
      "execution_count": null,
      "metadata": {
        "id": "EUr4MY4mFrFF",
        "colab": {
          "base_uri": "https://localhost:8080/"
        },
        "outputId": "24349971-39f3-4b6c-bf05-b9f4258e02a4"
      },
      "outputs": [
        {
          "output_type": "execute_result",
          "data": {
            "text/plain": [
              "array([[100],\n",
              "       [ 99],\n",
              "       [ 98],\n",
              "       [ 97],\n",
              "       [ 96],\n",
              "       [ 95],\n",
              "       [ 94],\n",
              "       [ 93],\n",
              "       [ 92],\n",
              "       [ 91],\n",
              "       [ 90],\n",
              "       [ 89],\n",
              "       [ 88],\n",
              "       [ 87],\n",
              "       [ 86],\n",
              "       [ 85],\n",
              "       [ 84],\n",
              "       [ 83],\n",
              "       [ 82],\n",
              "       [ 81],\n",
              "       [ 80],\n",
              "       [ 79],\n",
              "       [ 78],\n",
              "       [ 77],\n",
              "       [ 76],\n",
              "       [ 75],\n",
              "       [ 74],\n",
              "       [ 73],\n",
              "       [ 72],\n",
              "       [ 71],\n",
              "       [ 70],\n",
              "       [ 69],\n",
              "       [ 68],\n",
              "       [ 67],\n",
              "       [ 66],\n",
              "       [ 65],\n",
              "       [ 64],\n",
              "       [ 63],\n",
              "       [ 62],\n",
              "       [ 61],\n",
              "       [ 60],\n",
              "       [ 59],\n",
              "       [ 58],\n",
              "       [ 57],\n",
              "       [ 56],\n",
              "       [ 55],\n",
              "       [ 54],\n",
              "       [ 53],\n",
              "       [ 52],\n",
              "       [ 51],\n",
              "       [ 50],\n",
              "       [ 49],\n",
              "       [ 48],\n",
              "       [ 47],\n",
              "       [ 46],\n",
              "       [ 45],\n",
              "       [ 44],\n",
              "       [ 43],\n",
              "       [ 42],\n",
              "       [ 41],\n",
              "       [ 40],\n",
              "       [ 39],\n",
              "       [ 38],\n",
              "       [ 37],\n",
              "       [ 36],\n",
              "       [ 35],\n",
              "       [ 34],\n",
              "       [ 33],\n",
              "       [ 32],\n",
              "       [ 31],\n",
              "       [ 30],\n",
              "       [ 29],\n",
              "       [ 28],\n",
              "       [ 27],\n",
              "       [ 26],\n",
              "       [ 25],\n",
              "       [ 24],\n",
              "       [ 23],\n",
              "       [ 22],\n",
              "       [ 21],\n",
              "       [ 20],\n",
              "       [ 19],\n",
              "       [ 18],\n",
              "       [ 17],\n",
              "       [ 16],\n",
              "       [ 15],\n",
              "       [ 14],\n",
              "       [ 13],\n",
              "       [ 12],\n",
              "       [ 11],\n",
              "       [ 10],\n",
              "       [  9],\n",
              "       [  8],\n",
              "       [  7],\n",
              "       [  6],\n",
              "       [  5],\n",
              "       [  4],\n",
              "       [  3],\n",
              "       [  2],\n",
              "       [  1],\n",
              "       [  1]], dtype=int32)"
            ]
          },
          "metadata": {},
          "execution_count": 134
        }
      ],
      "source": [
        "np.linspace(100, 1, 101, dtype=np.int32).reshape(-1,1)"
      ]
    },
    {
      "cell_type": "markdown",
      "metadata": {
        "id": "2DAY6cbHFrFG"
      },
      "source": [
        "**4. Сгенерировать одномерный массив `x` и найти все `dx[i] = x[i+1] - x[i]`**"
      ]
    },
    {
      "cell_type": "code",
      "execution_count": null,
      "metadata": {
        "id": "4I3FtavJFrFH",
        "colab": {
          "base_uri": "https://localhost:8080/"
        },
        "outputId": "1a87b675-6eea-48a7-93b5-4ece4cdefe73"
      },
      "outputs": [
        {
          "output_type": "stream",
          "name": "stdout",
          "text": [
            "x = [0.77132064 0.02075195 0.63364823 0.74880388 0.49850701 0.22479665\n",
            " 0.19806286 0.76053071 0.16911084 0.08833981]\n",
            "dx = [-0.75056869  0.61289629  0.11515565 -0.25029687 -0.27371037 -0.02673378\n",
            "  0.56246785 -0.59141988 -0.08077102]\n"
          ]
        }
      ],
      "source": [
        "np.random.seed(10)\n",
        "x = np.random.rand(10)\n",
        "print('x =', x)\n",
        "print('dx =', np.diff(x))"
      ]
    },
    {
      "cell_type": "markdown",
      "metadata": {
        "id": "eUy_JhOFFrFH"
      },
      "source": [
        "**5. Сгенерировать одномерный массив `x` длины 20 и найти разницу между элементами с четными и нечетными индексами**"
      ]
    },
    {
      "cell_type": "code",
      "execution_count": null,
      "metadata": {
        "id": "POO-hYZKFrFH",
        "colab": {
          "base_uri": "https://localhost:8080/"
        },
        "outputId": "0ae71acf-eaf7-48c6-d450-ff0a82ddccc3"
      },
      "outputs": [
        {
          "output_type": "stream",
          "name": "stdout",
          "text": [
            "x = [0.77132064 0.02075195 0.63364823 0.74880388 0.49850701 0.22479665\n",
            " 0.19806286 0.76053071 0.16911084 0.08833981 0.68535982 0.95339335\n",
            " 0.00394827 0.51219226 0.81262096 0.61252607 0.72175532 0.29187607\n",
            " 0.91777412 0.71457578]\n",
            "x_even - x_odd = [ 0.75056869 -0.11515565  0.27371037 -0.56246785  0.08077102 -0.26803353\n",
            " -0.508244    0.20009489  0.42987925  0.20319834]\n"
          ]
        }
      ],
      "source": [
        "np.random.seed(10)\n",
        "x = np.random.rand(20)\n",
        "print('x =', x)\n",
        "print('x_even - x_odd =', x[::2] - x[1::2])"
      ]
    },
    {
      "cell_type": "markdown",
      "metadata": {
        "id": "DfybTBCiFrFI"
      },
      "source": [
        "**6. Сгенерировать одномерные массивы `x, y`, содержащие координаты 360 точек, расположенных равномерно на единичной окружности. Объединить их в один двумерный массив размера (360, 2)**"
      ]
    },
    {
      "cell_type": "code",
      "execution_count": null,
      "metadata": {
        "id": "07AXt0RpFrFI",
        "colab": {
          "base_uri": "https://localhost:8080/"
        },
        "outputId": "b955e841-b20f-4a9d-f750-69aad0c91c1a"
      },
      "outputs": [
        {
          "output_type": "execute_result",
          "data": {
            "text/plain": [
              "(360, 2)"
            ]
          },
          "metadata": {},
          "execution_count": 137
        }
      ],
      "source": [
        "phi = np.arange(0, 360) / 360 * 2 * np.pi\n",
        "r = np.full(360, 1)\n",
        "\n",
        "x = r * np.cos(phi)\n",
        "y = r * np.sin(phi)\n",
        "res = np.column_stack((x,y))\n",
        "res.shape"
      ]
    },
    {
      "cell_type": "markdown",
      "metadata": {
        "id": "ad3HXz97FrFI"
      },
      "source": [
        "**7. Сгенерировать массив формы (100, 2), содержащий координаты точек, расположенных на плоскости случайно. Найти точки: ближайшую и самую дальнюю по отношению к началу координат**\n",
        "\n",
        "Полезные функции для решения задачи:\n",
        "\n",
        "`np.linalg.norm`, `np.argmin`, `np.argmax`"
      ]
    },
    {
      "cell_type": "code",
      "execution_count": null,
      "metadata": {
        "id": "_-n_bfptFrFJ",
        "colab": {
          "base_uri": "https://localhost:8080/"
        },
        "outputId": "dd3e4f91-d77c-4b75-bc35-b9978f0403f1"
      },
      "outputs": [
        {
          "output_type": "stream",
          "name": "stdout",
          "text": [
            "closest =  [0.17481389 0.01463488]\n",
            "distant =  [0.92223279 0.92535687]\n"
          ]
        }
      ],
      "source": [
        "np.random.seed(10)\n",
        "x = np.random.rand(100,2)\n",
        "x_norm = np.linalg.norm(x, axis=1)\n",
        "print('closest = ', x[np.argmin(x_norm)])\n",
        "print('distant = ', x[np.argmax(x_norm)])"
      ]
    },
    {
      "cell_type": "markdown",
      "metadata": {
        "id": "FIT9PZ6TFrFK"
      },
      "source": [
        "**8. Создать двумерный массив размера (n, n) из нулей и единиц, расположенных в шахматном порядке**"
      ]
    },
    {
      "cell_type": "code",
      "execution_count": null,
      "metadata": {
        "id": "LQfRv_TOFrFK",
        "colab": {
          "base_uri": "https://localhost:8080/"
        },
        "outputId": "c6644793-e7af-43ab-cf74-3d7b490ec5c0"
      },
      "outputs": [
        {
          "output_type": "execute_result",
          "data": {
            "text/plain": [
              "array([[0, 1, 0, 1, 0, 1],\n",
              "       [1, 0, 1, 0, 1, 0],\n",
              "       [0, 1, 0, 1, 0, 1],\n",
              "       [1, 0, 1, 0, 1, 0],\n",
              "       [0, 1, 0, 1, 0, 1],\n",
              "       [1, 0, 1, 0, 1, 0]], dtype=int32)"
            ]
          },
          "metadata": {},
          "execution_count": 139
        }
      ],
      "source": [
        "n=6\n",
        "x = np.fromfunction(lambda i, j: (i+j) % 2, (n, n), dtype=np.int32)\n",
        "x"
      ]
    },
    {
      "cell_type": "markdown",
      "source": [
        "# 2. Часть 2"
      ],
      "metadata": {
        "id": "zFlNiYWLLsxy"
      }
    },
    {
      "cell_type": "markdown",
      "metadata": {
        "id": "gSIrfUPIFrFQ"
      },
      "source": [
        "**9. Загрузить массив из файла `array.txt` и дать ему имя `arr`. В массиве `arr` расположены координаты концов векторов $v_i$, начало которых находится в точке (0, 0).**"
      ]
    },
    {
      "cell_type": "code",
      "execution_count": null,
      "metadata": {
        "id": "O1u9aMI9FrFR",
        "colab": {
          "base_uri": "https://localhost:8080/"
        },
        "outputId": "edfff3ce-bca6-48b9-d0a5-951695d8751d"
      },
      "outputs": [
        {
          "output_type": "execute_result",
          "data": {
            "text/plain": [
              "array([[0.        , 0.06327615],\n",
              "       [0.02020202, 0.03733048],\n",
              "       [0.04040404, 0.0994418 ],\n",
              "       [0.06060606, 0.14756662],\n",
              "       [0.08080808, 0.10606517],\n",
              "       [0.1010101 , 0.15549711],\n",
              "       [0.12121212, 0.20341839],\n",
              "       [0.14141414, 0.17470747],\n",
              "       [0.16161616, 0.17199795],\n",
              "       [0.18181818, 0.22837941],\n",
              "       [0.2020202 , 0.22303732],\n",
              "       [0.22222222, 0.25212762],\n",
              "       [0.24242424, 0.28412745],\n",
              "       [0.26262626, 0.29592145],\n",
              "       [0.28282828, 0.3506811 ],\n",
              "       [0.3030303 , 0.3167656 ],\n",
              "       [0.32323232, 0.4074962 ],\n",
              "       [0.34343434, 0.38179309],\n",
              "       [0.36363636, 0.38297962],\n",
              "       [0.38383838, 0.39186297],\n",
              "       [0.4040404 , 0.45913998],\n",
              "       [0.42424242, 0.48485336],\n",
              "       [0.44444444, 0.51077277],\n",
              "       [0.46464646, 0.54009685],\n",
              "       [0.48484848, 0.49980859],\n",
              "       [0.50505051, 0.53557417],\n",
              "       [0.52525253, 0.51521539],\n",
              "       [0.54545455, 0.52982618],\n",
              "       [0.56565657, 0.60343236],\n",
              "       [0.58585859, 0.55536058],\n",
              "       [0.60606061, 0.6646595 ],\n",
              "       [0.62626263, 0.60368846],\n",
              "       [0.64646465, 0.60690348],\n",
              "       [0.66666667, 0.70146006],\n",
              "       [0.68686869, 0.72087976],\n",
              "       [0.70707071, 0.66622664],\n",
              "       [0.72727273, 0.71848708],\n",
              "       [0.74747475, 0.76491801],\n",
              "       [0.76767677, 0.77293688],\n",
              "       [0.78787879, 0.78352304],\n",
              "       [0.80808081, 0.76116121],\n",
              "       [0.82828283, 0.78692433],\n",
              "       [0.84848485, 0.82547605],\n",
              "       [0.86868687, 0.85780262],\n",
              "       [0.88888889, 0.85207407],\n",
              "       [0.90909091, 0.87299336],\n",
              "       [0.92929293, 0.81782268],\n",
              "       [0.94949495, 0.84170759],\n",
              "       [0.96969697, 0.85696495],\n",
              "       [0.98989899, 0.9225068 ],\n",
              "       [1.01010101, 0.86060953],\n",
              "       [1.03030303, 0.92088569],\n",
              "       [1.05050505, 0.88310072],\n",
              "       [1.07070707, 0.96955214],\n",
              "       [1.09090909, 0.90489654],\n",
              "       [1.11111111, 0.93273805],\n",
              "       [1.13131313, 0.91489248],\n",
              "       [1.15151515, 1.01216857],\n",
              "       [1.17171717, 0.94015668],\n",
              "       [1.19191919, 0.95977237],\n",
              "       [1.21212121, 0.96239341],\n",
              "       [1.23232323, 1.02715252],\n",
              "       [1.25252525, 1.04729524],\n",
              "       [1.27272727, 1.03721291],\n",
              "       [1.29292929, 1.04995831],\n",
              "       [1.31313131, 1.01488701],\n",
              "       [1.33333333, 1.0456568 ],\n",
              "       [1.35353535, 1.0453649 ],\n",
              "       [1.37373737, 0.98496312],\n",
              "       [1.39393939, 0.98910303],\n",
              "       [1.41414141, 0.99881113],\n",
              "       [1.43434343, 0.99511662],\n",
              "       [1.45454545, 1.07626429],\n",
              "       [1.47474747, 1.07567649],\n",
              "       [1.49494949, 1.08107436],\n",
              "       [1.51515152, 1.09367072],\n",
              "       [1.53535354, 1.05888482],\n",
              "       [1.55555556, 1.05541776],\n",
              "       [1.57575758, 1.05459551],\n",
              "       [1.5959596 , 1.06821168],\n",
              "       [1.61616162, 1.06801218],\n",
              "       [1.63636364, 1.017415  ],\n",
              "       [1.65656566, 1.09382776],\n",
              "       [1.67676768, 1.00302389],\n",
              "       [1.6969697 , 0.99741768],\n",
              "       [1.71717172, 1.07183758],\n",
              "       [1.73737374, 0.98821327],\n",
              "       [1.75757576, 1.03532468],\n",
              "       [1.77777778, 1.03388576],\n",
              "       [1.7979798 , 0.97810869],\n",
              "       [1.81818182, 1.03015647],\n",
              "       [1.83838384, 1.05678236],\n",
              "       [1.85858586, 1.02679916],\n",
              "       [1.87878788, 0.98879339],\n",
              "       [1.8989899 , 1.04083956],\n",
              "       [1.91919192, 0.95812386],\n",
              "       [1.93939394, 1.0305433 ],\n",
              "       [1.95959596, 0.93961553],\n",
              "       [1.97979798, 0.93644809],\n",
              "       [2.        , 0.94676982]])"
            ]
          },
          "metadata": {},
          "execution_count": 140
        }
      ],
      "source": [
        "arr = np.loadtxt('array.txt')\n",
        "arr"
      ]
    },
    {
      "cell_type": "markdown",
      "metadata": {
        "id": "aqCiADsKFrFS"
      },
      "source": [
        "**10. Посчитать углы в градусах между $v_i$ и $v_{i+1}$ векторами для всех $i$**"
      ]
    },
    {
      "cell_type": "code",
      "execution_count": null,
      "metadata": {
        "id": "F8rTMsSrFrFT",
        "colab": {
          "base_uri": "https://localhost:8080/"
        },
        "outputId": "6bd121e5-7088-49a9-d6bf-3c8401a3be70"
      },
      "outputs": [
        {
          "output_type": "execute_result",
          "data": {
            "text/plain": [
              "array([2.84207839e+01, 6.30846359e+00, 2.15784396e-01, 1.49746542e+01,\n",
              "       4.29521826e+00, 2.21784513e+00, 8.19818412e+00, 4.22970009e+00,\n",
              "       4.69346410e+00, 3.64517934e+00, 7.76734582e-01, 9.20967227e-01,\n",
              "       1.11702550e+00, 2.70204933e+00, 4.84390646e+00, 5.30847811e+00,\n",
              "       3.55033392e+00, 1.54358640e+00, 8.91381324e-01, 3.05971778e+00,\n",
              "       1.61942207e-01, 1.57765254e-01, 3.22394216e-01, 3.42408000e+00,\n",
              "       8.09681421e-01, 2.23282270e+00, 2.79989274e-01, 2.68339726e+00,\n",
              "       3.38151787e+00, 4.17111906e+00, 3.69177988e+00, 7.56405393e-01,\n",
              "       3.26467570e+00, 7.28070209e-02, 3.08755748e+00, 1.35539341e+00,\n",
              "       1.00896727e+00, 4.65170392e-01, 3.54441206e-01, 1.55378965e+00,\n",
              "       2.45829009e-01, 6.79289847e-01, 4.26284836e-01, 8.50206650e-01,\n",
              "       5.09963092e-02, 2.49024931e+00, 2.06985802e-01, 8.78399388e-02,\n",
              "       1.51327843e+00, 2.55065024e+00, 1.35925911e+00, 1.73848597e+00,\n",
              "       2.10974639e+00, 2.48631495e+00, 3.36940953e-01, 1.04980268e+00,\n",
              "       2.35264494e+00, 2.57240953e+00, 9.94661741e-02, 3.93474637e-01,\n",
              "       1.36282971e+00, 8.90698342e-02, 7.22164662e-01, 9.91543470e-02,\n",
              "       1.37970431e+00, 4.05496169e-01, 4.25361219e-01, 2.03935021e+00,\n",
              "       2.81824436e-01, 1.24874141e-01, 4.81562334e-01, 1.74683110e+00,\n",
              "       3.92010632e-01, 2.34287696e-01, 5.00089118e-02, 1.22980265e+00,\n",
              "       4.36583351e-01, 3.63306410e-01, 2.37322399e-03, 3.37260305e-01,\n",
              "       1.58659356e+00, 1.56528951e+00, 2.54932428e+00, 4.41918470e-01,\n",
              "       1.52642701e+00, 2.34080915e+00, 8.69712690e-01, 3.20207542e-01,\n",
              "       1.63422236e+00, 9.88906805e-01, 3.56861224e-01, 9.73139175e-01,\n",
              "       1.16147885e+00, 9.69692117e-01, 2.19733970e+00, 1.45512814e+00,\n",
              "       2.36754722e+00, 3.03227451e-01, 1.79329754e-02])"
            ]
          },
          "metadata": {},
          "execution_count": 141
        }
      ],
      "source": [
        "arr1 = arr[:-1]\n",
        "arr2 = arr[1:]\n",
        "res = np.sum(arr1 * arr2, axis=1)\n",
        "np.arccos(res / np.linalg.norm(arr1, axis=1) / np.linalg.norm(arr2, axis=1)) / np.pi * 180"
      ]
    },
    {
      "cell_type": "markdown",
      "metadata": {
        "id": "YNOm5RJRFrFU"
      },
      "source": [
        "**11. Повернуть векторы $v_i$ на угол 30 градусов против часовой стрелки для всех $i$**"
      ]
    },
    {
      "cell_type": "code",
      "execution_count": null,
      "metadata": {
        "id": "hjEvrGtZFrFW",
        "colab": {
          "base_uri": "https://localhost:8080/",
          "height": 545
        },
        "outputId": "83c3f98f-df41-4b27-a5a5-01edc7a76efc"
      },
      "outputs": [
        {
          "output_type": "execute_result",
          "data": {
            "text/plain": [
              "<matplotlib.legend.Legend at 0x7f5e8d374670>"
            ]
          },
          "metadata": {},
          "execution_count": 142
        },
        {
          "output_type": "display_data",
          "data": {
            "text/plain": [
              "<Figure size 600x600 with 1 Axes>"
            ],
            "image/png": "[encoded data removed]"
          },
          "metadata": {}
        }
      ],
      "source": [
        "import matplotlib.pyplot as plt\n",
        "\n",
        "phi=np.pi/6\n",
        "A = np.array([[np.cos(phi),-np.sin(phi)],[np.sin(phi), np.cos(phi)]])\n",
        "arr_res = (A @ arr.T).T\n",
        "plt.figure(figsize=(6,6))\n",
        "plt.scatter(arr[:,0], arr[:,1], label='old')\n",
        "plt.scatter(arr_res[:,0], arr_res[:,1], label='new')\n",
        "plt.xlim(0,3)\n",
        "plt.ylim(0,3)\n",
        "plt.legend()"
      ]
    },
    {
      "cell_type": "markdown",
      "source": [
        "**12. Написать функцию, которая вычисляет среднее, медиану, стандартное отклонение и дисперсию заданного массива. Функция должна принимать на вход массив, возвращать словарь значений.**"
      ],
      "metadata": {
        "id": "CTsuq_jtMsxX"
      }
    },
    {
      "cell_type": "code",
      "source": [
        "def stats(arr):\n",
        "    res = {}\n",
        "    res['mean'] = arr.mean()\n",
        "    res['median'] = np.median(arr)\n",
        "    res['std'] = arr.std()\n",
        "    res['var'] = arr.var()\n",
        "    return res"
      ],
      "metadata": {
        "id": "6Zh06X-hTTe0"
      },
      "execution_count": null,
      "outputs": []
    },
    {
      "cell_type": "code",
      "source": [
        "example = np.array([1,2,3,4,5])\n",
        "stats(example)"
      ],
      "metadata": {
        "colab": {
          "base_uri": "https://localhost:8080/"
        },
        "id": "dVWFAizQhAhr",
        "outputId": "0355deb6-e258-49fe-dfa8-2fed56c72a8f"
      },
      "execution_count": null,
      "outputs": [
        {
          "output_type": "execute_result",
          "data": {
            "text/plain": [
              "{'mean': 3.0, 'median': 3.0, 'std': 1.4142135623730951, 'var': 2.0}"
            ]
          },
          "metadata": {},
          "execution_count": 144
        }
      ]
    },
    {
      "cell_type": "markdown",
      "source": [
        "#Часть 3\n",
        "- Для получения оценки 9 и 10 необходимо решить две **любые** задачи из Части 3."
      ],
      "metadata": {
        "id": "dRU7AAf7TUbw"
      }
    },
    {
      "cell_type": "markdown",
      "source": [
        "**13. Необходимо реализовать алгоритм кластеризации K-средних с использованием NumPy. Данные можно сгенерировать случайно или взять из любого открытого источника.**"
      ],
      "metadata": {
        "id": "APJRemmMOOs-"
      }
    },
    {
      "cell_type": "code",
      "source": [
        "def fit0(vec, centers):\n",
        "    norms = np.linalg.norm(centers - vec, axis=1)\n",
        "    return 1 + np.argmin(norms)\n",
        "\n",
        "def recenter0(class0, arr, classes):\n",
        "    return arr[classes == class0].mean(axis=0)\n",
        "\n",
        "class K_Means():\n",
        "    \n",
        "    def __init__(self, k, arr):\n",
        "        '''\n",
        "        Attributes:\n",
        "        ------\n",
        "        k: int\n",
        "            Number of clusters\n",
        "            \n",
        "        arr: ndarray\n",
        "            Array of data for clustering\n",
        "        \n",
        "        '''\n",
        "        self.k = k\n",
        "        self.labels = np.linspace(1, k, k, dtype=np.int32)\n",
        "\n",
        "        self.data = arr\n",
        "        self.size = self.data.shape[0]\n",
        "        i_centers = np.random.choice(self.size, k, replace=False)\n",
        "        self.centroids = self.data[i_centers]\n",
        "\n",
        "        self.classes = np.zeros(self.size, dtype=np.int32)\n",
        "        self.classes[i_centers] = self.labels\n",
        "\n",
        "    def show2D(self):\n",
        "        res = plt.scatter(self.data[:,0], self.data[:,1], c=self.classes)\n",
        "        plt.scatter(self.centroids[:,0], self.centroids[:,1], c=self.labels, marker='*', s=100)\n",
        "        handles, labels = res.legend_elements(prop=\"colors\", alpha=0.6)\n",
        "        plt.legend(handles, labels, loc=\"upper right\", title=\"Classes\")\n",
        "\n",
        "    def fit(self):\n",
        "        while True:\n",
        "            new_classes = np.apply_along_axis(fit0, 1, self.data, self.centroids)\n",
        "            new_centroids = np.apply_along_axis(recenter0, 1, self.labels.reshape(-1,1), self.data, new_classes)\n",
        "            if np.all(new_classes == self.classes):\n",
        "                return self.classes\n",
        "            else:\n",
        "                self.classes = new_classes\n",
        "                self.centroids = new_centroids"
      ],
      "metadata": {
        "id": "MsYvlh8BTi7H"
      },
      "execution_count": null,
      "outputs": []
    },
    {
      "cell_type": "code",
      "source": [
        "#генерация выборки\n",
        "\n",
        "k = 6\n",
        "locs = np.array([[2,3],\n",
        "                 [1,1],\n",
        "                 [4,5],\n",
        "                 [2,7],\n",
        "                 [4,1],\n",
        "                 [5,2]\n",
        "                 ])\n",
        "\n",
        "true_classes = np.random.choice([1,2,3,4,5,6], 100)\n",
        "arr = np.zeros((100,2))\n",
        "for i in range(100):\n",
        "    arr[i] = np.random.normal(locs[true_classes[i]-1,:], [0.1,0.1])"
      ],
      "metadata": {
        "id": "CJShs0VVCs5B"
      },
      "execution_count": null,
      "outputs": []
    },
    {
      "cell_type": "code",
      "source": [
        "model = K_Means(6, arr)\n",
        "model.show2D()"
      ],
      "metadata": {
        "colab": {
          "base_uri": "https://localhost:8080/",
          "height": 430
        },
        "id": "zZ-tePDXum1l",
        "outputId": "1c32eb0d-f918-4dee-837d-a555d014ca23"
      },
      "execution_count": null,
      "outputs": [
        {
          "output_type": "display_data",
          "data": {
            "text/plain": [
              "<Figure size 640x480 with 1 Axes>"
            ],
            "image/png": "[encoded data removed]"
          },
          "metadata": {}
        }
      ]
    },
    {
      "cell_type": "code",
      "source": [
        "model.fit()\n",
        "model.show2D()"
      ],
      "metadata": {
        "colab": {
          "base_uri": "https://localhost:8080/",
          "height": 430
        },
        "id": "MTtkdEGRvuyj",
        "outputId": "a5bff03e-52b4-4731-d1fb-3353b8f79ab3"
      },
      "execution_count": null,
      "outputs": [
        {
          "output_type": "display_data",
          "data": {
            "text/plain": [
              "<Figure size 640x480 with 1 Axes>"
            ],
            "image/png": "[encoded data removed]"
          },
          "metadata": {}
        }
      ]
    },
    {
      "cell_type": "markdown",
      "source": [
        "**14.Создайте функцию Python, которая принимает двумерный массив numpy и возвращает новый массив numpy такой что**:\n",
        "\n",
        "- **Для каждого элемента в массиве найдите абсолютную разницу между этим элементом и средним значением его 4 ближайших соседей (слева, справа, сверху, снизу).** \n",
        "- **Если элемент находится на краю или в углу массива, учитывайте только существующих соседей.**\n",
        "- **Если абсолютная разница меньше или равна 10, замените этот элемент в новом массиве средним значением 4 ближайших соседей.**\n",
        "- **Если абсолютная разница больше 10, замените этот элемент в новом массиве произведением элемента и средним значением 4 ближайших соседей.**\n",
        "- **Учтите потенциальные крайние случаи.**\n"
      ],
      "metadata": {
        "id": "jDaxSBB0Oowy"
      }
    },
    {
      "cell_type": "code",
      "source": [],
      "metadata": {
        "id": "R-A9RKHLUCtg"
      },
      "execution_count": null,
      "outputs": []
    },
    {
      "cell_type": "markdown",
      "source": [
        "**15. В файле `lsq.txt` находятся результаты измерений $(t_j, x_j)$, $j=1\\ldots n$. Найти коэфициенты $a$ и $b$ прямой, которая наилучшим образом аппроксимирует эти данные, используя метод наименьших квадратов (МНК). Проверить результаты при помощи функции `np.linalg.lstsq`. По желанию: изобразить результаты измерений и рассчитанную прямую на одном графике.**\n",
        "\n",
        "Согласно МНК, коэффициенты $a, b$ можно найти, решив систему уравнений:\n",
        "\n",
        "$\\begin{pmatrix}\n",
        "\\sum_{j=1}^{n}t_j^2 & \\sum_{j=1}^nt_j\\\\\n",
        "\\sum_{j=1}^nt_j & \\sum_{j=1}^n 1 \n",
        "\\end{pmatrix}\\begin{pmatrix}a\\\\b\\end{pmatrix}=\\begin{pmatrix}\\sum_{j=1}^{n}t_jx_j\\\\ \\sum_{j=1}^{n}x_j\\end{pmatrix}$\n",
        "\n",
        "Полезные функции для решения задачи:\n",
        "\n",
        "`np.loadtxt`, `np.ones_like`, `np.dot`, `@`, `np.column_stack`, `np.linalg.leastsq`, `plt.plot`"
      ],
      "metadata": {
        "id": "0siAfRqnPUN2"
      }
    },
    {
      "cell_type": "code",
      "source": [
        "def lstsq2D(A,b):\n",
        "    k = (A[1][0] / A[0][0])\n",
        "    k0 = A[0][0]\n",
        "    A[1] = A[1] - A[0] * k\n",
        "    b[1] = b[1] - b[0] * k\n",
        "    A[0] = A[0] / k0\n",
        "    b[0] = b[0] / k0 \n",
        "\n",
        "    k = (A[0][1] / A[1][1])\n",
        "    k0 = A[1][1]\n",
        "    A[0] = A[0] - A[1] * k\n",
        "    b[0] = b[0] - b[1] * k\n",
        "    A[1] = A[1] / k0\n",
        "    b[1] = b[1] / k0 \n",
        "\n",
        "    return b"
      ],
      "metadata": {
        "id": "fHvTYEjLZA88"
      },
      "execution_count": null,
      "outputs": []
    },
    {
      "cell_type": "code",
      "source": [
        "t,x = np.loadtxt('lsq.txt', delimiter=',').T\n",
        "\n",
        "A = np.array([[np.sum(t ** 2), np.sum(t)],[np.sum(t), t.shape[0]]])\n",
        "b = np.array([np.sum(t*x), np.sum(x)])\n",
        "\n",
        "x_pred = lstsq2D(A,b)\n",
        "\n",
        "x_true = np.linalg.lstsq(np.vstack([t, np.ones(len(t))]).T,x, rcond=None)[0]\n",
        "print(x_pred, x_true)"
      ],
      "metadata": {
        "id": "JEtxzgLjPfG0",
        "colab": {
          "base_uri": "https://localhost:8080/"
        },
        "outputId": "7875dded-c27b-4eb7-999f-8dfeb03d944c"
      },
      "execution_count": null,
      "outputs": [
        {
          "output_type": "stream",
          "name": "stdout",
          "text": [
            "[ 1.9442207  10.59802559] [ 1.9442207  10.59802559]\n"
          ]
        }
      ]
    },
    {
      "cell_type": "code",
      "source": [
        "plt.plot(t,x)\n",
        "plt.plot(t, t * x_true[0] + x_true[1], label='true')\n",
        "plt.plot(t, t * x_pred[0] + x_pred[1], label='pred')\n",
        "plt.legend()"
      ],
      "metadata": {
        "colab": {
          "base_uri": "https://localhost:8080/",
          "height": 449
        },
        "id": "hFWEroqBVE2N",
        "outputId": "42a39d29-2c80-4ae3-807e-5659f4fe5366"
      },
      "execution_count": null,
      "outputs": [
        {
          "output_type": "execute_result",
          "data": {
            "text/plain": [
              "<matplotlib.legend.Legend at 0x7f5e8d56ec50>"
            ]
          },
          "metadata": {},
          "execution_count": 201
        },
        {
          "output_type": "display_data",
          "data": {
            "text/plain": [
              "<Figure size 640x480 with 1 Axes>"
            ],
            "image/png": "[encoded data removed]"
          },
          "metadata": {}
        }
      ]
    },
    {
      "cell_type": "markdown",
      "source": [
        "##Критерии оценивания"
      ],
      "metadata": {
        "id": "5hiUIBKzUFOP"
      }
    },
    {
      "cell_type": "markdown",
      "source": [
        "**Если вы не сдавали классную работу 1 и 2, то от вашей оценки отнимается 1 балл. То есть максимально за домашнее задание можно получить либо 7 баллов, либо 9**"
      ],
      "metadata": {
        "id": "tvtQ2oiTaU8H"
      }
    },
    {
      "cell_type": "markdown",
      "source": [
        "- **Задачи части 1 являются обязательными, то есть нельзя решить только задачи часть 2 и 3**\n",
        "- **Если часть 1 не решена, то другие части не проверяются, за домашнее задание ставится оценка 1**\n",
        "- **Оценка 1 не будет ставится, когда вы по каким-то причинам не смогли решить задачу из части 1: например, она оказалась сложная или у вас она работала, а у меня выдает ошибку и другие случаи, когда вы очевидно что-то делали**"
      ],
      "metadata": {
        "id": "xV9kwNovVPWE"
      }
    },
    {
      "cell_type": "markdown",
      "source": [
        "**Если задание сделано полностью и ваш код проходит все тесты, то:**\n",
        "- Задачи части 1 оцениваются по 0.75 балла \n",
        "- Задачи части 2 оцениваются по 0.5 балла \n",
        "- Задачи части 3 оцениваются по 1 баллу"
      ],
      "metadata": {
        "id": "BIC9Cn0rUIkq"
      }
    },
    {
      "cell_type": "markdown",
      "source": [
        "**Если что-то идет не так:**\n",
        "- Если задание выполнено полностью неверно, то за задачу ставится оценка 0\n",
        "- Если вы неправильно поняли условие задачи, то дается возможность переделать задачу в присутствии преподавателя\n",
        "- Если задача не прошла тест, то за нее снимается 1/3 от максимального балла в случае, если вы готовы исправить решение, и 2/3 если не готовы. Если в задаче возможны несколько граничных случаев, то правило применяется к каждому в отдельности.\n",
        "- В иных случаях, когда задача по каким-то причинам не выполняется правильно снимается 1/5 от максимальной оценки за каждую ошибку."
      ],
      "metadata": {
        "id": "6tTQia5WW404"
      }
    },
    {
      "cell_type": "markdown",
      "source": [
        "**Для задач на 9 и 10**"
      ],
      "metadata": {
        "id": "-Wr0SNyRYyqA"
      }
    },
    {
      "cell_type": "markdown",
      "source": [
        "- Если ваша задача не проходит тест и вы можете исправить ошибку в присутствии преподавателя, то балл за задачу не понижается.\n",
        "- Исправление без присутствия преподавателя минус 1/5 от максимального балла.\n",
        "- Оставить задачу без исправления 1/3 от максимального балла."
      ],
      "metadata": {
        "id": "x7hF1se5Y22Q"
      }
    },
    {
      "cell_type": "markdown",
      "source": [
        "**Все иные случае, непредусмотренные настоящими критериями оценивания, оцениваются на усмотрение преподавателя и здравого смысла.**"
      ],
      "metadata": {
        "id": "iChoIqZKZUp5"
      }
    },
    {
      "cell_type": "markdown",
      "source": [
        "**Вопросы по заданиям задавать можно. Если вы по каким-то причинам будете не согласны с полученной оценкой, то подобные вопросы необходимо обсудить со мной в чате или лично**\n"
      ],
      "metadata": {
        "id": "ODKmndTwZwre"
      }
    },
    {
      "cell_type": "code",
      "source": [],
      "metadata": {
        "id": "2J9e_jewUHLe"
      },
      "execution_count": null,
      "outputs": []
    }
  ],
  "metadata": {
    "celltoolbar": "Необработанный формат ячейки",
    "kernelspec": {
      "display_name": "Python 3",
      "language": "python",
      "name": "python3"
    },
    "language_info": {
      "codemirror_mode": {
        "name": "ipython",
        "version": 3
      },
      "file_extension": ".py",
      "mimetype": "text/x-python",
      "name": "python",
      "nbconvert_exporter": "python",
      "pygments_lexer": "ipython3",
      "version": "3.8.5"
    },
    "colab": {
      "provenance": []
    }
  },
  "nbformat": 4,
  "nbformat_minor": 0
}