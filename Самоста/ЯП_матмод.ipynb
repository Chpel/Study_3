{
 "cells": [
  {
   "cell_type": "code",
   "execution_count": 1,
   "id": "exposed-mixer",
   "metadata": {},
   "outputs": [],
   "source": [
    "import numpy as np\n",
    "import matplotlib.pyplot as plt\n",
    "import pandas as pd"
   ]
  },
  {
   "cell_type": "markdown",
   "id": "physical-billion",
   "metadata": {},
   "source": [
    "# задача 2"
   ]
  },
  {
   "cell_type": "code",
   "execution_count": 7,
   "id": "defined-hospital",
   "metadata": {},
   "outputs": [],
   "source": [
    "H0 = 5.\n",
    "R = 30.\n",
    "e = 0.01\n",
    "mu = 0.7\n",
    "g = 9.81"
   ]
  },
  {
   "cell_type": "code",
   "execution_count": 35,
   "id": "incredible-grocery",
   "metadata": {},
   "outputs": [],
   "source": [
    "def Q(mu, e, h ,g):\n",
    "    return mu * e * np.sqrt(2 * g) * h ** (3/2) * 2/3"
   ]
  },
  {
   "cell_type": "code",
   "execution_count": 30,
   "id": "living-instrumentation",
   "metadata": {},
   "outputs": [],
   "source": [
    "tau = 0.01"
   ]
  },
  {
   "cell_type": "code",
   "execution_count": 58,
   "id": "flexible-slovakia",
   "metadata": {},
   "outputs": [
    {
     "name": "stdout",
     "output_type": "stream",
     "text": [
      "0.0765957175925926\n",
      "0.16713761574074074\n",
      "0.2764461805555556\n",
      "0.4120519675925926\n",
      "0.5865318287037037\n"
     ]
    }
   ],
   "source": [
    "h_t = H0\n",
    "target = np.array([0.1, 0.2, 0.3, 0.4, 0.5, 1.])\n",
    "t = 0\n",
    "hs = []\n",
    "sec_in_days = 24 * 60 * 60\n",
    "iters = int(sec_in_days / tau)\n",
    "dt = int(60 / tau)\n",
    "for i in range(iters):\n",
    "    Q_t = Q(mu, e, h_t, g)\n",
    "    h_t = h_t - Q_t * tau / (np.pi * R ** 2)\n",
    "    if (i % dt == 0):\n",
    "        hs.append(h_t)\n",
    "    if (1 - h_t / H0) > target[t]:\n",
    "        print(i * tau / sec_in_days)\n",
    "        t += 1\n",
    "    if t == 5:\n",
    "        break\n",
    "        \n",
    "hs = np.array(hs)"
   ]
  },
  {
   "cell_type": "code",
   "execution_count": 63,
   "id": "arbitrary-spelling",
   "metadata": {},
   "outputs": [
    {
     "data": {
      "image/png": "[encoded data removed]",
      "text/plain": [
       "<Figure size 432x288 with 1 Axes>"
      ]
     },
     "metadata": {
      "needs_background": "light"
     },
     "output_type": "display_data"
    }
   ],
   "source": [
    "plt.plot(range(hs.shape[0]), hs)\n",
    "plt.xlabel('time, minutes')\n",
    "plt.ylabel('height, meters')\n",
    "for tar in target[:-1]:\n",
    "    plt.axhline(H0 * (1 - tar), c='r', linestyle='--')"
   ]
  },
  {
   "cell_type": "markdown",
   "id": "ready-satisfaction",
   "metadata": {},
   "source": [
    "# задача 4"
   ]
  },
  {
   "cell_type": "code",
   "execution_count": 23,
   "id": "higher-catalyst",
   "metadata": {},
   "outputs": [],
   "source": [
    "data = pd.DataFrame({\n",
    "    'A': [88,54,73,64,59,52,58,49], \n",
    "    'B': [89,69,78,61,64,50,57,48],\n",
    "    'C': [91,58,79,60,61,58,59,57],\n",
    "    'D': [87,68,70,69,64,49,56,47],\n",
    "    'E': [92,74,76,68,67,50,58,49],\n",
    "    'F': [86,85,81,79,80,77,76,79],\n",
    "    'G': [89,88,75,74,73,72,70,71],\n",
    "    'H': [80,88,78,70,68,67,66,67],\n",
    "    'I': [90,89,87,56,62,57,45,50],\n",
    "    'J': [93,91,88,89,88,87,90,86]\n",
    "                    }, index=range(1,9))"
   ]
  },
  {
   "cell_type": "code",
   "execution_count": 24,
   "id": "civilian-nudist",
   "metadata": {
    "scrolled": true
   },
   "outputs": [
    {
     "data": {
      "text/html": [
       "<div>\n",
       "<style scoped>\n",
       "    .dataframe tbody tr th:only-of-type {\n",
       "        vertical-align: middle;\n",
       "    }\n",
       "\n",
       "    .dataframe tbody tr th {\n",
       "        vertical-align: top;\n",
       "    }\n",
       "\n",
       "    .dataframe thead th {\n",
       "        text-align: right;\n",
       "    }\n",
       "</style>\n",
       "<table border=\"1\" class=\"dataframe\">\n",
       "  <thead>\n",
       "    <tr style=\"text-align: right;\">\n",
       "      <th></th>\n",
       "      <th>A</th>\n",
       "      <th>B</th>\n",
       "      <th>C</th>\n",
       "      <th>D</th>\n",
       "      <th>E</th>\n",
       "      <th>F</th>\n",
       "      <th>G</th>\n",
       "      <th>H</th>\n",
       "      <th>I</th>\n",
       "      <th>J</th>\n",
       "    </tr>\n",
       "  </thead>\n",
       "  <tbody>\n",
       "    <tr>\n",
       "      <th>1</th>\n",
       "      <td>88</td>\n",
       "      <td>89</td>\n",
       "      <td>91</td>\n",
       "      <td>87</td>\n",
       "      <td>92</td>\n",
       "      <td>86</td>\n",
       "      <td>89</td>\n",
       "      <td>80</td>\n",
       "      <td>90</td>\n",
       "      <td>93</td>\n",
       "    </tr>\n",
       "    <tr>\n",
       "      <th>2</th>\n",
       "      <td>54</td>\n",
       "      <td>69</td>\n",
       "      <td>58</td>\n",
       "      <td>68</td>\n",
       "      <td>74</td>\n",
       "      <td>85</td>\n",
       "      <td>88</td>\n",
       "      <td>88</td>\n",
       "      <td>89</td>\n",
       "      <td>91</td>\n",
       "    </tr>\n",
       "    <tr>\n",
       "      <th>3</th>\n",
       "      <td>73</td>\n",
       "      <td>78</td>\n",
       "      <td>79</td>\n",
       "      <td>70</td>\n",
       "      <td>76</td>\n",
       "      <td>81</td>\n",
       "      <td>75</td>\n",
       "      <td>78</td>\n",
       "      <td>87</td>\n",
       "      <td>88</td>\n",
       "    </tr>\n",
       "    <tr>\n",
       "      <th>4</th>\n",
       "      <td>64</td>\n",
       "      <td>61</td>\n",
       "      <td>60</td>\n",
       "      <td>69</td>\n",
       "      <td>68</td>\n",
       "      <td>79</td>\n",
       "      <td>74</td>\n",
       "      <td>70</td>\n",
       "      <td>56</td>\n",
       "      <td>89</td>\n",
       "    </tr>\n",
       "    <tr>\n",
       "      <th>5</th>\n",
       "      <td>59</td>\n",
       "      <td>64</td>\n",
       "      <td>61</td>\n",
       "      <td>64</td>\n",
       "      <td>67</td>\n",
       "      <td>80</td>\n",
       "      <td>73</td>\n",
       "      <td>68</td>\n",
       "      <td>62</td>\n",
       "      <td>88</td>\n",
       "    </tr>\n",
       "    <tr>\n",
       "      <th>6</th>\n",
       "      <td>52</td>\n",
       "      <td>50</td>\n",
       "      <td>58</td>\n",
       "      <td>49</td>\n",
       "      <td>50</td>\n",
       "      <td>77</td>\n",
       "      <td>72</td>\n",
       "      <td>67</td>\n",
       "      <td>57</td>\n",
       "      <td>87</td>\n",
       "    </tr>\n",
       "    <tr>\n",
       "      <th>7</th>\n",
       "      <td>58</td>\n",
       "      <td>57</td>\n",
       "      <td>59</td>\n",
       "      <td>56</td>\n",
       "      <td>58</td>\n",
       "      <td>76</td>\n",
       "      <td>70</td>\n",
       "      <td>66</td>\n",
       "      <td>45</td>\n",
       "      <td>90</td>\n",
       "    </tr>\n",
       "    <tr>\n",
       "      <th>8</th>\n",
       "      <td>49</td>\n",
       "      <td>48</td>\n",
       "      <td>57</td>\n",
       "      <td>47</td>\n",
       "      <td>49</td>\n",
       "      <td>79</td>\n",
       "      <td>71</td>\n",
       "      <td>67</td>\n",
       "      <td>50</td>\n",
       "      <td>86</td>\n",
       "    </tr>\n",
       "  </tbody>\n",
       "</table>\n",
       "</div>"
      ],
      "text/plain": [
       "    A   B   C   D   E   F   G   H   I   J\n",
       "1  88  89  91  87  92  86  89  80  90  93\n",
       "2  54  69  58  68  74  85  88  88  89  91\n",
       "3  73  78  79  70  76  81  75  78  87  88\n",
       "4  64  61  60  69  68  79  74  70  56  89\n",
       "5  59  64  61  64  67  80  73  68  62  88\n",
       "6  52  50  58  49  50  77  72  67  57  87\n",
       "7  58  57  59  56  58  76  70  66  45  90\n",
       "8  49  48  57  47  49  79  71  67  50  86"
      ]
     },
     "execution_count": 24,
     "metadata": {},
     "output_type": "execute_result"
    }
   ],
   "source": [
    "data"
   ]
  },
  {
   "cell_type": "markdown",
   "id": "requested-diploma",
   "metadata": {},
   "source": [
    "## Жадный на ставку алгоритм "
   ]
  },
  {
   "cell_type": "code",
   "execution_count": 59,
   "id": "scheduled-surface",
   "metadata": {},
   "outputs": [],
   "source": [
    "def order_compose(arr, items, bidders):\n",
    "    k_i = len(items)\n",
    "    k_b = len(bidders)\n",
    "    res = []\n",
    "    for i in arr:\n",
    "        res.append((bidders[i // k_i], items[i % k_i]))\n",
    "    return res"
   ]
  },
  {
   "cell_type": "code",
   "execution_count": 67,
   "id": "trying-civilian",
   "metadata": {},
   "outputs": [],
   "source": [
    "def greedy_combinator(q, items, bidders, one_get_one=False):\n",
    "    satisfied = {b: False for b in bidders}\n",
    "    given = {i: False for i in items}\n",
    "    res = []\n",
    "    for order in q:\n",
    "        decision = not given[order[1]]\n",
    "        if one_get_one:\n",
    "            decision = decision and not satisfied[order[0]]\n",
    "        if decision:\n",
    "            res.append(order)\n",
    "            given[order[1]] = True\n",
    "            satisfied[order[0]] = True\n",
    "    return res"
   ]
  },
  {
   "cell_type": "code",
   "execution_count": 75,
   "id": "dedicated-afghanistan",
   "metadata": {},
   "outputs": [],
   "source": [
    "def get_sum(data, orders):\n",
    "    s = 0\n",
    "    for o in orders:\n",
    "        s += data.loc[o]\n",
    "    return s"
   ]
  },
  {
   "cell_type": "code",
   "execution_count": 126,
   "id": "english-suggestion",
   "metadata": {},
   "outputs": [],
   "source": [
    "def form_final_check(bidders, order):\n",
    "    res = {b: [] for b in bidders}\n",
    "    for bidder, item in order:\n",
    "        res[bidder].append(item)\n",
    "    for b in bidders:\n",
    "        res[b] = sorted(res[b])\n",
    "    return res"
   ]
  },
  {
   "cell_type": "code",
   "execution_count": 127,
   "id": "informal-paste",
   "metadata": {},
   "outputs": [],
   "source": [
    "def attempt1(data, one_to_one=False):\n",
    "    orders = data.values.flatten().argsort()[::-1]\n",
    "    queue = order_compose(orders, data.columns, data.index)\n",
    "    ans = greedy_combinator(queue, data.columns, data.index, one_to_one)\n",
    "    return form_final_check(data.index, ans), get_sum(data, ans)"
   ]
  },
  {
   "cell_type": "code",
   "execution_count": 130,
   "id": "loved-denmark",
   "metadata": {},
   "outputs": [
    {
     "name": "stdout",
     "output_type": "stream",
     "text": [
      "{1: ['J'], 2: ['I'], 3: ['F'], 4: ['G'], 5: ['H'], 6: ['A'], 7: ['C'], 8: ['E']} 565\n"
     ]
    }
   ],
   "source": [
    "print(*attempt1(data, True))"
   ]
  },
  {
   "cell_type": "markdown",
   "id": "unusual-moral",
   "metadata": {},
   "source": [
    "## Жадный на (ставка/ср. цена вещи или её корень) алгоритм "
   ]
  },
  {
   "cell_type": "code",
   "execution_count": 84,
   "id": "sudden-glasgow",
   "metadata": {},
   "outputs": [
    {
     "data": {
      "text/html": [
       "<div>\n",
       "<style scoped>\n",
       "    .dataframe tbody tr th:only-of-type {\n",
       "        vertical-align: middle;\n",
       "    }\n",
       "\n",
       "    .dataframe tbody tr th {\n",
       "        vertical-align: top;\n",
       "    }\n",
       "\n",
       "    .dataframe thead th {\n",
       "        text-align: right;\n",
       "    }\n",
       "</style>\n",
       "<table border=\"1\" class=\"dataframe\">\n",
       "  <thead>\n",
       "    <tr style=\"text-align: right;\">\n",
       "      <th></th>\n",
       "      <th>A</th>\n",
       "      <th>B</th>\n",
       "      <th>C</th>\n",
       "      <th>D</th>\n",
       "      <th>E</th>\n",
       "      <th>F</th>\n",
       "      <th>G</th>\n",
       "      <th>H</th>\n",
       "      <th>I</th>\n",
       "      <th>J</th>\n",
       "    </tr>\n",
       "  </thead>\n",
       "  <tbody>\n",
       "    <tr>\n",
       "      <th>1</th>\n",
       "      <td>88</td>\n",
       "      <td>89</td>\n",
       "      <td>91</td>\n",
       "      <td>87</td>\n",
       "      <td>92</td>\n",
       "      <td>86</td>\n",
       "      <td>89</td>\n",
       "      <td>80</td>\n",
       "      <td>90</td>\n",
       "      <td>93</td>\n",
       "    </tr>\n",
       "    <tr>\n",
       "      <th>2</th>\n",
       "      <td>54</td>\n",
       "      <td>69</td>\n",
       "      <td>58</td>\n",
       "      <td>68</td>\n",
       "      <td>74</td>\n",
       "      <td>85</td>\n",
       "      <td>88</td>\n",
       "      <td>88</td>\n",
       "      <td>89</td>\n",
       "      <td>91</td>\n",
       "    </tr>\n",
       "    <tr>\n",
       "      <th>3</th>\n",
       "      <td>73</td>\n",
       "      <td>78</td>\n",
       "      <td>79</td>\n",
       "      <td>70</td>\n",
       "      <td>76</td>\n",
       "      <td>81</td>\n",
       "      <td>75</td>\n",
       "      <td>78</td>\n",
       "      <td>87</td>\n",
       "      <td>88</td>\n",
       "    </tr>\n",
       "    <tr>\n",
       "      <th>4</th>\n",
       "      <td>64</td>\n",
       "      <td>61</td>\n",
       "      <td>60</td>\n",
       "      <td>69</td>\n",
       "      <td>68</td>\n",
       "      <td>79</td>\n",
       "      <td>74</td>\n",
       "      <td>70</td>\n",
       "      <td>56</td>\n",
       "      <td>89</td>\n",
       "    </tr>\n",
       "    <tr>\n",
       "      <th>5</th>\n",
       "      <td>59</td>\n",
       "      <td>64</td>\n",
       "      <td>61</td>\n",
       "      <td>64</td>\n",
       "      <td>67</td>\n",
       "      <td>80</td>\n",
       "      <td>73</td>\n",
       "      <td>68</td>\n",
       "      <td>62</td>\n",
       "      <td>88</td>\n",
       "    </tr>\n",
       "    <tr>\n",
       "      <th>6</th>\n",
       "      <td>52</td>\n",
       "      <td>50</td>\n",
       "      <td>58</td>\n",
       "      <td>49</td>\n",
       "      <td>50</td>\n",
       "      <td>77</td>\n",
       "      <td>72</td>\n",
       "      <td>67</td>\n",
       "      <td>57</td>\n",
       "      <td>87</td>\n",
       "    </tr>\n",
       "    <tr>\n",
       "      <th>7</th>\n",
       "      <td>58</td>\n",
       "      <td>57</td>\n",
       "      <td>59</td>\n",
       "      <td>56</td>\n",
       "      <td>58</td>\n",
       "      <td>76</td>\n",
       "      <td>70</td>\n",
       "      <td>66</td>\n",
       "      <td>45</td>\n",
       "      <td>90</td>\n",
       "    </tr>\n",
       "    <tr>\n",
       "      <th>8</th>\n",
       "      <td>49</td>\n",
       "      <td>48</td>\n",
       "      <td>57</td>\n",
       "      <td>47</td>\n",
       "      <td>49</td>\n",
       "      <td>79</td>\n",
       "      <td>71</td>\n",
       "      <td>67</td>\n",
       "      <td>50</td>\n",
       "      <td>86</td>\n",
       "    </tr>\n",
       "  </tbody>\n",
       "</table>\n",
       "</div>"
      ],
      "text/plain": [
       "    A   B   C   D   E   F   G   H   I   J\n",
       "1  88  89  91  87  92  86  89  80  90  93\n",
       "2  54  69  58  68  74  85  88  88  89  91\n",
       "3  73  78  79  70  76  81  75  78  87  88\n",
       "4  64  61  60  69  68  79  74  70  56  89\n",
       "5  59  64  61  64  67  80  73  68  62  88\n",
       "6  52  50  58  49  50  77  72  67  57  87\n",
       "7  58  57  59  56  58  76  70  66  45  90\n",
       "8  49  48  57  47  49  79  71  67  50  86"
      ]
     },
     "execution_count": 84,
     "metadata": {},
     "output_type": "execute_result"
    }
   ],
   "source": [
    "data_norm = data.copy()\n",
    "data_norm"
   ]
  },
  {
   "cell_type": "code",
   "execution_count": 89,
   "id": "northern-recruitment",
   "metadata": {
    "scrolled": true
   },
   "outputs": [
    {
     "data": {
      "text/plain": [
       "A    1.0\n",
       "B    1.0\n",
       "C    1.0\n",
       "D    1.0\n",
       "E    1.0\n",
       "F    1.0\n",
       "G    1.0\n",
       "H    1.0\n",
       "I    1.0\n",
       "J    1.0\n",
       "dtype: float64"
      ]
     },
     "execution_count": 89,
     "metadata": {},
     "output_type": "execute_result"
    }
   ],
   "source": [
    "data_norm.mean()"
   ]
  },
  {
   "cell_type": "code",
   "execution_count": 88,
   "id": "native-skirt",
   "metadata": {},
   "outputs": [
    {
     "data": {
      "text/html": [
       "<div>\n",
       "<style scoped>\n",
       "    .dataframe tbody tr th:only-of-type {\n",
       "        vertical-align: middle;\n",
       "    }\n",
       "\n",
       "    .dataframe tbody tr th {\n",
       "        vertical-align: top;\n",
       "    }\n",
       "\n",
       "    .dataframe thead th {\n",
       "        text-align: right;\n",
       "    }\n",
       "</style>\n",
       "<table border=\"1\" class=\"dataframe\">\n",
       "  <thead>\n",
       "    <tr style=\"text-align: right;\">\n",
       "      <th></th>\n",
       "      <th>A</th>\n",
       "      <th>B</th>\n",
       "      <th>C</th>\n",
       "      <th>D</th>\n",
       "      <th>E</th>\n",
       "      <th>F</th>\n",
       "      <th>G</th>\n",
       "      <th>H</th>\n",
       "      <th>I</th>\n",
       "      <th>J</th>\n",
       "    </tr>\n",
       "  </thead>\n",
       "  <tbody>\n",
       "    <tr>\n",
       "      <th>1</th>\n",
       "      <td>1.416499</td>\n",
       "      <td>1.379845</td>\n",
       "      <td>1.391969</td>\n",
       "      <td>1.364706</td>\n",
       "      <td>1.378277</td>\n",
       "      <td>1.069984</td>\n",
       "      <td>1.163399</td>\n",
       "      <td>1.095890</td>\n",
       "      <td>1.343284</td>\n",
       "      <td>1.044944</td>\n",
       "    </tr>\n",
       "    <tr>\n",
       "      <th>2</th>\n",
       "      <td>0.869215</td>\n",
       "      <td>1.069767</td>\n",
       "      <td>0.887189</td>\n",
       "      <td>1.066667</td>\n",
       "      <td>1.108614</td>\n",
       "      <td>1.057543</td>\n",
       "      <td>1.150327</td>\n",
       "      <td>1.205479</td>\n",
       "      <td>1.328358</td>\n",
       "      <td>1.022472</td>\n",
       "    </tr>\n",
       "    <tr>\n",
       "      <th>3</th>\n",
       "      <td>1.175050</td>\n",
       "      <td>1.209302</td>\n",
       "      <td>1.208413</td>\n",
       "      <td>1.098039</td>\n",
       "      <td>1.138577</td>\n",
       "      <td>1.007776</td>\n",
       "      <td>0.980392</td>\n",
       "      <td>1.068493</td>\n",
       "      <td>1.298507</td>\n",
       "      <td>0.988764</td>\n",
       "    </tr>\n",
       "    <tr>\n",
       "      <th>4</th>\n",
       "      <td>1.030181</td>\n",
       "      <td>0.945736</td>\n",
       "      <td>0.917782</td>\n",
       "      <td>1.082353</td>\n",
       "      <td>1.018727</td>\n",
       "      <td>0.982893</td>\n",
       "      <td>0.967320</td>\n",
       "      <td>0.958904</td>\n",
       "      <td>0.835821</td>\n",
       "      <td>1.000000</td>\n",
       "    </tr>\n",
       "    <tr>\n",
       "      <th>5</th>\n",
       "      <td>0.949698</td>\n",
       "      <td>0.992248</td>\n",
       "      <td>0.933078</td>\n",
       "      <td>1.003922</td>\n",
       "      <td>1.003745</td>\n",
       "      <td>0.995334</td>\n",
       "      <td>0.954248</td>\n",
       "      <td>0.931507</td>\n",
       "      <td>0.925373</td>\n",
       "      <td>0.988764</td>\n",
       "    </tr>\n",
       "    <tr>\n",
       "      <th>6</th>\n",
       "      <td>0.837022</td>\n",
       "      <td>0.775194</td>\n",
       "      <td>0.887189</td>\n",
       "      <td>0.768627</td>\n",
       "      <td>0.749064</td>\n",
       "      <td>0.958009</td>\n",
       "      <td>0.941176</td>\n",
       "      <td>0.917808</td>\n",
       "      <td>0.850746</td>\n",
       "      <td>0.977528</td>\n",
       "    </tr>\n",
       "    <tr>\n",
       "      <th>7</th>\n",
       "      <td>0.933602</td>\n",
       "      <td>0.883721</td>\n",
       "      <td>0.902486</td>\n",
       "      <td>0.878431</td>\n",
       "      <td>0.868914</td>\n",
       "      <td>0.945568</td>\n",
       "      <td>0.915033</td>\n",
       "      <td>0.904110</td>\n",
       "      <td>0.671642</td>\n",
       "      <td>1.011236</td>\n",
       "    </tr>\n",
       "    <tr>\n",
       "      <th>8</th>\n",
       "      <td>0.788732</td>\n",
       "      <td>0.744186</td>\n",
       "      <td>0.871893</td>\n",
       "      <td>0.737255</td>\n",
       "      <td>0.734082</td>\n",
       "      <td>0.982893</td>\n",
       "      <td>0.928105</td>\n",
       "      <td>0.917808</td>\n",
       "      <td>0.746269</td>\n",
       "      <td>0.966292</td>\n",
       "    </tr>\n",
       "  </tbody>\n",
       "</table>\n",
       "</div>"
      ],
      "text/plain": [
       "          A         B         C         D         E         F         G  \\\n",
       "1  1.416499  1.379845  1.391969  1.364706  1.378277  1.069984  1.163399   \n",
       "2  0.869215  1.069767  0.887189  1.066667  1.108614  1.057543  1.150327   \n",
       "3  1.175050  1.209302  1.208413  1.098039  1.138577  1.007776  0.980392   \n",
       "4  1.030181  0.945736  0.917782  1.082353  1.018727  0.982893  0.967320   \n",
       "5  0.949698  0.992248  0.933078  1.003922  1.003745  0.995334  0.954248   \n",
       "6  0.837022  0.775194  0.887189  0.768627  0.749064  0.958009  0.941176   \n",
       "7  0.933602  0.883721  0.902486  0.878431  0.868914  0.945568  0.915033   \n",
       "8  0.788732  0.744186  0.871893  0.737255  0.734082  0.982893  0.928105   \n",
       "\n",
       "          H         I         J  \n",
       "1  1.095890  1.343284  1.044944  \n",
       "2  1.205479  1.328358  1.022472  \n",
       "3  1.068493  1.298507  0.988764  \n",
       "4  0.958904  0.835821  1.000000  \n",
       "5  0.931507  0.925373  0.988764  \n",
       "6  0.917808  0.850746  0.977528  \n",
       "7  0.904110  0.671642  1.011236  \n",
       "8  0.917808  0.746269  0.966292  "
      ]
     },
     "execution_count": 88,
     "metadata": {},
     "output_type": "execute_result"
    }
   ],
   "source": [
    "data_norm = data_norm / data_norm.mean()\n",
    "data_norm"
   ]
  },
  {
   "cell_type": "code",
   "execution_count": 128,
   "id": "dried-native",
   "metadata": {},
   "outputs": [],
   "source": [
    "def attempt2(data, one_to_one=False):\n",
    "    data_norm = data.copy()\n",
    "    data_norm = data_norm / data_norm.mean()\n",
    "    orders = data_norm.values.flatten().argsort()[::-1]\n",
    "    queue = order_compose(orders, data_norm.columns, data_norm.index)\n",
    "    ans = greedy_combinator(queue, data_norm.columns, data_norm.index, one_to_one)\n",
    "    return form_final_check(data.index, ans), get_sum(data, ans)"
   ]
  },
  {
   "cell_type": "code",
   "execution_count": 131,
   "id": "frequent-stamp",
   "metadata": {},
   "outputs": [
    {
     "name": "stdout",
     "output_type": "stream",
     "text": [
      "{1: ['A'], 2: ['I'], 3: ['B'], 4: ['D'], 5: ['E'], 6: ['G'], 7: ['J'], 8: ['F']} 632\n"
     ]
    }
   ],
   "source": [
    "print(*attempt2(data, True))"
   ]
  },
  {
   "cell_type": "code",
   "execution_count": 129,
   "id": "decreased-jenny",
   "metadata": {},
   "outputs": [],
   "source": [
    "def attempt3(data, one_to_one=False):\n",
    "    data_norm = data.copy()\n",
    "    data_norm = data_norm / np.sqrt(data_norm.mean())\n",
    "    orders = data_norm.values.flatten().argsort()[::-1]\n",
    "    queue = order_compose(orders, data_norm.columns, data_norm.index)\n",
    "    ans = greedy_combinator(queue, data_norm.columns, data_norm.index, one_to_one)\n",
    "    return form_final_check(data.index, ans), get_sum(data, ans)"
   ]
  },
  {
   "cell_type": "code",
   "execution_count": 148,
   "id": "nonprofit-future",
   "metadata": {},
   "outputs": [
    {
     "name": "stdout",
     "output_type": "stream",
     "text": [
      "{1: ['E'], 2: ['I'], 3: ['C'], 4: ['D'], 5: ['F'], 6: ['G'], 7: ['J'], 8: ['H']}\n",
      "\n",
      "638\n"
     ]
    }
   ],
   "source": [
    "print(*attempt3(data, True), sep='\\n\\n')"
   ]
  },
  {
   "cell_type": "markdown",
   "id": "conditional-tours",
   "metadata": {},
   "source": [
    "## Новые данные"
   ]
  },
  {
   "cell_type": "code",
   "execution_count": 105,
   "id": "reliable-theta",
   "metadata": {
    "scrolled": true
   },
   "outputs": [
    {
     "data": {
      "text/html": [
       "<div>\n",
       "<style scoped>\n",
       "    .dataframe tbody tr th:only-of-type {\n",
       "        vertical-align: middle;\n",
       "    }\n",
       "\n",
       "    .dataframe tbody tr th {\n",
       "        vertical-align: top;\n",
       "    }\n",
       "\n",
       "    .dataframe thead th {\n",
       "        text-align: right;\n",
       "    }\n",
       "</style>\n",
       "<table border=\"1\" class=\"dataframe\">\n",
       "  <thead>\n",
       "    <tr style=\"text-align: right;\">\n",
       "      <th>id</th>\n",
       "      <th>A</th>\n",
       "      <th>B</th>\n",
       "      <th>C</th>\n",
       "      <th>D</th>\n",
       "      <th>E</th>\n",
       "      <th>F</th>\n",
       "      <th>G</th>\n",
       "      <th>H</th>\n",
       "      <th>I</th>\n",
       "      <th>J</th>\n",
       "      <th>K</th>\n",
       "      <th>L</th>\n",
       "      <th>M</th>\n",
       "      <th>N</th>\n",
       "      <th>O</th>\n",
       "      <th>P</th>\n",
       "      <th>R</th>\n",
       "    </tr>\n",
       "  </thead>\n",
       "  <tbody>\n",
       "    <tr>\n",
       "      <th>1</th>\n",
       "      <td>100</td>\n",
       "      <td>139</td>\n",
       "      <td>178</td>\n",
       "      <td>158</td>\n",
       "      <td>149</td>\n",
       "      <td>148</td>\n",
       "      <td>220</td>\n",
       "      <td>188</td>\n",
       "      <td>179</td>\n",
       "      <td>168</td>\n",
       "      <td>199</td>\n",
       "      <td>209</td>\n",
       "      <td>130</td>\n",
       "      <td>178</td>\n",
       "      <td>170</td>\n",
       "      <td>269</td>\n",
       "      <td>190</td>\n",
       "    </tr>\n",
       "    <tr>\n",
       "      <th>2</th>\n",
       "      <td>110</td>\n",
       "      <td>129</td>\n",
       "      <td>179</td>\n",
       "      <td>150</td>\n",
       "      <td>211</td>\n",
       "      <td>218</td>\n",
       "      <td>180</td>\n",
       "      <td>179</td>\n",
       "      <td>178</td>\n",
       "      <td>238</td>\n",
       "      <td>240</td>\n",
       "      <td>250</td>\n",
       "      <td>179</td>\n",
       "      <td>120</td>\n",
       "      <td>139</td>\n",
       "      <td>212</td>\n",
       "      <td>210</td>\n",
       "    </tr>\n",
       "    <tr>\n",
       "      <th>3</th>\n",
       "      <td>119</td>\n",
       "      <td>212</td>\n",
       "      <td>138</td>\n",
       "      <td>181</td>\n",
       "      <td>148</td>\n",
       "      <td>210</td>\n",
       "      <td>178</td>\n",
       "      <td>159</td>\n",
       "      <td>227</td>\n",
       "      <td>200</td>\n",
       "      <td>190</td>\n",
       "      <td>220</td>\n",
       "      <td>140</td>\n",
       "      <td>160</td>\n",
       "      <td>150</td>\n",
       "      <td>222</td>\n",
       "      <td>210</td>\n",
       "    </tr>\n",
       "    <tr>\n",
       "      <th>4</th>\n",
       "      <td>120</td>\n",
       "      <td>190</td>\n",
       "      <td>208</td>\n",
       "      <td>199</td>\n",
       "      <td>120</td>\n",
       "      <td>137</td>\n",
       "      <td>198</td>\n",
       "      <td>261</td>\n",
       "      <td>170</td>\n",
       "      <td>201</td>\n",
       "      <td>168</td>\n",
       "      <td>237</td>\n",
       "      <td>189</td>\n",
       "      <td>150</td>\n",
       "      <td>160</td>\n",
       "      <td>268</td>\n",
       "      <td>189</td>\n",
       "    </tr>\n",
       "    <tr>\n",
       "      <th>5</th>\n",
       "      <td>140</td>\n",
       "      <td>159</td>\n",
       "      <td>149</td>\n",
       "      <td>169</td>\n",
       "      <td>177</td>\n",
       "      <td>159</td>\n",
       "      <td>190</td>\n",
       "      <td>199</td>\n",
       "      <td>189</td>\n",
       "      <td>110</td>\n",
       "      <td>129</td>\n",
       "      <td>197</td>\n",
       "      <td>148</td>\n",
       "      <td>169</td>\n",
       "      <td>178</td>\n",
       "      <td>247</td>\n",
       "      <td>218</td>\n",
       "    </tr>\n",
       "    <tr>\n",
       "      <th>6</th>\n",
       "      <td>130</td>\n",
       "      <td>151</td>\n",
       "      <td>188</td>\n",
       "      <td>199</td>\n",
       "      <td>161</td>\n",
       "      <td>169</td>\n",
       "      <td>171</td>\n",
       "      <td>208</td>\n",
       "      <td>179</td>\n",
       "      <td>138</td>\n",
       "      <td>160</td>\n",
       "      <td>188</td>\n",
       "      <td>179</td>\n",
       "      <td>149</td>\n",
       "      <td>201</td>\n",
       "      <td>259</td>\n",
       "      <td>220</td>\n",
       "    </tr>\n",
       "    <tr>\n",
       "      <th>7</th>\n",
       "      <td>100</td>\n",
       "      <td>170</td>\n",
       "      <td>169</td>\n",
       "      <td>207</td>\n",
       "      <td>181</td>\n",
       "      <td>160</td>\n",
       "      <td>199</td>\n",
       "      <td>170</td>\n",
       "      <td>200</td>\n",
       "      <td>141</td>\n",
       "      <td>178</td>\n",
       "      <td>179</td>\n",
       "      <td>170</td>\n",
       "      <td>140</td>\n",
       "      <td>178</td>\n",
       "      <td>216</td>\n",
       "      <td>197</td>\n",
       "    </tr>\n",
       "  </tbody>\n",
       "</table>\n",
       "</div>"
      ],
      "text/plain": [
       "id    A    B    C    D    E    F    G    H    I    J    K    L    M    N    O  \\\n",
       "1   100  139  178  158  149  148  220  188  179  168  199  209  130  178  170   \n",
       "2   110  129  179  150  211  218  180  179  178  238  240  250  179  120  139   \n",
       "3   119  212  138  181  148  210  178  159  227  200  190  220  140  160  150   \n",
       "4   120  190  208  199  120  137  198  261  170  201  168  237  189  150  160   \n",
       "5   140  159  149  169  177  159  190  199  189  110  129  197  148  169  178   \n",
       "6   130  151  188  199  161  169  171  208  179  138  160  188  179  149  201   \n",
       "7   100  170  169  207  181  160  199  170  200  141  178  179  170  140  178   \n",
       "\n",
       "id    P    R  \n",
       "1   269  190  \n",
       "2   212  210  \n",
       "3   222  210  \n",
       "4   268  189  \n",
       "5   247  218  \n",
       "6   259  220  \n",
       "7   216  197  "
      ]
     },
     "execution_count": 105,
     "metadata": {},
     "output_type": "execute_result"
    }
   ],
   "source": [
    "data2 = pd.read_csv('data_1.csv', index_col='id', nrows=17).T\n",
    "data2"
   ]
  },
  {
   "cell_type": "code",
   "execution_count": 155,
   "id": "according-traveler",
   "metadata": {},
   "outputs": [
    {
     "name": "stdout",
     "output_type": "stream",
     "text": [
      "('1', ['G', 'N', 'P'])\n",
      "('2', ['E', 'F', 'J', 'K', 'L'])\n",
      "('3', ['B', 'I'])\n",
      "('4', ['C', 'H', 'M'])\n",
      "('5', ['A'])\n",
      "('6', ['O', 'R'])\n",
      "('7', ['D'])\n",
      "\n",
      "\n",
      "3689\n"
     ]
    }
   ],
   "source": [
    "order3, s3 = attempt3(data2)\n",
    "print(*order3.items(), '\\n', s3, sep='\\n')"
   ]
  },
  {
   "cell_type": "code",
   "execution_count": 134,
   "id": "lucky-hydrogen",
   "metadata": {},
   "outputs": [
    {
     "data": {
      "text/plain": [
       "{'1': ['G', 'N', 'P'],\n",
       " '2': ['E', 'F', 'J', 'K', 'L'],\n",
       " '3': ['B', 'I'],\n",
       " '4': ['C', 'H', 'M'],\n",
       " '5': ['A'],\n",
       " '6': ['O', 'R'],\n",
       " '7': ['D']}"
      ]
     },
     "execution_count": 134,
     "metadata": {},
     "output_type": "execute_result"
    }
   ],
   "source": [
    "order1"
   ]
  },
  {
   "cell_type": "code",
   "execution_count": 135,
   "id": "apart-artwork",
   "metadata": {},
   "outputs": [
    {
     "data": {
      "text/plain": [
       "{'1': ['G', 'N', 'P'],\n",
       " '2': ['E', 'F', 'J', 'K', 'L'],\n",
       " '3': ['B', 'I'],\n",
       " '4': ['C', 'H', 'M'],\n",
       " '5': ['A'],\n",
       " '6': ['O', 'R'],\n",
       " '7': ['D']}"
      ]
     },
     "execution_count": 135,
     "metadata": {},
     "output_type": "execute_result"
    }
   ],
   "source": [
    "order2"
   ]
  },
  {
   "cell_type": "code",
   "execution_count": 136,
   "id": "worth-tension",
   "metadata": {},
   "outputs": [
    {
     "data": {
      "text/plain": [
       "{'1': ['G', 'N', 'P'],\n",
       " '2': ['E', 'F', 'J', 'K', 'L'],\n",
       " '3': ['B', 'I'],\n",
       " '4': ['C', 'H', 'M'],\n",
       " '5': ['A'],\n",
       " '6': ['O', 'R'],\n",
       " '7': ['D']}"
      ]
     },
     "execution_count": 136,
     "metadata": {},
     "output_type": "execute_result"
    }
   ],
   "source": [
    "order3"
   ]
  },
  {
   "cell_type": "code",
   "execution_count": 137,
   "id": "saving-mercy",
   "metadata": {},
   "outputs": [
    {
     "data": {
      "text/html": [
       "<div>\n",
       "<style scoped>\n",
       "    .dataframe tbody tr th:only-of-type {\n",
       "        vertical-align: middle;\n",
       "    }\n",
       "\n",
       "    .dataframe tbody tr th {\n",
       "        vertical-align: top;\n",
       "    }\n",
       "\n",
       "    .dataframe thead th {\n",
       "        text-align: right;\n",
       "    }\n",
       "</style>\n",
       "<table border=\"1\" class=\"dataframe\">\n",
       "  <thead>\n",
       "    <tr style=\"text-align: right;\">\n",
       "      <th>id</th>\n",
       "      <th>A</th>\n",
       "      <th>B</th>\n",
       "      <th>C</th>\n",
       "      <th>D</th>\n",
       "      <th>E</th>\n",
       "      <th>F</th>\n",
       "      <th>G</th>\n",
       "      <th>H</th>\n",
       "      <th>I</th>\n",
       "      <th>J</th>\n",
       "      <th>K</th>\n",
       "      <th>L</th>\n",
       "      <th>M</th>\n",
       "      <th>N</th>\n",
       "      <th>O</th>\n",
       "      <th>P</th>\n",
       "      <th>R</th>\n",
       "      <th>S</th>\n",
       "    </tr>\n",
       "  </thead>\n",
       "  <tbody>\n",
       "    <tr>\n",
       "      <th>1</th>\n",
       "      <td>100</td>\n",
       "      <td>139</td>\n",
       "      <td>177</td>\n",
       "      <td>161</td>\n",
       "      <td>151</td>\n",
       "      <td>150</td>\n",
       "      <td>220</td>\n",
       "      <td>189</td>\n",
       "      <td>178</td>\n",
       "      <td>168</td>\n",
       "      <td>198</td>\n",
       "      <td>209</td>\n",
       "      <td>129</td>\n",
       "      <td>179</td>\n",
       "      <td>167</td>\n",
       "      <td>269</td>\n",
       "      <td>189</td>\n",
       "      <td>188</td>\n",
       "    </tr>\n",
       "    <tr>\n",
       "      <th>2</th>\n",
       "      <td>110</td>\n",
       "      <td>128</td>\n",
       "      <td>180</td>\n",
       "      <td>150</td>\n",
       "      <td>210</td>\n",
       "      <td>220</td>\n",
       "      <td>181</td>\n",
       "      <td>178</td>\n",
       "      <td>181</td>\n",
       "      <td>239</td>\n",
       "      <td>241</td>\n",
       "      <td>246</td>\n",
       "      <td>181</td>\n",
       "      <td>119</td>\n",
       "      <td>138</td>\n",
       "      <td>209</td>\n",
       "      <td>210</td>\n",
       "      <td>168</td>\n",
       "    </tr>\n",
       "    <tr>\n",
       "      <th>3</th>\n",
       "      <td>119</td>\n",
       "      <td>208</td>\n",
       "      <td>139</td>\n",
       "      <td>181</td>\n",
       "      <td>150</td>\n",
       "      <td>207</td>\n",
       "      <td>180</td>\n",
       "      <td>159</td>\n",
       "      <td>231</td>\n",
       "      <td>198</td>\n",
       "      <td>190</td>\n",
       "      <td>221</td>\n",
       "      <td>139</td>\n",
       "      <td>160</td>\n",
       "      <td>148</td>\n",
       "      <td>219</td>\n",
       "      <td>208</td>\n",
       "      <td>181</td>\n",
       "    </tr>\n",
       "    <tr>\n",
       "      <th>4</th>\n",
       "      <td>119</td>\n",
       "      <td>190</td>\n",
       "      <td>210</td>\n",
       "      <td>198</td>\n",
       "      <td>121</td>\n",
       "      <td>140</td>\n",
       "      <td>199</td>\n",
       "      <td>258</td>\n",
       "      <td>169</td>\n",
       "      <td>199</td>\n",
       "      <td>168</td>\n",
       "      <td>240</td>\n",
       "      <td>187</td>\n",
       "      <td>149</td>\n",
       "      <td>159</td>\n",
       "      <td>268</td>\n",
       "      <td>190</td>\n",
       "      <td>227</td>\n",
       "    </tr>\n",
       "    <tr>\n",
       "      <th>5</th>\n",
       "      <td>138</td>\n",
       "      <td>159</td>\n",
       "      <td>147</td>\n",
       "      <td>168</td>\n",
       "      <td>178</td>\n",
       "      <td>157</td>\n",
       "      <td>190</td>\n",
       "      <td>199</td>\n",
       "      <td>191</td>\n",
       "      <td>110</td>\n",
       "      <td>130</td>\n",
       "      <td>201</td>\n",
       "      <td>148</td>\n",
       "      <td>168</td>\n",
       "      <td>180</td>\n",
       "      <td>250</td>\n",
       "      <td>219</td>\n",
       "      <td>221</td>\n",
       "    </tr>\n",
       "    <tr>\n",
       "      <th>6</th>\n",
       "      <td>130</td>\n",
       "      <td>150</td>\n",
       "      <td>188</td>\n",
       "      <td>198</td>\n",
       "      <td>158</td>\n",
       "      <td>168</td>\n",
       "      <td>169</td>\n",
       "      <td>210</td>\n",
       "      <td>178</td>\n",
       "      <td>138</td>\n",
       "      <td>159</td>\n",
       "      <td>188</td>\n",
       "      <td>180</td>\n",
       "      <td>150</td>\n",
       "      <td>199</td>\n",
       "      <td>257</td>\n",
       "      <td>220</td>\n",
       "      <td>199</td>\n",
       "    </tr>\n",
       "    <tr>\n",
       "      <th>7</th>\n",
       "      <td>100</td>\n",
       "      <td>169</td>\n",
       "      <td>170</td>\n",
       "      <td>208</td>\n",
       "      <td>179</td>\n",
       "      <td>159</td>\n",
       "      <td>200</td>\n",
       "      <td>168</td>\n",
       "      <td>198</td>\n",
       "      <td>138</td>\n",
       "      <td>178</td>\n",
       "      <td>178</td>\n",
       "      <td>170</td>\n",
       "      <td>139</td>\n",
       "      <td>177</td>\n",
       "      <td>221</td>\n",
       "      <td>198</td>\n",
       "      <td>228</td>\n",
       "    </tr>\n",
       "  </tbody>\n",
       "</table>\n",
       "</div>"
      ],
      "text/plain": [
       "id    A    B    C    D    E    F    G    H    I    J    K    L    M    N    O  \\\n",
       "1   100  139  177  161  151  150  220  189  178  168  198  209  129  179  167   \n",
       "2   110  128  180  150  210  220  181  178  181  239  241  246  181  119  138   \n",
       "3   119  208  139  181  150  207  180  159  231  198  190  221  139  160  148   \n",
       "4   119  190  210  198  121  140  199  258  169  199  168  240  187  149  159   \n",
       "5   138  159  147  168  178  157  190  199  191  110  130  201  148  168  180   \n",
       "6   130  150  188  198  158  168  169  210  178  138  159  188  180  150  199   \n",
       "7   100  169  170  208  179  159  200  168  198  138  178  178  170  139  177   \n",
       "\n",
       "id    P    R    S  \n",
       "1   269  189  188  \n",
       "2   209  210  168  \n",
       "3   219  208  181  \n",
       "4   268  190  227  \n",
       "5   250  219  221  \n",
       "6   257  220  199  \n",
       "7   221  198  228  "
      ]
     },
     "execution_count": 137,
     "metadata": {},
     "output_type": "execute_result"
    }
   ],
   "source": [
    "data3 = pd.read_csv('data_2.csv', index_col='id', nrows=18).T\n",
    "data3"
   ]
  },
  {
   "cell_type": "code",
   "execution_count": 156,
   "id": "colonial-staff",
   "metadata": {},
   "outputs": [
    {
     "name": "stdout",
     "output_type": "stream",
     "text": [
      "('1', ['G', 'N', 'P'])\n",
      "('2', ['E', 'F', 'J', 'K', 'L'])\n",
      "('3', ['B', 'I'])\n",
      "('4', ['C', 'H', 'M'])\n",
      "('5', ['A'])\n",
      "('6', ['O', 'R'])\n",
      "('7', ['D', 'S'])\n",
      "\n",
      "\n",
      "3911\n"
     ]
    }
   ],
   "source": [
    "order6, s6 = attempt3(data3)\n",
    "print(*order6.items(), '\\n', s6, sep='\\n')"
   ]
  },
  {
   "cell_type": "code",
   "execution_count": 141,
   "id": "approved-input",
   "metadata": {},
   "outputs": [
    {
     "name": "stdout",
     "output_type": "stream",
     "text": [
      "3911 vs. 3911 vs. 3911\n"
     ]
    }
   ],
   "source": [
    "order4, s4 = attempt1(data3)\n",
    "order5, s5 = attempt2(data3)\n",
    "order6, s6 = attempt3(data3)\n",
    "print(f'{s4} vs. {s5} vs. {s6}')"
   ]
  },
  {
   "cell_type": "code",
   "execution_count": 142,
   "id": "portable-campaign",
   "metadata": {},
   "outputs": [
    {
     "data": {
      "text/plain": [
       "{'1': ['G', 'N', 'P'],\n",
       " '2': ['E', 'F', 'J', 'K', 'L'],\n",
       " '3': ['B', 'I'],\n",
       " '4': ['C', 'H', 'M'],\n",
       " '5': ['A'],\n",
       " '6': ['O', 'R'],\n",
       " '7': ['D', 'S']}"
      ]
     },
     "execution_count": 142,
     "metadata": {},
     "output_type": "execute_result"
    }
   ],
   "source": [
    "order4"
   ]
  },
  {
   "cell_type": "code",
   "execution_count": 143,
   "id": "genuine-yield",
   "metadata": {},
   "outputs": [
    {
     "data": {
      "text/plain": [
       "{'1': ['G', 'N', 'P'],\n",
       " '2': ['E', 'F', 'J', 'K', 'L'],\n",
       " '3': ['B', 'I'],\n",
       " '4': ['C', 'H', 'M'],\n",
       " '5': ['A'],\n",
       " '6': ['O', 'R'],\n",
       " '7': ['D', 'S']}"
      ]
     },
     "execution_count": 143,
     "metadata": {},
     "output_type": "execute_result"
    }
   ],
   "source": [
    "order5"
   ]
  },
  {
   "cell_type": "code",
   "execution_count": 144,
   "id": "matched-petroleum",
   "metadata": {},
   "outputs": [
    {
     "data": {
      "text/plain": [
       "{'1': ['G', 'N', 'P'],\n",
       " '2': ['E', 'F', 'J', 'K', 'L'],\n",
       " '3': ['B', 'I'],\n",
       " '4': ['C', 'H', 'M'],\n",
       " '5': ['A'],\n",
       " '6': ['O', 'R'],\n",
       " '7': ['D', 'S']}"
      ]
     },
     "execution_count": 144,
     "metadata": {},
     "output_type": "execute_result"
    }
   ],
   "source": [
    "order6"
   ]
  },
  {
   "cell_type": "markdown",
   "id": "secondary-latin",
   "metadata": {},
   "source": [
    "# Задача 3"
   ]
  },
  {
   "cell_type": "code",
   "execution_count": 2,
   "id": "logical-hamilton",
   "metadata": {},
   "outputs": [
    {
     "data": {
      "text/html": [
       "<div>\n",
       "<style scoped>\n",
       "    .dataframe tbody tr th:only-of-type {\n",
       "        vertical-align: middle;\n",
       "    }\n",
       "\n",
       "    .dataframe tbody tr th {\n",
       "        vertical-align: top;\n",
       "    }\n",
       "\n",
       "    .dataframe thead th {\n",
       "        text-align: right;\n",
       "    }\n",
       "</style>\n",
       "<table border=\"1\" class=\"dataframe\">\n",
       "  <thead>\n",
       "    <tr style=\"text-align: right;\">\n",
       "      <th></th>\n",
       "      <th>x1</th>\n",
       "      <th>x2</th>\n",
       "      <th>x3</th>\n",
       "      <th>x4</th>\n",
       "      <th>x5</th>\n",
       "      <th>x6</th>\n",
       "      <th>x7</th>\n",
       "      <th>x8</th>\n",
       "      <th>x9</th>\n",
       "      <th>x10</th>\n",
       "      <th>...</th>\n",
       "      <th>x57</th>\n",
       "      <th>x58</th>\n",
       "      <th>x59</th>\n",
       "      <th>x60</th>\n",
       "      <th>x61</th>\n",
       "      <th>x62</th>\n",
       "      <th>x63</th>\n",
       "      <th>x64</th>\n",
       "      <th>Y1</th>\n",
       "      <th>Y2</th>\n",
       "    </tr>\n",
       "  </thead>\n",
       "  <tbody>\n",
       "    <tr>\n",
       "      <th>0</th>\n",
       "      <td>32.0</td>\n",
       "      <td>60.0</td>\n",
       "      <td>15.0</td>\n",
       "      <td>1871</td>\n",
       "      <td>56.0</td>\n",
       "      <td>6.0</td>\n",
       "      <td>10.0</td>\n",
       "      <td>0.0</td>\n",
       "      <td>58653.95</td>\n",
       "      <td>176.4</td>\n",
       "      <td>...</td>\n",
       "      <td>175.0</td>\n",
       "      <td>311667.0</td>\n",
       "      <td>154.27</td>\n",
       "      <td>18.48</td>\n",
       "      <td>27338.4</td>\n",
       "      <td>99.9</td>\n",
       "      <td>74199.0</td>\n",
       "      <td>1002.69</td>\n",
       "      <td>0</td>\n",
       "      <td>1252.25</td>\n",
       "    </tr>\n",
       "    <tr>\n",
       "      <th>1</th>\n",
       "      <td>14.0</td>\n",
       "      <td>7.0</td>\n",
       "      <td>2.0</td>\n",
       "      <td>585</td>\n",
       "      <td>2.0</td>\n",
       "      <td>2.0</td>\n",
       "      <td>4.0</td>\n",
       "      <td>2.0</td>\n",
       "      <td>34613.83</td>\n",
       "      <td>848.0</td>\n",
       "      <td>...</td>\n",
       "      <td>559.0</td>\n",
       "      <td>1497992.0</td>\n",
       "      <td>109.64</td>\n",
       "      <td>1.54</td>\n",
       "      <td>17209.5</td>\n",
       "      <td>112.9</td>\n",
       "      <td>-7194.0</td>\n",
       "      <td>-97.22</td>\n",
       "      <td>0</td>\n",
       "      <td>418.14</td>\n",
       "    </tr>\n",
       "    <tr>\n",
       "      <th>2</th>\n",
       "      <td>42.0</td>\n",
       "      <td>131.0</td>\n",
       "      <td>32.0</td>\n",
       "      <td>3369</td>\n",
       "      <td>102.0</td>\n",
       "      <td>15.0</td>\n",
       "      <td>38.0</td>\n",
       "      <td>15.0</td>\n",
       "      <td>36801.25</td>\n",
       "      <td>719.6</td>\n",
       "      <td>...</td>\n",
       "      <td>579.5</td>\n",
       "      <td>1207875.0</td>\n",
       "      <td>251.65</td>\n",
       "      <td>7.39</td>\n",
       "      <td>15966.3</td>\n",
       "      <td>99.3</td>\n",
       "      <td>19263.0</td>\n",
       "      <td>260.31</td>\n",
       "      <td>0</td>\n",
       "      <td>480.15</td>\n",
       "    </tr>\n",
       "    <tr>\n",
       "      <th>3</th>\n",
       "      <td>48.0</td>\n",
       "      <td>89.0</td>\n",
       "      <td>14.0</td>\n",
       "      <td>2630</td>\n",
       "      <td>183.0</td>\n",
       "      <td>20.0</td>\n",
       "      <td>1.0</td>\n",
       "      <td>1.0</td>\n",
       "      <td>37973.60</td>\n",
       "      <td>732.0</td>\n",
       "      <td>...</td>\n",
       "      <td>500.2</td>\n",
       "      <td>1098257.0</td>\n",
       "      <td>229.92</td>\n",
       "      <td>10.30</td>\n",
       "      <td>17529.3</td>\n",
       "      <td>94.9</td>\n",
       "      <td>64773.0</td>\n",
       "      <td>875.31</td>\n",
       "      <td>0</td>\n",
       "      <td>544.36</td>\n",
       "    </tr>\n",
       "    <tr>\n",
       "      <th>4</th>\n",
       "      <td>14.0</td>\n",
       "      <td>49.0</td>\n",
       "      <td>3.0</td>\n",
       "      <td>698</td>\n",
       "      <td>55.0</td>\n",
       "      <td>2.0</td>\n",
       "      <td>9.0</td>\n",
       "      <td>3.0</td>\n",
       "      <td>33297.72</td>\n",
       "      <td>149.8</td>\n",
       "      <td>...</td>\n",
       "      <td>122.7</td>\n",
       "      <td>269984.0</td>\n",
       "      <td>87.40</td>\n",
       "      <td>1.61</td>\n",
       "      <td>17571.8</td>\n",
       "      <td>96.7</td>\n",
       "      <td>2268.0</td>\n",
       "      <td>30.65</td>\n",
       "      <td>0</td>\n",
       "      <td>448.20</td>\n",
       "    </tr>\n",
       "    <tr>\n",
       "      <th>...</th>\n",
       "      <td>...</td>\n",
       "      <td>...</td>\n",
       "      <td>...</td>\n",
       "      <td>...</td>\n",
       "      <td>...</td>\n",
       "      <td>...</td>\n",
       "      <td>...</td>\n",
       "      <td>...</td>\n",
       "      <td>...</td>\n",
       "      <td>...</td>\n",
       "      <td>...</td>\n",
       "      <td>...</td>\n",
       "      <td>...</td>\n",
       "      <td>...</td>\n",
       "      <td>...</td>\n",
       "      <td>...</td>\n",
       "      <td>...</td>\n",
       "      <td>...</td>\n",
       "      <td>...</td>\n",
       "      <td>...</td>\n",
       "      <td>...</td>\n",
       "    </tr>\n",
       "    <tr>\n",
       "      <th>63</th>\n",
       "      <td>135.0</td>\n",
       "      <td>154.0</td>\n",
       "      <td>33.0</td>\n",
       "      <td>6216</td>\n",
       "      <td>447.0</td>\n",
       "      <td>48.0</td>\n",
       "      <td>114.0</td>\n",
       "      <td>10.0</td>\n",
       "      <td>49722.15</td>\n",
       "      <td>815.6</td>\n",
       "      <td>...</td>\n",
       "      <td>515.7</td>\n",
       "      <td>1082662.0</td>\n",
       "      <td>102.36</td>\n",
       "      <td>9.80</td>\n",
       "      <td>20201.0</td>\n",
       "      <td>126.9</td>\n",
       "      <td>28204.0</td>\n",
       "      <td>381.14</td>\n",
       "      <td>0</td>\n",
       "      <td>771.30</td>\n",
       "    </tr>\n",
       "    <tr>\n",
       "      <th>64</th>\n",
       "      <td>72.0</td>\n",
       "      <td>234.0</td>\n",
       "      <td>24.0</td>\n",
       "      <td>5516</td>\n",
       "      <td>161.0</td>\n",
       "      <td>34.0</td>\n",
       "      <td>110.0</td>\n",
       "      <td>29.0</td>\n",
       "      <td>58046.47</td>\n",
       "      <td>904.4</td>\n",
       "      <td>...</td>\n",
       "      <td>893.1</td>\n",
       "      <td>1687654.0</td>\n",
       "      <td>545.90</td>\n",
       "      <td>23.07</td>\n",
       "      <td>19799.1</td>\n",
       "      <td>110.6</td>\n",
       "      <td>1265422.0</td>\n",
       "      <td>17100.30</td>\n",
       "      <td>1</td>\n",
       "      <td>1151.50</td>\n",
       "    </tr>\n",
       "    <tr>\n",
       "      <th>65</th>\n",
       "      <td>132.0</td>\n",
       "      <td>376.0</td>\n",
       "      <td>81.0</td>\n",
       "      <td>23664</td>\n",
       "      <td>676.0</td>\n",
       "      <td>125.0</td>\n",
       "      <td>159.0</td>\n",
       "      <td>35.0</td>\n",
       "      <td>38877.22</td>\n",
       "      <td>1619.8</td>\n",
       "      <td>...</td>\n",
       "      <td>1349.0</td>\n",
       "      <td>2785836.0</td>\n",
       "      <td>301.91</td>\n",
       "      <td>37.53</td>\n",
       "      <td>17726.7</td>\n",
       "      <td>111.9</td>\n",
       "      <td>175754.0</td>\n",
       "      <td>2375.05</td>\n",
       "      <td>0</td>\n",
       "      <td>627.63</td>\n",
       "    </tr>\n",
       "    <tr>\n",
       "      <th>66</th>\n",
       "      <td>90.0</td>\n",
       "      <td>140.0</td>\n",
       "      <td>16.0</td>\n",
       "      <td>9047</td>\n",
       "      <td>387.0</td>\n",
       "      <td>30.0</td>\n",
       "      <td>77.0</td>\n",
       "      <td>15.0</td>\n",
       "      <td>38654.35</td>\n",
       "      <td>800.4</td>\n",
       "      <td>...</td>\n",
       "      <td>619.9</td>\n",
       "      <td>1245619.0</td>\n",
       "      <td>264.48</td>\n",
       "      <td>15.32</td>\n",
       "      <td>17109.5</td>\n",
       "      <td>100.0</td>\n",
       "      <td>30067.0</td>\n",
       "      <td>406.31</td>\n",
       "      <td>0</td>\n",
       "      <td>536.38</td>\n",
       "    </tr>\n",
       "    <tr>\n",
       "      <th>67</th>\n",
       "      <td>44.0</td>\n",
       "      <td>133.0</td>\n",
       "      <td>28.0</td>\n",
       "      <td>6886</td>\n",
       "      <td>399.0</td>\n",
       "      <td>32.0</td>\n",
       "      <td>141.0</td>\n",
       "      <td>16.0</td>\n",
       "      <td>39190.78</td>\n",
       "      <td>837.2</td>\n",
       "      <td>...</td>\n",
       "      <td>599.8</td>\n",
       "      <td>1250173.0</td>\n",
       "      <td>272.25</td>\n",
       "      <td>9.05</td>\n",
       "      <td>16782.5</td>\n",
       "      <td>111.6</td>\n",
       "      <td>30075.0</td>\n",
       "      <td>406.42</td>\n",
       "      <td>0</td>\n",
       "      <td>478.24</td>\n",
       "    </tr>\n",
       "  </tbody>\n",
       "</table>\n",
       "<p>68 rows × 66 columns</p>\n",
       "</div>"
      ],
      "text/plain": [
       "       x1     x2    x3     x4     x5     x6     x7    x8        x9     x10  \\\n",
       "0    32.0   60.0  15.0   1871   56.0    6.0   10.0   0.0  58653.95   176.4   \n",
       "1    14.0    7.0   2.0    585    2.0    2.0    4.0   2.0  34613.83   848.0   \n",
       "2    42.0  131.0  32.0   3369  102.0   15.0   38.0  15.0  36801.25   719.6   \n",
       "3    48.0   89.0  14.0   2630  183.0   20.0    1.0   1.0  37973.60   732.0   \n",
       "4    14.0   49.0   3.0    698   55.0    2.0    9.0   3.0  33297.72   149.8   \n",
       "..    ...    ...   ...    ...    ...    ...    ...   ...       ...     ...   \n",
       "63  135.0  154.0  33.0   6216  447.0   48.0  114.0  10.0  49722.15   815.6   \n",
       "64   72.0  234.0  24.0   5516  161.0   34.0  110.0  29.0  58046.47   904.4   \n",
       "65  132.0  376.0  81.0  23664  676.0  125.0  159.0  35.0  38877.22  1619.8   \n",
       "66   90.0  140.0  16.0   9047  387.0   30.0   77.0  15.0  38654.35   800.4   \n",
       "67   44.0  133.0  28.0   6886  399.0   32.0  141.0  16.0  39190.78   837.2   \n",
       "\n",
       "    ...     x57        x58     x59    x60      x61    x62        x63  \\\n",
       "0   ...   175.0   311667.0  154.27  18.48  27338.4   99.9    74199.0   \n",
       "1   ...   559.0  1497992.0  109.64   1.54  17209.5  112.9    -7194.0   \n",
       "2   ...   579.5  1207875.0  251.65   7.39  15966.3   99.3    19263.0   \n",
       "3   ...   500.2  1098257.0  229.92  10.30  17529.3   94.9    64773.0   \n",
       "4   ...   122.7   269984.0   87.40   1.61  17571.8   96.7     2268.0   \n",
       "..  ...     ...        ...     ...    ...      ...    ...        ...   \n",
       "63  ...   515.7  1082662.0  102.36   9.80  20201.0  126.9    28204.0   \n",
       "64  ...   893.1  1687654.0  545.90  23.07  19799.1  110.6  1265422.0   \n",
       "65  ...  1349.0  2785836.0  301.91  37.53  17726.7  111.9   175754.0   \n",
       "66  ...   619.9  1245619.0  264.48  15.32  17109.5  100.0    30067.0   \n",
       "67  ...   599.8  1250173.0  272.25   9.05  16782.5  111.6    30075.0   \n",
       "\n",
       "         x64  Y1       Y2  \n",
       "0    1002.69   0  1252.25  \n",
       "1     -97.22   0   418.14  \n",
       "2     260.31   0   480.15  \n",
       "3     875.31   0   544.36  \n",
       "4      30.65   0   448.20  \n",
       "..       ...  ..      ...  \n",
       "63    381.14   0   771.30  \n",
       "64  17100.30   1  1151.50  \n",
       "65   2375.05   0   627.63  \n",
       "66    406.31   0   536.38  \n",
       "67    406.42   0   478.24  \n",
       "\n",
       "[68 rows x 66 columns]"
      ]
     },
     "execution_count": 2,
     "metadata": {},
     "output_type": "execute_result"
    }
   ],
   "source": [
    "data_train = pd.read_csv('train.csv')\n",
    "data_train"
   ]
  },
  {
   "cell_type": "markdown",
   "id": "vietnamese-beatles",
   "metadata": {},
   "source": [
    "### Целевые переменные"
   ]
  },
  {
   "cell_type": "code",
   "execution_count": 3,
   "id": "editorial-floating",
   "metadata": {},
   "outputs": [
    {
     "data": {
      "text/plain": [
       "array([0, 1], dtype=int64)"
      ]
     },
     "execution_count": 3,
     "metadata": {},
     "output_type": "execute_result"
    }
   ],
   "source": [
    "data_train['Y1'].unique()"
   ]
  },
  {
   "cell_type": "code",
   "execution_count": 4,
   "id": "apparent-fifty",
   "metadata": {},
   "outputs": [
    {
     "data": {
      "text/plain": [
       "array([1252.25,  418.14,  480.15,  544.36,  448.2 ,  421.25, 1025.95,\n",
       "        856.94,  522.99,  646.67,  475.7 ,  513.42,  514.49,  562.8 ,\n",
       "       1763.28,  559.31,  622.86,  543.33,  734.03,  501.2 ,  807.04,\n",
       "        654.2 , 1020.21,  515.48,  455.26, 1567.39,  550.41, 1505.33,\n",
       "        422.03,  543.04,  442.28,  472.82,  528.74,  678.28,  753.65,\n",
       "        610.51,  465.42,  676.2 ,  593.14,  469.28,  440.57,  477.79,\n",
       "        533.42,  521.13,  709.64,  501.22, 1465.68, 1115.61,  486.36,\n",
       "        553.44,  799.83,  653.34,  587.52,  682.18,  434.86,  481.53,\n",
       "        480.78,  556.24, 1285.84,  509.57,  558.09,  800.64,  604.18,\n",
       "        771.3 , 1151.5 ,  627.63,  536.38,  478.24])"
      ]
     },
     "execution_count": 4,
     "metadata": {},
     "output_type": "execute_result"
    }
   ],
   "source": [
    "data_train['Y2'].unique()"
   ]
  },
  {
   "cell_type": "markdown",
   "id": "ethical-abraham",
   "metadata": {},
   "source": [
    "### Удаление объектов c NaN"
   ]
  },
  {
   "cell_type": "code",
   "execution_count": 5,
   "id": "crazy-future",
   "metadata": {},
   "outputs": [
    {
     "data": {
      "text/html": [
       "<div>\n",
       "<style scoped>\n",
       "    .dataframe tbody tr th:only-of-type {\n",
       "        vertical-align: middle;\n",
       "    }\n",
       "\n",
       "    .dataframe tbody tr th {\n",
       "        vertical-align: top;\n",
       "    }\n",
       "\n",
       "    .dataframe thead th {\n",
       "        text-align: right;\n",
       "    }\n",
       "</style>\n",
       "<table border=\"1\" class=\"dataframe\">\n",
       "  <thead>\n",
       "    <tr style=\"text-align: right;\">\n",
       "      <th></th>\n",
       "      <th>x1</th>\n",
       "      <th>x2</th>\n",
       "      <th>x3</th>\n",
       "      <th>x4</th>\n",
       "      <th>x5</th>\n",
       "      <th>x6</th>\n",
       "      <th>x7</th>\n",
       "      <th>x8</th>\n",
       "      <th>x9</th>\n",
       "      <th>x10</th>\n",
       "      <th>...</th>\n",
       "      <th>x57</th>\n",
       "      <th>x58</th>\n",
       "      <th>x59</th>\n",
       "      <th>x60</th>\n",
       "      <th>x61</th>\n",
       "      <th>x62</th>\n",
       "      <th>x63</th>\n",
       "      <th>x64</th>\n",
       "      <th>Y1</th>\n",
       "      <th>Y2</th>\n",
       "    </tr>\n",
       "  </thead>\n",
       "  <tbody>\n",
       "    <tr>\n",
       "      <th>0</th>\n",
       "      <td>32.0</td>\n",
       "      <td>60.0</td>\n",
       "      <td>15.0</td>\n",
       "      <td>1871</td>\n",
       "      <td>56.0</td>\n",
       "      <td>6.0</td>\n",
       "      <td>10.0</td>\n",
       "      <td>0.0</td>\n",
       "      <td>58653.95</td>\n",
       "      <td>176.4</td>\n",
       "      <td>...</td>\n",
       "      <td>175.0</td>\n",
       "      <td>311667.0</td>\n",
       "      <td>154.27</td>\n",
       "      <td>18.48</td>\n",
       "      <td>27338.4</td>\n",
       "      <td>99.9</td>\n",
       "      <td>74199.0</td>\n",
       "      <td>1002.69</td>\n",
       "      <td>0</td>\n",
       "      <td>1252.25</td>\n",
       "    </tr>\n",
       "    <tr>\n",
       "      <th>1</th>\n",
       "      <td>14.0</td>\n",
       "      <td>7.0</td>\n",
       "      <td>2.0</td>\n",
       "      <td>585</td>\n",
       "      <td>2.0</td>\n",
       "      <td>2.0</td>\n",
       "      <td>4.0</td>\n",
       "      <td>2.0</td>\n",
       "      <td>34613.83</td>\n",
       "      <td>848.0</td>\n",
       "      <td>...</td>\n",
       "      <td>559.0</td>\n",
       "      <td>1497992.0</td>\n",
       "      <td>109.64</td>\n",
       "      <td>1.54</td>\n",
       "      <td>17209.5</td>\n",
       "      <td>112.9</td>\n",
       "      <td>-7194.0</td>\n",
       "      <td>-97.22</td>\n",
       "      <td>0</td>\n",
       "      <td>418.14</td>\n",
       "    </tr>\n",
       "    <tr>\n",
       "      <th>2</th>\n",
       "      <td>42.0</td>\n",
       "      <td>131.0</td>\n",
       "      <td>32.0</td>\n",
       "      <td>3369</td>\n",
       "      <td>102.0</td>\n",
       "      <td>15.0</td>\n",
       "      <td>38.0</td>\n",
       "      <td>15.0</td>\n",
       "      <td>36801.25</td>\n",
       "      <td>719.6</td>\n",
       "      <td>...</td>\n",
       "      <td>579.5</td>\n",
       "      <td>1207875.0</td>\n",
       "      <td>251.65</td>\n",
       "      <td>7.39</td>\n",
       "      <td>15966.3</td>\n",
       "      <td>99.3</td>\n",
       "      <td>19263.0</td>\n",
       "      <td>260.31</td>\n",
       "      <td>0</td>\n",
       "      <td>480.15</td>\n",
       "    </tr>\n",
       "    <tr>\n",
       "      <th>3</th>\n",
       "      <td>48.0</td>\n",
       "      <td>89.0</td>\n",
       "      <td>14.0</td>\n",
       "      <td>2630</td>\n",
       "      <td>183.0</td>\n",
       "      <td>20.0</td>\n",
       "      <td>1.0</td>\n",
       "      <td>1.0</td>\n",
       "      <td>37973.60</td>\n",
       "      <td>732.0</td>\n",
       "      <td>...</td>\n",
       "      <td>500.2</td>\n",
       "      <td>1098257.0</td>\n",
       "      <td>229.92</td>\n",
       "      <td>10.30</td>\n",
       "      <td>17529.3</td>\n",
       "      <td>94.9</td>\n",
       "      <td>64773.0</td>\n",
       "      <td>875.31</td>\n",
       "      <td>0</td>\n",
       "      <td>544.36</td>\n",
       "    </tr>\n",
       "    <tr>\n",
       "      <th>4</th>\n",
       "      <td>14.0</td>\n",
       "      <td>49.0</td>\n",
       "      <td>3.0</td>\n",
       "      <td>698</td>\n",
       "      <td>55.0</td>\n",
       "      <td>2.0</td>\n",
       "      <td>9.0</td>\n",
       "      <td>3.0</td>\n",
       "      <td>33297.72</td>\n",
       "      <td>149.8</td>\n",
       "      <td>...</td>\n",
       "      <td>122.7</td>\n",
       "      <td>269984.0</td>\n",
       "      <td>87.40</td>\n",
       "      <td>1.61</td>\n",
       "      <td>17571.8</td>\n",
       "      <td>96.7</td>\n",
       "      <td>2268.0</td>\n",
       "      <td>30.65</td>\n",
       "      <td>0</td>\n",
       "      <td>448.20</td>\n",
       "    </tr>\n",
       "    <tr>\n",
       "      <th>...</th>\n",
       "      <td>...</td>\n",
       "      <td>...</td>\n",
       "      <td>...</td>\n",
       "      <td>...</td>\n",
       "      <td>...</td>\n",
       "      <td>...</td>\n",
       "      <td>...</td>\n",
       "      <td>...</td>\n",
       "      <td>...</td>\n",
       "      <td>...</td>\n",
       "      <td>...</td>\n",
       "      <td>...</td>\n",
       "      <td>...</td>\n",
       "      <td>...</td>\n",
       "      <td>...</td>\n",
       "      <td>...</td>\n",
       "      <td>...</td>\n",
       "      <td>...</td>\n",
       "      <td>...</td>\n",
       "      <td>...</td>\n",
       "      <td>...</td>\n",
       "    </tr>\n",
       "    <tr>\n",
       "      <th>63</th>\n",
       "      <td>135.0</td>\n",
       "      <td>154.0</td>\n",
       "      <td>33.0</td>\n",
       "      <td>6216</td>\n",
       "      <td>447.0</td>\n",
       "      <td>48.0</td>\n",
       "      <td>114.0</td>\n",
       "      <td>10.0</td>\n",
       "      <td>49722.15</td>\n",
       "      <td>815.6</td>\n",
       "      <td>...</td>\n",
       "      <td>515.7</td>\n",
       "      <td>1082662.0</td>\n",
       "      <td>102.36</td>\n",
       "      <td>9.80</td>\n",
       "      <td>20201.0</td>\n",
       "      <td>126.9</td>\n",
       "      <td>28204.0</td>\n",
       "      <td>381.14</td>\n",
       "      <td>0</td>\n",
       "      <td>771.30</td>\n",
       "    </tr>\n",
       "    <tr>\n",
       "      <th>64</th>\n",
       "      <td>72.0</td>\n",
       "      <td>234.0</td>\n",
       "      <td>24.0</td>\n",
       "      <td>5516</td>\n",
       "      <td>161.0</td>\n",
       "      <td>34.0</td>\n",
       "      <td>110.0</td>\n",
       "      <td>29.0</td>\n",
       "      <td>58046.47</td>\n",
       "      <td>904.4</td>\n",
       "      <td>...</td>\n",
       "      <td>893.1</td>\n",
       "      <td>1687654.0</td>\n",
       "      <td>545.90</td>\n",
       "      <td>23.07</td>\n",
       "      <td>19799.1</td>\n",
       "      <td>110.6</td>\n",
       "      <td>1265422.0</td>\n",
       "      <td>17100.30</td>\n",
       "      <td>1</td>\n",
       "      <td>1151.50</td>\n",
       "    </tr>\n",
       "    <tr>\n",
       "      <th>65</th>\n",
       "      <td>132.0</td>\n",
       "      <td>376.0</td>\n",
       "      <td>81.0</td>\n",
       "      <td>23664</td>\n",
       "      <td>676.0</td>\n",
       "      <td>125.0</td>\n",
       "      <td>159.0</td>\n",
       "      <td>35.0</td>\n",
       "      <td>38877.22</td>\n",
       "      <td>1619.8</td>\n",
       "      <td>...</td>\n",
       "      <td>1349.0</td>\n",
       "      <td>2785836.0</td>\n",
       "      <td>301.91</td>\n",
       "      <td>37.53</td>\n",
       "      <td>17726.7</td>\n",
       "      <td>111.9</td>\n",
       "      <td>175754.0</td>\n",
       "      <td>2375.05</td>\n",
       "      <td>0</td>\n",
       "      <td>627.63</td>\n",
       "    </tr>\n",
       "    <tr>\n",
       "      <th>66</th>\n",
       "      <td>90.0</td>\n",
       "      <td>140.0</td>\n",
       "      <td>16.0</td>\n",
       "      <td>9047</td>\n",
       "      <td>387.0</td>\n",
       "      <td>30.0</td>\n",
       "      <td>77.0</td>\n",
       "      <td>15.0</td>\n",
       "      <td>38654.35</td>\n",
       "      <td>800.4</td>\n",
       "      <td>...</td>\n",
       "      <td>619.9</td>\n",
       "      <td>1245619.0</td>\n",
       "      <td>264.48</td>\n",
       "      <td>15.32</td>\n",
       "      <td>17109.5</td>\n",
       "      <td>100.0</td>\n",
       "      <td>30067.0</td>\n",
       "      <td>406.31</td>\n",
       "      <td>0</td>\n",
       "      <td>536.38</td>\n",
       "    </tr>\n",
       "    <tr>\n",
       "      <th>67</th>\n",
       "      <td>44.0</td>\n",
       "      <td>133.0</td>\n",
       "      <td>28.0</td>\n",
       "      <td>6886</td>\n",
       "      <td>399.0</td>\n",
       "      <td>32.0</td>\n",
       "      <td>141.0</td>\n",
       "      <td>16.0</td>\n",
       "      <td>39190.78</td>\n",
       "      <td>837.2</td>\n",
       "      <td>...</td>\n",
       "      <td>599.8</td>\n",
       "      <td>1250173.0</td>\n",
       "      <td>272.25</td>\n",
       "      <td>9.05</td>\n",
       "      <td>16782.5</td>\n",
       "      <td>111.6</td>\n",
       "      <td>30075.0</td>\n",
       "      <td>406.42</td>\n",
       "      <td>0</td>\n",
       "      <td>478.24</td>\n",
       "    </tr>\n",
       "  </tbody>\n",
       "</table>\n",
       "<p>62 rows × 66 columns</p>\n",
       "</div>"
      ],
      "text/plain": [
       "       x1     x2    x3     x4     x5     x6     x7    x8        x9     x10  \\\n",
       "0    32.0   60.0  15.0   1871   56.0    6.0   10.0   0.0  58653.95   176.4   \n",
       "1    14.0    7.0   2.0    585    2.0    2.0    4.0   2.0  34613.83   848.0   \n",
       "2    42.0  131.0  32.0   3369  102.0   15.0   38.0  15.0  36801.25   719.6   \n",
       "3    48.0   89.0  14.0   2630  183.0   20.0    1.0   1.0  37973.60   732.0   \n",
       "4    14.0   49.0   3.0    698   55.0    2.0    9.0   3.0  33297.72   149.8   \n",
       "..    ...    ...   ...    ...    ...    ...    ...   ...       ...     ...   \n",
       "63  135.0  154.0  33.0   6216  447.0   48.0  114.0  10.0  49722.15   815.6   \n",
       "64   72.0  234.0  24.0   5516  161.0   34.0  110.0  29.0  58046.47   904.4   \n",
       "65  132.0  376.0  81.0  23664  676.0  125.0  159.0  35.0  38877.22  1619.8   \n",
       "66   90.0  140.0  16.0   9047  387.0   30.0   77.0  15.0  38654.35   800.4   \n",
       "67   44.0  133.0  28.0   6886  399.0   32.0  141.0  16.0  39190.78   837.2   \n",
       "\n",
       "    ...     x57        x58     x59    x60      x61    x62        x63  \\\n",
       "0   ...   175.0   311667.0  154.27  18.48  27338.4   99.9    74199.0   \n",
       "1   ...   559.0  1497992.0  109.64   1.54  17209.5  112.9    -7194.0   \n",
       "2   ...   579.5  1207875.0  251.65   7.39  15966.3   99.3    19263.0   \n",
       "3   ...   500.2  1098257.0  229.92  10.30  17529.3   94.9    64773.0   \n",
       "4   ...   122.7   269984.0   87.40   1.61  17571.8   96.7     2268.0   \n",
       "..  ...     ...        ...     ...    ...      ...    ...        ...   \n",
       "63  ...   515.7  1082662.0  102.36   9.80  20201.0  126.9    28204.0   \n",
       "64  ...   893.1  1687654.0  545.90  23.07  19799.1  110.6  1265422.0   \n",
       "65  ...  1349.0  2785836.0  301.91  37.53  17726.7  111.9   175754.0   \n",
       "66  ...   619.9  1245619.0  264.48  15.32  17109.5  100.0    30067.0   \n",
       "67  ...   599.8  1250173.0  272.25   9.05  16782.5  111.6    30075.0   \n",
       "\n",
       "         x64  Y1       Y2  \n",
       "0    1002.69   0  1252.25  \n",
       "1     -97.22   0   418.14  \n",
       "2     260.31   0   480.15  \n",
       "3     875.31   0   544.36  \n",
       "4      30.65   0   448.20  \n",
       "..       ...  ..      ...  \n",
       "63    381.14   0   771.30  \n",
       "64  17100.30   1  1151.50  \n",
       "65   2375.05   0   627.63  \n",
       "66    406.31   0   536.38  \n",
       "67    406.42   0   478.24  \n",
       "\n",
       "[62 rows x 66 columns]"
      ]
     },
     "execution_count": 5,
     "metadata": {},
     "output_type": "execute_result"
    }
   ],
   "source": [
    "data_train.loc[data_train.notna().all(axis=1)]"
   ]
  },
  {
   "cell_type": "code",
   "execution_count": 6,
   "id": "dependent-quantum",
   "metadata": {},
   "outputs": [],
   "source": [
    "data_train.dropna(axis=0, inplace=True)"
   ]
  },
  {
   "cell_type": "code",
   "execution_count": 7,
   "id": "norwegian-workstation",
   "metadata": {},
   "outputs": [
    {
     "data": {
      "text/plain": [
       "(62, 66)"
      ]
     },
     "execution_count": 7,
     "metadata": {},
     "output_type": "execute_result"
    }
   ],
   "source": [
    "data_train.shape"
   ]
  },
  {
   "cell_type": "markdown",
   "id": "center-rachel",
   "metadata": {},
   "source": [
    "Преобразуем все object"
   ]
  },
  {
   "cell_type": "code",
   "execution_count": 8,
   "id": "phantom-dependence",
   "metadata": {},
   "outputs": [
    {
     "data": {
      "text/plain": [
       "float64    63\n",
       "object      2\n",
       "int64       1\n",
       "dtype: int64"
      ]
     },
     "execution_count": 8,
     "metadata": {},
     "output_type": "execute_result"
    }
   ],
   "source": [
    "data_train.dtypes.value_counts()"
   ]
  },
  {
   "cell_type": "code",
   "execution_count": 9,
   "id": "aerial-helen",
   "metadata": {},
   "outputs": [
    {
     "data": {
      "text/plain": [
       "Index(['x4', 'x59'], dtype='object')"
      ]
     },
     "execution_count": 9,
     "metadata": {},
     "output_type": "execute_result"
    }
   ],
   "source": [
    "data_train.columns[data_train.dtypes == object]"
   ]
  },
  {
   "cell_type": "code",
   "execution_count": 10,
   "id": "casual-given",
   "metadata": {},
   "outputs": [
    {
     "data": {
      "text/plain": [
       "array(['1871', '585', '3369', '2630', '698', '1600', '24523', '1265',\n",
       "       '5638', '2536', '3589', '15943', '19823', '190', '6391', '5102',\n",
       "       '10782', '4 379', '20265', '3973', '8046', '3918', '1687', '14067',\n",
       "       '245', '4619', '14561', '2744', '9854', '14654', '14395', '2268',\n",
       "       '1114', '6001', '2765', '1606', '4407', '4318', '10342', '12421',\n",
       "       '11641', '634', '3384', '28899', '7071', '20417', '25448', '5382',\n",
       "       '1553', '1290', '3956', '14412', '192', '5579', '5588', '8347',\n",
       "       '3142', '6216', '5516', '23664', '9047', '6886'], dtype=object)"
      ]
     },
     "execution_count": 10,
     "metadata": {},
     "output_type": "execute_result"
    }
   ],
   "source": [
    "data_train['x4'].unique()"
   ]
  },
  {
   "cell_type": "code",
   "execution_count": 11,
   "id": "plain-conjunction",
   "metadata": {},
   "outputs": [],
   "source": [
    "data_train['x4'] = data_train['x4'].apply(lambda x: int(x.replace(' ', '')))"
   ]
  },
  {
   "cell_type": "code",
   "execution_count": 12,
   "id": "herbal-fitness",
   "metadata": {},
   "outputs": [
    {
     "data": {
      "text/plain": [
       "array(['154.27', '109.64', '251.65', '229.92', '87.40', '78.80', '575.39',\n",
       "       '558.57', '294.96', '115.76', '145.05', '207.52', '174.72',\n",
       "       '37.23', '308.59', '178.44', '340.48', '158.84', '466.79',\n",
       "       '197.23', '188.36', '129.25', '202.30', '210.42', '70.44',\n",
       "       '467.32', '229.14', '243.93', '245.76', '510.77', '402.39',\n",
       "       '325.82', '258.95', '285.49', '399.13', '77.13', '177.47',\n",
       "       '139.72', '211.23', '315.60', '195.38', '105.69', '139.12',\n",
       "       '230.68', '141.46', '150.91', '412.95', '366.17', '32.50',\n",
       "       '223.21', '375.21', '557.04', '518.56', '203.50', '453.25',\n",
       "       '131.34', '356.34', '102.36', '545.90', '301.91', '264.48',\n",
       "       '272.25'], dtype=object)"
      ]
     },
     "execution_count": 12,
     "metadata": {},
     "output_type": "execute_result"
    }
   ],
   "source": [
    "data_train['x59'].unique()"
   ]
  },
  {
   "cell_type": "code",
   "execution_count": 13,
   "id": "waiting-composer",
   "metadata": {},
   "outputs": [],
   "source": [
    "data_train['x59'] = data_train['x59'].apply(lambda x: float(x.replace(' ', '')))"
   ]
  },
  {
   "cell_type": "code",
   "execution_count": 14,
   "id": "authentic-saturday",
   "metadata": {},
   "outputs": [
    {
     "data": {
      "text/plain": [
       "0     154.27\n",
       "1     109.64\n",
       "2     251.65\n",
       "3     229.92\n",
       "4      87.40\n",
       "       ...  \n",
       "63    102.36\n",
       "64    545.90\n",
       "65    301.91\n",
       "66    264.48\n",
       "67    272.25\n",
       "Name: x59, Length: 62, dtype: float64"
      ]
     },
     "execution_count": 14,
     "metadata": {},
     "output_type": "execute_result"
    }
   ],
   "source": [
    "data_train['x59']"
   ]
  },
  {
   "cell_type": "code",
   "execution_count": 15,
   "id": "electronic-converter",
   "metadata": {},
   "outputs": [
    {
     "data": {
      "text/plain": [
       "float64    64\n",
       "int64       2\n",
       "dtype: int64"
      ]
     },
     "execution_count": 15,
     "metadata": {},
     "output_type": "execute_result"
    }
   ],
   "source": [
    "data_train.dtypes.value_counts()"
   ]
  },
  {
   "cell_type": "markdown",
   "id": "rural-cache",
   "metadata": {},
   "source": [
    "### Preprocessing"
   ]
  },
  {
   "cell_type": "code",
   "execution_count": 16,
   "id": "czech-spirit",
   "metadata": {},
   "outputs": [],
   "source": [
    "from sklearn.preprocessing import StandardScaler"
   ]
  },
  {
   "cell_type": "code",
   "execution_count": 17,
   "id": "french-processor",
   "metadata": {},
   "outputs": [
    {
     "data": {
      "text/html": [
       "<div>\n",
       "<style scoped>\n",
       "    .dataframe tbody tr th:only-of-type {\n",
       "        vertical-align: middle;\n",
       "    }\n",
       "\n",
       "    .dataframe tbody tr th {\n",
       "        vertical-align: top;\n",
       "    }\n",
       "\n",
       "    .dataframe thead th {\n",
       "        text-align: right;\n",
       "    }\n",
       "</style>\n",
       "<table border=\"1\" class=\"dataframe\">\n",
       "  <thead>\n",
       "    <tr style=\"text-align: right;\">\n",
       "      <th></th>\n",
       "      <th>x1</th>\n",
       "      <th>x2</th>\n",
       "      <th>x3</th>\n",
       "      <th>x4</th>\n",
       "      <th>x5</th>\n",
       "      <th>x6</th>\n",
       "      <th>x7</th>\n",
       "      <th>x8</th>\n",
       "      <th>x9</th>\n",
       "      <th>x10</th>\n",
       "      <th>...</th>\n",
       "      <th>x57</th>\n",
       "      <th>x58</th>\n",
       "      <th>x59</th>\n",
       "      <th>x60</th>\n",
       "      <th>x61</th>\n",
       "      <th>x62</th>\n",
       "      <th>x63</th>\n",
       "      <th>x64</th>\n",
       "      <th>Y1</th>\n",
       "      <th>Y2</th>\n",
       "    </tr>\n",
       "  </thead>\n",
       "  <tbody>\n",
       "    <tr>\n",
       "      <th>count</th>\n",
       "      <td>62.000000</td>\n",
       "      <td>62.000000</td>\n",
       "      <td>62.000000</td>\n",
       "      <td>62.000000</td>\n",
       "      <td>62.000000</td>\n",
       "      <td>62.000000</td>\n",
       "      <td>62.000000</td>\n",
       "      <td>62.000000</td>\n",
       "      <td>62.000000</td>\n",
       "      <td>62.000000</td>\n",
       "      <td>...</td>\n",
       "      <td>62.000000</td>\n",
       "      <td>6.200000e+01</td>\n",
       "      <td>62.000000</td>\n",
       "      <td>62.000000</td>\n",
       "      <td>62.000000</td>\n",
       "      <td>62.000000</td>\n",
       "      <td>6.200000e+01</td>\n",
       "      <td>62.000000</td>\n",
       "      <td>62.000000</td>\n",
       "      <td>62.000000</td>\n",
       "    </tr>\n",
       "    <tr>\n",
       "      <th>mean</th>\n",
       "      <td>80.612903</td>\n",
       "      <td>194.887097</td>\n",
       "      <td>38.290323</td>\n",
       "      <td>7539.483871</td>\n",
       "      <td>346.435484</td>\n",
       "      <td>45.322581</td>\n",
       "      <td>74.419355</td>\n",
       "      <td>15.209677</td>\n",
       "      <td>40677.564355</td>\n",
       "      <td>920.877419</td>\n",
       "      <td>...</td>\n",
       "      <td>759.879032</td>\n",
       "      <td>1.609910e+06</td>\n",
       "      <td>255.517419</td>\n",
       "      <td>17.765645</td>\n",
       "      <td>18381.130645</td>\n",
       "      <td>108.177419</td>\n",
       "      <td>2.024381e+05</td>\n",
       "      <td>2735.649839</td>\n",
       "      <td>0.145161</td>\n",
       "      <td>661.923710</td>\n",
       "    </tr>\n",
       "    <tr>\n",
       "      <th>std</th>\n",
       "      <td>67.868328</td>\n",
       "      <td>184.966378</td>\n",
       "      <td>36.382480</td>\n",
       "      <td>7102.533265</td>\n",
       "      <td>353.838836</td>\n",
       "      <td>50.316303</td>\n",
       "      <td>67.528148</td>\n",
       "      <td>19.314597</td>\n",
       "      <td>7745.359007</td>\n",
       "      <td>744.139284</td>\n",
       "      <td>...</td>\n",
       "      <td>687.743176</td>\n",
       "      <td>1.421923e+06</td>\n",
       "      <td>141.915639</td>\n",
       "      <td>20.603440</td>\n",
       "      <td>2801.080544</td>\n",
       "      <td>13.576322</td>\n",
       "      <td>3.028617e+05</td>\n",
       "      <td>4092.725508</td>\n",
       "      <td>0.355139</td>\n",
       "      <td>291.224762</td>\n",
       "    </tr>\n",
       "    <tr>\n",
       "      <th>min</th>\n",
       "      <td>5.000000</td>\n",
       "      <td>7.000000</td>\n",
       "      <td>1.000000</td>\n",
       "      <td>190.000000</td>\n",
       "      <td>1.000000</td>\n",
       "      <td>0.000000</td>\n",
       "      <td>1.000000</td>\n",
       "      <td>0.000000</td>\n",
       "      <td>29918.620000</td>\n",
       "      <td>84.000000</td>\n",
       "      <td>...</td>\n",
       "      <td>21.600000</td>\n",
       "      <td>4.438900e+04</td>\n",
       "      <td>32.500000</td>\n",
       "      <td>0.320000</td>\n",
       "      <td>15364.800000</td>\n",
       "      <td>79.800000</td>\n",
       "      <td>-7.194000e+03</td>\n",
       "      <td>-97.220000</td>\n",
       "      <td>0.000000</td>\n",
       "      <td>418.140000</td>\n",
       "    </tr>\n",
       "    <tr>\n",
       "      <th>25%</th>\n",
       "      <td>31.250000</td>\n",
       "      <td>70.250000</td>\n",
       "      <td>11.500000</td>\n",
       "      <td>2559.500000</td>\n",
       "      <td>108.250000</td>\n",
       "      <td>14.250000</td>\n",
       "      <td>26.000000</td>\n",
       "      <td>3.000000</td>\n",
       "      <td>36442.885000</td>\n",
       "      <td>445.950000</td>\n",
       "      <td>...</td>\n",
       "      <td>347.675000</td>\n",
       "      <td>7.443892e+05</td>\n",
       "      <td>146.515000</td>\n",
       "      <td>7.165000</td>\n",
       "      <td>16744.475000</td>\n",
       "      <td>99.500000</td>\n",
       "      <td>2.643175e+04</td>\n",
       "      <td>357.185000</td>\n",
       "      <td>0.000000</td>\n",
       "      <td>480.967500</td>\n",
       "    </tr>\n",
       "    <tr>\n",
       "      <th>50%</th>\n",
       "      <td>56.000000</td>\n",
       "      <td>137.500000</td>\n",
       "      <td>26.000000</td>\n",
       "      <td>5242.000000</td>\n",
       "      <td>288.500000</td>\n",
       "      <td>30.000000</td>\n",
       "      <td>52.500000</td>\n",
       "      <td>10.000000</td>\n",
       "      <td>38519.285000</td>\n",
       "      <td>750.300000</td>\n",
       "      <td>...</td>\n",
       "      <td>551.550000</td>\n",
       "      <td>1.113224e+06</td>\n",
       "      <td>226.175000</td>\n",
       "      <td>13.215000</td>\n",
       "      <td>17545.250000</td>\n",
       "      <td>109.400000</td>\n",
       "      <td>7.614300e+04</td>\n",
       "      <td>1028.960000</td>\n",
       "      <td>0.000000</td>\n",
       "      <td>551.925000</td>\n",
       "    </tr>\n",
       "    <tr>\n",
       "      <th>75%</th>\n",
       "      <td>116.000000</td>\n",
       "      <td>236.000000</td>\n",
       "      <td>55.750000</td>\n",
       "      <td>10672.000000</td>\n",
       "      <td>433.500000</td>\n",
       "      <td>61.000000</td>\n",
       "      <td>114.750000</td>\n",
       "      <td>17.750000</td>\n",
       "      <td>40761.050000</td>\n",
       "      <td>1176.650000</td>\n",
       "      <td>...</td>\n",
       "      <td>1028.625000</td>\n",
       "      <td>2.214935e+06</td>\n",
       "      <td>336.815000</td>\n",
       "      <td>21.392500</td>\n",
       "      <td>18805.400000</td>\n",
       "      <td>114.275000</td>\n",
       "      <td>2.844662e+05</td>\n",
       "      <td>3844.137500</td>\n",
       "      <td>0.000000</td>\n",
       "      <td>681.205000</td>\n",
       "    </tr>\n",
       "    <tr>\n",
       "      <th>max</th>\n",
       "      <td>324.000000</td>\n",
       "      <td>830.000000</td>\n",
       "      <td>192.000000</td>\n",
       "      <td>28899.000000</td>\n",
       "      <td>1879.000000</td>\n",
       "      <td>281.000000</td>\n",
       "      <td>319.000000</td>\n",
       "      <td>115.000000</td>\n",
       "      <td>66456.570000</td>\n",
       "      <td>3950.200000</td>\n",
       "      <td>...</td>\n",
       "      <td>3998.900000</td>\n",
       "      <td>7.708499e+06</td>\n",
       "      <td>575.390000</td>\n",
       "      <td>144.910000</td>\n",
       "      <td>30242.100000</td>\n",
       "      <td>167.500000</td>\n",
       "      <td>1.474756e+06</td>\n",
       "      <td>19929.140000</td>\n",
       "      <td>1.000000</td>\n",
       "      <td>1763.280000</td>\n",
       "    </tr>\n",
       "  </tbody>\n",
       "</table>\n",
       "<p>8 rows × 66 columns</p>\n",
       "</div>"
      ],
      "text/plain": [
       "               x1          x2          x3            x4           x5  \\\n",
       "count   62.000000   62.000000   62.000000     62.000000    62.000000   \n",
       "mean    80.612903  194.887097   38.290323   7539.483871   346.435484   \n",
       "std     67.868328  184.966378   36.382480   7102.533265   353.838836   \n",
       "min      5.000000    7.000000    1.000000    190.000000     1.000000   \n",
       "25%     31.250000   70.250000   11.500000   2559.500000   108.250000   \n",
       "50%     56.000000  137.500000   26.000000   5242.000000   288.500000   \n",
       "75%    116.000000  236.000000   55.750000  10672.000000   433.500000   \n",
       "max    324.000000  830.000000  192.000000  28899.000000  1879.000000   \n",
       "\n",
       "               x6          x7          x8            x9          x10  ...  \\\n",
       "count   62.000000   62.000000   62.000000     62.000000    62.000000  ...   \n",
       "mean    45.322581   74.419355   15.209677  40677.564355   920.877419  ...   \n",
       "std     50.316303   67.528148   19.314597   7745.359007   744.139284  ...   \n",
       "min      0.000000    1.000000    0.000000  29918.620000    84.000000  ...   \n",
       "25%     14.250000   26.000000    3.000000  36442.885000   445.950000  ...   \n",
       "50%     30.000000   52.500000   10.000000  38519.285000   750.300000  ...   \n",
       "75%     61.000000  114.750000   17.750000  40761.050000  1176.650000  ...   \n",
       "max    281.000000  319.000000  115.000000  66456.570000  3950.200000  ...   \n",
       "\n",
       "               x57           x58         x59         x60           x61  \\\n",
       "count    62.000000  6.200000e+01   62.000000   62.000000     62.000000   \n",
       "mean    759.879032  1.609910e+06  255.517419   17.765645  18381.130645   \n",
       "std     687.743176  1.421923e+06  141.915639   20.603440   2801.080544   \n",
       "min      21.600000  4.438900e+04   32.500000    0.320000  15364.800000   \n",
       "25%     347.675000  7.443892e+05  146.515000    7.165000  16744.475000   \n",
       "50%     551.550000  1.113224e+06  226.175000   13.215000  17545.250000   \n",
       "75%    1028.625000  2.214935e+06  336.815000   21.392500  18805.400000   \n",
       "max    3998.900000  7.708499e+06  575.390000  144.910000  30242.100000   \n",
       "\n",
       "              x62           x63           x64         Y1           Y2  \n",
       "count   62.000000  6.200000e+01     62.000000  62.000000    62.000000  \n",
       "mean   108.177419  2.024381e+05   2735.649839   0.145161   661.923710  \n",
       "std     13.576322  3.028617e+05   4092.725508   0.355139   291.224762  \n",
       "min     79.800000 -7.194000e+03    -97.220000   0.000000   418.140000  \n",
       "25%     99.500000  2.643175e+04    357.185000   0.000000   480.967500  \n",
       "50%    109.400000  7.614300e+04   1028.960000   0.000000   551.925000  \n",
       "75%    114.275000  2.844662e+05   3844.137500   0.000000   681.205000  \n",
       "max    167.500000  1.474756e+06  19929.140000   1.000000  1763.280000  \n",
       "\n",
       "[8 rows x 66 columns]"
      ]
     },
     "execution_count": 17,
     "metadata": {},
     "output_type": "execute_result"
    }
   ],
   "source": [
    "data_train.describe()"
   ]
  },
  {
   "cell_type": "code",
   "execution_count": 18,
   "id": "dietary-tenant",
   "metadata": {},
   "outputs": [],
   "source": [
    "Norm_x = StandardScaler()\n",
    "Norm_y = StandardScaler()\n",
    "train_X_reg = Norm_x.fit_transform(data_train.drop(['Y1', 'Y2'], axis=1))\n",
    "train_X_class = train_X_reg.copy()\n",
    "train_Y_reg = Norm_y.fit_transform(data_train[['Y2']])\n",
    "train_Y_class = data_train['Y1']"
   ]
  },
  {
   "cell_type": "markdown",
   "id": "numeric-struggle",
   "metadata": {},
   "source": [
    "### Простое дублирование"
   ]
  },
  {
   "cell_type": "code",
   "execution_count": 19,
   "id": "considered-laugh",
   "metadata": {},
   "outputs": [
    {
     "data": {
      "text/plain": [
       "0    53\n",
       "1     9\n",
       "Name: Y1, dtype: int64"
      ]
     },
     "execution_count": 19,
     "metadata": {},
     "output_type": "execute_result"
    }
   ],
   "source": [
    "data_train['Y1'].value_counts()"
   ]
  },
  {
   "cell_type": "code",
   "execution_count": 20,
   "id": "several-recommendation",
   "metadata": {},
   "outputs": [
    {
     "data": {
      "text/plain": [
       "<AxesSubplot:>"
      ]
     },
     "execution_count": 20,
     "metadata": {},
     "output_type": "execute_result"
    },
    {
     "data": {
      "image/png": "[encoded data removed]",
      "text/plain": [
       "<Figure size 432x288 with 1 Axes>"
      ]
     },
     "metadata": {
      "needs_background": "light"
     },
     "output_type": "display_data"
    }
   ],
   "source": [
    "data_train['Y2'].hist()\n",
    "data_train['Y2'][data_train['Y1']==1].hist()"
   ]
  },
  {
   "cell_type": "code",
   "execution_count": 21,
   "id": "latest-november",
   "metadata": {},
   "outputs": [],
   "source": [
    "pack_for_mpX = train_X_class[train_Y_class == 1].copy()\n",
    "pack_for_mpY1 = train_Y_class[train_Y_class == 1].copy()"
   ]
  },
  {
   "cell_type": "code",
   "execution_count": 22,
   "id": "wooden-request",
   "metadata": {},
   "outputs": [
    {
     "data": {
      "text/plain": [
       "(62, 64)"
      ]
     },
     "execution_count": 22,
     "metadata": {},
     "output_type": "execute_result"
    }
   ],
   "source": [
    "train_X_class.shape"
   ]
  },
  {
   "cell_type": "code",
   "execution_count": 23,
   "id": "deluxe-citizenship",
   "metadata": {},
   "outputs": [
    {
     "data": {
      "text/plain": [
       "0    53\n",
       "1     9\n",
       "Name: Y1, dtype: int64"
      ]
     },
     "execution_count": 23,
     "metadata": {},
     "output_type": "execute_result"
    }
   ],
   "source": [
    "train_Y_class.value_counts()"
   ]
  },
  {
   "cell_type": "code",
   "execution_count": 30,
   "id": "spatial-space",
   "metadata": {},
   "outputs": [
    {
     "name": "stdout",
     "output_type": "stream",
     "text": [
      "(125, 64)\n"
     ]
    }
   ],
   "source": [
    "train_X_class = np.append(train_X_class, pack_for_mpX, axis=0)\n",
    "train_Y_class = np.append(train_Y_class, pack_for_mpY1, axis=0)\n",
    "print(train_X_class.shape)"
   ]
  },
  {
   "cell_type": "markdown",
   "id": "voluntary-attachment",
   "metadata": {},
   "source": [
    "### SMOTE (для регрессии)"
   ]
  },
  {
   "cell_type": "code",
   "execution_count": 297,
   "id": "characteristic-jungle",
   "metadata": {},
   "outputs": [
    {
     "data": {
      "image/png": "[encoded data removed]",
      "text/plain": [
       "<Figure size 432x288 with 1 Axes>"
      ]
     },
     "metadata": {
      "needs_background": "light"
     },
     "output_type": "display_data"
    }
   ],
   "source": [
    "plt.hist(train_Y_reg);"
   ]
  },
  {
   "cell_type": "code",
   "execution_count": 311,
   "id": "excess-election",
   "metadata": {},
   "outputs": [],
   "source": [
    "from imblearn.over_sampling import SMOTENC"
   ]
  },
  {
   "cell_type": "code",
   "execution_count": 315,
   "id": "hybrid-satin",
   "metadata": {},
   "outputs": [
    {
     "data": {
      "text/plain": [
       "array([[-0.72212991, -0.73520515, -0.64537797, ..., -0.61467244,\n",
       "        -0.42688135, -0.42688098],\n",
       "       [-0.98951444, -1.02408285, -1.00560972, ...,  0.35069386,\n",
       "        -0.6978217 , -0.69782244],\n",
       "       [-0.57358295, -0.34821806, -0.17430568, ..., -0.65922781,\n",
       "        -0.60975185, -0.60975187],\n",
       "       ...,\n",
       "       [ 0.76333971,  0.98715995,  1.1834909 , ...,  0.27643492,\n",
       "        -0.08882591, -0.08882676],\n",
       "       [ 0.13944247, -0.29916336, -0.61766784, ..., -0.60724655,\n",
       "        -0.57378759, -0.57378761],\n",
       "       [-0.54387356, -0.33731701, -0.28514622, ...,  0.25415723,\n",
       "        -0.57376096, -0.57376051]])"
      ]
     },
     "execution_count": 315,
     "metadata": {},
     "output_type": "execute_result"
    }
   ],
   "source": [
    "train_X_reg"
   ]
  },
  {
   "cell_type": "code",
   "execution_count": 341,
   "id": "perfect-teach",
   "metadata": {},
   "outputs": [
    {
     "ename": "TypeError",
     "evalue": "__init__() got an unexpected keyword argument 'categorical_features'",
     "output_type": "error",
     "traceback": [
      "\u001b[1;31m---------------------------------------------------------------------------\u001b[0m",
      "\u001b[1;31mTypeError\u001b[0m                                 Traceback (most recent call last)",
      "\u001b[1;32m<ipython-input-341-f55a1e31f55b>\u001b[0m in \u001b[0;36m<module>\u001b[1;34m\u001b[0m\n\u001b[1;32m----> 1\u001b[1;33m \u001b[0msm\u001b[0m \u001b[1;33m=\u001b[0m \u001b[0mSMOTE\u001b[0m\u001b[1;33m(\u001b[0m\u001b[0mcategorical_features\u001b[0m \u001b[1;33m=\u001b[0m \u001b[1;33m[\u001b[0m\u001b[1;33m]\u001b[0m\u001b[1;33m,\u001b[0m \u001b[0mrandom_state\u001b[0m\u001b[1;33m=\u001b[0m\u001b[1;36m42\u001b[0m\u001b[1;33m)\u001b[0m\u001b[1;33m\u001b[0m\u001b[1;33m\u001b[0m\u001b[0m\n\u001b[0m\u001b[0;32m      2\u001b[0m \u001b[0mtrain_X_reg\u001b[0m\u001b[1;33m,\u001b[0m \u001b[0mtrain_Y_reg\u001b[0m \u001b[1;33m=\u001b[0m \u001b[0msm\u001b[0m\u001b[1;33m.\u001b[0m\u001b[0mfit_resample\u001b[0m\u001b[1;33m(\u001b[0m\u001b[0mtrain_X_reg\u001b[0m\u001b[1;33m,\u001b[0m \u001b[0mtrain_Y_reg\u001b[0m\u001b[1;33m)\u001b[0m\u001b[1;33m\u001b[0m\u001b[1;33m\u001b[0m\u001b[0m\n",
      "\u001b[1;32m~\\miniconda3\\lib\\site-packages\\imblearn\\utils\\_validation.py\u001b[0m in \u001b[0;36minner_f\u001b[1;34m(*args, **kwargs)\u001b[0m\n\u001b[0;32m    638\u001b[0m                           FutureWarning)\n\u001b[0;32m    639\u001b[0m         \u001b[0mkwargs\u001b[0m\u001b[1;33m.\u001b[0m\u001b[0mupdate\u001b[0m\u001b[1;33m(\u001b[0m\u001b[1;33m{\u001b[0m\u001b[0mk\u001b[0m\u001b[1;33m:\u001b[0m \u001b[0marg\u001b[0m \u001b[1;32mfor\u001b[0m \u001b[0mk\u001b[0m\u001b[1;33m,\u001b[0m \u001b[0marg\u001b[0m \u001b[1;32min\u001b[0m \u001b[0mzip\u001b[0m\u001b[1;33m(\u001b[0m\u001b[0msig\u001b[0m\u001b[1;33m.\u001b[0m\u001b[0mparameters\u001b[0m\u001b[1;33m,\u001b[0m \u001b[0margs\u001b[0m\u001b[1;33m)\u001b[0m\u001b[1;33m}\u001b[0m\u001b[1;33m)\u001b[0m\u001b[1;33m\u001b[0m\u001b[1;33m\u001b[0m\u001b[0m\n\u001b[1;32m--> 640\u001b[1;33m         \u001b[1;32mreturn\u001b[0m \u001b[0mf\u001b[0m\u001b[1;33m(\u001b[0m\u001b[1;33m**\u001b[0m\u001b[0mkwargs\u001b[0m\u001b[1;33m)\u001b[0m\u001b[1;33m\u001b[0m\u001b[1;33m\u001b[0m\u001b[0m\n\u001b[0m\u001b[0;32m    641\u001b[0m     \u001b[1;32mreturn\u001b[0m \u001b[0minner_f\u001b[0m\u001b[1;33m\u001b[0m\u001b[1;33m\u001b[0m\u001b[0m\n",
      "\u001b[1;31mTypeError\u001b[0m: __init__() got an unexpected keyword argument 'categorical_features'"
     ]
    }
   ],
   "source": [
    "sm = SMOTE(categorical_features = [], random_state=42)\n",
    "train_X_reg, train_Y_reg = sm.fit_resample(train_X_reg, train_Y_reg)"
   ]
  },
  {
   "cell_type": "markdown",
   "id": "polar-screw",
   "metadata": {},
   "source": [
    "## Обучение"
   ]
  },
  {
   "cell_type": "code",
   "execution_count": 49,
   "id": "respiratory-sensitivity",
   "metadata": {},
   "outputs": [],
   "source": [
    "from sklearn.linear_model import LogisticRegression, LinearRegression\n",
    "from sklearn.ensemble import RandomForestClassifier, RandomForestRegressor\n",
    "from sklearn.metrics import f1_score, r2_score\n",
    "from sklearn.tree import plot_tree\n",
    "\n",
    "def Result(y_true1, y_pred1, y_true2, y_pred2):\n",
    "    F1_part = 0.3 * f1_score(y_true1, y_pred1)\n",
    "    R2_part = 0.7 * r2_score(y_true2, y_pred2)\n",
    "    return round(25 * max(0, F1_part + R2_part)), F1_part, R2_part"
   ]
  },
  {
   "cell_type": "code",
   "execution_count": 32,
   "id": "floral-newspaper",
   "metadata": {},
   "outputs": [],
   "source": [
    "from sklearn.model_selection import train_test_split\n",
    "X_train1, X_test1, y_train1, y_test1 = train_test_split(train_X_class, train_Y_class, test_size=0.25)\n",
    "X_train2, X_test2, y_train2, y_test2 = train_test_split(train_X_reg, train_Y_reg, test_size=0.25)"
   ]
  },
  {
   "cell_type": "markdown",
   "id": "exposed-prompt",
   "metadata": {},
   "source": [
    "### Y1"
   ]
  },
  {
   "cell_type": "code",
   "execution_count": 33,
   "id": "seasonal-communication",
   "metadata": {},
   "outputs": [
    {
     "data": {
      "text/plain": [
       "LogisticRegression()"
      ]
     },
     "execution_count": 33,
     "metadata": {},
     "output_type": "execute_result"
    }
   ],
   "source": [
    "model1 = LogisticRegression()\n",
    "model1.fit(X_train1, y_train1)"
   ]
  },
  {
   "cell_type": "code",
   "execution_count": 34,
   "id": "centered-contribution",
   "metadata": {},
   "outputs": [
    {
     "data": {
      "text/plain": [
       "RandomForestClassifier(max_depth=5, n_estimators=50)"
      ]
     },
     "execution_count": 34,
     "metadata": {},
     "output_type": "execute_result"
    }
   ],
   "source": [
    "model1 = RandomForestClassifier(n_estimators=50, max_depth=5)\n",
    "model1.fit(X_train1, y_train1)"
   ]
  },
  {
   "cell_type": "code",
   "execution_count": 35,
   "id": "still-shade",
   "metadata": {},
   "outputs": [
    {
     "data": {
      "text/plain": [
       "0.96875"
      ]
     },
     "execution_count": 35,
     "metadata": {},
     "output_type": "execute_result"
    }
   ],
   "source": [
    "model1.score(X_test1, y_test1)"
   ]
  },
  {
   "cell_type": "code",
   "execution_count": 36,
   "id": "electric-occasions",
   "metadata": {},
   "outputs": [
    {
     "data": {
      "text/plain": [
       "0.9767441860465117"
      ]
     },
     "execution_count": 36,
     "metadata": {},
     "output_type": "execute_result"
    }
   ],
   "source": [
    "f1_score(y_test1, model1.predict(X_test1))"
   ]
  },
  {
   "cell_type": "markdown",
   "id": "ongoing-leonard",
   "metadata": {},
   "source": [
    "### Y2"
   ]
  },
  {
   "cell_type": "code",
   "execution_count": 37,
   "id": "sensitive-virus",
   "metadata": {},
   "outputs": [
    {
     "data": {
      "text/plain": [
       "LinearRegression()"
      ]
     },
     "execution_count": 37,
     "metadata": {},
     "output_type": "execute_result"
    }
   ],
   "source": [
    "model2 = LinearRegression()\n",
    "model2.fit(X_train2, y_train2)"
   ]
  },
  {
   "cell_type": "code",
   "execution_count": 51,
   "id": "american-lighting",
   "metadata": {},
   "outputs": [
    {
     "name": "stderr",
     "output_type": "stream",
     "text": [
      "<ipython-input-51-0c8dfc1526be>:2: DataConversionWarning: A column-vector y was passed when a 1d array was expected. Please change the shape of y to (n_samples,), for example using ravel().\n",
      "  model2.fit(X_train2, y_train2)\n"
     ]
    },
    {
     "data": {
      "text/plain": [
       "RandomForestRegressor(max_depth=5, n_estimators=50)"
      ]
     },
     "execution_count": 51,
     "metadata": {},
     "output_type": "execute_result"
    }
   ],
   "source": [
    "model2 = RandomForestRegressor(n_estimators=50, max_depth=5)\n",
    "model2.fit(X_train2, y_train2)"
   ]
  },
  {
   "cell_type": "code",
   "execution_count": 52,
   "id": "distinct-optimization",
   "metadata": {},
   "outputs": [
    {
     "data": {
      "text/plain": [
       "(24, 0.3, 0.6784657004900158)"
      ]
     },
     "execution_count": 52,
     "metadata": {},
     "output_type": "execute_result"
    }
   ],
   "source": [
    "Result(y_train1, model1.predict(X_train1), y_train2, model2.predict(X_train2))"
   ]
  },
  {
   "cell_type": "markdown",
   "id": "reserved-crowd",
   "metadata": {},
   "source": [
    "## Итоговая оценка тренировочной выборки"
   ]
  },
  {
   "cell_type": "code",
   "execution_count": 53,
   "id": "anonymous-guidance",
   "metadata": {},
   "outputs": [
    {
     "data": {
      "text/plain": [
       "(23, 0.2930232558139535, 0.6254212834080907)"
      ]
     },
     "execution_count": 53,
     "metadata": {},
     "output_type": "execute_result"
    }
   ],
   "source": [
    "Result(y_test1, model1.predict(X_test1), y_test2, model2.predict(X_test2))"
   ]
  },
  {
   "cell_type": "code",
   "execution_count": 54,
   "id": "invisible-thong",
   "metadata": {},
   "outputs": [],
   "source": [
    "data_test = pd.read_csv('test.csv')"
   ]
  },
  {
   "cell_type": "code",
   "execution_count": 55,
   "id": "liable-shanghai",
   "metadata": {},
   "outputs": [
    {
     "data": {
      "text/html": [
       "<div>\n",
       "<style scoped>\n",
       "    .dataframe tbody tr th:only-of-type {\n",
       "        vertical-align: middle;\n",
       "    }\n",
       "\n",
       "    .dataframe tbody tr th {\n",
       "        vertical-align: top;\n",
       "    }\n",
       "\n",
       "    .dataframe thead th {\n",
       "        text-align: right;\n",
       "    }\n",
       "</style>\n",
       "<table border=\"1\" class=\"dataframe\">\n",
       "  <thead>\n",
       "    <tr style=\"text-align: right;\">\n",
       "      <th></th>\n",
       "      <th>x1</th>\n",
       "      <th>x2</th>\n",
       "      <th>x3</th>\n",
       "      <th>x4</th>\n",
       "      <th>x5</th>\n",
       "      <th>x6</th>\n",
       "      <th>x7</th>\n",
       "      <th>x8</th>\n",
       "      <th>x9</th>\n",
       "      <th>x10</th>\n",
       "      <th>...</th>\n",
       "      <th>x55</th>\n",
       "      <th>x56</th>\n",
       "      <th>x57</th>\n",
       "      <th>x58</th>\n",
       "      <th>x59</th>\n",
       "      <th>x60</th>\n",
       "      <th>x61</th>\n",
       "      <th>x62</th>\n",
       "      <th>x63</th>\n",
       "      <th>x64</th>\n",
       "    </tr>\n",
       "  </thead>\n",
       "  <tbody>\n",
       "    <tr>\n",
       "      <th>0</th>\n",
       "      <td>132.0</td>\n",
       "      <td>473.0</td>\n",
       "      <td>57.0</td>\n",
       "      <td>12201</td>\n",
       "      <td>461.0</td>\n",
       "      <td>78.0</td>\n",
       "      <td>85.0</td>\n",
       "      <td>17.0</td>\n",
       "      <td>40450.05</td>\n",
       "      <td>1032.4</td>\n",
       "      <td>...</td>\n",
       "      <td>-310.0</td>\n",
       "      <td>9.15</td>\n",
       "      <td>960.6</td>\n",
       "      <td>1877844.0</td>\n",
       "      <td>120.69</td>\n",
       "      <td>12.55</td>\n",
       "      <td>20830.5</td>\n",
       "      <td>75.0</td>\n",
       "      <td>225557.0</td>\n",
       "      <td>3048.07</td>\n",
       "    </tr>\n",
       "    <tr>\n",
       "      <th>1</th>\n",
       "      <td>51.0</td>\n",
       "      <td>125.0</td>\n",
       "      <td>26.0</td>\n",
       "      <td>4734</td>\n",
       "      <td>166.0</td>\n",
       "      <td>22.0</td>\n",
       "      <td>77.0</td>\n",
       "      <td>1.0</td>\n",
       "      <td>39120.38</td>\n",
       "      <td>998.2</td>\n",
       "      <td>...</td>\n",
       "      <td>6436.0</td>\n",
       "      <td>7.72</td>\n",
       "      <td>794.5</td>\n",
       "      <td>1541259.0</td>\n",
       "      <td>175.28</td>\n",
       "      <td>13.76</td>\n",
       "      <td>16022.7</td>\n",
       "      <td>108.6</td>\n",
       "      <td>935400.0</td>\n",
       "      <td>12640.54</td>\n",
       "    </tr>\n",
       "    <tr>\n",
       "      <th>2</th>\n",
       "      <td>236.0</td>\n",
       "      <td>672.0</td>\n",
       "      <td>164.0</td>\n",
       "      <td>17540</td>\n",
       "      <td>671.0</td>\n",
       "      <td>89.0</td>\n",
       "      <td>180.0</td>\n",
       "      <td>26.0</td>\n",
       "      <td>42361.80</td>\n",
       "      <td>1650.0</td>\n",
       "      <td>...</td>\n",
       "      <td>11896.0</td>\n",
       "      <td>9.96</td>\n",
       "      <td>1410.6</td>\n",
       "      <td>2855899.0</td>\n",
       "      <td>201.41</td>\n",
       "      <td>15.28</td>\n",
       "      <td>18681.1</td>\n",
       "      <td>106.0</td>\n",
       "      <td>1123004.0</td>\n",
       "      <td>15175.73</td>\n",
       "    </tr>\n",
       "    <tr>\n",
       "      <th>3</th>\n",
       "      <td>73.0</td>\n",
       "      <td>186.0</td>\n",
       "      <td>20.0</td>\n",
       "      <td>6931</td>\n",
       "      <td>262.0</td>\n",
       "      <td>31.0</td>\n",
       "      <td>74.0</td>\n",
       "      <td>6.0</td>\n",
       "      <td>41227.90</td>\n",
       "      <td>721.8</td>\n",
       "      <td>...</td>\n",
       "      <td>-885.0</td>\n",
       "      <td>8.83</td>\n",
       "      <td>530.5</td>\n",
       "      <td>1151042.0</td>\n",
       "      <td>402.10</td>\n",
       "      <td>12.29</td>\n",
       "      <td>18625.2</td>\n",
       "      <td>98.7</td>\n",
       "      <td>712351.0</td>\n",
       "      <td>9626.36</td>\n",
       "    </tr>\n",
       "    <tr>\n",
       "      <th>4</th>\n",
       "      <td>58.0</td>\n",
       "      <td>104.0</td>\n",
       "      <td>12.0</td>\n",
       "      <td>4851</td>\n",
       "      <td>350.0</td>\n",
       "      <td>27.0</td>\n",
       "      <td>67.0</td>\n",
       "      <td>13.0</td>\n",
       "      <td>37321.88</td>\n",
       "      <td>580.4</td>\n",
       "      <td>...</td>\n",
       "      <td>1410.0</td>\n",
       "      <td>6.56</td>\n",
       "      <td>456.2</td>\n",
       "      <td>921127.0</td>\n",
       "      <td>185.09</td>\n",
       "      <td>9.70</td>\n",
       "      <td>17259.5</td>\n",
       "      <td>82.0</td>\n",
       "      <td>44377.0</td>\n",
       "      <td>599.69</td>\n",
       "    </tr>\n",
       "    <tr>\n",
       "      <th>5</th>\n",
       "      <td>39.0</td>\n",
       "      <td>110.0</td>\n",
       "      <td>12.0</td>\n",
       "      <td>2604</td>\n",
       "      <td>94.0</td>\n",
       "      <td>21.0</td>\n",
       "      <td>21.0</td>\n",
       "      <td>12.0</td>\n",
       "      <td>52172.70</td>\n",
       "      <td>318.2</td>\n",
       "      <td>...</td>\n",
       "      <td>705.0</td>\n",
       "      <td>11.22</td>\n",
       "      <td>260.7</td>\n",
       "      <td>485621.0</td>\n",
       "      <td>143.96</td>\n",
       "      <td>15.82</td>\n",
       "      <td>21532.6</td>\n",
       "      <td>89.4</td>\n",
       "      <td>403023.0</td>\n",
       "      <td>5446.26</td>\n",
       "    </tr>\n",
       "    <tr>\n",
       "      <th>6</th>\n",
       "      <td>29.0</td>\n",
       "      <td>63.0</td>\n",
       "      <td>7.0</td>\n",
       "      <td>2577</td>\n",
       "      <td>153.0</td>\n",
       "      <td>16.0</td>\n",
       "      <td>16.0</td>\n",
       "      <td>10.0</td>\n",
       "      <td>38307.22</td>\n",
       "      <td>519.0</td>\n",
       "      <td>...</td>\n",
       "      <td>-969.0</td>\n",
       "      <td>7.28</td>\n",
       "      <td>333.7</td>\n",
       "      <td>724686.0</td>\n",
       "      <td>311.61</td>\n",
       "      <td>5.70</td>\n",
       "      <td>15755.2</td>\n",
       "      <td>107.1</td>\n",
       "      <td>48430.0</td>\n",
       "      <td>654.46</td>\n",
       "    </tr>\n",
       "    <tr>\n",
       "      <th>7</th>\n",
       "      <td>58.0</td>\n",
       "      <td>101.0</td>\n",
       "      <td>21.0</td>\n",
       "      <td>5852</td>\n",
       "      <td>421.0</td>\n",
       "      <td>25.0</td>\n",
       "      <td>66.0</td>\n",
       "      <td>17.0</td>\n",
       "      <td>48604.38</td>\n",
       "      <td>456.2</td>\n",
       "      <td>...</td>\n",
       "      <td>1323.0</td>\n",
       "      <td>8.28</td>\n",
       "      <td>275.5</td>\n",
       "      <td>609071.0</td>\n",
       "      <td>145.57</td>\n",
       "      <td>6.43</td>\n",
       "      <td>19293.9</td>\n",
       "      <td>108.0</td>\n",
       "      <td>142046.0</td>\n",
       "      <td>1919.54</td>\n",
       "    </tr>\n",
       "    <tr>\n",
       "      <th>8</th>\n",
       "      <td>49.0</td>\n",
       "      <td>111.0</td>\n",
       "      <td>26.0</td>\n",
       "      <td>4498</td>\n",
       "      <td>263.0</td>\n",
       "      <td>38.0</td>\n",
       "      <td>60.0</td>\n",
       "      <td>16.0</td>\n",
       "      <td>37751.68</td>\n",
       "      <td>615.0</td>\n",
       "      <td>...</td>\n",
       "      <td>2680.0</td>\n",
       "      <td>7.33</td>\n",
       "      <td>502.3</td>\n",
       "      <td>987032.0</td>\n",
       "      <td>240.02</td>\n",
       "      <td>9.49</td>\n",
       "      <td>17277.4</td>\n",
       "      <td>100.3</td>\n",
       "      <td>13287.0</td>\n",
       "      <td>179.55</td>\n",
       "    </tr>\n",
       "    <tr>\n",
       "      <th>9</th>\n",
       "      <td>40.0</td>\n",
       "      <td>125.0</td>\n",
       "      <td>22.0</td>\n",
       "      <td>3736</td>\n",
       "      <td>182.0</td>\n",
       "      <td>17.0</td>\n",
       "      <td>64.0</td>\n",
       "      <td>5.0</td>\n",
       "      <td>39021.40</td>\n",
       "      <td>300.4</td>\n",
       "      <td>...</td>\n",
       "      <td>-432.0</td>\n",
       "      <td>9.85</td>\n",
       "      <td>238.3</td>\n",
       "      <td>532036.0</td>\n",
       "      <td>207.97</td>\n",
       "      <td>1.77</td>\n",
       "      <td>18009.7</td>\n",
       "      <td>105.2</td>\n",
       "      <td>46958.0</td>\n",
       "      <td>634.57</td>\n",
       "    </tr>\n",
       "    <tr>\n",
       "      <th>10</th>\n",
       "      <td>21.0</td>\n",
       "      <td>28.0</td>\n",
       "      <td>8.0</td>\n",
       "      <td>1004</td>\n",
       "      <td>55.0</td>\n",
       "      <td>9.0</td>\n",
       "      <td>41.0</td>\n",
       "      <td>2.0</td>\n",
       "      <td>32947.07</td>\n",
       "      <td>244.6</td>\n",
       "      <td>...</td>\n",
       "      <td>40.0</td>\n",
       "      <td>9.58</td>\n",
       "      <td>186.2</td>\n",
       "      <td>465357.0</td>\n",
       "      <td>268.21</td>\n",
       "      <td>1.85</td>\n",
       "      <td>16914.7</td>\n",
       "      <td>115.3</td>\n",
       "      <td>4520.0</td>\n",
       "      <td>61.08</td>\n",
       "    </tr>\n",
       "    <tr>\n",
       "      <th>11</th>\n",
       "      <td>209.0</td>\n",
       "      <td>348.0</td>\n",
       "      <td>162.0</td>\n",
       "      <td>19385</td>\n",
       "      <td>618.0</td>\n",
       "      <td>111.0</td>\n",
       "      <td>260.0</td>\n",
       "      <td>31.0</td>\n",
       "      <td>38809.20</td>\n",
       "      <td>2231.2</td>\n",
       "      <td>...</td>\n",
       "      <td>11448.0</td>\n",
       "      <td>10.18</td>\n",
       "      <td>1977.6</td>\n",
       "      <td>3894120.0</td>\n",
       "      <td>522.63</td>\n",
       "      <td>36.85</td>\n",
       "      <td>16132.3</td>\n",
       "      <td>115.7</td>\n",
       "      <td>629776.0</td>\n",
       "      <td>8510.49</td>\n",
       "    </tr>\n",
       "    <tr>\n",
       "      <th>12</th>\n",
       "      <td>134.0</td>\n",
       "      <td>335.0</td>\n",
       "      <td>51.0</td>\n",
       "      <td>26804</td>\n",
       "      <td>1025.0</td>\n",
       "      <td>106.0</td>\n",
       "      <td>136.0</td>\n",
       "      <td>23.0</td>\n",
       "      <td>36163.45</td>\n",
       "      <td>2470.8</td>\n",
       "      <td>...</td>\n",
       "      <td>15022.0</td>\n",
       "      <td>8.35</td>\n",
       "      <td>2046.8</td>\n",
       "      <td>4181486.0</td>\n",
       "      <td>247.16</td>\n",
       "      <td>52.19</td>\n",
       "      <td>18113.8</td>\n",
       "      <td>96.2</td>\n",
       "      <td>127942.0</td>\n",
       "      <td>1728.95</td>\n",
       "    </tr>\n",
       "    <tr>\n",
       "      <th>13</th>\n",
       "      <td>75.0</td>\n",
       "      <td>264.0</td>\n",
       "      <td>34.0</td>\n",
       "      <td>8807</td>\n",
       "      <td>283.0</td>\n",
       "      <td>72.0</td>\n",
       "      <td>28.0</td>\n",
       "      <td>3.0</td>\n",
       "      <td>37247.70</td>\n",
       "      <td>1150.2</td>\n",
       "      <td>...</td>\n",
       "      <td>-7641.0</td>\n",
       "      <td>9.05</td>\n",
       "      <td>937.9</td>\n",
       "      <td>3870860.0</td>\n",
       "      <td>343.98</td>\n",
       "      <td>25.73</td>\n",
       "      <td>16373.3</td>\n",
       "      <td>108.6</td>\n",
       "      <td>57754.0</td>\n",
       "      <td>780.46</td>\n",
       "    </tr>\n",
       "    <tr>\n",
       "      <th>14</th>\n",
       "      <td>105.0</td>\n",
       "      <td>274.0</td>\n",
       "      <td>26.0</td>\n",
       "      <td>15971</td>\n",
       "      <td>729.0</td>\n",
       "      <td>95.0</td>\n",
       "      <td>121.0</td>\n",
       "      <td>17.0</td>\n",
       "      <td>39169.38</td>\n",
       "      <td>1889.4</td>\n",
       "      <td>...</td>\n",
       "      <td>7733.0</td>\n",
       "      <td>8.52</td>\n",
       "      <td>1625.1</td>\n",
       "      <td>3154164.0</td>\n",
       "      <td>353.75</td>\n",
       "      <td>26.57</td>\n",
       "      <td>17307.0</td>\n",
       "      <td>105.6</td>\n",
       "      <td>346161.0</td>\n",
       "      <td>4677.85</td>\n",
       "    </tr>\n",
       "    <tr>\n",
       "      <th>15</th>\n",
       "      <td>48.0</td>\n",
       "      <td>138.0</td>\n",
       "      <td>32.0</td>\n",
       "      <td>4577</td>\n",
       "      <td>118.0</td>\n",
       "      <td>19.0</td>\n",
       "      <td>54.0</td>\n",
       "      <td>1.0</td>\n",
       "      <td>36465.38</td>\n",
       "      <td>847.2</td>\n",
       "      <td>...</td>\n",
       "      <td>-634.0</td>\n",
       "      <td>7.02</td>\n",
       "      <td>635.7</td>\n",
       "      <td>1290898.0</td>\n",
       "      <td>408.74</td>\n",
       "      <td>11.09</td>\n",
       "      <td>16212.8</td>\n",
       "      <td>88.7</td>\n",
       "      <td>38340.0</td>\n",
       "      <td>518.11</td>\n",
       "    </tr>\n",
       "    <tr>\n",
       "      <th>16</th>\n",
       "      <td>27.0</td>\n",
       "      <td>87.0</td>\n",
       "      <td>57.0</td>\n",
       "      <td>3813</td>\n",
       "      <td>165.0</td>\n",
       "      <td>23.0</td>\n",
       "      <td>35.0</td>\n",
       "      <td>23.0</td>\n",
       "      <td>35046.90</td>\n",
       "      <td>507.4</td>\n",
       "      <td>...</td>\n",
       "      <td>-2758.0</td>\n",
       "      <td>10.38</td>\n",
       "      <td>465.7</td>\n",
       "      <td>997778.0</td>\n",
       "      <td>145.18</td>\n",
       "      <td>7.00</td>\n",
       "      <td>16025.0</td>\n",
       "      <td>93.6</td>\n",
       "      <td>168027.0</td>\n",
       "      <td>2270.64</td>\n",
       "    </tr>\n",
       "  </tbody>\n",
       "</table>\n",
       "<p>17 rows × 64 columns</p>\n",
       "</div>"
      ],
      "text/plain": [
       "       x1     x2     x3     x4      x5     x6     x7    x8        x9     x10  \\\n",
       "0   132.0  473.0   57.0  12201   461.0   78.0   85.0  17.0  40450.05  1032.4   \n",
       "1    51.0  125.0   26.0   4734   166.0   22.0   77.0   1.0  39120.38   998.2   \n",
       "2   236.0  672.0  164.0  17540   671.0   89.0  180.0  26.0  42361.80  1650.0   \n",
       "3    73.0  186.0   20.0   6931   262.0   31.0   74.0   6.0  41227.90   721.8   \n",
       "4    58.0  104.0   12.0   4851   350.0   27.0   67.0  13.0  37321.88   580.4   \n",
       "5    39.0  110.0   12.0   2604    94.0   21.0   21.0  12.0  52172.70   318.2   \n",
       "6    29.0   63.0    7.0   2577   153.0   16.0   16.0  10.0  38307.22   519.0   \n",
       "7    58.0  101.0   21.0   5852   421.0   25.0   66.0  17.0  48604.38   456.2   \n",
       "8    49.0  111.0   26.0   4498   263.0   38.0   60.0  16.0  37751.68   615.0   \n",
       "9    40.0  125.0   22.0   3736   182.0   17.0   64.0   5.0  39021.40   300.4   \n",
       "10   21.0   28.0    8.0   1004    55.0    9.0   41.0   2.0  32947.07   244.6   \n",
       "11  209.0  348.0  162.0  19385   618.0  111.0  260.0  31.0  38809.20  2231.2   \n",
       "12  134.0  335.0   51.0  26804  1025.0  106.0  136.0  23.0  36163.45  2470.8   \n",
       "13   75.0  264.0   34.0   8807   283.0   72.0   28.0   3.0  37247.70  1150.2   \n",
       "14  105.0  274.0   26.0  15971   729.0   95.0  121.0  17.0  39169.38  1889.4   \n",
       "15   48.0  138.0   32.0   4577   118.0   19.0   54.0   1.0  36465.38   847.2   \n",
       "16   27.0   87.0   57.0   3813   165.0   23.0   35.0  23.0  35046.90   507.4   \n",
       "\n",
       "    ...      x55    x56     x57        x58     x59    x60      x61    x62  \\\n",
       "0   ...   -310.0   9.15   960.6  1877844.0  120.69  12.55  20830.5   75.0   \n",
       "1   ...   6436.0   7.72   794.5  1541259.0  175.28  13.76  16022.7  108.6   \n",
       "2   ...  11896.0   9.96  1410.6  2855899.0  201.41  15.28  18681.1  106.0   \n",
       "3   ...   -885.0   8.83   530.5  1151042.0  402.10  12.29  18625.2   98.7   \n",
       "4   ...   1410.0   6.56   456.2   921127.0  185.09   9.70  17259.5   82.0   \n",
       "5   ...    705.0  11.22   260.7   485621.0  143.96  15.82  21532.6   89.4   \n",
       "6   ...   -969.0   7.28   333.7   724686.0  311.61   5.70  15755.2  107.1   \n",
       "7   ...   1323.0   8.28   275.5   609071.0  145.57   6.43  19293.9  108.0   \n",
       "8   ...   2680.0   7.33   502.3   987032.0  240.02   9.49  17277.4  100.3   \n",
       "9   ...   -432.0   9.85   238.3   532036.0  207.97   1.77  18009.7  105.2   \n",
       "10  ...     40.0   9.58   186.2   465357.0  268.21   1.85  16914.7  115.3   \n",
       "11  ...  11448.0  10.18  1977.6  3894120.0  522.63  36.85  16132.3  115.7   \n",
       "12  ...  15022.0   8.35  2046.8  4181486.0  247.16  52.19  18113.8   96.2   \n",
       "13  ...  -7641.0   9.05   937.9  3870860.0  343.98  25.73  16373.3  108.6   \n",
       "14  ...   7733.0   8.52  1625.1  3154164.0  353.75  26.57  17307.0  105.6   \n",
       "15  ...   -634.0   7.02   635.7  1290898.0  408.74  11.09  16212.8   88.7   \n",
       "16  ...  -2758.0  10.38   465.7   997778.0  145.18   7.00  16025.0   93.6   \n",
       "\n",
       "          x63       x64  \n",
       "0    225557.0   3048.07  \n",
       "1    935400.0  12640.54  \n",
       "2   1123004.0  15175.73  \n",
       "3    712351.0   9626.36  \n",
       "4     44377.0    599.69  \n",
       "5    403023.0   5446.26  \n",
       "6     48430.0    654.46  \n",
       "7    142046.0   1919.54  \n",
       "8     13287.0    179.55  \n",
       "9     46958.0    634.57  \n",
       "10     4520.0     61.08  \n",
       "11   629776.0   8510.49  \n",
       "12   127942.0   1728.95  \n",
       "13    57754.0    780.46  \n",
       "14   346161.0   4677.85  \n",
       "15    38340.0    518.11  \n",
       "16   168027.0   2270.64  \n",
       "\n",
       "[17 rows x 64 columns]"
      ]
     },
     "execution_count": 55,
     "metadata": {},
     "output_type": "execute_result"
    }
   ],
   "source": [
    "data_test"
   ]
  },
  {
   "cell_type": "code",
   "execution_count": 56,
   "id": "minute-uganda",
   "metadata": {},
   "outputs": [
    {
     "data": {
      "text/plain": [
       "x1     float64\n",
       "x2     float64\n",
       "x3     float64\n",
       "x4       int64\n",
       "x5     float64\n",
       "        ...   \n",
       "x60    float64\n",
       "x61    float64\n",
       "x62    float64\n",
       "x63    float64\n",
       "x64    float64\n",
       "Length: 64, dtype: object"
      ]
     },
     "execution_count": 56,
     "metadata": {},
     "output_type": "execute_result"
    }
   ],
   "source": [
    "data_test.dtypes"
   ]
  },
  {
   "cell_type": "code",
   "execution_count": 57,
   "id": "measured-anniversary",
   "metadata": {},
   "outputs": [],
   "source": [
    "data_test = Norm_x.transform(data_test)"
   ]
  },
  {
   "cell_type": "code",
   "execution_count": 58,
   "id": "public-palmer",
   "metadata": {},
   "outputs": [],
   "source": [
    "final_pred1 = model1.predict(data_test)"
   ]
  },
  {
   "cell_type": "code",
   "execution_count": 59,
   "id": "associate-blair",
   "metadata": {},
   "outputs": [],
   "source": [
    "final_pred2 = model2.predict(data_test)"
   ]
  },
  {
   "cell_type": "code",
   "execution_count": 60,
   "id": "natural-abuse",
   "metadata": {},
   "outputs": [],
   "source": [
    "data_pred = pd.DataFrame({'Y1': final_pred1, 'Y2':Norm_y.inverse_transform(final_pred2.reshape(1,-1)[0])})"
   ]
  },
  {
   "cell_type": "code",
   "execution_count": 61,
   "id": "continuous-uniform",
   "metadata": {},
   "outputs": [],
   "source": [
    "data_pred.to_csv('res.csv', index=False)"
   ]
  },
  {
   "cell_type": "code",
   "execution_count": 379,
   "id": "wireless-raleigh",
   "metadata": {},
   "outputs": [
    {
     "data": {
      "text/plain": [
       "array([0, 0, 1, 0, 0, 0, 0, 0, 0, 0, 0, 0, 0, 0, 0, 0, 0], dtype=int64)"
      ]
     },
     "execution_count": 379,
     "metadata": {},
     "output_type": "execute_result"
    }
   ],
   "source": [
    "final_pred1"
   ]
  },
  {
   "cell_type": "code",
   "execution_count": 380,
   "id": "owned-passing",
   "metadata": {},
   "outputs": [
    {
     "data": {
      "text/plain": [
       "array([ 0.57972363, -0.00443296, -0.13546767, -0.7043172 , -0.26919361,\n",
       "        0.98256306, -0.60946825,  0.574905  , -0.50863993,  0.05802142,\n",
       "       -0.91763868, -1.05333192,  0.02261551, -0.91358057, -0.20336466,\n",
       "       -0.61792334, -0.32648032])"
      ]
     },
     "execution_count": 380,
     "metadata": {},
     "output_type": "execute_result"
    }
   ],
   "source": [
    "final_pred2.reshape(1,-1)[0]"
   ]
  },
  {
   "cell_type": "code",
   "execution_count": 381,
   "id": "governmental-neutral",
   "metadata": {},
   "outputs": [
    {
     "data": {
      "text/plain": [
       "array([829.38652044, 660.64317627, 622.79162144, 458.46997426,\n",
       "       584.16265877, 945.75338752, 485.86867072, 827.99457765,\n",
       "       514.99460793, 678.68416216, 396.8485195 , 357.65126965,\n",
       "       668.45657557, 398.02077019, 603.17844586, 483.42627779,\n",
       "       567.61443926])"
      ]
     },
     "execution_count": 381,
     "metadata": {},
     "output_type": "execute_result"
    }
   ],
   "source": [
    "Norm_y.inverse_transform(final_pred2.reshape(1,-1)[0])"
   ]
  },
  {
   "cell_type": "code",
   "execution_count": null,
   "id": "expressed-encyclopedia",
   "metadata": {},
   "outputs": [],
   "source": []
  }
 ],
 "metadata": {
  "kernelspec": {
   "display_name": "Python 3",
   "language": "python",
   "name": "python3"
  },
  "language_info": {
   "codemirror_mode": {
    "name": "ipython",
    "version": 3
   },
   "file_extension": ".py",
   "mimetype": "text/x-python",
   "name": "python",
   "nbconvert_exporter": "python",
   "pygments_lexer": "ipython3",
   "version": "3.8.5"
  }
 },
 "nbformat": 4,
 "nbformat_minor": 5
}
