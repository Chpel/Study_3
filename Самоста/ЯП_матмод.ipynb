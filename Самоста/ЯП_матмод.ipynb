{
 "cells": [
  {
   "cell_type": "code",
   "execution_count": 3,
   "id": "formal-cause",
   "metadata": {},
   "outputs": [],
   "source": [
    "import numpy as np\n",
    "import matplotlib.pyplot as plt"
   ]
  },
  {
   "cell_type": "code",
   "execution_count": 7,
   "id": "paperback-screw",
   "metadata": {},
   "outputs": [],
   "source": [
    "H0 = 5.\n",
    "R = 30.\n",
    "e = 0.01\n",
    "mu = 0.7\n",
    "g = 9.81"
   ]
  },
  {
   "cell_type": "code",
   "execution_count": 35,
   "id": "shared-cricket",
   "metadata": {},
   "outputs": [],
   "source": [
    "def Q(mu, e, h ,g):\n",
    "    return mu * e * np.sqrt(2 * g) * h ** (3/2) * 2/3"
   ]
  },
  {
   "cell_type": "code",
   "execution_count": 30,
   "id": "functional-saint",
   "metadata": {},
   "outputs": [],
   "source": [
    "tau = 0.01"
   ]
  },
  {
   "cell_type": "code",
   "execution_count": 58,
   "id": "cordless-bahamas",
   "metadata": {},
   "outputs": [
    {
     "name": "stdout",
     "output_type": "stream",
     "text": [
      "0.0765957175925926\n",
      "0.16713761574074074\n",
      "0.2764461805555556\n",
      "0.4120519675925926\n",
      "0.5865318287037037\n"
     ]
    }
   ],
   "source": [
    "h_t = H0\n",
    "target = np.array([0.1, 0.2, 0.3, 0.4, 0.5, 1.])\n",
    "t = 0\n",
    "hs = []\n",
    "sec_in_days = 24 * 60 * 60\n",
    "iters = int(sec_in_days / tau)\n",
    "dt = int(60 / tau)\n",
    "for i in range(iters):\n",
    "    Q_t = Q(mu, e, h_t, g)\n",
    "    h_t = h_t - Q_t * tau / (np.pi * R ** 2)\n",
    "    if (i % dt == 0):\n",
    "        hs.append(h_t)\n",
    "    if (1 - h_t / H0) > target[t]:\n",
    "        print(i * tau / sec_in_days)\n",
    "        t += 1\n",
    "    if t == 5:\n",
    "        break\n",
    "        \n",
    "hs = np.array(hs)"
   ]
  },
  {
   "cell_type": "code",
   "execution_count": 63,
   "id": "honest-hudson",
   "metadata": {},
   "outputs": [
    {
     "data": {
      "image/png": "[encoded data removed]",
      "text/plain": [
       "<Figure size 432x288 with 1 Axes>"
      ]
     },
     "metadata": {
      "needs_background": "light"
     },
     "output_type": "display_data"
    }
   ],
   "source": [
    "plt.plot(range(hs.shape[0]), hs)\n",
    "plt.xlabel('time, minutes')\n",
    "plt.ylabel('height, meters')\n",
    "for tar in target[:-1]:\n",
    "    plt.axhline(H0 * (1 - tar), c='r', linestyle='--')"
   ]
  }
 ],
 "metadata": {
  "kernelspec": {
   "display_name": "Python 3",
   "language": "python",
   "name": "python3"
  },
  "language_info": {
   "codemirror_mode": {
    "name": "ipython",
    "version": 3
   },
   "file_extension": ".py",
   "mimetype": "text/x-python",
   "name": "python",
   "nbconvert_exporter": "python",
   "pygments_lexer": "ipython3",
   "version": "3.8.5"
  }
 },
 "nbformat": 4,
 "nbformat_minor": 5
}
