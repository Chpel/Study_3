{
 "cells": [
  {
   "cell_type": "code",
   "execution_count": 1,
   "id": "formal-cause",
   "metadata": {},
   "outputs": [],
   "source": [
    "import numpy as np\n",
    "import matplotlib.pyplot as plt\n",
    "import pandas as pd"
   ]
  },
  {
   "cell_type": "markdown",
   "id": "c6bda130",
   "metadata": {},
   "source": [
    "# задача 2"
   ]
  },
  {
   "cell_type": "code",
   "execution_count": 7,
   "id": "paperback-screw",
   "metadata": {},
   "outputs": [],
   "source": [
    "H0 = 5.\n",
    "R = 30.\n",
    "e = 0.01\n",
    "mu = 0.7\n",
    "g = 9.81"
   ]
  },
  {
   "cell_type": "code",
   "execution_count": 35,
   "id": "shared-cricket",
   "metadata": {},
   "outputs": [],
   "source": [
    "def Q(mu, e, h ,g):\n",
    "    return mu * e * np.sqrt(2 * g) * h ** (3/2) * 2/3"
   ]
  },
  {
   "cell_type": "code",
   "execution_count": 30,
   "id": "functional-saint",
   "metadata": {},
   "outputs": [],
   "source": [
    "tau = 0.01"
   ]
  },
  {
   "cell_type": "code",
   "execution_count": 58,
   "id": "cordless-bahamas",
   "metadata": {},
   "outputs": [
    {
     "name": "stdout",
     "output_type": "stream",
     "text": [
      "0.0765957175925926\n",
      "0.16713761574074074\n",
      "0.2764461805555556\n",
      "0.4120519675925926\n",
      "0.5865318287037037\n"
     ]
    }
   ],
   "source": [
    "h_t = H0\n",
    "target = np.array([0.1, 0.2, 0.3, 0.4, 0.5, 1.])\n",
    "t = 0\n",
    "hs = []\n",
    "sec_in_days = 24 * 60 * 60\n",
    "iters = int(sec_in_days / tau)\n",
    "dt = int(60 / tau)\n",
    "for i in range(iters):\n",
    "    Q_t = Q(mu, e, h_t, g)\n",
    "    h_t = h_t - Q_t * tau / (np.pi * R ** 2)\n",
    "    if (i % dt == 0):\n",
    "        hs.append(h_t)\n",
    "    if (1 - h_t / H0) > target[t]:\n",
    "        print(i * tau / sec_in_days)\n",
    "        t += 1\n",
    "    if t == 5:\n",
    "        break\n",
    "        \n",
    "hs = np.array(hs)"
   ]
  },
  {
   "cell_type": "code",
   "execution_count": 63,
   "id": "honest-hudson",
   "metadata": {},
   "outputs": [
    {
     "data": {
      "image/png": "[encoded data removed]",
      "text/plain": [
       "<Figure size 432x288 with 1 Axes>"
      ]
     },
     "metadata": {
      "needs_background": "light"
     },
     "output_type": "display_data"
    }
   ],
   "source": [
    "plt.plot(range(hs.shape[0]), hs)\n",
    "plt.xlabel('time, minutes')\n",
    "plt.ylabel('height, meters')\n",
    "for tar in target[:-1]:\n",
    "    plt.axhline(H0 * (1 - tar), c='r', linestyle='--')"
   ]
  },
  {
   "cell_type": "markdown",
   "id": "858b7dff",
   "metadata": {},
   "source": [
    "# задача 4"
   ]
  },
  {
   "cell_type": "code",
   "execution_count": 23,
   "id": "5f1b9cb7",
   "metadata": {},
   "outputs": [],
   "source": [
    "data = pd.DataFrame({\n",
    "    'A': [88,54,73,64,59,52,58,49], \n",
    "    'B': [89,69,78,61,64,50,57,48],\n",
    "    'C': [91,58,79,60,61,58,59,57],\n",
    "    'D': [87,68,70,69,64,49,56,47],\n",
    "    'E': [92,74,76,68,67,50,58,49],\n",
    "    'F': [86,85,81,79,80,77,76,79],\n",
    "    'G': [89,88,75,74,73,72,70,71],\n",
    "    'H': [80,88,78,70,68,67,66,67],\n",
    "    'I': [90,89,87,56,62,57,45,50],\n",
    "    'J': [93,91,88,89,88,87,90,86]\n",
    "                    }, index=range(1,9))"
   ]
  },
  {
   "cell_type": "code",
   "execution_count": 24,
   "id": "5f294c9e",
   "metadata": {
    "scrolled": true
   },
   "outputs": [
    {
     "data": {
      "text/html": [
       "<div>\n",
       "<style scoped>\n",
       "    .dataframe tbody tr th:only-of-type {\n",
       "        vertical-align: middle;\n",
       "    }\n",
       "\n",
       "    .dataframe tbody tr th {\n",
       "        vertical-align: top;\n",
       "    }\n",
       "\n",
       "    .dataframe thead th {\n",
       "        text-align: right;\n",
       "    }\n",
       "</style>\n",
       "<table border=\"1\" class=\"dataframe\">\n",
       "  <thead>\n",
       "    <tr style=\"text-align: right;\">\n",
       "      <th></th>\n",
       "      <th>A</th>\n",
       "      <th>B</th>\n",
       "      <th>C</th>\n",
       "      <th>D</th>\n",
       "      <th>E</th>\n",
       "      <th>F</th>\n",
       "      <th>G</th>\n",
       "      <th>H</th>\n",
       "      <th>I</th>\n",
       "      <th>J</th>\n",
       "    </tr>\n",
       "  </thead>\n",
       "  <tbody>\n",
       "    <tr>\n",
       "      <th>1</th>\n",
       "      <td>88</td>\n",
       "      <td>89</td>\n",
       "      <td>91</td>\n",
       "      <td>87</td>\n",
       "      <td>92</td>\n",
       "      <td>86</td>\n",
       "      <td>89</td>\n",
       "      <td>80</td>\n",
       "      <td>90</td>\n",
       "      <td>93</td>\n",
       "    </tr>\n",
       "    <tr>\n",
       "      <th>2</th>\n",
       "      <td>54</td>\n",
       "      <td>69</td>\n",
       "      <td>58</td>\n",
       "      <td>68</td>\n",
       "      <td>74</td>\n",
       "      <td>85</td>\n",
       "      <td>88</td>\n",
       "      <td>88</td>\n",
       "      <td>89</td>\n",
       "      <td>91</td>\n",
       "    </tr>\n",
       "    <tr>\n",
       "      <th>3</th>\n",
       "      <td>73</td>\n",
       "      <td>78</td>\n",
       "      <td>79</td>\n",
       "      <td>70</td>\n",
       "      <td>76</td>\n",
       "      <td>81</td>\n",
       "      <td>75</td>\n",
       "      <td>78</td>\n",
       "      <td>87</td>\n",
       "      <td>88</td>\n",
       "    </tr>\n",
       "    <tr>\n",
       "      <th>4</th>\n",
       "      <td>64</td>\n",
       "      <td>61</td>\n",
       "      <td>60</td>\n",
       "      <td>69</td>\n",
       "      <td>68</td>\n",
       "      <td>79</td>\n",
       "      <td>74</td>\n",
       "      <td>70</td>\n",
       "      <td>56</td>\n",
       "      <td>89</td>\n",
       "    </tr>\n",
       "    <tr>\n",
       "      <th>5</th>\n",
       "      <td>59</td>\n",
       "      <td>64</td>\n",
       "      <td>61</td>\n",
       "      <td>64</td>\n",
       "      <td>67</td>\n",
       "      <td>80</td>\n",
       "      <td>73</td>\n",
       "      <td>68</td>\n",
       "      <td>62</td>\n",
       "      <td>88</td>\n",
       "    </tr>\n",
       "    <tr>\n",
       "      <th>6</th>\n",
       "      <td>52</td>\n",
       "      <td>50</td>\n",
       "      <td>58</td>\n",
       "      <td>49</td>\n",
       "      <td>50</td>\n",
       "      <td>77</td>\n",
       "      <td>72</td>\n",
       "      <td>67</td>\n",
       "      <td>57</td>\n",
       "      <td>87</td>\n",
       "    </tr>\n",
       "    <tr>\n",
       "      <th>7</th>\n",
       "      <td>58</td>\n",
       "      <td>57</td>\n",
       "      <td>59</td>\n",
       "      <td>56</td>\n",
       "      <td>58</td>\n",
       "      <td>76</td>\n",
       "      <td>70</td>\n",
       "      <td>66</td>\n",
       "      <td>45</td>\n",
       "      <td>90</td>\n",
       "    </tr>\n",
       "    <tr>\n",
       "      <th>8</th>\n",
       "      <td>49</td>\n",
       "      <td>48</td>\n",
       "      <td>57</td>\n",
       "      <td>47</td>\n",
       "      <td>49</td>\n",
       "      <td>79</td>\n",
       "      <td>71</td>\n",
       "      <td>67</td>\n",
       "      <td>50</td>\n",
       "      <td>86</td>\n",
       "    </tr>\n",
       "  </tbody>\n",
       "</table>\n",
       "</div>"
      ],
      "text/plain": [
       "    A   B   C   D   E   F   G   H   I   J\n",
       "1  88  89  91  87  92  86  89  80  90  93\n",
       "2  54  69  58  68  74  85  88  88  89  91\n",
       "3  73  78  79  70  76  81  75  78  87  88\n",
       "4  64  61  60  69  68  79  74  70  56  89\n",
       "5  59  64  61  64  67  80  73  68  62  88\n",
       "6  52  50  58  49  50  77  72  67  57  87\n",
       "7  58  57  59  56  58  76  70  66  45  90\n",
       "8  49  48  57  47  49  79  71  67  50  86"
      ]
     },
     "execution_count": 24,
     "metadata": {},
     "output_type": "execute_result"
    }
   ],
   "source": [
    "data"
   ]
  },
  {
   "cell_type": "markdown",
   "id": "05da765f",
   "metadata": {},
   "source": [
    "## Жадный на ставку алгоритм "
   ]
  },
  {
   "cell_type": "code",
   "execution_count": 59,
   "id": "92a3f9ae",
   "metadata": {},
   "outputs": [],
   "source": [
    "def order_compose(arr, items, bidders):\n",
    "    k_i = len(items)\n",
    "    k_b = len(bidders)\n",
    "    res = []\n",
    "    for i in arr:\n",
    "        res.append((bidders[i // k_i], items[i % k_i]))\n",
    "    return res"
   ]
  },
  {
   "cell_type": "code",
   "execution_count": 67,
   "id": "66ffd042",
   "metadata": {},
   "outputs": [],
   "source": [
    "def greedy_combinator(q, items, bidders, one_get_one=False):\n",
    "    satisfied = {b: False for b in bidders}\n",
    "    given = {i: False for i in items}\n",
    "    res = []\n",
    "    for order in q:\n",
    "        decision = not given[order[1]]\n",
    "        if one_get_one:\n",
    "            decision = decision and not satisfied[order[0]]\n",
    "        if decision:\n",
    "            res.append(order)\n",
    "            given[order[1]] = True\n",
    "            satisfied[order[0]] = True\n",
    "    return res"
   ]
  },
  {
   "cell_type": "code",
   "execution_count": 75,
   "id": "31ca8b11",
   "metadata": {},
   "outputs": [],
   "source": [
    "def get_sum(data, orders):\n",
    "    s = 0\n",
    "    for o in orders:\n",
    "        s += data.loc[o]\n",
    "    return s"
   ]
  },
  {
   "cell_type": "code",
   "execution_count": 126,
   "id": "1ef40888",
   "metadata": {},
   "outputs": [],
   "source": [
    "def form_final_check(bidders, order):\n",
    "    res = {b: [] for b in bidders}\n",
    "    for bidder, item in order:\n",
    "        res[bidder].append(item)\n",
    "    for b in bidders:\n",
    "        res[b] = sorted(res[b])\n",
    "    return res"
   ]
  },
  {
   "cell_type": "code",
   "execution_count": 127,
   "id": "a1e9b52b",
   "metadata": {},
   "outputs": [],
   "source": [
    "def attempt1(data, one_to_one=False):\n",
    "    orders = data.values.flatten().argsort()[::-1]\n",
    "    queue = order_compose(orders, data.columns, data.index)\n",
    "    ans = greedy_combinator(queue, data.columns, data.index, one_to_one)\n",
    "    return form_final_check(data.index, ans), get_sum(data, ans)"
   ]
  },
  {
   "cell_type": "code",
   "execution_count": 130,
   "id": "6de78b25",
   "metadata": {},
   "outputs": [
    {
     "name": "stdout",
     "output_type": "stream",
     "text": [
      "{1: ['J'], 2: ['I'], 3: ['F'], 4: ['G'], 5: ['H'], 6: ['A'], 7: ['C'], 8: ['E']} 565\n"
     ]
    }
   ],
   "source": [
    "print(*attempt1(data, True))"
   ]
  },
  {
   "cell_type": "markdown",
   "id": "64cb62a9",
   "metadata": {},
   "source": [
    "## Жадный на (ставка/ср. цена вещи или её корень) алгоритм "
   ]
  },
  {
   "cell_type": "code",
   "execution_count": 84,
   "id": "1687273a",
   "metadata": {},
   "outputs": [
    {
     "data": {
      "text/html": [
       "<div>\n",
       "<style scoped>\n",
       "    .dataframe tbody tr th:only-of-type {\n",
       "        vertical-align: middle;\n",
       "    }\n",
       "\n",
       "    .dataframe tbody tr th {\n",
       "        vertical-align: top;\n",
       "    }\n",
       "\n",
       "    .dataframe thead th {\n",
       "        text-align: right;\n",
       "    }\n",
       "</style>\n",
       "<table border=\"1\" class=\"dataframe\">\n",
       "  <thead>\n",
       "    <tr style=\"text-align: right;\">\n",
       "      <th></th>\n",
       "      <th>A</th>\n",
       "      <th>B</th>\n",
       "      <th>C</th>\n",
       "      <th>D</th>\n",
       "      <th>E</th>\n",
       "      <th>F</th>\n",
       "      <th>G</th>\n",
       "      <th>H</th>\n",
       "      <th>I</th>\n",
       "      <th>J</th>\n",
       "    </tr>\n",
       "  </thead>\n",
       "  <tbody>\n",
       "    <tr>\n",
       "      <th>1</th>\n",
       "      <td>88</td>\n",
       "      <td>89</td>\n",
       "      <td>91</td>\n",
       "      <td>87</td>\n",
       "      <td>92</td>\n",
       "      <td>86</td>\n",
       "      <td>89</td>\n",
       "      <td>80</td>\n",
       "      <td>90</td>\n",
       "      <td>93</td>\n",
       "    </tr>\n",
       "    <tr>\n",
       "      <th>2</th>\n",
       "      <td>54</td>\n",
       "      <td>69</td>\n",
       "      <td>58</td>\n",
       "      <td>68</td>\n",
       "      <td>74</td>\n",
       "      <td>85</td>\n",
       "      <td>88</td>\n",
       "      <td>88</td>\n",
       "      <td>89</td>\n",
       "      <td>91</td>\n",
       "    </tr>\n",
       "    <tr>\n",
       "      <th>3</th>\n",
       "      <td>73</td>\n",
       "      <td>78</td>\n",
       "      <td>79</td>\n",
       "      <td>70</td>\n",
       "      <td>76</td>\n",
       "      <td>81</td>\n",
       "      <td>75</td>\n",
       "      <td>78</td>\n",
       "      <td>87</td>\n",
       "      <td>88</td>\n",
       "    </tr>\n",
       "    <tr>\n",
       "      <th>4</th>\n",
       "      <td>64</td>\n",
       "      <td>61</td>\n",
       "      <td>60</td>\n",
       "      <td>69</td>\n",
       "      <td>68</td>\n",
       "      <td>79</td>\n",
       "      <td>74</td>\n",
       "      <td>70</td>\n",
       "      <td>56</td>\n",
       "      <td>89</td>\n",
       "    </tr>\n",
       "    <tr>\n",
       "      <th>5</th>\n",
       "      <td>59</td>\n",
       "      <td>64</td>\n",
       "      <td>61</td>\n",
       "      <td>64</td>\n",
       "      <td>67</td>\n",
       "      <td>80</td>\n",
       "      <td>73</td>\n",
       "      <td>68</td>\n",
       "      <td>62</td>\n",
       "      <td>88</td>\n",
       "    </tr>\n",
       "    <tr>\n",
       "      <th>6</th>\n",
       "      <td>52</td>\n",
       "      <td>50</td>\n",
       "      <td>58</td>\n",
       "      <td>49</td>\n",
       "      <td>50</td>\n",
       "      <td>77</td>\n",
       "      <td>72</td>\n",
       "      <td>67</td>\n",
       "      <td>57</td>\n",
       "      <td>87</td>\n",
       "    </tr>\n",
       "    <tr>\n",
       "      <th>7</th>\n",
       "      <td>58</td>\n",
       "      <td>57</td>\n",
       "      <td>59</td>\n",
       "      <td>56</td>\n",
       "      <td>58</td>\n",
       "      <td>76</td>\n",
       "      <td>70</td>\n",
       "      <td>66</td>\n",
       "      <td>45</td>\n",
       "      <td>90</td>\n",
       "    </tr>\n",
       "    <tr>\n",
       "      <th>8</th>\n",
       "      <td>49</td>\n",
       "      <td>48</td>\n",
       "      <td>57</td>\n",
       "      <td>47</td>\n",
       "      <td>49</td>\n",
       "      <td>79</td>\n",
       "      <td>71</td>\n",
       "      <td>67</td>\n",
       "      <td>50</td>\n",
       "      <td>86</td>\n",
       "    </tr>\n",
       "  </tbody>\n",
       "</table>\n",
       "</div>"
      ],
      "text/plain": [
       "    A   B   C   D   E   F   G   H   I   J\n",
       "1  88  89  91  87  92  86  89  80  90  93\n",
       "2  54  69  58  68  74  85  88  88  89  91\n",
       "3  73  78  79  70  76  81  75  78  87  88\n",
       "4  64  61  60  69  68  79  74  70  56  89\n",
       "5  59  64  61  64  67  80  73  68  62  88\n",
       "6  52  50  58  49  50  77  72  67  57  87\n",
       "7  58  57  59  56  58  76  70  66  45  90\n",
       "8  49  48  57  47  49  79  71  67  50  86"
      ]
     },
     "execution_count": 84,
     "metadata": {},
     "output_type": "execute_result"
    }
   ],
   "source": [
    "data_norm = data.copy()\n",
    "data_norm"
   ]
  },
  {
   "cell_type": "code",
   "execution_count": 89,
   "id": "56ce8439",
   "metadata": {
    "scrolled": true
   },
   "outputs": [
    {
     "data": {
      "text/plain": [
       "A    1.0\n",
       "B    1.0\n",
       "C    1.0\n",
       "D    1.0\n",
       "E    1.0\n",
       "F    1.0\n",
       "G    1.0\n",
       "H    1.0\n",
       "I    1.0\n",
       "J    1.0\n",
       "dtype: float64"
      ]
     },
     "execution_count": 89,
     "metadata": {},
     "output_type": "execute_result"
    }
   ],
   "source": [
    "data_norm.mean()"
   ]
  },
  {
   "cell_type": "code",
   "execution_count": 88,
   "id": "09df40ae",
   "metadata": {},
   "outputs": [
    {
     "data": {
      "text/html": [
       "<div>\n",
       "<style scoped>\n",
       "    .dataframe tbody tr th:only-of-type {\n",
       "        vertical-align: middle;\n",
       "    }\n",
       "\n",
       "    .dataframe tbody tr th {\n",
       "        vertical-align: top;\n",
       "    }\n",
       "\n",
       "    .dataframe thead th {\n",
       "        text-align: right;\n",
       "    }\n",
       "</style>\n",
       "<table border=\"1\" class=\"dataframe\">\n",
       "  <thead>\n",
       "    <tr style=\"text-align: right;\">\n",
       "      <th></th>\n",
       "      <th>A</th>\n",
       "      <th>B</th>\n",
       "      <th>C</th>\n",
       "      <th>D</th>\n",
       "      <th>E</th>\n",
       "      <th>F</th>\n",
       "      <th>G</th>\n",
       "      <th>H</th>\n",
       "      <th>I</th>\n",
       "      <th>J</th>\n",
       "    </tr>\n",
       "  </thead>\n",
       "  <tbody>\n",
       "    <tr>\n",
       "      <th>1</th>\n",
       "      <td>1.416499</td>\n",
       "      <td>1.379845</td>\n",
       "      <td>1.391969</td>\n",
       "      <td>1.364706</td>\n",
       "      <td>1.378277</td>\n",
       "      <td>1.069984</td>\n",
       "      <td>1.163399</td>\n",
       "      <td>1.095890</td>\n",
       "      <td>1.343284</td>\n",
       "      <td>1.044944</td>\n",
       "    </tr>\n",
       "    <tr>\n",
       "      <th>2</th>\n",
       "      <td>0.869215</td>\n",
       "      <td>1.069767</td>\n",
       "      <td>0.887189</td>\n",
       "      <td>1.066667</td>\n",
       "      <td>1.108614</td>\n",
       "      <td>1.057543</td>\n",
       "      <td>1.150327</td>\n",
       "      <td>1.205479</td>\n",
       "      <td>1.328358</td>\n",
       "      <td>1.022472</td>\n",
       "    </tr>\n",
       "    <tr>\n",
       "      <th>3</th>\n",
       "      <td>1.175050</td>\n",
       "      <td>1.209302</td>\n",
       "      <td>1.208413</td>\n",
       "      <td>1.098039</td>\n",
       "      <td>1.138577</td>\n",
       "      <td>1.007776</td>\n",
       "      <td>0.980392</td>\n",
       "      <td>1.068493</td>\n",
       "      <td>1.298507</td>\n",
       "      <td>0.988764</td>\n",
       "    </tr>\n",
       "    <tr>\n",
       "      <th>4</th>\n",
       "      <td>1.030181</td>\n",
       "      <td>0.945736</td>\n",
       "      <td>0.917782</td>\n",
       "      <td>1.082353</td>\n",
       "      <td>1.018727</td>\n",
       "      <td>0.982893</td>\n",
       "      <td>0.967320</td>\n",
       "      <td>0.958904</td>\n",
       "      <td>0.835821</td>\n",
       "      <td>1.000000</td>\n",
       "    </tr>\n",
       "    <tr>\n",
       "      <th>5</th>\n",
       "      <td>0.949698</td>\n",
       "      <td>0.992248</td>\n",
       "      <td>0.933078</td>\n",
       "      <td>1.003922</td>\n",
       "      <td>1.003745</td>\n",
       "      <td>0.995334</td>\n",
       "      <td>0.954248</td>\n",
       "      <td>0.931507</td>\n",
       "      <td>0.925373</td>\n",
       "      <td>0.988764</td>\n",
       "    </tr>\n",
       "    <tr>\n",
       "      <th>6</th>\n",
       "      <td>0.837022</td>\n",
       "      <td>0.775194</td>\n",
       "      <td>0.887189</td>\n",
       "      <td>0.768627</td>\n",
       "      <td>0.749064</td>\n",
       "      <td>0.958009</td>\n",
       "      <td>0.941176</td>\n",
       "      <td>0.917808</td>\n",
       "      <td>0.850746</td>\n",
       "      <td>0.977528</td>\n",
       "    </tr>\n",
       "    <tr>\n",
       "      <th>7</th>\n",
       "      <td>0.933602</td>\n",
       "      <td>0.883721</td>\n",
       "      <td>0.902486</td>\n",
       "      <td>0.878431</td>\n",
       "      <td>0.868914</td>\n",
       "      <td>0.945568</td>\n",
       "      <td>0.915033</td>\n",
       "      <td>0.904110</td>\n",
       "      <td>0.671642</td>\n",
       "      <td>1.011236</td>\n",
       "    </tr>\n",
       "    <tr>\n",
       "      <th>8</th>\n",
       "      <td>0.788732</td>\n",
       "      <td>0.744186</td>\n",
       "      <td>0.871893</td>\n",
       "      <td>0.737255</td>\n",
       "      <td>0.734082</td>\n",
       "      <td>0.982893</td>\n",
       "      <td>0.928105</td>\n",
       "      <td>0.917808</td>\n",
       "      <td>0.746269</td>\n",
       "      <td>0.966292</td>\n",
       "    </tr>\n",
       "  </tbody>\n",
       "</table>\n",
       "</div>"
      ],
      "text/plain": [
       "          A         B         C         D         E         F         G  \\\n",
       "1  1.416499  1.379845  1.391969  1.364706  1.378277  1.069984  1.163399   \n",
       "2  0.869215  1.069767  0.887189  1.066667  1.108614  1.057543  1.150327   \n",
       "3  1.175050  1.209302  1.208413  1.098039  1.138577  1.007776  0.980392   \n",
       "4  1.030181  0.945736  0.917782  1.082353  1.018727  0.982893  0.967320   \n",
       "5  0.949698  0.992248  0.933078  1.003922  1.003745  0.995334  0.954248   \n",
       "6  0.837022  0.775194  0.887189  0.768627  0.749064  0.958009  0.941176   \n",
       "7  0.933602  0.883721  0.902486  0.878431  0.868914  0.945568  0.915033   \n",
       "8  0.788732  0.744186  0.871893  0.737255  0.734082  0.982893  0.928105   \n",
       "\n",
       "          H         I         J  \n",
       "1  1.095890  1.343284  1.044944  \n",
       "2  1.205479  1.328358  1.022472  \n",
       "3  1.068493  1.298507  0.988764  \n",
       "4  0.958904  0.835821  1.000000  \n",
       "5  0.931507  0.925373  0.988764  \n",
       "6  0.917808  0.850746  0.977528  \n",
       "7  0.904110  0.671642  1.011236  \n",
       "8  0.917808  0.746269  0.966292  "
      ]
     },
     "execution_count": 88,
     "metadata": {},
     "output_type": "execute_result"
    }
   ],
   "source": [
    "data_norm = data_norm / data_norm.mean()\n",
    "data_norm"
   ]
  },
  {
   "cell_type": "code",
   "execution_count": 128,
   "id": "eb81b54c",
   "metadata": {},
   "outputs": [],
   "source": [
    "def attempt2(data, one_to_one=False):\n",
    "    data_norm = data.copy()\n",
    "    data_norm = data_norm / data_norm.mean()\n",
    "    orders = data_norm.values.flatten().argsort()[::-1]\n",
    "    queue = order_compose(orders, data_norm.columns, data_norm.index)\n",
    "    ans = greedy_combinator(queue, data_norm.columns, data_norm.index, one_to_one)\n",
    "    return form_final_check(data.index, ans), get_sum(data, ans)"
   ]
  },
  {
   "cell_type": "code",
   "execution_count": 131,
   "id": "1b21873d",
   "metadata": {},
   "outputs": [
    {
     "name": "stdout",
     "output_type": "stream",
     "text": [
      "{1: ['A'], 2: ['I'], 3: ['B'], 4: ['D'], 5: ['E'], 6: ['G'], 7: ['J'], 8: ['F']} 632\n"
     ]
    }
   ],
   "source": [
    "print(*attempt2(data, True))"
   ]
  },
  {
   "cell_type": "code",
   "execution_count": 129,
   "id": "36fb1cfa",
   "metadata": {},
   "outputs": [],
   "source": [
    "def attempt3(data, one_to_one=False):\n",
    "    data_norm = data.copy()\n",
    "    data_norm = data_norm / np.sqrt(data_norm.mean())\n",
    "    orders = data_norm.values.flatten().argsort()[::-1]\n",
    "    queue = order_compose(orders, data_norm.columns, data_norm.index)\n",
    "    ans = greedy_combinator(queue, data_norm.columns, data_norm.index, one_to_one)\n",
    "    return form_final_check(data.index, ans), get_sum(data, ans)"
   ]
  },
  {
   "cell_type": "code",
   "execution_count": 148,
   "id": "d553ced7",
   "metadata": {},
   "outputs": [
    {
     "name": "stdout",
     "output_type": "stream",
     "text": [
      "{1: ['E'], 2: ['I'], 3: ['C'], 4: ['D'], 5: ['F'], 6: ['G'], 7: ['J'], 8: ['H']}\n",
      "\n",
      "638\n"
     ]
    }
   ],
   "source": [
    "print(*attempt3(data, True), sep='\\n\\n')"
   ]
  },
  {
   "cell_type": "markdown",
   "id": "c01859bf",
   "metadata": {},
   "source": [
    "## Новые данные"
   ]
  },
  {
   "cell_type": "code",
   "execution_count": 105,
   "id": "47b14132",
   "metadata": {
    "scrolled": true
   },
   "outputs": [
    {
     "data": {
      "text/html": [
       "<div>\n",
       "<style scoped>\n",
       "    .dataframe tbody tr th:only-of-type {\n",
       "        vertical-align: middle;\n",
       "    }\n",
       "\n",
       "    .dataframe tbody tr th {\n",
       "        vertical-align: top;\n",
       "    }\n",
       "\n",
       "    .dataframe thead th {\n",
       "        text-align: right;\n",
       "    }\n",
       "</style>\n",
       "<table border=\"1\" class=\"dataframe\">\n",
       "  <thead>\n",
       "    <tr style=\"text-align: right;\">\n",
       "      <th>id</th>\n",
       "      <th>A</th>\n",
       "      <th>B</th>\n",
       "      <th>C</th>\n",
       "      <th>D</th>\n",
       "      <th>E</th>\n",
       "      <th>F</th>\n",
       "      <th>G</th>\n",
       "      <th>H</th>\n",
       "      <th>I</th>\n",
       "      <th>J</th>\n",
       "      <th>K</th>\n",
       "      <th>L</th>\n",
       "      <th>M</th>\n",
       "      <th>N</th>\n",
       "      <th>O</th>\n",
       "      <th>P</th>\n",
       "      <th>R</th>\n",
       "    </tr>\n",
       "  </thead>\n",
       "  <tbody>\n",
       "    <tr>\n",
       "      <th>1</th>\n",
       "      <td>100</td>\n",
       "      <td>139</td>\n",
       "      <td>178</td>\n",
       "      <td>158</td>\n",
       "      <td>149</td>\n",
       "      <td>148</td>\n",
       "      <td>220</td>\n",
       "      <td>188</td>\n",
       "      <td>179</td>\n",
       "      <td>168</td>\n",
       "      <td>199</td>\n",
       "      <td>209</td>\n",
       "      <td>130</td>\n",
       "      <td>178</td>\n",
       "      <td>170</td>\n",
       "      <td>269</td>\n",
       "      <td>190</td>\n",
       "    </tr>\n",
       "    <tr>\n",
       "      <th>2</th>\n",
       "      <td>110</td>\n",
       "      <td>129</td>\n",
       "      <td>179</td>\n",
       "      <td>150</td>\n",
       "      <td>211</td>\n",
       "      <td>218</td>\n",
       "      <td>180</td>\n",
       "      <td>179</td>\n",
       "      <td>178</td>\n",
       "      <td>238</td>\n",
       "      <td>240</td>\n",
       "      <td>250</td>\n",
       "      <td>179</td>\n",
       "      <td>120</td>\n",
       "      <td>139</td>\n",
       "      <td>212</td>\n",
       "      <td>210</td>\n",
       "    </tr>\n",
       "    <tr>\n",
       "      <th>3</th>\n",
       "      <td>119</td>\n",
       "      <td>212</td>\n",
       "      <td>138</td>\n",
       "      <td>181</td>\n",
       "      <td>148</td>\n",
       "      <td>210</td>\n",
       "      <td>178</td>\n",
       "      <td>159</td>\n",
       "      <td>227</td>\n",
       "      <td>200</td>\n",
       "      <td>190</td>\n",
       "      <td>220</td>\n",
       "      <td>140</td>\n",
       "      <td>160</td>\n",
       "      <td>150</td>\n",
       "      <td>222</td>\n",
       "      <td>210</td>\n",
       "    </tr>\n",
       "    <tr>\n",
       "      <th>4</th>\n",
       "      <td>120</td>\n",
       "      <td>190</td>\n",
       "      <td>208</td>\n",
       "      <td>199</td>\n",
       "      <td>120</td>\n",
       "      <td>137</td>\n",
       "      <td>198</td>\n",
       "      <td>261</td>\n",
       "      <td>170</td>\n",
       "      <td>201</td>\n",
       "      <td>168</td>\n",
       "      <td>237</td>\n",
       "      <td>189</td>\n",
       "      <td>150</td>\n",
       "      <td>160</td>\n",
       "      <td>268</td>\n",
       "      <td>189</td>\n",
       "    </tr>\n",
       "    <tr>\n",
       "      <th>5</th>\n",
       "      <td>140</td>\n",
       "      <td>159</td>\n",
       "      <td>149</td>\n",
       "      <td>169</td>\n",
       "      <td>177</td>\n",
       "      <td>159</td>\n",
       "      <td>190</td>\n",
       "      <td>199</td>\n",
       "      <td>189</td>\n",
       "      <td>110</td>\n",
       "      <td>129</td>\n",
       "      <td>197</td>\n",
       "      <td>148</td>\n",
       "      <td>169</td>\n",
       "      <td>178</td>\n",
       "      <td>247</td>\n",
       "      <td>218</td>\n",
       "    </tr>\n",
       "    <tr>\n",
       "      <th>6</th>\n",
       "      <td>130</td>\n",
       "      <td>151</td>\n",
       "      <td>188</td>\n",
       "      <td>199</td>\n",
       "      <td>161</td>\n",
       "      <td>169</td>\n",
       "      <td>171</td>\n",
       "      <td>208</td>\n",
       "      <td>179</td>\n",
       "      <td>138</td>\n",
       "      <td>160</td>\n",
       "      <td>188</td>\n",
       "      <td>179</td>\n",
       "      <td>149</td>\n",
       "      <td>201</td>\n",
       "      <td>259</td>\n",
       "      <td>220</td>\n",
       "    </tr>\n",
       "    <tr>\n",
       "      <th>7</th>\n",
       "      <td>100</td>\n",
       "      <td>170</td>\n",
       "      <td>169</td>\n",
       "      <td>207</td>\n",
       "      <td>181</td>\n",
       "      <td>160</td>\n",
       "      <td>199</td>\n",
       "      <td>170</td>\n",
       "      <td>200</td>\n",
       "      <td>141</td>\n",
       "      <td>178</td>\n",
       "      <td>179</td>\n",
       "      <td>170</td>\n",
       "      <td>140</td>\n",
       "      <td>178</td>\n",
       "      <td>216</td>\n",
       "      <td>197</td>\n",
       "    </tr>\n",
       "  </tbody>\n",
       "</table>\n",
       "</div>"
      ],
      "text/plain": [
       "id    A    B    C    D    E    F    G    H    I    J    K    L    M    N    O  \\\n",
       "1   100  139  178  158  149  148  220  188  179  168  199  209  130  178  170   \n",
       "2   110  129  179  150  211  218  180  179  178  238  240  250  179  120  139   \n",
       "3   119  212  138  181  148  210  178  159  227  200  190  220  140  160  150   \n",
       "4   120  190  208  199  120  137  198  261  170  201  168  237  189  150  160   \n",
       "5   140  159  149  169  177  159  190  199  189  110  129  197  148  169  178   \n",
       "6   130  151  188  199  161  169  171  208  179  138  160  188  179  149  201   \n",
       "7   100  170  169  207  181  160  199  170  200  141  178  179  170  140  178   \n",
       "\n",
       "id    P    R  \n",
       "1   269  190  \n",
       "2   212  210  \n",
       "3   222  210  \n",
       "4   268  189  \n",
       "5   247  218  \n",
       "6   259  220  \n",
       "7   216  197  "
      ]
     },
     "execution_count": 105,
     "metadata": {},
     "output_type": "execute_result"
    }
   ],
   "source": [
    "data2 = pd.read_csv('data_1.csv', index_col='id', nrows=17).T\n",
    "data2"
   ]
  },
  {
   "cell_type": "code",
   "execution_count": 155,
   "id": "f9a3af21",
   "metadata": {},
   "outputs": [
    {
     "name": "stdout",
     "output_type": "stream",
     "text": [
      "('1', ['G', 'N', 'P'])\n",
      "('2', ['E', 'F', 'J', 'K', 'L'])\n",
      "('3', ['B', 'I'])\n",
      "('4', ['C', 'H', 'M'])\n",
      "('5', ['A'])\n",
      "('6', ['O', 'R'])\n",
      "('7', ['D'])\n",
      "\n",
      "\n",
      "3689\n"
     ]
    }
   ],
   "source": [
    "order3, s3 = attempt3(data2)\n",
    "print(*order3.items(), '\\n', s3, sep='\\n')"
   ]
  },
  {
   "cell_type": "code",
   "execution_count": 134,
   "id": "f06e9bd9",
   "metadata": {},
   "outputs": [
    {
     "data": {
      "text/plain": [
       "{'1': ['G', 'N', 'P'],\n",
       " '2': ['E', 'F', 'J', 'K', 'L'],\n",
       " '3': ['B', 'I'],\n",
       " '4': ['C', 'H', 'M'],\n",
       " '5': ['A'],\n",
       " '6': ['O', 'R'],\n",
       " '7': ['D']}"
      ]
     },
     "execution_count": 134,
     "metadata": {},
     "output_type": "execute_result"
    }
   ],
   "source": [
    "order1"
   ]
  },
  {
   "cell_type": "code",
   "execution_count": 135,
   "id": "34bb7318",
   "metadata": {},
   "outputs": [
    {
     "data": {
      "text/plain": [
       "{'1': ['G', 'N', 'P'],\n",
       " '2': ['E', 'F', 'J', 'K', 'L'],\n",
       " '3': ['B', 'I'],\n",
       " '4': ['C', 'H', 'M'],\n",
       " '5': ['A'],\n",
       " '6': ['O', 'R'],\n",
       " '7': ['D']}"
      ]
     },
     "execution_count": 135,
     "metadata": {},
     "output_type": "execute_result"
    }
   ],
   "source": [
    "order2"
   ]
  },
  {
   "cell_type": "code",
   "execution_count": 136,
   "id": "eb0073d7",
   "metadata": {},
   "outputs": [
    {
     "data": {
      "text/plain": [
       "{'1': ['G', 'N', 'P'],\n",
       " '2': ['E', 'F', 'J', 'K', 'L'],\n",
       " '3': ['B', 'I'],\n",
       " '4': ['C', 'H', 'M'],\n",
       " '5': ['A'],\n",
       " '6': ['O', 'R'],\n",
       " '7': ['D']}"
      ]
     },
     "execution_count": 136,
     "metadata": {},
     "output_type": "execute_result"
    }
   ],
   "source": [
    "order3"
   ]
  },
  {
   "cell_type": "code",
   "execution_count": 137,
   "id": "eb5ae428",
   "metadata": {},
   "outputs": [
    {
     "data": {
      "text/html": [
       "<div>\n",
       "<style scoped>\n",
       "    .dataframe tbody tr th:only-of-type {\n",
       "        vertical-align: middle;\n",
       "    }\n",
       "\n",
       "    .dataframe tbody tr th {\n",
       "        vertical-align: top;\n",
       "    }\n",
       "\n",
       "    .dataframe thead th {\n",
       "        text-align: right;\n",
       "    }\n",
       "</style>\n",
       "<table border=\"1\" class=\"dataframe\">\n",
       "  <thead>\n",
       "    <tr style=\"text-align: right;\">\n",
       "      <th>id</th>\n",
       "      <th>A</th>\n",
       "      <th>B</th>\n",
       "      <th>C</th>\n",
       "      <th>D</th>\n",
       "      <th>E</th>\n",
       "      <th>F</th>\n",
       "      <th>G</th>\n",
       "      <th>H</th>\n",
       "      <th>I</th>\n",
       "      <th>J</th>\n",
       "      <th>K</th>\n",
       "      <th>L</th>\n",
       "      <th>M</th>\n",
       "      <th>N</th>\n",
       "      <th>O</th>\n",
       "      <th>P</th>\n",
       "      <th>R</th>\n",
       "      <th>S</th>\n",
       "    </tr>\n",
       "  </thead>\n",
       "  <tbody>\n",
       "    <tr>\n",
       "      <th>1</th>\n",
       "      <td>100</td>\n",
       "      <td>139</td>\n",
       "      <td>177</td>\n",
       "      <td>161</td>\n",
       "      <td>151</td>\n",
       "      <td>150</td>\n",
       "      <td>220</td>\n",
       "      <td>189</td>\n",
       "      <td>178</td>\n",
       "      <td>168</td>\n",
       "      <td>198</td>\n",
       "      <td>209</td>\n",
       "      <td>129</td>\n",
       "      <td>179</td>\n",
       "      <td>167</td>\n",
       "      <td>269</td>\n",
       "      <td>189</td>\n",
       "      <td>188</td>\n",
       "    </tr>\n",
       "    <tr>\n",
       "      <th>2</th>\n",
       "      <td>110</td>\n",
       "      <td>128</td>\n",
       "      <td>180</td>\n",
       "      <td>150</td>\n",
       "      <td>210</td>\n",
       "      <td>220</td>\n",
       "      <td>181</td>\n",
       "      <td>178</td>\n",
       "      <td>181</td>\n",
       "      <td>239</td>\n",
       "      <td>241</td>\n",
       "      <td>246</td>\n",
       "      <td>181</td>\n",
       "      <td>119</td>\n",
       "      <td>138</td>\n",
       "      <td>209</td>\n",
       "      <td>210</td>\n",
       "      <td>168</td>\n",
       "    </tr>\n",
       "    <tr>\n",
       "      <th>3</th>\n",
       "      <td>119</td>\n",
       "      <td>208</td>\n",
       "      <td>139</td>\n",
       "      <td>181</td>\n",
       "      <td>150</td>\n",
       "      <td>207</td>\n",
       "      <td>180</td>\n",
       "      <td>159</td>\n",
       "      <td>231</td>\n",
       "      <td>198</td>\n",
       "      <td>190</td>\n",
       "      <td>221</td>\n",
       "      <td>139</td>\n",
       "      <td>160</td>\n",
       "      <td>148</td>\n",
       "      <td>219</td>\n",
       "      <td>208</td>\n",
       "      <td>181</td>\n",
       "    </tr>\n",
       "    <tr>\n",
       "      <th>4</th>\n",
       "      <td>119</td>\n",
       "      <td>190</td>\n",
       "      <td>210</td>\n",
       "      <td>198</td>\n",
       "      <td>121</td>\n",
       "      <td>140</td>\n",
       "      <td>199</td>\n",
       "      <td>258</td>\n",
       "      <td>169</td>\n",
       "      <td>199</td>\n",
       "      <td>168</td>\n",
       "      <td>240</td>\n",
       "      <td>187</td>\n",
       "      <td>149</td>\n",
       "      <td>159</td>\n",
       "      <td>268</td>\n",
       "      <td>190</td>\n",
       "      <td>227</td>\n",
       "    </tr>\n",
       "    <tr>\n",
       "      <th>5</th>\n",
       "      <td>138</td>\n",
       "      <td>159</td>\n",
       "      <td>147</td>\n",
       "      <td>168</td>\n",
       "      <td>178</td>\n",
       "      <td>157</td>\n",
       "      <td>190</td>\n",
       "      <td>199</td>\n",
       "      <td>191</td>\n",
       "      <td>110</td>\n",
       "      <td>130</td>\n",
       "      <td>201</td>\n",
       "      <td>148</td>\n",
       "      <td>168</td>\n",
       "      <td>180</td>\n",
       "      <td>250</td>\n",
       "      <td>219</td>\n",
       "      <td>221</td>\n",
       "    </tr>\n",
       "    <tr>\n",
       "      <th>6</th>\n",
       "      <td>130</td>\n",
       "      <td>150</td>\n",
       "      <td>188</td>\n",
       "      <td>198</td>\n",
       "      <td>158</td>\n",
       "      <td>168</td>\n",
       "      <td>169</td>\n",
       "      <td>210</td>\n",
       "      <td>178</td>\n",
       "      <td>138</td>\n",
       "      <td>159</td>\n",
       "      <td>188</td>\n",
       "      <td>180</td>\n",
       "      <td>150</td>\n",
       "      <td>199</td>\n",
       "      <td>257</td>\n",
       "      <td>220</td>\n",
       "      <td>199</td>\n",
       "    </tr>\n",
       "    <tr>\n",
       "      <th>7</th>\n",
       "      <td>100</td>\n",
       "      <td>169</td>\n",
       "      <td>170</td>\n",
       "      <td>208</td>\n",
       "      <td>179</td>\n",
       "      <td>159</td>\n",
       "      <td>200</td>\n",
       "      <td>168</td>\n",
       "      <td>198</td>\n",
       "      <td>138</td>\n",
       "      <td>178</td>\n",
       "      <td>178</td>\n",
       "      <td>170</td>\n",
       "      <td>139</td>\n",
       "      <td>177</td>\n",
       "      <td>221</td>\n",
       "      <td>198</td>\n",
       "      <td>228</td>\n",
       "    </tr>\n",
       "  </tbody>\n",
       "</table>\n",
       "</div>"
      ],
      "text/plain": [
       "id    A    B    C    D    E    F    G    H    I    J    K    L    M    N    O  \\\n",
       "1   100  139  177  161  151  150  220  189  178  168  198  209  129  179  167   \n",
       "2   110  128  180  150  210  220  181  178  181  239  241  246  181  119  138   \n",
       "3   119  208  139  181  150  207  180  159  231  198  190  221  139  160  148   \n",
       "4   119  190  210  198  121  140  199  258  169  199  168  240  187  149  159   \n",
       "5   138  159  147  168  178  157  190  199  191  110  130  201  148  168  180   \n",
       "6   130  150  188  198  158  168  169  210  178  138  159  188  180  150  199   \n",
       "7   100  169  170  208  179  159  200  168  198  138  178  178  170  139  177   \n",
       "\n",
       "id    P    R    S  \n",
       "1   269  189  188  \n",
       "2   209  210  168  \n",
       "3   219  208  181  \n",
       "4   268  190  227  \n",
       "5   250  219  221  \n",
       "6   257  220  199  \n",
       "7   221  198  228  "
      ]
     },
     "execution_count": 137,
     "metadata": {},
     "output_type": "execute_result"
    }
   ],
   "source": [
    "data3 = pd.read_csv('data_2.csv', index_col='id', nrows=18).T\n",
    "data3"
   ]
  },
  {
   "cell_type": "code",
   "execution_count": 156,
   "id": "4b69b73d",
   "metadata": {},
   "outputs": [
    {
     "name": "stdout",
     "output_type": "stream",
     "text": [
      "('1', ['G', 'N', 'P'])\n",
      "('2', ['E', 'F', 'J', 'K', 'L'])\n",
      "('3', ['B', 'I'])\n",
      "('4', ['C', 'H', 'M'])\n",
      "('5', ['A'])\n",
      "('6', ['O', 'R'])\n",
      "('7', ['D', 'S'])\n",
      "\n",
      "\n",
      "3911\n"
     ]
    }
   ],
   "source": [
    "order6, s6 = attempt3(data3)\n",
    "print(*order6.items(), '\\n', s6, sep='\\n')"
   ]
  },
  {
   "cell_type": "code",
   "execution_count": 141,
   "id": "7dcd082e",
   "metadata": {},
   "outputs": [
    {
     "name": "stdout",
     "output_type": "stream",
     "text": [
      "3911 vs. 3911 vs. 3911\n"
     ]
    }
   ],
   "source": [
    "order4, s4 = attempt1(data3)\n",
    "order5, s5 = attempt2(data3)\n",
    "order6, s6 = attempt3(data3)\n",
    "print(f'{s4} vs. {s5} vs. {s6}')"
   ]
  },
  {
   "cell_type": "code",
   "execution_count": 142,
   "id": "8e5c9701",
   "metadata": {},
   "outputs": [
    {
     "data": {
      "text/plain": [
       "{'1': ['G', 'N', 'P'],\n",
       " '2': ['E', 'F', 'J', 'K', 'L'],\n",
       " '3': ['B', 'I'],\n",
       " '4': ['C', 'H', 'M'],\n",
       " '5': ['A'],\n",
       " '6': ['O', 'R'],\n",
       " '7': ['D', 'S']}"
      ]
     },
     "execution_count": 142,
     "metadata": {},
     "output_type": "execute_result"
    }
   ],
   "source": [
    "order4"
   ]
  },
  {
   "cell_type": "code",
   "execution_count": 143,
   "id": "ee369c6b",
   "metadata": {},
   "outputs": [
    {
     "data": {
      "text/plain": [
       "{'1': ['G', 'N', 'P'],\n",
       " '2': ['E', 'F', 'J', 'K', 'L'],\n",
       " '3': ['B', 'I'],\n",
       " '4': ['C', 'H', 'M'],\n",
       " '5': ['A'],\n",
       " '6': ['O', 'R'],\n",
       " '7': ['D', 'S']}"
      ]
     },
     "execution_count": 143,
     "metadata": {},
     "output_type": "execute_result"
    }
   ],
   "source": [
    "order5"
   ]
  },
  {
   "cell_type": "code",
   "execution_count": 144,
   "id": "7d521e66",
   "metadata": {},
   "outputs": [
    {
     "data": {
      "text/plain": [
       "{'1': ['G', 'N', 'P'],\n",
       " '2': ['E', 'F', 'J', 'K', 'L'],\n",
       " '3': ['B', 'I'],\n",
       " '4': ['C', 'H', 'M'],\n",
       " '5': ['A'],\n",
       " '6': ['O', 'R'],\n",
       " '7': ['D', 'S']}"
      ]
     },
     "execution_count": 144,
     "metadata": {},
     "output_type": "execute_result"
    }
   ],
   "source": [
    "order6"
   ]
  },
  {
   "cell_type": "code",
   "execution_count": null,
   "id": "b080a87f",
   "metadata": {},
   "outputs": [],
   "source": []
  }
 ],
 "metadata": {
  "kernelspec": {
   "display_name": "Python 3 (ipykernel)",
   "language": "python",
   "name": "python3"
  },
  "language_info": {
   "codemirror_mode": {
    "name": "ipython",
    "version": 3
   },
   "file_extension": ".py",
   "mimetype": "text/x-python",
   "name": "python",
   "nbconvert_exporter": "python",
   "pygments_lexer": "ipython3",
   "version": "3.9.12"
  }
 },
 "nbformat": 4,
 "nbformat_minor": 5
}
