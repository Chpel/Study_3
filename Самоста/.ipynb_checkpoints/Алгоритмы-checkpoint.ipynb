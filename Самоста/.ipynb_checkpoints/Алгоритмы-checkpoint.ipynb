{
 "cells": [
  {
   "cell_type": "markdown",
   "id": "823aeeb6",
   "metadata": {},
   "source": [
    "# Дийкстра"
   ]
  },
  {
   "cell_type": "code",
   "execution_count": null,
   "id": "f7d2993a",
   "metadata": {},
   "outputs": [],
   "source": [
    "def closest(cost, vis):\n",
    "    c = float('inf')\n",
    "    ans = None\n",
    "    for n in cost.keys():\n",
    "        if c > cost[n] and not vis[n]:\n",
    "            ans = n\n",
    "            c = cost[n]\n",
    "    return ans\n",
    "\n",
    "def dijkstra(graph, start):\n",
    "    time = {i: float('inf') for i in graph.keys()}\n",
    "    time[start] = 0\n",
    "    parent = {i: None for i in graph.keys()}\n",
    "    visited = {i: False for i in graph.keys()}\n",
    "    \n",
    "    node = closest(time, visited)\n",
    "    while node != None:\n",
    "        neighbors = graph[node].keys()\n",
    "        for n in neighbors:\n",
    "            new_time = time[node] + graph[node][n]\n",
    "            if new_time < time[n]:\n",
    "                time[n] = new_time\n",
    "                parent[n] = node\n",
    "        visited[node] = True\n",
    "        node = closest(time, visited)\n",
    "    return parent, time"
   ]
  },
  {
   "cell_type": "code",
   "execution_count": 12,
   "id": "6c812a25",
   "metadata": {},
   "outputs": [
    {
     "data": {
      "text/plain": [
       "({'start': None, 'A': 'start', 'B': 'start', 'C': 'A', 'D': 'A', 'end': 'D'},\n",
       " {'start': 0, 'A': 5, 'B': 2, 'C': 9, 'D': 7, 'end': 8})"
      ]
     },
     "execution_count": 12,
     "metadata": {},
     "output_type": "execute_result"
    }
   ],
   "source": [
    "gr = {'start': {'A': 5, 'B': 2},\n",
    "      'A': {'C': 4, 'D': 2},\n",
    "      'B': {'A': 8, 'D': 7},\n",
    "      'C': {'end': 3, 'D': 6},\n",
    "      'D': {'end': 1},\n",
    "      'end': {}}\n",
    "\n",
    "dijkstra(gr, 'start')"
   ]
  },
  {
   "cell_type": "code",
   "execution_count": 13,
   "id": "7be4ad85",
   "metadata": {},
   "outputs": [
    {
     "data": {
      "text/plain": [
       "({'start': None, 'A': 'start', 'B': 'A', 'C': 'B', 'end': 'B'},\n",
       " {'start': 0, 'A': 10, 'B': 30, 'C': 31, 'end': 60})"
      ]
     },
     "execution_count": 13,
     "metadata": {},
     "output_type": "execute_result"
    }
   ],
   "source": [
    "gr = {'start': {'A': 10},\n",
    "      'A': {'B': 20},\n",
    "      'B': {'end': 30, 'C': 1},\n",
    "      'C': {'A': 1},\n",
    "      'end': {}}\n",
    "\n",
    "dijkstra(gr, 'start')"
   ]
  },
  {
   "cell_type": "code",
   "execution_count": null,
   "id": "cc5f978b",
   "metadata": {},
   "outputs": [],
   "source": []
  }
 ],
 "metadata": {
  "kernelspec": {
   "display_name": "Python 3 (ipykernel)",
   "language": "python",
   "name": "python3"
  },
  "language_info": {
   "codemirror_mode": {
    "name": "ipython",
    "version": 3
   },
   "file_extension": ".py",
   "mimetype": "text/x-python",
   "name": "python",
   "nbconvert_exporter": "python",
   "pygments_lexer": "ipython3",
   "version": "3.9.12"
  }
 },
 "nbformat": 4,
 "nbformat_minor": 5
}
