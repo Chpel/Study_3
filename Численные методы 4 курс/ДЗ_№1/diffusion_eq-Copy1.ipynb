{
 "cells": [
  {
   "cell_type": "markdown",
   "metadata": {},
   "source": [
    "Before you turn this problem in, make sure everything runs as expected. First, **restart the kernel** (in the menubar, select Kernel$\\rightarrow$Restart) and then **run all cells** (in the menubar, select Cell$\\rightarrow$Run All).\n",
    "\n",
    "Make sure you fill in any place that says `YOUR CODE HERE` or \"YOUR ANSWER HERE\", as well as your name and collaborators below:"
   ]
  },
  {
   "cell_type": "code",
   "execution_count": 1,
   "metadata": {},
   "outputs": [],
   "source": [
    "NAME = \"Pchelintsev Ilya\"\n",
    "COLLABORATORS = \"BPM192\""
   ]
  },
  {
   "cell_type": "markdown",
   "metadata": {},
   "source": [
    "---"
   ]
  },
  {
   "cell_type": "code",
   "execution_count": 2,
   "metadata": {
    "deletable": false,
    "editable": false,
    "nbgrader": {
     "cell_type": "code",
     "checksum": "e40b01cc4ffd9207675ad3603b9e6a01",
     "grade": false,
     "grade_id": "cell-1f3c409b83417207",
     "locked": true,
     "schema_version": 3,
     "solution": false,
     "task": false
    }
   },
   "outputs": [],
   "source": [
    "import numpy as np"
   ]
  },
  {
   "cell_type": "code",
   "execution_count": 3,
   "metadata": {},
   "outputs": [],
   "source": [
    "import matplotlib.pyplot as plt"
   ]
  },
  {
   "cell_type": "markdown",
   "metadata": {
    "deletable": false,
    "editable": false,
    "nbgrader": {
     "cell_type": "markdown",
     "checksum": "4f11f0c38a6d29d51b01539b8be09f48",
     "grade": false,
     "grade_id": "cell-eb438faed9707cd4",
     "locked": true,
     "schema_version": 3,
     "solution": false,
     "task": false
    }
   },
   "source": [
    "# Уравнение теплопроводности"
   ]
  },
  {
   "cell_type": "markdown",
   "metadata": {
    "deletable": false,
    "editable": false,
    "nbgrader": {
     "cell_type": "markdown",
     "checksum": "9615aa9e127c7c7e7f20703438b3cbdf",
     "grade": false,
     "grade_id": "cell-599ee3f9a235ac60",
     "locked": true,
     "schema_version": 3,
     "solution": false,
     "task": false
    }
   },
   "source": [
    "Начально-краевая задача для уравнения теплопроводности с постоянным коэффициентом в общем виде можно записать следующим образом:\n",
    "$$\n",
    "\\begin{array}{l}\n",
    "\\dfrac{\\partial u}{\\partial t} = \\alpha \\dfrac{\\partial^2 u}{\\partial x^2} + f(x, t), \\; t > 0, \\; x \\in (0, l_x), \\\\\n",
    "\\left. u \\right|_{t=0} = u_0(x), \\\\\n",
    "\\left. u \\right|_{x=0} = \\mu_1(t), \\\\\n",
    "\\left. u \\right|_{x=l_x} = \\mu_2(t),\n",
    "\\end{array}$$\n",
    "где $u(x, t)$ - функция температуры, $\\alpha = const$ - коэффициент теплопроводности, $f(x, t)$ - функция источника. "
   ]
  },
  {
   "cell_type": "markdown",
   "metadata": {
    "deletable": false,
    "editable": false,
    "nbgrader": {
     "cell_type": "markdown",
     "checksum": "94a75ca8d7a3d8ad9d8a605fb2bd9eb9",
     "grade": false,
     "grade_id": "cell-5b3341c907f81351",
     "locked": true,
     "schema_version": 3,
     "solution": false,
     "task": false
    }
   },
   "source": [
    "## Явная схема"
   ]
  },
  {
   "cell_type": "markdown",
   "metadata": {
    "deletable": false,
    "editable": false,
    "nbgrader": {
     "cell_type": "markdown",
     "checksum": "cfae8c6cdd59b127da7c4dc337659719",
     "grade": false,
     "grade_id": "cell-c41e33ca4836e2d3",
     "locked": true,
     "schema_version": 3,
     "solution": false,
     "task": false
    }
   },
   "source": [
    "Запишем разностное уравнение явной схемы:\n",
    "$$\\dfrac{y_i^{k+1} - y_i^{k}}{\\tau} = \\alpha \\dfrac{y_{i+1}^{k} - 2 y_i^{k} + y_{i-1}^{k}}{h^2} + f_i^k,$$\n",
    "где $\\tau$ и $h$ - шаги по времени и пространству, $y_i^k$ - значение приближённого решения в точке $(i, k)$ сетки, $y_i^k$ - значение функции источника в той же точке сетки. "
   ]
  },
  {
   "cell_type": "markdown",
   "metadata": {
    "deletable": false,
    "editable": false,
    "nbgrader": {
     "cell_type": "markdown",
     "checksum": "55448bbf176c3205d497338340fb2e5b",
     "grade": false,
     "grade_id": "cell-9e9ed34da8999766",
     "locked": true,
     "schema_version": 3,
     "solution": false,
     "task": false
    }
   },
   "source": [
    "Аппроксимируем начальное и граничные условия:\n",
    "$$\n",
    "\\begin{array}{l}\n",
    "y_i^0 = u_0(x_i), \\; \\forall i = \\overline{0, N},\\\\\n",
    "y_0^k = \\mu_1(t_k), \\\\\n",
    "y_N^k = \\mu_2(t_k), \\; \\forall k > 0.\n",
    "\\end{array}$$"
   ]
  },
  {
   "cell_type": "markdown",
   "metadata": {
    "deletable": false,
    "editable": false,
    "nbgrader": {
     "cell_type": "markdown",
     "checksum": "70a3705b7bd57afbdc915479951e654e",
     "grade": false,
     "grade_id": "cell-cd0738c4dd71dd54",
     "locked": true,
     "schema_version": 3,
     "solution": false,
     "task": false
    }
   },
   "source": [
    "Запрограммируйте явную разностную схему решения начально-краевой задачи для однородного уравнения теплопроводности. Обратите внимание, что \n",
    "$$\\exists \\lim\\limits_{t \\rightarrow \\infty} u(x, t) = u_\\infty (x).$$\n",
    "поэтому расчёт в какой-то момент следует остановить (считать до установления).\n",
    "\n",
    "Во время проведения расчетов помните о том, что явная схема *условно* устойчива."
   ]
  },
  {
   "cell_type": "code",
   "execution_count": 4,
   "metadata": {
    "deletable": false,
    "nbgrader": {
     "cell_type": "code",
     "checksum": "bec85710cbeb5bb768f1dbc7b9b8bec8",
     "grade": false,
     "grade_id": "cell-a8cff91eb9385405",
     "locked": false,
     "schema_version": 3,
     "solution": true,
     "task": false
    }
   },
   "outputs": [],
   "source": [
    "def heat_expl(init, bound1, bound2, alpha, lx, h, tau, tol=1e-3):\n",
    "    \"\"\" Solve the heat equation `u_t = a*u_xx` for x in (0; lx) with an explicit scheme.\n",
    "    \n",
    "    Parameters\n",
    "    ----------\n",
    "    init : callable\n",
    "       Initial condition\n",
    "    bound1 : callable\n",
    "       Boundary condition for x = 0\n",
    "    bound1 : callable\n",
    "       Boundary condition for x = lx\n",
    "    alpha : float\n",
    "       Thermal diffusivity\n",
    "    h : float\n",
    "       Spatial step\n",
    "    tau : float\n",
    "       Time step\n",
    "    tol : float, optional\n",
    "       Target tolerance.\n",
    "       Stop iterations when the 2-norm of the difference between \n",
    "       solution on this time step and the next is less the tol.\n",
    "       \n",
    "    Returns\n",
    "    -------\n",
    "    t_end : float\n",
    "       End time of calculation\n",
    "    u_end : ndarray, shape (N,)\n",
    "       Limit u_∞(x) (See above)\n",
    "    \"\"\"\n",
    "    \n",
    "    # YOUR CODE HERE\n",
    "    w_x = np.arange(0, lx+h, h)[:int(lx/h)+1]\n",
    "    t_0 = 0.\n",
    "    \n",
    "    t_end = t_0 + tau\n",
    "    u_0 = np.array([init(x) for x in w_x], dtype=np.float64)\n",
    "    u_end = np.zeros(u_0.shape)\n",
    "    \n",
    "    u_end[0] = bound1(t_end)\n",
    "    u_end[-1] = bound2(t_end)\n",
    "    for i in range(1, len(u_end)-1):\n",
    "        u_end[i] = u_0[i] + tau * alpha / (h ** 2) * (u_0[i+1] - 2 * u_0[i] + u_0[i-1])\n",
    "    \n",
    "    while np.linalg.norm(u_end - u_0) >= tol:\n",
    "        u_0 = u_end.copy()\n",
    "        t_end += tau\n",
    "        u_end[0] = bound1(t_end)\n",
    "        u_end[-1] = bound2(t_end)\n",
    "        for i in range(1, len(u_end)-1):\n",
    "            u_end[i] = u_0[i] + tau * alpha / (h ** 2) * (u_0[i+1] - 2 * u_0[i] + u_0[i-1])\n",
    "    \n",
    "    \n",
    "    \n",
    "    return t_end, u_end"
   ]
  },
  {
   "cell_type": "markdown",
   "metadata": {
    "deletable": false,
    "editable": false,
    "nbgrader": {
     "cell_type": "markdown",
     "checksum": "161e6cfc6c31256b81150e6aa10e5557",
     "grade": false,
     "grade_id": "cell-6e6f806519c00523",
     "locked": true,
     "schema_version": 3,
     "solution": false,
     "task": false
    }
   },
   "source": [
    "Протестируйте Вашу функцию."
   ]
  },
  {
   "cell_type": "code",
   "execution_count": 5,
   "metadata": {
    "deletable": false,
    "editable": false,
    "nbgrader": {
     "cell_type": "code",
     "checksum": "431e49578ffa8c8b179843350e9f253d",
     "grade": true,
     "grade_id": "cell-8e9200a6957eee67",
     "locked": true,
     "points": 10,
     "schema_version": 3,
     "solution": false,
     "task": false
    }
   },
   "outputs": [],
   "source": [
    "from numpy.testing import assert_allclose\n",
    "\n",
    "t_0, u_0 = heat_expl(lambda x: 0., lambda x: 1., lambda x: 1., \n",
    "                     alpha=1., lx=1., h=0.1, tau=0.005) \n",
    "assert_allclose(u_0, np.ones(11), atol=1e-2)\n",
    "\n",
    "t_1, u_1 = heat_expl(lambda x: np.sin(4.*x), lambda x: 0., lambda x: 0., \n",
    "                     alpha=1., lx=np.pi, h=0.1, tau=0.005) \n",
    "assert_allclose(u_1, np.zeros(32), atol=1e-2)\n"
   ]
  },
  {
   "cell_type": "markdown",
   "metadata": {
    "deletable": false,
    "editable": false,
    "nbgrader": {
     "cell_type": "markdown",
     "checksum": "5bd485d2ea76944454b02cfed02849b7",
     "grade": false,
     "grade_id": "cell-64305ddcd2371d49",
     "locked": true,
     "points": 0,
     "schema_version": 3,
     "solution": false,
     "task": true
    }
   },
   "source": [
    "Определите порядки точности схемы (по пространству и времени) на тестовой задаче. Для этого для каждой переменной ($t$ или $x$):\n",
    "\n",
    "1. Сделайте несколько расчётов для разных значений шага (например, $h_0, \\; 2 h_0, \\; 4 h_0$).\n",
    "2. В один и тот же момент времени $t_1$ найдите ошибку полученных решений. Для этого либо возьмите аналитическое решение задачи, либо сравните результат в конечный момент времени, например, с решением в момент времени $0.99 t_1$. Обратите внимание, что имеющуюся функцию `heat_expl` надо немного модифицировать.\n",
    "3. Найдите отношения этих ошибок. Сопоставьте полученные величины с порядком аппроксимации схемы по данной переменной."
   ]
  },
  {
   "cell_type": "code",
   "execution_count": 6,
   "metadata": {
    "deletable": false,
    "nbgrader": {
     "cell_type": "code",
     "checksum": "21d545230c2f40b2511e2f189c8510e4",
     "grade": true,
     "grade_id": "cell-b2f692271d252c77",
     "locked": false,
     "points": 10,
     "schema_version": 3,
     "solution": true,
     "task": false
    }
   },
   "outputs": [],
   "source": [
    "def heat_expl_history(init, bound1, bound2, alpha, lx, h, tau, tol=1e-3):\n",
    "    w_x = np.arange(0, lx+h, h)[:int(lx/h)+1]\n",
    "    t_0 = 0.\n",
    "    \n",
    "    ts = []\n",
    "    errs = []\n",
    "    \n",
    "    t_end = t_0 + tau\n",
    "    u_0 = np.array([init(x) for x in w_x], dtype=np.float64)\n",
    "    u_end = np.zeros(u_0.shape)\n",
    "    \n",
    "    u_end[0] = bound1(t_end)\n",
    "    u_end[-1] = bound2(t_end)\n",
    "    for i in range(1, len(u_end)-1):\n",
    "        u_end[i] = u_0[i] + tau * alpha / (h ** 2) * (u_0[i+1] - 2 * u_0[i] + u_0[i-1])\n",
    "        \n",
    "    while np.linalg.norm(u_end - u_0) >= tol:\n",
    "        ts.append(t_end)\n",
    "        errs.append(np.linalg.norm(u_end - u_0))\n",
    "        u_0 = u_end.copy()\n",
    "        t_end += tau\n",
    "        u_end[0] = bound1(t_end)\n",
    "        u_end[-1] = bound2(t_end)\n",
    "        for i in range(1, len(u_end)-1):\n",
    "            u_end[i] = u_0[i] + tau * alpha / (h ** 2) * (u_0[i+1] - 2 * u_0[i] + u_0[i-1])\n",
    "    \n",
    "    return t_end, u_end, ts, errs"
   ]
  },
  {
   "cell_type": "code",
   "execution_count": 21,
   "metadata": {},
   "outputs": [
    {
     "data": {
      "image/png": "[encoded data removed]",
      "text/plain": [
       "<Figure size 864x720 with 1 Axes>"
      ]
     },
     "metadata": {
      "needs_background": "light"
     },
     "output_type": "display_data"
    }
   ],
   "source": [
    "hs = [0.05, 0.1, 0.2, 0.4]\n",
    "plt.figure(figsize=(12,10))\n",
    "for h0 in hs:\n",
    "    t_1, u_1, ts1, errs1 = heat_expl_history(lambda x: np.sin(4.*x), lambda x: 0., lambda x: 0., \n",
    "                     alpha=1., lx=np.pi, h=h0, tau=0.0005) \n",
    "    plt.plot(ts1, errs1, label=f'h={h0}')\n",
    "    plt.axvline(ts1[-1])\n",
    "plt.legend()\n",
    "plt.ylim(-0.05, 0.1)\n",
    "plt.savefig('expl_t1.png')"
   ]
  },
  {
   "cell_type": "markdown",
   "metadata": {},
   "source": [
    "подходит t1 = 0.15"
   ]
  },
  {
   "cell_type": "code",
   "execution_count": 9,
   "metadata": {},
   "outputs": [],
   "source": [
    "def heat_expl_t1_err(init, bound1, bound2, alpha, lx, h, tau, t1, real_u, tol=1e-3):\n",
    "    w_x = np.arange(0, lx+h, h)[:int(lx/h)+1]\n",
    "    t_0 = 0.\n",
    "    not_made=True\n",
    "    t1_err=0.\n",
    "    t_end = t_0 + tau\n",
    "    u_0 = np.array([init(x) for x in w_x], dtype=np.float64)\n",
    "    u_end = np.zeros(u_0.shape)\n",
    "    \n",
    "    u_end[0] = bound1(t_end)\n",
    "    u_end[-1] = bound2(t_end)\n",
    "    for i in range(1, len(u_end)-1):\n",
    "        u_end[i] = u_0[i] + tau * alpha / (h ** 2) * (u_0[i+1] - 2 * u_0[i] + u_0[i-1])\n",
    "        \n",
    "    \n",
    "    while np.linalg.norm(u_end - u_0) >= tol:\n",
    "        u_0 = u_end.copy()\n",
    "        t_end += tau\n",
    "        u_end[0] = bound1(t_end)\n",
    "        u_end[-1] = bound2(t_end)\n",
    "        for i in range(1, len(u_end)-1):\n",
    "            u_end[i] = u_0[i] + tau * alpha / (h ** 2) * (u_0[i+1] - 2 * u_0[i] + u_0[i-1])\n",
    "        \n",
    "        if t_end > t1 and not_made:\n",
    "            u_t1 = u_end.copy()\n",
    "            u_real = real_u(w_x, t_end)\n",
    "            t1_err = np.linalg.norm(u_t1 - u_real) / (int(lx/h)+1)\n",
    "            not_made = False\n",
    "            \n",
    "    \n",
    "    return t_end, u_end, t1_err\n",
    "\n",
    "def heat_analytic_1():\n",
    "    pass\n",
    "\n",
    "def heat_analytic_2(x, t):\n",
    "    return np.sin(4*x) * np.exp(-16 * t)\n",
    "# https://ru.wikipedia.org/wiki/%D0%A3%D1%80%D0%B0%D0%B2%D0%BD%D0%B5%D0%BD%D0%B8%D0%B5_%D1%82%D0%B5%D0%BF%D0%BB%D0%BE%D0%BF%D1%80%D0%BE%D0%B2%D0%BE%D0%B4%D0%BD%D0%BE%D1%81%D1%82%D0%B8"
   ]
  },
  {
   "cell_type": "code",
   "execution_count": 10,
   "metadata": {},
   "outputs": [
    {
     "name": "stdout",
     "output_type": "stream",
     "text": [
      "h=0.05: err=0.0013514809420432546\n",
      "h=0.1: err=0.0018249990882053255\n",
      "h=0.2: err=0.008702518877112708\n",
      "h=0.4: err=0.02864961517653961\n"
     ]
    },
    {
     "data": {
      "image/png": "[encoded data removed]",
      "text/plain": [
       "<Figure size 864x720 with 1 Axes>"
      ]
     },
     "metadata": {
      "needs_background": "light"
     },
     "output_type": "display_data"
    }
   ],
   "source": [
    "hs = np.array([0.05, 0.1, 0.2, 0.4])\n",
    "t1 = 0.15\n",
    "errs = []\n",
    "plt.figure(figsize=(12,10))\n",
    "for h0 in hs:\n",
    "    t_1, u_1, err = heat_expl_t1_err(lambda x: np.sin(4.*x), lambda x: 0., lambda x: 0., \n",
    "                     alpha=1., lx=np.pi, h=h0, tau=0.0005, t1=t1, real_u=heat_analytic_2) \n",
    "    errs.append(err)\n",
    "plt.plot(hs, errs, 'o--')\n",
    "for i in range(len(hs)):\n",
    "    print(f'h={hs[i]}: err={errs[i]}')\n",
    "plt.savefig('expl_err.png')"
   ]
  },
  {
   "cell_type": "markdown",
   "metadata": {},
   "source": [
    "## Неявная схема "
   ]
  },
  {
   "cell_type": "markdown",
   "metadata": {
    "deletable": false,
    "editable": false,
    "nbgrader": {
     "cell_type": "markdown",
     "checksum": "bd301d8a40d38b24024f1ace73691c65",
     "grade": false,
     "grade_id": "cell-1e7f779d58e95cd8",
     "locked": true,
     "schema_version": 3,
     "solution": false,
     "task": false
    }
   },
   "source": [
    "Запишем разностное уравнение неявной схемы:\n",
    "$$\\dfrac{y_i^{k+1} - y_i^{k}}{\\tau} = \\alpha \\dfrac{y_{i+1}^{k+1} - 2 y_i^{k+1} + y_{i-1}^{k+1}}{h^2} + f_i^{k+1}.$$\n",
    "\n",
    "Аппроксимировать начальное и граничные условия будем так же, как в случае явной схемы."
   ]
  },
  {
   "cell_type": "markdown",
   "metadata": {
    "deletable": false,
    "editable": false,
    "nbgrader": {
     "cell_type": "markdown",
     "checksum": "0776e244056e2f5ffc45874062d692d5",
     "grade": false,
     "grade_id": "cell-212525deebf0e803",
     "locked": true,
     "schema_version": 3,
     "solution": false,
     "task": false
    }
   },
   "source": [
    "Запрограммируйте явную разностную схему решения начально-краевой задачи для однородного уравнения теплопроводности. Для решения системы линейных уравнений используйте встроенные функции `scipy`."
   ]
  },
  {
   "cell_type": "code",
   "execution_count": 11,
   "metadata": {
    "deletable": false,
    "nbgrader": {
     "cell_type": "code",
     "checksum": "0e389e9d740d5196c0a6f5a8e2c9118f",
     "grade": false,
     "grade_id": "cell-748ac47f86cabee5",
     "locked": false,
     "schema_version": 3,
     "solution": true,
     "task": false
    }
   },
   "outputs": [],
   "source": [
    "from scipy.linalg import solve_banded\n",
    "\n",
    "def heat_impl(init, bound1, bound2, alpha, lx, h, tau, tol=1e-3):\n",
    "    \"\"\" Solve heat equation u_t = a*u_xx for x in (0; lx) with implicit scheme\n",
    "    \n",
    "    Parameters\n",
    "    ----------\n",
    "    init : callable\n",
    "       Initial condition\n",
    "    bound1 : callable\n",
    "       Boundary condition for x = 0\n",
    "    bound1 : callable\n",
    "       Boundary condition for x = lx\n",
    "    alpha : float, optional\n",
    "       Thermal diffusivity\n",
    "    h : float\n",
    "       Spatial step\n",
    "    tau : float\n",
    "       Time step\n",
    "    tol : float, optional\n",
    "       Target tolerance.\n",
    "       Stop iterations when the 2-norm of the difference between \n",
    "       solution on this time step and the next is less the tol.\n",
    "       \n",
    "    Returns\n",
    "    -------\n",
    "    t_end : float\n",
    "       End time of calculation\n",
    "    u_end : ndarray, shape (N,)\n",
    "       Limit u_∞(x) (See above)\n",
    "    \"\"\"\n",
    "    \n",
    "    w_x = np.arange(0, lx+h, h)[:int(lx/h)+1]\n",
    "    t_0 = 0.\n",
    "    t_end = t_0 + tau\n",
    "    u_0 = np.array([init(x) for x in w_x], dtype=np.float64)\n",
    "    N = u_0.shape[0]\n",
    "    \n",
    "    A = np.zeros((N-2,N-2), dtype=np.float64)\n",
    "    b = np.zeros(N-2, dtype=np.float64)\n",
    "    u_end = np.zeros(N, dtype=np.float64)\n",
    "    u_end[0] = bound1(t_end)\n",
    "    u_end[-1] = bound2(t_end)\n",
    "    \n",
    "    A[0][:2] = (2 * alpha * tau / np.power(h, 2) + 1), -(alpha * tau / np.power(h, 2))\n",
    "    b[0] = u_0[1] + (alpha * tau / np.power(h, 2)) * u_end[0]\n",
    "    for i in range(1,N-3):\n",
    "        A[i][i-1], A[i][i], A[i][i+1] = -(alpha * tau / np.power(h, 2)), (2 * alpha * tau / np.power(h, 2) + 1), -(alpha * tau / np.power(h, 2))\n",
    "        b[i] = u_0[i+1]\n",
    "    A[-1][-2:] = -(alpha * tau / np.power(h, 2)), (2 * alpha * tau / np.power(h, 2) + 1)\n",
    "    b[-1] = u_0[-2] + (alpha * tau / np.power(h, 2)) * u_end[-1]\n",
    "    ab = np.zeros((3, A.shape[0]))\n",
    "    ab[0,1:] = np.diag(A,k=1)\n",
    "    ab[1] = np.diag(A)\n",
    "    ab[2,:-1] = np.diag(A, k=-1)\n",
    "    u_end[1:-1] = solve_banded((1,1),ab,b) \n",
    "    while np.linalg.norm(u_end - u_0) >= tol:\n",
    "        u_0 = u_end.copy()\n",
    "        t_end += tau\n",
    "        \n",
    "        u_end = np.zeros(N, dtype=np.float64)\n",
    "        u_end[0] = bound1(t_end)\n",
    "        u_end[-1] = bound2(t_end)\n",
    "        \n",
    "        b[0] = u_0[1] + (alpha * tau / np.power(h, 2)) * u_end[0]\n",
    "        for i in range(1,N-3):\n",
    "            b[i] = u_0[i+1]\n",
    "        b[-1] = u_0[-2] + (alpha * tau / np.power(h, 2)) * u_end[-1]\n",
    "        \n",
    "        u_end[1:-1] = solve_banded((1,1),ab,b)   \n",
    "        \n",
    "    u_0 = u_end.copy()\n",
    "    t_end += tau\n",
    "    u_end = np.zeros(N, dtype=np.float64)\n",
    "    u_end[0] = bound1(t_end)\n",
    "    u_end[-1] = bound2(t_end)\n",
    "    b[0] = u_0[1] + (alpha * tau / np.power(h, 2)) * u_end[0]\n",
    "    for i in range(1,N-3):\n",
    "        b[i] = u_0[i+1]\n",
    "    b[-1] = u_0[-2] + (alpha * tau / np.power(h, 2)) * u_end[-1]\n",
    "    u_end[1:-1] = solve_banded((1,1),ab,b) \n",
    "    \n",
    "    return t_end, u_end"
   ]
  },
  {
   "cell_type": "markdown",
   "metadata": {
    "deletable": false,
    "editable": false,
    "nbgrader": {
     "cell_type": "markdown",
     "checksum": "9e6f300ac1aa0b9646c4ebf3a4cc0e76",
     "grade": false,
     "grade_id": "cell-8e4565c92424287b",
     "locked": true,
     "schema_version": 3,
     "solution": false,
     "task": false
    }
   },
   "source": [
    "Протестируйте Вашу функцию."
   ]
  },
  {
   "cell_type": "code",
   "execution_count": 12,
   "metadata": {
    "deletable": false,
    "editable": false,
    "nbgrader": {
     "cell_type": "code",
     "checksum": "18efc0a341cc626738a8bc0dce1baede",
     "grade": true,
     "grade_id": "cell-63d041371de8d78d",
     "locked": true,
     "points": 10,
     "schema_version": 3,
     "solution": false,
     "task": false
    }
   },
   "outputs": [],
   "source": [
    "from numpy.testing import assert_allclose\n",
    "\n",
    "t_0, u_0 = heat_impl(lambda x: 0., lambda x: 1., lambda x: 1., \n",
    "                     alpha=1., lx=1., h=0.1, tau=0.005) \n",
    "assert_allclose(u_0, np.ones(11), atol=1e-2)\n",
    "\n",
    "t_1, u_1 = heat_impl(lambda x: np.sin(4.*x), lambda x: 0., lambda x: 0., \n",
    "                     alpha=1., lx=np.pi, h=0.1, tau=0.005) \n",
    "assert_allclose(u_1, np.zeros(32), atol=1e-2)\n"
   ]
  },
  {
   "cell_type": "markdown",
   "metadata": {},
   "source": [
    "Определите порядки точности схемы (по пространству и времени) на тестовой задаче. (см. выше)"
   ]
  },
  {
   "cell_type": "code",
   "execution_count": 13,
   "metadata": {
    "deletable": false,
    "nbgrader": {
     "cell_type": "code",
     "checksum": "7e9fa6a6c9e040e93fe2f40f9dbae887",
     "grade": true,
     "grade_id": "cell-5b009aaeabaa68e7",
     "locked": false,
     "points": 10,
     "schema_version": 3,
     "solution": true,
     "task": false
    }
   },
   "outputs": [],
   "source": [
    "def heat_impl_history(init, bound1, bound2, alpha, lx, h, tau, tol=1e-3):        \n",
    "    w_x = np.arange(0, lx+h, h)[:int(lx/h)+1]\n",
    "    t_0 = 0.\n",
    "    ts=[]\n",
    "    errs=[]\n",
    "    t_end = t_0 + tau\n",
    "    u_0 = np.array([init(x) for x in w_x], dtype=np.float64)\n",
    "    N = u_0.shape[0]\n",
    "    \n",
    "    A = np.zeros((N-2,N-2), dtype=np.float64)\n",
    "    b = np.zeros(N-2, dtype=np.float64)\n",
    "    u_end = np.zeros(N, dtype=np.float64)\n",
    "    u_end[0] = bound1(t_end)\n",
    "    u_end[-1] = bound2(t_end)\n",
    "    \n",
    "    A[0][:2] = (2 * alpha * tau / np.power(h, 2) + 1), -(alpha * tau / np.power(h, 2))\n",
    "    b[0] = u_0[1] + (alpha * tau / np.power(h, 2)) * u_end[0]\n",
    "    for i in range(1,N-3):\n",
    "        A[i][i-1], A[i][i], A[i][i+1] = -(alpha * tau / np.power(h, 2)), (2 * alpha * tau / np.power(h, 2) + 1), -(alpha * tau / np.power(h, 2))\n",
    "        b[i] = u_0[i+1]\n",
    "    A[-1][-2:] = -(alpha * tau / np.power(h, 2)), (2 * alpha * tau / np.power(h, 2) + 1)\n",
    "    b[-1] = u_0[-2] + (alpha * tau / np.power(h, 2)) * u_end[-1]\n",
    "    ab = np.zeros((3, A.shape[0]))\n",
    "    ab[0,1:] = np.diag(A,k=1)\n",
    "    ab[1] = np.diag(A)\n",
    "    ab[2,:-1] = np.diag(A, k=-1)\n",
    "    u_end[1:-1] = solve_banded((1,1),ab,b) \n",
    "    \n",
    "    while np.linalg.norm(u_end - u_0) >= tol:\n",
    "        ts.append(t_end)\n",
    "        errs.append(np.linalg.norm(u_end - u_0))\n",
    "        u_0 = u_end.copy()\n",
    "        t_end += tau\n",
    "        \n",
    "        u_end = np.zeros(N, dtype=np.float64)\n",
    "        u_end[0] = bound1(t_end)\n",
    "        u_end[-1] = bound2(t_end)\n",
    "        \n",
    "        b[0] = u_0[1] + (alpha * tau / np.power(h, 2)) * u_end[0]\n",
    "        for i in range(1,N-3):\n",
    "            b[i] = u_0[i+1]\n",
    "        b[-1] = u_0[-2] + (alpha * tau / np.power(h, 2)) * u_end[-1]\n",
    "        \n",
    "        u_end[1:-1] = solve_banded((1,1),ab,b)   \n",
    "        \n",
    "    u_0 = u_end.copy()\n",
    "    t_end += tau\n",
    "    u_end = np.zeros(N, dtype=np.float64)\n",
    "    u_end[0] = bound1(t_end)\n",
    "    u_end[-1] = bound2(t_end)\n",
    "    b[0] = u_0[1] + (alpha * tau / np.power(h, 2)) * u_end[0]\n",
    "    for i in range(1,N-3):\n",
    "        b[i] = u_0[i+1]\n",
    "    b[-1] = u_0[-2] + (alpha * tau / np.power(h, 2)) * u_end[-1]\n",
    "    u_end[1:-1] = solve_banded((1,1),ab,b) \n",
    "    \n",
    "    return t_end, u_end, ts, errs"
   ]
  },
  {
   "cell_type": "code",
   "execution_count": 14,
   "metadata": {},
   "outputs": [
    {
     "data": {
      "image/png": "[encoded data removed]",
      "text/plain": [
       "<Figure size 864x720 with 1 Axes>"
      ]
     },
     "metadata": {
      "needs_background": "light"
     },
     "output_type": "display_data"
    }
   ],
   "source": [
    "hs = [0.05, 0.1, 0.2, 0.4]\n",
    "plt.figure(figsize=(12,10))\n",
    "for h0 in hs:\n",
    "    t_1, u_1, ts1, errs1 = heat_impl_history(lambda x: np.sin(4.*x), lambda x: 0., lambda x: 0., \n",
    "                     alpha=1., lx=np.pi, h=h0, tau=0.0005) \n",
    "    plt.plot(ts1, errs1, label=f'h={h0}')\n",
    "    plt.axvline(ts1[-1])\n",
    "plt.legend()\n",
    "plt.savefig('impl_t1.png')"
   ]
  },
  {
   "cell_type": "markdown",
   "metadata": {},
   "source": [
    "Подходит t1=0.15"
   ]
  },
  {
   "cell_type": "code",
   "execution_count": 15,
   "metadata": {},
   "outputs": [],
   "source": [
    "def heat_impl_t1_err(init, bound1, bound2, alpha, lx, h, tau, t1, real_u, tol=1e-3):\n",
    "    w_x = np.arange(0, lx+h, h)[:int(lx/h)+1]\n",
    "    t_0 = 0.\n",
    "    t1_err = 0.\n",
    "    not_made=True\n",
    "    t_end = t_0 + tau\n",
    "    u_0 = np.array([init(x) for x in w_x], dtype=np.float64)\n",
    "    N = u_0.shape[0]\n",
    "    \n",
    "    A = np.zeros((N-2,N-2), dtype=np.float64)\n",
    "    b = np.zeros(N-2, dtype=np.float64)\n",
    "    u_end = np.zeros(N, dtype=np.float64)\n",
    "    u_end[0] = bound1(t_end)\n",
    "    u_end[-1] = bound2(t_end)\n",
    "    \n",
    "    A[0][:2] = (2 * alpha * tau / np.power(h, 2) + 1), -(alpha * tau / np.power(h, 2))\n",
    "    b[0] = u_0[1] + (alpha * tau / np.power(h, 2)) * u_end[0]\n",
    "    for i in range(1,N-3):\n",
    "        A[i][i-1], A[i][i], A[i][i+1] = -(alpha * tau / np.power(h, 2)), (2 * alpha * tau / np.power(h, 2) + 1), -(alpha * tau / np.power(h, 2))\n",
    "        b[i] = u_0[i+1]\n",
    "    A[-1][-2:] = -(alpha * tau / np.power(h, 2)), (2 * alpha * tau / np.power(h, 2) + 1)\n",
    "    b[-1] = u_0[-2] + (alpha * tau / np.power(h, 2)) * u_end[-1]\n",
    "    ab = np.zeros((3, A.shape[0]))\n",
    "    ab[0,1:] = np.diag(A,k=1)\n",
    "    ab[1] = np.diag(A)\n",
    "    ab[2,:-1] = np.diag(A, k=-1)\n",
    "    u_end[1:-1] = solve_banded((1,1),ab,b) \n",
    "    \n",
    "    while np.linalg.norm(u_end - u_0) >= tol:\n",
    "        u_0 = u_end.copy()\n",
    "        t_end += tau\n",
    "        \n",
    "        u_end = np.zeros(N, dtype=np.float64)\n",
    "        u_end[0] = bound1(t_end)\n",
    "        u_end[-1] = bound2(t_end)\n",
    "        \n",
    "        b[0] = u_0[1] + (alpha * tau / np.power(h, 2)) * u_end[0]\n",
    "        for i in range(1,N-3):\n",
    "            b[i] = u_0[i+1]\n",
    "        b[-1] = u_0[-2] + (alpha * tau / np.power(h, 2)) * u_end[-1]\n",
    "        \n",
    "        u_end[1:-1] = solve_banded((1,1),ab,b)   \n",
    "        \n",
    "        if t_end > t1 and not_made:\n",
    "            u_t1 = u_end.copy()\n",
    "            u_real = real_u(w_x, t_end)\n",
    "            t1_err = np.linalg.norm(u_t1 - u_real) / (int(lx/h)+1)\n",
    "            not_made = False\n",
    "        \n",
    "    u_0 = u_end.copy()\n",
    "    t_end += tau\n",
    "    u_end = np.zeros(N, dtype=np.float64)\n",
    "    u_end[0] = bound1(t_end)\n",
    "    u_end[-1] = bound2(t_end)\n",
    "    b[0] = u_0[1] + (alpha * tau / np.power(h, 2)) * u_end[0]\n",
    "    for i in range(1,N-3):\n",
    "        b[i] = u_0[i+1]\n",
    "    b[-1] = u_0[-2] + (alpha * tau / np.power(h, 2)) * u_end[-1]\n",
    "    u_end[1:-1] = solve_banded((1,1),ab,b) \n",
    "    \n",
    "    return t_end, u_end, t1_err\n",
    "\n",
    "def heat_analytic_1():\n",
    "    pass\n",
    "\n",
    "def heat_analytic_2(x, t):\n",
    "    return np.sin(4*x) * np.exp(-16 * t)"
   ]
  },
  {
   "cell_type": "code",
   "execution_count": 16,
   "metadata": {},
   "outputs": [
    {
     "name": "stdout",
     "output_type": "stream",
     "text": [
      "h=0.0125: err=6.343227525685949e-05\n",
      "h=0.025: err=0.00036215391996912403\n",
      "h=0.05: err=0.0013103705070489666\n",
      "h=0.1: err=0.0017977086477119382\n",
      "h=0.2: err=0.008733215270347788\n",
      "h=0.4: err=0.028911274971574284\n"
     ]
    },
    {
     "data": {
      "image/png": "[encoded data removed]",
      "text/plain": [
       "<Figure size 864x720 with 1 Axes>"
      ]
     },
     "metadata": {
      "needs_background": "light"
     },
     "output_type": "display_data"
    }
   ],
   "source": [
    "hs = np.array([0.0125, 0.025, 0.05, 0.1, 0.2, 0.4])\n",
    "t1 = 0.15\n",
    "errs = []\n",
    "plt.figure(figsize=(12,10))\n",
    "for h0 in hs:\n",
    "    t_1, u_1, err = heat_impl_t1_err(lambda x: np.sin(4.*x), lambda x: 0., lambda x: 0., \n",
    "                     alpha=1., lx=np.pi, h=h0, tau=0.0005, t1=t1, real_u=heat_analytic_2) \n",
    "    errs.append(err)\n",
    "plt.plot(hs, errs, 'o--')\n",
    "for i in range(len(hs)):\n",
    "    print(f'h={hs[i]}: err={errs[i]}')\n",
    "plt.savefig('impl_err.png')"
   ]
  },
  {
   "cell_type": "code",
   "execution_count": null,
   "metadata": {},
   "outputs": [],
   "source": []
  }
 ],
 "metadata": {
  "kernelspec": {
   "display_name": "Python 3 (ipykernel)",
   "language": "python",
   "name": "python3"
  },
  "language_info": {
   "codemirror_mode": {
    "name": "ipython",
    "version": 3
   },
   "file_extension": ".py",
   "mimetype": "text/x-python",
   "name": "python",
   "nbconvert_exporter": "python",
   "pygments_lexer": "ipython3",
   "version": "3.9.12"
  }
 },
 "nbformat": 4,
 "nbformat_minor": 2
}
