{
 "cells": [
  {
   "cell_type": "markdown",
   "metadata": {
    "id": "Qn5dbwwbRAze"
   },
   "source": [
    "Before you turn this problem in, make sure everything runs as expected. First, **restart the kernel** (in the menubar, select Kernel$\\rightarrow$Restart) and then **run all cells** (in the menubar, select Cell$\\rightarrow$Run All).\n",
    "\n",
    "Make sure you fill in any place that says `YOUR CODE HERE` or \"YOUR ANSWER HERE\", as well as your name and collaborators below:"
   ]
  },
  {
   "cell_type": "code",
   "execution_count": 1,
   "metadata": {
    "id": "0lkDFx9URAzg"
   },
   "outputs": [],
   "source": [
    "NAME = \"Daria Mazur\"\n",
    "COLLABORATORS = \"\""
   ]
  },
  {
   "cell_type": "markdown",
   "metadata": {
    "id": "-0AeFh8kRAzi"
   },
   "source": [
    "---"
   ]
  },
  {
   "cell_type": "code",
   "execution_count": 2,
   "metadata": {
    "deletable": false,
    "editable": false,
    "id": "zXTg5PpURAzi",
    "nbgrader": {
     "cell_type": "code",
     "checksum": "e40b01cc4ffd9207675ad3603b9e6a01",
     "grade": false,
     "grade_id": "cell-1f3c409b83417207",
     "locked": true,
     "schema_version": 3,
     "solution": false,
     "task": false
    }
   },
   "outputs": [],
   "source": [
    "import numpy as np"
   ]
  },
  {
   "cell_type": "markdown",
   "metadata": {
    "deletable": false,
    "editable": false,
    "id": "FWn0NQu1RAzj",
    "nbgrader": {
     "cell_type": "markdown",
     "checksum": "4f11f0c38a6d29d51b01539b8be09f48",
     "grade": false,
     "grade_id": "cell-eb438faed9707cd4",
     "locked": true,
     "schema_version": 3,
     "solution": false,
     "task": false
    }
   },
   "source": [
    "# Уравнение теплопроводности"
   ]
  },
  {
   "cell_type": "markdown",
   "metadata": {
    "deletable": false,
    "editable": false,
    "id": "Bko5XwbKRAzj",
    "nbgrader": {
     "cell_type": "markdown",
     "checksum": "9615aa9e127c7c7e7f20703438b3cbdf",
     "grade": false,
     "grade_id": "cell-599ee3f9a235ac60",
     "locked": true,
     "schema_version": 3,
     "solution": false,
     "task": false
    }
   },
   "source": [
    "Начально-краевая задача для уравнения теплопроводности с постоянным коэффициентом в общем виде можно записать следующим образом:\n",
    "$$\n",
    "\\begin{array}{l}\n",
    "\\dfrac{\\partial u}{\\partial t} = \\alpha \\dfrac{\\partial^2 u}{\\partial x^2} + f(x, t), \\; t > 0, \\; x \\in (0, l_x), \\\\\n",
    "\\left. u \\right|_{t=0} = u_0(x), \\\\\n",
    "\\left. u \\right|_{x=0} = \\mu_1(t), \\\\\n",
    "\\left. u \\right|_{x=l_x} = \\mu_2(t),\n",
    "\\end{array}$$\n",
    "где $u(x, t)$ - функция температуры, $\\alpha = const$ - коэффициент теплопроводности, $f(x, t)$ - функция источника. "
   ]
  },
  {
   "cell_type": "markdown",
   "metadata": {
    "deletable": false,
    "editable": false,
    "id": "pGsJxUf7RAzk",
    "nbgrader": {
     "cell_type": "markdown",
     "checksum": "94a75ca8d7a3d8ad9d8a605fb2bd9eb9",
     "grade": false,
     "grade_id": "cell-5b3341c907f81351",
     "locked": true,
     "schema_version": 3,
     "solution": false,
     "task": false
    }
   },
   "source": [
    "## Явная схема"
   ]
  },
  {
   "cell_type": "markdown",
   "metadata": {
    "deletable": false,
    "editable": false,
    "id": "joGaVTX0RAzl",
    "nbgrader": {
     "cell_type": "markdown",
     "checksum": "cfae8c6cdd59b127da7c4dc337659719",
     "grade": false,
     "grade_id": "cell-c41e33ca4836e2d3",
     "locked": true,
     "schema_version": 3,
     "solution": false,
     "task": false
    }
   },
   "source": [
    "Запишем разностное уравнение явной схемы:\n",
    "$$\\dfrac{y_i^{k+1} - y_i^{k}}{\\tau} = \\alpha \\dfrac{y_{i+1}^{k} - 2 y_i^{k} + y_{i-1}^{k}}{h^2} + f_i^k,$$\n",
    "где $\\tau$ и $h$ - шаги по времени и пространству, $y_i^k$ - значение приближённого решения в точке $(i, k)$ сетки, $y_i^k$ - значение функции источника в той же точке сетки. "
   ]
  },
  {
   "cell_type": "markdown",
   "metadata": {
    "deletable": false,
    "editable": false,
    "id": "kEAJukW9RAzm",
    "nbgrader": {
     "cell_type": "markdown",
     "checksum": "55448bbf176c3205d497338340fb2e5b",
     "grade": false,
     "grade_id": "cell-9e9ed34da8999766",
     "locked": true,
     "schema_version": 3,
     "solution": false,
     "task": false
    }
   },
   "source": [
    "Аппроксимируем начальное и граничные условия:\n",
    "$$\n",
    "\\begin{array}{l}\n",
    "y_i^0 = u_0(x_i), \\; \\forall i = \\overline{0, N},\\\\\n",
    "y_0^k = \\mu_1(t_k), \\\\\n",
    "y_N^k = \\mu_2(t_k), \\; \\forall k > 0.\n",
    "\\end{array}$$"
   ]
  },
  {
   "cell_type": "markdown",
   "metadata": {
    "deletable": false,
    "editable": false,
    "id": "QPhzbyeKRAzm",
    "nbgrader": {
     "cell_type": "markdown",
     "checksum": "70a3705b7bd57afbdc915479951e654e",
     "grade": false,
     "grade_id": "cell-cd0738c4dd71dd54",
     "locked": true,
     "schema_version": 3,
     "solution": false,
     "task": false
    }
   },
   "source": [
    "Запрограммируйте явную разностную схему решения начально-краевой задачи для однородного уравнения теплопроводности. Обратите внимание, что \n",
    "$$\\exists \\lim\\limits_{t \\rightarrow \\infty} u(x, t) = u_\\infty (x).$$\n",
    "поэтому расчёт в какой-то момент следует остановить (считать до установления).\n",
    "\n",
    "Во время проведения расчетов помните о том, что явная схема *условно* устойчива."
   ]
  },
  {
   "cell_type": "code",
   "execution_count": 3,
   "metadata": {
    "deletable": false,
    "id": "NNetMi57RAzn",
    "nbgrader": {
     "cell_type": "code",
     "checksum": "149f2c9502874959028304764b8ed0fe",
     "grade": false,
     "grade_id": "cell-a8cff91eb9385405",
     "locked": false,
     "schema_version": 3,
     "solution": true,
     "task": false
    }
   },
   "outputs": [],
   "source": [
    "def heat_expl(init, bound1, bound2, alpha, lx, h, tau, tol=1e-3):\n",
    "    \"\"\" Solve the heat equation `u_t = a*u_xx` for x in (0; lx) with an explicit scheme.\n",
    "    \n",
    "    Parameters\n",
    "    ----------\n",
    "    init : callable\n",
    "       Initial condition\n",
    "    bound1 : callable\n",
    "       Boundary condition for x = 0\n",
    "    bound1 : callable\n",
    "       Boundary condition for x = lx\n",
    "    alpha : float\n",
    "       Thermal diffusivity\n",
    "    h : float\n",
    "       Spatial step\n",
    "    tau : float\n",
    "       Time step\n",
    "    tol : float, optional\n",
    "       Target tolerance.\n",
    "       Stop iterations when the 2-norm of the difference between \n",
    "       solution on this time step and the next is less the tol.\n",
    "       \n",
    "    Returns\n",
    "    -------\n",
    "    t_end : ndarray, shape (n,)\n",
    "       End time of calculation\n",
    "    u_end : ndarray, shape (N,)\n",
    "       Limit u_∞(x) (See above)\n",
    "    \"\"\"\n",
    "    \n",
    "    N = int(lx/h)+1\n",
    "    u_next = np.zeros((N,))\n",
    "    u_prev= np.zeros((N,))\n",
    "    for i in range(N-1):\n",
    "        u_prev[i] = init(h*i)\n",
    "    u_prev[-1]= init(lx)\n",
    "    j = 0\n",
    "    while 1:\n",
    "        u_next[0]=bound1(tau*(j+1))\n",
    "        u_next[-1]=bound2(tau*(j+1))\n",
    "        for i in range(1,N-1):\n",
    "            u_next[i]=tau*alpha*(u_prev[i+1]-2*u_prev[i]+u_prev[i-1])/h**2+u_prev[i]\n",
    "        if np.linalg.norm(u_prev-u_next)<tol*10**(-2):\n",
    "            break\n",
    "        j+=1\n",
    "        u_prev = u_next.copy() \n",
    "    t_end=tau*(j+1)\n",
    "    u_end=u_next                     \n",
    "    return t_end, u_end"
   ]
  },
  {
   "cell_type": "markdown",
   "metadata": {
    "deletable": false,
    "editable": false,
    "id": "0rcNUzOTRAzn",
    "nbgrader": {
     "cell_type": "markdown",
     "checksum": "161e6cfc6c31256b81150e6aa10e5557",
     "grade": false,
     "grade_id": "cell-6e6f806519c00523",
     "locked": true,
     "schema_version": 3,
     "solution": false,
     "task": false
    }
   },
   "source": [
    "Протестируйте Вашу функцию."
   ]
  },
  {
   "cell_type": "code",
   "execution_count": 4,
   "metadata": {
    "deletable": false,
    "editable": false,
    "id": "n7B69iPvRAzo",
    "nbgrader": {
     "cell_type": "code",
     "checksum": "431e49578ffa8c8b179843350e9f253d",
     "grade": true,
     "grade_id": "cell-8e9200a6957eee67",
     "locked": true,
     "points": 10,
     "schema_version": 3,
     "solution": false,
     "task": false
    }
   },
   "outputs": [],
   "source": [
    "from numpy.testing import assert_allclose\n",
    "\n",
    "t_0, u_0 = heat_expl(lambda x: 0., lambda x: 1., lambda x: 1., \n",
    "                     alpha=1., lx=1., h=0.1, tau=0.005) \n",
    "assert_allclose(u_0, np.ones(11), atol=1e-2)\n",
    "\n",
    "t_1, u_1 = heat_expl(lambda x: np.sin(4.*x), lambda x: 0., lambda x: 0., \n",
    "                     alpha=1., lx=np.pi, h=0.1, tau=0.005) \n",
    "assert_allclose(u_1, np.zeros(32), atol=1e-2)\n"
   ]
  },
  {
   "cell_type": "markdown",
   "metadata": {
    "deletable": false,
    "editable": false,
    "id": "LtaWBWlPRAzo",
    "nbgrader": {
     "cell_type": "markdown",
     "checksum": "5bd485d2ea76944454b02cfed02849b7",
     "grade": false,
     "grade_id": "cell-64305ddcd2371d49",
     "locked": true,
     "points": 0,
     "schema_version": 3,
     "solution": false,
     "task": true
    }
   },
   "source": [
    "Определите порядки точности схемы (по пространству и времени) на тестовой задаче. Для этого для каждой переменной ($t$ или $x$):\n",
    "\n",
    "1. Сделайте несколько расчётов для разных значений шага (например, $h_0, \\; 2 h_0, \\; 4 h_0$).\n",
    "2. В один и тот же момент времени $t_1$ найдите ошибку полученных решений. Для этого либо возьмите аналитическое решение задачи, либо сравните результат в конечный момент времени, например, с решением в момент времени $0.99 t_1$. Обратите внимание, что имеющуюся функцию `heat_expl` надо немного модифицировать.\n",
    "3. Найдите отношения этих ошибок. Сопоставьте полученные величины с порядком аппроксимации схемы по данной переменной."
   ]
  },
  {
   "cell_type": "code",
   "execution_count": 5,
   "metadata": {
    "deletable": false,
    "id": "RYvnVfnTRAzp",
    "nbgrader": {
     "cell_type": "code",
     "checksum": "21d545230c2f40b2511e2f189c8510e4",
     "grade": true,
     "grade_id": "cell-b2f692271d252c77",
     "locked": false,
     "points": 10,
     "schema_version": 3,
     "solution": true,
     "task": false
    }
   },
   "outputs": [],
   "source": [
    "def new_heat_expl(init, bound1, bound2, alpha, lx, h, tau, t1, true_sol, tol=1e-3):\n",
    "    N = int(lx/h)+1\n",
    "    u_next = np.zeros((N,))\n",
    "    u_prev= np.zeros((N,))\n",
    "    for i in range(N-1):\n",
    "        u_prev[i] = init(h*i)\n",
    "    u_prev[-1]= init(lx)\n",
    "    j = 0\n",
    "    while 1:\n",
    "        u_next[0]=bound1(tau*(j+1))\n",
    "        u_next[-1]=bound2(tau*(j+1))\n",
    "        for i in range(1,N-1):\n",
    "            u_next[i]=tau*alpha*(u_prev[i+1]-2*u_prev[i]+u_prev[i-1])/h**2+u_prev[i]\n",
    "        if np.linalg.norm(u_prev-u_next)<tol:\n",
    "            break \n",
    "        j+=1\n",
    "        if j==t1:\n",
    "            err = np.linalg.norm(u_next-true_sol)\n",
    "        u_prev = u_next.copy() \n",
    "    t_end=(j+1)*tau\n",
    "    u_end=u_next                     \n",
    "    return t_end, u_end, err"
   ]
  },
  {
   "cell_type": "code",
   "execution_count": 6,
   "metadata": {
    "id": "6dy1mXRlSCbs"
   },
   "outputs": [
    {
     "name": "stdout",
     "output_type": "stream",
     "text": [
      "Зафиксируем момент времени t = 0.25\n",
      "Ошибка для шага h=0.1: 0.06938259520246938\n",
      "Ошибка для шага h=0.2: 0.10019633335388985\n",
      "Ошибка для шага h=0.4: 0.1573609260544599\n"
     ]
    }
   ],
   "source": [
    "t1 = 50\n",
    "tau = 0.005\n",
    "print(\"Зафиксируем момент времени t =\", tau*t1)\n",
    "t_0, u_0, err_0 = new_heat_expl(lambda x: np.sin(4.*x), lambda x: 0., lambda x: 0., \n",
    "                     alpha=1., lx=np.pi, h=0.1, tau=tau, t1=t1, true_sol=np.zeros(32))\n",
    "t_2, u_2, err_2 = new_heat_expl(lambda x: np.sin(4.*x), lambda x: 0., lambda x: 0., \n",
    "                     alpha=1., lx=np.pi, h=0.2, tau=tau, t1=t1, true_sol=np.zeros(16))\n",
    "t_4, u_4, err_4 = new_heat_expl(lambda x: np.sin(4.*x), lambda x: 0., lambda x: 0., \n",
    "                     alpha=1., lx=np.pi, h=0.4, tau=tau, t1=t1, true_sol=np.zeros(8))\n",
    "print(\"Ошибка для шага h=0.1:\", err_0)\n",
    "print(\"Ошибка для шага h=0.2:\", err_2)\n",
    "print(\"Ошибка для шага h=0.4:\", err_4)"
   ]
  },
  {
   "cell_type": "code",
   "execution_count": 7,
   "metadata": {
    "id": "g4tlZm7_SEjg"
   },
   "outputs": [
    {
     "name": "stdout",
     "output_type": "stream",
     "text": [
      "1.4441133696642667\n",
      "1.570525794578398\n"
     ]
    }
   ],
   "source": [
    "print(err_2/err_0)\n",
    "print(err_4/err_2)"
   ]
  },
  {
   "cell_type": "markdown",
   "metadata": {
    "id": "XwcpF8HHRAzq"
   },
   "source": [
    "## Неявная схема "
   ]
  },
  {
   "cell_type": "markdown",
   "metadata": {
    "deletable": false,
    "editable": false,
    "id": "M8zP9bcXRAzq",
    "nbgrader": {
     "cell_type": "markdown",
     "checksum": "bd301d8a40d38b24024f1ace73691c65",
     "grade": false,
     "grade_id": "cell-1e7f779d58e95cd8",
     "locked": true,
     "schema_version": 3,
     "solution": false,
     "task": false
    }
   },
   "source": [
    "Запишем разностное уравнение неявной схемы:\n",
    "$$\\dfrac{y_i^{k+1} - y_i^{k}}{\\tau} = \\alpha \\dfrac{y_{i+1}^{k+1} - 2 y_i^{k+1} + y_{i-1}^{k+1}}{h^2} + f_i^{k+1}.$$\n",
    "\n",
    "Аппроксимировать начальное и граничные условия будем так же, как в случае явной схемы."
   ]
  },
  {
   "cell_type": "markdown",
   "metadata": {
    "deletable": false,
    "editable": false,
    "id": "GBu0r_fXRAzr",
    "nbgrader": {
     "cell_type": "markdown",
     "checksum": "0776e244056e2f5ffc45874062d692d5",
     "grade": false,
     "grade_id": "cell-212525deebf0e803",
     "locked": true,
     "schema_version": 3,
     "solution": false,
     "task": false
    }
   },
   "source": [
    "Запрограммируйте явную разностную схему решения начально-краевой задачи для однородного уравнения теплопроводности. Для решения системы линейных уравнений используйте встроенные функции `scipy`."
   ]
  },
  {
   "cell_type": "code",
   "execution_count": 8,
   "metadata": {
    "id": "FWlAr2flSPoj"
   },
   "outputs": [],
   "source": [
    "from scipy.linalg import solve_banded"
   ]
  },
  {
   "cell_type": "code",
   "execution_count": 9,
   "metadata": {
    "deletable": false,
    "id": "8BHuZ3s4RAzr",
    "nbgrader": {
     "cell_type": "code",
     "checksum": "400880cf7cac5bd8edbc78017b0602b8",
     "grade": false,
     "grade_id": "cell-748ac47f86cabee5",
     "locked": false,
     "schema_version": 3,
     "solution": true,
     "task": false
    }
   },
   "outputs": [],
   "source": [
    "def heat_impl(init, bound1, bound2, alpha, lx, h, tau, tol=1e-3):\n",
    "    \"\"\" Solve heat equation u_t = a*u_xx for x in (0; lx) with implicit scheme\n",
    "    \n",
    "    Parameters\n",
    "    ----------\n",
    "    init : callable\n",
    "       Initial condition\n",
    "    bound1 : callable\n",
    "       Boundary condition for x = 0\n",
    "    bound1 : callable\n",
    "       Boundary condition for x = lx\n",
    "    alpha : float, optional\n",
    "       Thermal diffusivity\n",
    "    h : float\n",
    "       Spatial step\n",
    "    tau : float\n",
    "       Time step\n",
    "    tol : float, optional\n",
    "       Target tolerance.\n",
    "       Stop iterations when the 2-norm of the difference between \n",
    "       solution on this time step and the next is less the tol.\n",
    "       \n",
    "    Returns\n",
    "    -------\n",
    "    t_end : ndarray, shape (n,)\n",
    "       End time of calculation\n",
    "    u_end : ndarray, shape (N,)\n",
    "       Limit u_∞(x) (See above)\n",
    "    \"\"\"\n",
    "    \n",
    "    N = int(lx/h)+1\n",
    "    u_next = np.zeros((N,))\n",
    "    u_prev= np.zeros((N,))\n",
    "    for i in range(N-1):\n",
    "        u_prev[i] = init(h*i)\n",
    "    u_prev[-1]= init(lx)\n",
    "    c = alpha*tau/h**2\n",
    "    A = np.zeros((3, N))\n",
    "    A[0,2:]=-c\n",
    "    A[1][1:-1]=1+2*c\n",
    "    A[1,0] = 1.\n",
    "    A[1,-1] =1.\n",
    "    A[-1][:-2]=-c\n",
    "    j = 0\n",
    "    while 1:\n",
    "        b = u_prev.copy()\n",
    "        b[0]=bound1(tau*(j+1))\n",
    "        b[-1]=bound2(tau*(j+1))\n",
    "        u_next = solve_banded((1,1),A, b)\n",
    "        #print(np.around(b, 2),np.around(u_next, 2))\n",
    "        if np.linalg.norm(u_prev-u_next)<tol*0.01:\n",
    "            break\n",
    "        j+=1\n",
    "        u_prev = u_next.copy() \n",
    "    t_end=tau*(j+1)\n",
    "    u_end=u_next                     \n",
    "    return t_end, u_end"
   ]
  },
  {
   "cell_type": "markdown",
   "metadata": {
    "deletable": false,
    "editable": false,
    "id": "pCC3pYpjRAzs",
    "nbgrader": {
     "cell_type": "markdown",
     "checksum": "9e6f300ac1aa0b9646c4ebf3a4cc0e76",
     "grade": false,
     "grade_id": "cell-8e4565c92424287b",
     "locked": true,
     "schema_version": 3,
     "solution": false,
     "task": false
    }
   },
   "source": [
    "Протестируйте Вашу функцию."
   ]
  },
  {
   "cell_type": "code",
   "execution_count": 10,
   "metadata": {
    "deletable": false,
    "editable": false,
    "id": "Eqg8ijIsRAzs",
    "nbgrader": {
     "cell_type": "code",
     "checksum": "18efc0a341cc626738a8bc0dce1baede",
     "grade": true,
     "grade_id": "cell-63d041371de8d78d",
     "locked": true,
     "points": 10,
     "schema_version": 3,
     "solution": false,
     "task": false
    }
   },
   "outputs": [],
   "source": [
    "from numpy.testing import assert_allclose\n",
    "\n",
    "t_0, u_0 = heat_impl(lambda x: 0., lambda x: 1., lambda x: 1., \n",
    "                     alpha=1., lx=1., h=0.1, tau=0.005) \n",
    "assert_allclose(u_0, np.ones(11), atol=1e-2)\n",
    "\n",
    "t_1, u_1 = heat_impl(lambda x: np.sin(4.*x), lambda x: 0., lambda x: 0., \n",
    "                     alpha=1., lx=np.pi, h=0.1, tau=0.005) \n",
    "assert_allclose(u_1, np.zeros(32), atol=1e-2)\n"
   ]
  },
  {
   "cell_type": "markdown",
   "metadata": {
    "id": "isDGTqPGRAzt"
   },
   "source": [
    "Определите порядки точности схемы (по пространству и времени) на тестовой задаче. (см. выше)"
   ]
  },
  {
   "cell_type": "code",
   "execution_count": 11,
   "metadata": {
    "deletable": false,
    "id": "ttOFU5SVRAzt",
    "nbgrader": {
     "cell_type": "code",
     "checksum": "7e9fa6a6c9e040e93fe2f40f9dbae887",
     "grade": true,
     "grade_id": "cell-5b009aaeabaa68e7",
     "locked": false,
     "points": 10,
     "schema_version": 3,
     "solution": true,
     "task": false
    }
   },
   "outputs": [],
   "source": [
    "def new_heat_impl(init, bound1, bound2, alpha, lx, h, tau, t1, true_sol, tol=1e-3):\n",
    "    \"\"\" Solve heat equation u_t = a*u_xx for x in (0; lx) with implicit scheme\n",
    "    \n",
    "    Parameters\n",
    "    ----------\n",
    "    init : callable\n",
    "       Initial condition\n",
    "    bound1 : callable\n",
    "       Boundary condition for x = 0\n",
    "    bound1 : callable\n",
    "       Boundary condition for x = lx\n",
    "    alpha : float, optional\n",
    "       Thermal diffusivity\n",
    "    h : float\n",
    "       Spatial step\n",
    "    tau : float\n",
    "       Time step\n",
    "    tol : float, optional\n",
    "       Target tolerance.\n",
    "       Stop iterations when the 2-norm of the difference between \n",
    "       solution on this time step and the next is less the tol.\n",
    "       \n",
    "    Returns\n",
    "    -------\n",
    "    t_end : ndarray, shape (n,)\n",
    "       End time of calculation\n",
    "    u_end : ndarray, shape (N,)\n",
    "       Limit u_∞(x) (See above)\n",
    "    \"\"\"\n",
    "    \n",
    "    N = int(lx/h)+1\n",
    "    u_next = np.zeros((N,))\n",
    "    u_prev= np.zeros((N,))\n",
    "    for i in range(N-1):\n",
    "        u_prev[i] = init(h*i)\n",
    "    u_prev[-1]= init(lx)\n",
    "    c = alpha*tau/h**2\n",
    "    A = np.zeros((3, N))\n",
    "    A[0,2:]=-c\n",
    "    A[1][1:-1]=1+2*c\n",
    "    A[1,0] = 1.\n",
    "    A[1,-1] =1.\n",
    "    A[-1][:-2]=-c\n",
    "    j = 0\n",
    "    while 1:\n",
    "        b = u_prev.copy()\n",
    "        b[0]=bound1(tau*(j+1))\n",
    "        b[-1]=bound2(tau*(j+1))\n",
    "        u_next = solve_banded((1,1),A, b)\n",
    "        #print(np.around(b, 2),np.around(u_next, 2))\n",
    "        if np.linalg.norm(u_prev-u_next)<tol*0.01:\n",
    "            break\n",
    "        j+=1\n",
    "        if j==t1:\n",
    "            err = np.linalg.norm(u_next-true_sol)\n",
    "        u_prev = u_next.copy() \n",
    "    t_end=tau*(j+1)\n",
    "    u_end=u_next                     \n",
    "    return t_end, u_end, err"
   ]
  },
  {
   "cell_type": "code",
   "execution_count": 12,
   "metadata": {
    "id": "k84OLKpGSXi3"
   },
   "outputs": [
    {
     "name": "stdout",
     "output_type": "stream",
     "text": [
      "Зафиксируем момент времени t = 0.25\n",
      "Ошибка для шага h=0.1: 0.08954447140207836\n",
      "Ошибка для шага h=0.2: 0.10936596985039083\n",
      "Ошибка для шага h=0.4: 0.16639122073205848\n"
     ]
    }
   ],
   "source": [
    "t1 = 50\n",
    "tau = 0.005\n",
    "print(\"Зафиксируем момент времени t =\", tau*t1)\n",
    "t_0, u_0, err_0 = new_heat_impl(lambda x: np.sin(4.*x), lambda x: 0., lambda x: 0., \n",
    "                     alpha=1., lx=np.pi, h=0.1, tau=tau, t1=t1, true_sol=np.zeros(32))\n",
    "t_2, u_2, err_2 = new_heat_impl(lambda x: np.sin(4.*x), lambda x: 0., lambda x: 0., \n",
    "                     alpha=1., lx=np.pi, h=0.2, tau=tau, t1=t1, true_sol=np.zeros(16))\n",
    "t_4, u_4, err_4 = new_heat_impl(lambda x: np.sin(4.*x), lambda x: 0., lambda x: 0., \n",
    "                     alpha=1., lx=np.pi, h=0.4, tau=tau, t1=t1, true_sol=np.zeros(8))\n",
    "print(\"Ошибка для шага h=0.1:\", err_0)\n",
    "print(\"Ошибка для шага h=0.2:\", err_2)\n",
    "print(\"Ошибка для шага h=0.4:\", err_4)"
   ]
  },
  {
   "cell_type": "code",
   "execution_count": 13,
   "metadata": {
    "id": "4DU5y2NLSaAO"
   },
   "outputs": [
    {
     "name": "stdout",
     "output_type": "stream",
     "text": [
      "1.221359265825678\n",
      "1.521416771228531\n"
     ]
    }
   ],
   "source": [
    "print(err_2/err_0)\n",
    "print(err_4/err_2)"
   ]
  },
  {
   "cell_type": "code",
   "execution_count": null,
   "metadata": {
    "id": "ZMt8XRi4Sd1G"
   },
   "outputs": [],
   "source": []
  }
 ],
 "metadata": {
  "colab": {
   "name": "diffusion_eq.ipynb",
   "provenance": []
  },
  "kernelspec": {
   "display_name": "Python 3 (ipykernel)",
   "language": "python",
   "name": "python3"
  },
  "language_info": {
   "codemirror_mode": {
    "name": "ipython",
    "version": 3
   },
   "file_extension": ".py",
   "mimetype": "text/x-python",
   "name": "python",
   "nbconvert_exporter": "python",
   "pygments_lexer": "ipython3",
   "version": "3.9.12"
  }
 },
 "nbformat": 4,
 "nbformat_minor": 1
}
