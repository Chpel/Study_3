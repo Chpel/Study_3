{
 "cells": [
  {
   "cell_type": "code",
   "execution_count": 1,
   "id": "46923d32",
   "metadata": {},
   "outputs": [],
   "source": [
    "import numpy as np\n",
    "from scipy.linalg import solve_banded\n",
    "import matplotlib.pyplot as plt"
   ]
  },
  {
   "cell_type": "code",
   "execution_count": 3,
   "id": "814221a8",
   "metadata": {},
   "outputs": [],
   "source": [
    "def u_t0(x,y):\n",
    "    return 1 + x*y\n",
    "\n",
    "def u_x0(y,t):\n",
    "    return 1 + (np.exp(t) - np.exp(-np.pi**2 * t))/(1 + np.pi**2) * np.sin(np.pi * y / 2)\n",
    "\n",
    "def u_y0(x,t):\n",
    "    return 1\n",
    "\n",
    "def u_x1(y,t):\n",
    "    return 1 + y\n",
    "\n",
    "def u_y1(x,t):\n",
    "    return 1 + x + (np.exp(t) - np.exp(-np.pi**2 * t))/(1 + np.pi**2) * np.cos(np.pi * x / 2)\n",
    "\n",
    "def f(x,y,t):\n",
    "    return np.exp(t)*np.cos(np.pi*x/2) * np.sin(np.pi*y/2)\n",
    "\n",
    "def u_fill_gran(u, w_x, w_y, t):\n",
    "    N_x, N_y = u.shape\n",
    "    u[:,0] = u_y0(w_x, t)\n",
    "    u[:,-1] = u_y1(w_x,t)\n",
    "    u[0,1:-1] = u_x0(w_y[1:-1], t)\n",
    "    u[-1,1:-1] = u_x1(w_y[1:-1], t)\n",
    "    return u\n",
    "\n",
    "def u_pol_fill_gran(u_p, u0, u, tau, h):\n",
    "    N = u_p.shape[0] - 1\n",
    "    c = tau/(4*h**2)\n",
    "    for j in range(1,N):\n",
    "        y_0_jm1 = u[0,j-1] - u0[0,j-1]\n",
    "        y_0_j = u[0,j] - u0[0,j]\n",
    "        y_0_jp1 = u[0,j+1] - u0[0,j+1]\n",
    "        u_p[0][j] = (u[0,j] + u[0,j]) / 2 - c * (y_0_jm1 - 2 * y_0_j + y_0_jp1)\n",
    "        \n",
    "        y_N_jm1 = u[N,j-1] - u0[N,j-1]\n",
    "        y_N_j = u[N,j] - u0[N,j]\n",
    "        y_N_jp1 = u[N,j+1] - u0[N,j+1]\n",
    "        u_p[N][j] = (u[N,j] + u[N,j]) / 2 - c * (y_N_jm1 - 2 * y_N_j + y_N_jp1)\n",
    "    return u_p\n",
    "    \n",
    "def u_true(x,y,t):\n",
    "    return 1 + x*y + (np.exp(t) - np.exp(-np.pi**2 * t))/(1 + np.pi**2) * np.sin(np.pi * y / 2) * np.cos(np.pi * x / 2)"
   ]
  },
  {
   "cell_type": "code",
   "execution_count": 62,
   "id": "cd6c5493",
   "metadata": {},
   "outputs": [],
   "source": [
    "N=20\n",
    "w_x, h = np.linspace(0,1,N+1, retstep=True)\n",
    "w_y, h = np.linspace(0,1,N+1, retstep=True)\n",
    "Nt=10000\n",
    "w_t, tau = np.linspace(0,5,Nt+1, retstep=True)"
   ]
  },
  {
   "cell_type": "code",
   "execution_count": 63,
   "id": "5a6ccee5",
   "metadata": {},
   "outputs": [
    {
     "name": "stdout",
     "output_type": "stream",
     "text": [
      "0.05 0.0005\n"
     ]
    }
   ],
   "source": [
    "print(h, tau)"
   ]
  },
  {
   "cell_type": "code",
   "execution_count": 71,
   "id": "e95802ba",
   "metadata": {},
   "outputs": [
    {
     "data": {
      "image/png": "[encoded data removed]",
      "text/plain": [
       "<Figure size 432x288 with 2 Axes>"
      ]
     },
     "metadata": {
      "needs_background": "light"
     },
     "output_type": "display_data"
    },
    {
     "data": {
      "image/png": "[encoded data removed]",
      "text/plain": [
       "<Figure size 432x288 with 2 Axes>"
      ]
     },
     "metadata": {
      "needs_background": "light"
     },
     "output_type": "display_data"
    }
   ],
   "source": [
    "u = np.zeros((N+1,N+1))\n",
    "for i in range(N+1):\n",
    "    for j in range(N+1):\n",
    "        u[i,j] = u_t0(w_x[i], w_y[j])\n",
    "plt.imshow(u)\n",
    "plt.colorbar()\n",
    "plt.show()\n",
    "\n",
    "u_pol = np.zeros((N+1,N+1))\n",
    "A = np.zeros((3,N-1))\n",
    "A[0,:] = -2/(h**2)\n",
    "A[1,:] = 4/(h**2) + 2/tau\n",
    "A[2,:] = -2/(h**2)\n",
    "b = np.zeros(N-1)\n",
    "\n",
    "for t in w_t[:-1]:\n",
    "    u0 = u.copy()\n",
    "    u.fill(0)\n",
    "    u = u_fill_gran(u, w_x, w_y, t+tau)\n",
    "    u_pol.fill(0)\n",
    "    u_pol = u_pol_fill_gran(u_pol, u0, u, tau, h)\n",
    "    \n",
    "    for j in range(1, N):\n",
    "        b = 2/(h**2) * (u0[1:-1, j+1] - 2*u0[1:-1,j] + u0[1:-1, j-1]) + 2*u0[1:-1,j]/tau + f(w_x[1:-1], w_y[j], t+tau/2)\n",
    "        b[0] += 2*u_pol[0,j]/h**2\n",
    "        b[-1] += 2*u_pol[-1,j]/h**2\n",
    "        u_pol[1:-1,j] = solve_banded((1,1),A,b)\n",
    "    \n",
    "    for i in range(1, N):\n",
    "        b = 2/(h**2) * (u_pol[i+1, 1:-1] - 2*u_pol[i, 1:-1] + u_pol[i-1, 1:-1]) + 2*u_pol[i, 1:-1]/tau + f(w_x[i], w_y[1:-1], t+tau)\n",
    "        b[0] += 2*u[i,0]/h**2\n",
    "        b[-1] += 2*u[i,-1]/h**2\n",
    "        u[i,1:-1] = solve_banded((1,1),A,b)\n",
    "plt.imshow(u)\n",
    "plt.colorbar()\n",
    "plt.savefig('ADI.png')"
   ]
  },
  {
   "cell_type": "code",
   "execution_count": 67,
   "id": "23479cd1",
   "metadata": {},
   "outputs": [
    {
     "data": {
      "image/png": "[encoded data removed]",
      "text/plain": [
       "<Figure size 432x288 with 2 Axes>"
      ]
     },
     "metadata": {
      "needs_background": "light"
     },
     "output_type": "display_data"
    }
   ],
   "source": [
    "u_t = np.zeros((N+1,N+1))\n",
    "for i in range(N+1):\n",
    "    for j in range(N+1):\n",
    "        u_t[i,j] = u_true(w_x[i], w_y[j], 5)\n",
    "plt.imshow(u_t)\n",
    "plt.colorbar()\n",
    "plt.savefig('True.png');"
   ]
  },
  {
   "cell_type": "code",
   "execution_count": 66,
   "id": "834fcb1b",
   "metadata": {},
   "outputs": [
    {
     "data": {
      "text/plain": [
       "0.0014496938264571668"
      ]
     },
     "execution_count": 66,
     "metadata": {},
     "output_type": "execute_result"
    }
   ],
   "source": [
    "np.linalg.norm(u - u_t) * h"
   ]
  },
  {
   "cell_type": "code",
   "execution_count": 70,
   "id": "7605b386",
   "metadata": {},
   "outputs": [
    {
     "data": {
      "image/png": "[encoded data removed]",
      "text/plain": [
       "<Figure size 432x288 with 2 Axes>"
      ]
     },
     "metadata": {
      "needs_background": "light"
     },
     "output_type": "display_data"
    }
   ],
   "source": [
    "plt.imshow(u - u_t)\n",
    "plt.colorbar()\n",
    "plt.savefig('Err.png')"
   ]
  },
  {
   "cell_type": "code",
   "execution_count": null,
   "id": "30ccdb77",
   "metadata": {},
   "outputs": [],
   "source": []
  }
 ],
 "metadata": {
  "kernelspec": {
   "display_name": "Python 3 (ipykernel)",
   "language": "python",
   "name": "python3"
  },
  "language_info": {
   "codemirror_mode": {
    "name": "ipython",
    "version": 3
   },
   "file_extension": ".py",
   "mimetype": "text/x-python",
   "name": "python",
   "nbconvert_exporter": "python",
   "pygments_lexer": "ipython3",
   "version": "3.9.12"
  }
 },
 "nbformat": 4,
 "nbformat_minor": 5
}
