{
 "cells": [
  {
   "cell_type": "code",
   "execution_count": 103,
   "id": "9900fc97",
   "metadata": {},
   "outputs": [],
   "source": [
    "import numpy as np\n",
    "from scipy.linalg import solve_banded\n",
    "import matplotlib.pyplot as plt"
   ]
  },
  {
   "cell_type": "code",
   "execution_count": 104,
   "id": "da693850",
   "metadata": {},
   "outputs": [],
   "source": [
    "def mu_x1_0(x2):\n",
    "    return x2 ** 2\n",
    "\n",
    "def mu_x2_0(x1):\n",
    "    return x1 ** 2\n",
    "\n",
    "def mu_x1_1(x2):\n",
    "    return 1+ x2 ** 2\n",
    "\n",
    "def mu_x2_1(x1):\n",
    "    return 1+ x1 ** 2\n",
    "\n",
    "def true_f():\n",
    "    return 4"
   ]
  },
  {
   "cell_type": "code",
   "execution_count": 198,
   "id": "311b53e0",
   "metadata": {},
   "outputs": [],
   "source": [
    "def f(i, j, h, N):\n",
    "    result = true_f()\n",
    "    if i != 0 and j != 0 and i != N and j != N:\n",
    "        if i == 1:\n",
    "            result -= mu_x1_0(j*h)/h**2\n",
    "        if j == 1:\n",
    "            result -= mu_x2_0(i*h)/h**2\n",
    "        if i == N - 1:\n",
    "            result -= mu_x1_1(j*h)/h**2\n",
    "        if j == N - 1:\n",
    "            result -= mu_x2_1(i*h)/h**2\n",
    "    return result"
   ]
  },
  {
   "cell_type": "code",
   "execution_count": 199,
   "id": "d941125a",
   "metadata": {},
   "outputs": [],
   "source": [
    "N=10\n",
    "x, h = np.linspace(0,1,N+1, retstep=True)"
   ]
  },
  {
   "cell_type": "code",
   "execution_count": 200,
   "id": "2db2e2d8",
   "metadata": {},
   "outputs": [
    {
     "data": {
      "text/plain": [
       "array([0. , 0.1, 0.2, 0.3, 0.4, 0.5, 0.6, 0.7, 0.8, 0.9, 1. ])"
      ]
     },
     "execution_count": 200,
     "metadata": {},
     "output_type": "execute_result"
    }
   ],
   "source": [
    "x"
   ]
  },
  {
   "cell_type": "code",
   "execution_count": 201,
   "id": "102e9afa",
   "metadata": {},
   "outputs": [],
   "source": [
    "f_arr = np.zeros((N+1,N+1))\n",
    "for i in range(N+1):\n",
    "    for j in range(N+1):\n",
    "        f_arr[i,j] = f(i, j, h, N)"
   ]
  },
  {
   "cell_type": "code",
   "execution_count": 202,
   "id": "3d985398",
   "metadata": {},
   "outputs": [
    {
     "data": {
      "text/plain": [
       "array([[   4.,    4.,    4.,    4.,    4.,    4.,    4.,    4.,    4.,\n",
       "           4.,    4.],\n",
       "       [   4.,    2.,    0.,   -5.,  -12.,  -21.,  -32.,  -45.,  -60.,\n",
       "        -178.,    4.],\n",
       "       [   4.,    0.,    4.,    4.,    4.,    4.,    4.,    4.,    4.,\n",
       "        -100.,    4.],\n",
       "       [   4.,   -5.,    4.,    4.,    4.,    4.,    4.,    4.,    4.,\n",
       "        -105.,    4.],\n",
       "       [   4.,  -12.,    4.,    4.,    4.,    4.,    4.,    4.,    4.,\n",
       "        -112.,    4.],\n",
       "       [   4.,  -21.,    4.,    4.,    4.,    4.,    4.,    4.,    4.,\n",
       "        -121.,    4.],\n",
       "       [   4.,  -32.,    4.,    4.,    4.,    4.,    4.,    4.,    4.,\n",
       "        -132.,    4.],\n",
       "       [   4.,  -45.,    4.,    4.,    4.,    4.,    4.,    4.,    4.,\n",
       "        -145.,    4.],\n",
       "       [   4.,  -60.,    4.,    4.,    4.,    4.,    4.,    4.,    4.,\n",
       "        -160.,    4.],\n",
       "       [   4., -178., -100., -105., -112., -121., -132., -145., -160.,\n",
       "        -358.,    4.],\n",
       "       [   4.,    4.,    4.,    4.,    4.,    4.,    4.,    4.,    4.,\n",
       "           4.,    4.]])"
      ]
     },
     "execution_count": 202,
     "metadata": {},
     "output_type": "execute_result"
    }
   ],
   "source": [
    "f_arr"
   ]
  },
  {
   "cell_type": "code",
   "execution_count": 203,
   "id": "7b63cd89",
   "metadata": {},
   "outputs": [],
   "source": [
    "def gsl(s, N, h, x):\n",
    "    a = N * h\n",
    "    return np.sqrt(2 / a) * np. sin(np.pi * s * x / a)"
   ]
  },
  {
   "cell_type": "code",
   "execution_count": 204,
   "id": "12f2ddbc",
   "metadata": {},
   "outputs": [
    {
     "data": {
      "text/plain": [
       "array([0.00000000e+00, 4.37016024e-01, 8.31253876e-01, 1.14412281e+00,\n",
       "       1.34499702e+00, 1.41421356e+00, 1.34499702e+00, 1.14412281e+00,\n",
       "       8.31253876e-01, 4.37016024e-01, 1.73191211e-16])"
      ]
     },
     "execution_count": 204,
     "metadata": {},
     "output_type": "execute_result"
    }
   ],
   "source": [
    "gsl(1, N, h, x)"
   ]
  },
  {
   "cell_type": "code",
   "execution_count": 205,
   "id": "fc1b4918",
   "metadata": {},
   "outputs": [],
   "source": [
    "fsk = np.zeros((N-1, N-1))\n",
    "for k in range(1, N):\n",
    "    for s in range(1, N):\n",
    "        fsk[k-1, s-1] = h * np.sum(f_arr[k, 1:-1] * gsl(s, N, h, x)[1:-1])"
   ]
  },
  {
   "cell_type": "code",
   "execution_count": 206,
   "id": "01c0acd6",
   "metadata": {},
   "outputs": [
    {
     "data": {
      "text/plain": [
       "array([[ -27.2874547 ,   30.07504775,  -23.76425811,   23.18246013,\n",
       "         -20.78893937,   18.58740172,  -14.93932793,   10.61006796,\n",
       "          -5.47643438],\n",
       "       [  -1.14817586,    8.31253876,  -11.24630614,   13.44997024,\n",
       "         -14.70782105,   13.44997024,  -12.06829518,    8.31253876,\n",
       "          -4.63017729],\n",
       "       [  -1.58519188,    8.31253876,  -12.39042895,   13.44997024,\n",
       "         -16.12203461,   13.44997024,  -13.21241799,    8.31253876,\n",
       "          -5.06719332],\n",
       "       [  -2.19701431,    8.31253876,  -13.99220088,   13.44997024,\n",
       "         -18.1019336 ,   13.44997024,  -14.81418991,    8.31253876,\n",
       "          -5.67901575],\n",
       "       [  -2.98364316,    8.31253876,  -16.05162193,   13.44997024,\n",
       "         -20.64751801,   13.44997024,  -16.87361096,    8.31253876,\n",
       "          -6.4656446 ],\n",
       "       [  -3.94507841,    8.31253876,  -18.5686921 ,   13.44997024,\n",
       "         -23.75878785,   13.44997024,  -19.39068114,    8.31253876,\n",
       "          -7.42707985],\n",
       "       [  -5.08132008,    8.31253876,  -21.54341139,   13.44997024,\n",
       "         -27.43574311,   13.44997024,  -22.36540043,    8.31253876,\n",
       "          -8.56332151],\n",
       "       [  -6.39236815,    8.31253876,  -24.97577981,   13.44997024,\n",
       "         -31.6783838 ,   13.44997024,  -25.79776885,    8.31253876,\n",
       "          -9.87436959],\n",
       "       [-123.5696413 ,   30.07504775,  -69.82572695,   23.18246013,\n",
       "         -57.55849199,   18.58740172,  -40.45107083,   10.61006796,\n",
       "         -14.70858501]])"
      ]
     },
     "execution_count": 206,
     "metadata": {},
     "output_type": "execute_result"
    }
   ],
   "source": [
    "fsk"
   ]
  },
  {
   "cell_type": "code",
   "execution_count": 207,
   "id": "c4835364",
   "metadata": {},
   "outputs": [
    {
     "data": {
      "text/plain": [
       "array([[ 2.00000000e+00,  4.44089210e-14, -5.00000000e+00,\n",
       "        -1.20000000e+01, -2.10000000e+01, -3.20000000e+01,\n",
       "        -4.50000000e+01, -6.00000000e+01, -1.78000000e+02],\n",
       "       [-2.26485497e-14,  4.00000000e+00,  4.00000000e+00,\n",
       "         4.00000000e+00,  4.00000000e+00,  4.00000000e+00,\n",
       "         4.00000000e+00,  4.00000000e+00, -1.00000000e+02],\n",
       "       [-5.00000000e+00,  4.00000000e+00,  4.00000000e+00,\n",
       "         4.00000000e+00,  4.00000000e+00,  4.00000000e+00,\n",
       "         4.00000000e+00,  4.00000000e+00, -1.05000000e+02],\n",
       "       [-1.20000000e+01,  4.00000000e+00,  4.00000000e+00,\n",
       "         4.00000000e+00,  4.00000000e+00,  4.00000000e+00,\n",
       "         4.00000000e+00,  4.00000000e+00, -1.12000000e+02],\n",
       "       [-2.10000000e+01,  4.00000000e+00,  4.00000000e+00,\n",
       "         4.00000000e+00,  4.00000000e+00,  4.00000000e+00,\n",
       "         4.00000000e+00,  4.00000000e+00, -1.21000000e+02],\n",
       "       [-3.20000000e+01,  4.00000000e+00,  4.00000000e+00,\n",
       "         4.00000000e+00,  4.00000000e+00,  4.00000000e+00,\n",
       "         4.00000000e+00,  4.00000000e+00, -1.32000000e+02],\n",
       "       [-4.50000000e+01,  4.00000000e+00,  4.00000000e+00,\n",
       "         4.00000000e+00,  4.00000000e+00,  4.00000000e+00,\n",
       "         4.00000000e+00,  4.00000000e+00, -1.45000000e+02],\n",
       "       [-6.00000000e+01,  4.00000000e+00,  4.00000000e+00,\n",
       "         4.00000000e+00,  4.00000000e+00,  4.00000000e+00,\n",
       "         4.00000000e+00,  4.00000000e+00, -1.60000000e+02],\n",
       "       [-1.78000000e+02, -1.00000000e+02, -1.05000000e+02,\n",
       "        -1.12000000e+02, -1.21000000e+02, -1.32000000e+02,\n",
       "        -1.45000000e+02, -1.60000000e+02, -3.58000000e+02]])"
      ]
     },
     "execution_count": 207,
     "metadata": {},
     "output_type": "execute_result"
    }
   ],
   "source": [
    "f_arr2 = np.zeros((N-1,N-1))\n",
    "for k in range(1,N):\n",
    "    for l in range(1,N):\n",
    "        f_arr2[k-1,l-1] = np.sum(fsk[k-1,:] * gsl(l, N, h, x)[1:-1])\n",
    "f_arr2"
   ]
  },
  {
   "cell_type": "code",
   "execution_count": 208,
   "id": "17c30261",
   "metadata": {},
   "outputs": [],
   "source": [
    "def ls(s, N, h):\n",
    "    a = N * h\n",
    "    return 4 / h**2 * np.sin(np.pi * s / (2*N)) ** 2"
   ]
  },
  {
   "cell_type": "code",
   "execution_count": 209,
   "id": "b8a19fd6",
   "metadata": {},
   "outputs": [],
   "source": [
    "lambdas = np.zeros(N-1)\n",
    "for s in range(1,N):\n",
    "    lambdas[s-1] = ls(s, N, h)"
   ]
  },
  {
   "cell_type": "code",
   "execution_count": 210,
   "id": "2bd6b7be",
   "metadata": {},
   "outputs": [
    {
     "data": {
      "text/plain": [
       "array([  9.78869674,  38.19660113,  82.44294954, 138.19660113,\n",
       "       200.        , 261.80339887, 317.55705046, 361.80339887,\n",
       "       390.21130326])"
      ]
     },
     "execution_count": 210,
     "metadata": {},
     "output_type": "execute_result"
    }
   ],
   "source": [
    "lambdas"
   ]
  },
  {
   "cell_type": "code",
   "execution_count": 211,
   "id": "ca8abcbc",
   "metadata": {},
   "outputs": [],
   "source": [
    "\n",
    "\n",
    "csk = np.zeros((N+1, N-1))\n",
    "for s in range(1, N):\n",
    "    A_s = np.zeros((3, N-1))\n",
    "    A_s[0] = 1/h**2\n",
    "    A_s[1] = -2/h**2 - lambdas[s-1]\n",
    "    A_s[2] = 1/h**2\n",
    "    csk[1:-1, s-1] = solve_banded((1,1), A_s, fsk[:, s-1])"
   ]
  },
  {
   "cell_type": "code",
   "execution_count": 212,
   "id": "892da14e",
   "metadata": {},
   "outputs": [],
   "source": [
    "y = np.zeros((N+1, N+1))\n",
    "for k in range(0, N+1):\n",
    "    for l in range(0, N+1):\n",
    "        y[k,l] = np.sum(csk[k,:] * gsl(l, N, h, x)[1:-1])"
   ]
  },
  {
   "cell_type": "code",
   "execution_count": 219,
   "id": "80ce0b86",
   "metadata": {},
   "outputs": [],
   "source": [
    "y[0,:] = mu_x1_0(x)\n",
    "y[-1,:] = mu_x1_1(x)\n",
    "y[:,0] = mu_x2_0(x)\n",
    "y[:,-1] = mu_x2_1(x)"
   ]
  },
  {
   "cell_type": "code",
   "execution_count": 1,
   "id": "797f0e8f",
   "metadata": {},
   "outputs": [
    {
     "ename": "NameError",
     "evalue": "name 'plt' is not defined",
     "output_type": "error",
     "traceback": [
      "\u001b[1;31m---------------------------------------------------------------------------\u001b[0m",
      "\u001b[1;31mNameError\u001b[0m                                 Traceback (most recent call last)",
      "Input \u001b[1;32mIn [1]\u001b[0m, in \u001b[0;36m<cell line: 1>\u001b[1;34m()\u001b[0m\n\u001b[1;32m----> 1\u001b[0m fig \u001b[38;5;241m=\u001b[39m \u001b[43mplt\u001b[49m\u001b[38;5;241m.\u001b[39mfigure(figsize\u001b[38;5;241m=\u001b[39m(\u001b[38;5;241m10\u001b[39m, \u001b[38;5;241m10\u001b[39m))\n\u001b[0;32m      2\u001b[0m ax \u001b[38;5;241m=\u001b[39m fig\u001b[38;5;241m.\u001b[39mgca(projection\u001b[38;5;241m=\u001b[39m\u001b[38;5;124m'\u001b[39m\u001b[38;5;124m3d\u001b[39m\u001b[38;5;124m'\u001b[39m)\n\u001b[0;32m      3\u001b[0m ax\u001b[38;5;241m.\u001b[39mview_init()\n",
      "\u001b[1;31mNameError\u001b[0m: name 'plt' is not defined"
     ]
    }
   ],
   "source": [
    "\n",
    "fig = plt.figure(figsize=(10, 10))\n",
    "ax = fig.gca(projection='3d')\n",
    "ax.view_init()\n",
    "X1, X2 = np.meshgrid(x,x)\n",
    "\n",
    "surf = ax.plot_surface(X1, X2, y)\n",
    "plt.savefig('Fourier.png')\n"
   ]
  },
  {
   "cell_type": "code",
   "execution_count": 222,
   "id": "1f9c4f38",
   "metadata": {},
   "outputs": [
    {
     "data": {
      "text/plain": [
       "4.2191285208314175e-16"
      ]
     },
     "execution_count": 222,
     "metadata": {},
     "output_type": "execute_result"
    }
   ],
   "source": [
    "def u_anal(x, y):\n",
    "    return x ** 2 + y ** 2\n",
    "\n",
    "\n",
    "h = 0.1\n",
    "x_max = 1.\n",
    "\n",
    "# генерируем сетку\n",
    "x1 = np.arange(0, x_max + h, h) \n",
    "x2 = np.arange(0, x_max + h, h)\n",
    "X1, X2 = np.meshgrid(x1, x2)\n",
    "U1 = u_anal(X1, X2)\n",
    "\n",
    "np.linalg.norm(y - U1) * h"
   ]
  },
  {
   "cell_type": "code",
   "execution_count": null,
   "id": "b0a9d075",
   "metadata": {},
   "outputs": [],
   "source": []
  }
 ],
 "metadata": {
  "kernelspec": {
   "display_name": "Python 3 (ipykernel)",
   "language": "python",
   "name": "python3"
  },
  "language_info": {
   "codemirror_mode": {
    "name": "ipython",
    "version": 3
   },
   "file_extension": ".py",
   "mimetype": "text/x-python",
   "name": "python",
   "nbconvert_exporter": "python",
   "pygments_lexer": "ipython3",
   "version": "3.9.12"
  }
 },
 "nbformat": 4,
 "nbformat_minor": 5
}
