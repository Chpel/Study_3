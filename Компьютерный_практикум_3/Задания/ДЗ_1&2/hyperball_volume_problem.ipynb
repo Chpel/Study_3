{
 "cells": [
  {
   "cell_type": "markdown",
   "id": "indian-complement",
   "metadata": {
    "id": "forced-patio"
   },
   "source": [
    "# Объем гипершара"
   ]
  },
  {
   "cell_type": "markdown",
   "id": "environmental-admission",
   "metadata": {
    "id": "lesbian-state"
   },
   "source": [
    "### Условие задачи\n",
    "\n",
    "**Дано:**\n",
    "- гипершар радиуса $1$ в пространстве $R^n, n=1..16$\n",
    "- величины абсолютной и относительной погрешностей: $10^{-6}$, $10^{-6}$\n",
    "- геометрический метод Монте-Карло\n",
    "\n",
    "**Требуется:**\n",
    "- указанным методом рассчитать объем гипершара в пространствах заданных размерностей\n",
    "- в процессе расчета выводить время расчета для каждой размерности пространства\n",
    "- оценить необходимое количество точек для достижения заданных погрешностей\n",
    "- отобразить график объема гипершара в зависимости от размерности пространства (график 1)\n",
    "- отобразить график количества точек в зависимости от размерности пространства (график 2)\n",
    "- вывести разницу между полученным результатом и точными значениями (точные значения приведены на Рис. 1)\n",
    "\n",
    "<img src='https://upload.wikimedia.org/wikipedia/commons/6/6c/Hypersphere_volume_and_surface_area_graphs.svg' width=480></img>\n",
    "\n",
    "<center>Рис. 1. График аналитической зависимости объема и площади поверхности гипершара от размерности пространства</center>\n",
    "\n",
    "**Описание метода:**\n",
    "\n",
    "Возьмем случайную равномерно распределенную выборку векторов $\\xi_k^{(n)}, k \\in [1, 2, ..., K]$ внутри куба $[0, 1]^n$.\n",
    "\n",
    "Пусть $T \\subset [1, 2, ..., K]$ - множество индексов векторов из выборки, лежащих внутри гипершара, т.е. $||\\xi_i^{(n)}|| < 1, i \\in T$.\n",
    "\n",
    "Тогда оценкой объема гипершара будет $V_K^{(n)} \\approx 2^n \\cdot \\frac{|T|}{K}$, где $|T|$ - количество элементов множества $T$.\n",
    "\n",
    "Для оценки вероятностной погрешности воспользуемся следующим подходом:\n",
    "- $\\Delta V_K^{(n)} = |V_{K+\\Delta K}^{(n)} - V_K^{(n)}|$\n",
    "- $s = \\varepsilon_a + |V_{K+\\Delta K}^{(n)}| * \\varepsilon_r$\n",
    "- условие $|\\Delta V_K^{(n)}| / s < 1.0$ означает, что удовлетворены абсолютная и относительная погрешности\n",
    "\n",
    "\n",
    "**Материалы:**\n",
    "- [N-sphere](https://en.wikipedia.org/wiki/N-sphere)\n",
    "- [Метод Монте-Карло](https://ru.wikipedia.org/wiki/Метод_Монте-Карло)\n",
    "- [Геометрический метод Монте-Карло](https://scask.ru/f_book_cmk.php?id=56)\n",
    "\n",
    "\n",
    "**Правила оценивания:**\n",
    "\n",
    "- оценка за корректно выполненный расчет для количества измерений `n`, баллов из 100:\n",
    "```\n",
    "    n   =    1,   2,   3,   4,   5,   6,   7,   8,   9,  10,  11,  12,  13,  14,   15,   16\n",
    "    g(n) = 1.0, 1.0, 1.0, 1.0, 1.0, 1.0, 1.0, 1.0, 1.1, 1.3, 1.6, 2.5, 4.5, 9.5, 21.5, 50.0\n",
    "```\n",
    "    \n",
    "- штрафы $p(i)$, баллов:\n",
    "    - не выведено время расчета - 20\n",
    "    - не выведено количество точек для каждой размерности - 20\n",
    "    - не построен график 1 - 20\n",
    "    - не построен график 2 - 20\n",
    "    - отсутствует сравнение с точными значениями - 20\n",
    "    - менее значимые недоработки - 10\n",
    "\n",
    "\n",
    "- итоговая оценка за задание = $\\sum_{n=1}^{16}{g(n)} - \\sum_{i}{p(i)}$\n"
   ]
  },
  {
   "cell_type": "code",
   "execution_count": 1,
   "id": "confirmed-instruction",
   "metadata": {
    "id": "metric-office"
   },
   "outputs": [],
   "source": [
    "import numpy as np\n",
    "import time as time"
   ]
  },
  {
   "cell_type": "markdown",
   "id": "numerous-pursuit",
   "metadata": {
    "id": "polar-ridge"
   },
   "source": [
    "**Массив истинных значений**"
   ]
  },
  {
   "cell_type": "code",
   "execution_count": 2,
   "id": "upset-queens",
   "metadata": {
    "colab": {
     "base_uri": "https://localhost:8080/"
    },
    "id": "under-steel",
    "outputId": "1c205131-ba20-4715-b46f-374012a66c54"
   },
   "outputs": [
    {
     "data": {
      "text/plain": [
       "array([1.        , 2.        , 3.14159265, 4.1887902 , 4.9348022 ,\n",
       "       5.26378901, 5.16771278, 4.72476597, 4.05871213, 3.2985089 ,\n",
       "       2.55016404, 1.88410388, 1.33526277, 0.91062875, 0.59926453,\n",
       "       0.38144327, 0.23533063])"
      ]
     },
     "execution_count": 2,
     "metadata": {},
     "output_type": "execute_result"
    }
   ],
   "source": [
    "V_true = np.array([1,2, np.pi, 4 * np.pi / 3, np.pi ** 2 / 2, 8 * np.pi ** 2 / 15, np.pi ** 3 / 6, 16 * np.pi ** 3 / 105, np.pi ** 4 / 24, 32 * np.pi ** 4 / 945, np.pi ** 5 / 120, 64 * np.pi ** 5 / 10395, np.pi ** 6 / 720, 128 * np.pi ** 6 / 135135, np.pi ** 7 / 5040, 15 * np.pi ** 7 / 118771, 0.23533063035889312])\n",
    "V_true"
   ]
  },
  {
   "cell_type": "markdown",
   "id": "seven-retail",
   "metadata": {
    "id": "polished-nepal"
   },
   "source": [
    "**Прототип**"
   ]
  },
  {
   "cell_type": "code",
   "execution_count": null,
   "id": "manual-price",
   "metadata": {
    "id": "lasting-swaziland"
   },
   "outputs": [],
   "source": [
    "e_r = 10 ** -6\n",
    "e_a = 10 ** -6\n",
    "\n",
    "def V_n(n: int, m: int) -> tuple:\n",
    "    \"\"\"\n",
    "    Программа-прототип:\n",
    "    - на каждом шаге цикла берётся m случайных векторов размерностью n: n координат с возможным значением каждой от нуля до единицы\n",
    "    - T из m векторов - вектора, лежащих в гипершаре (их модуль меньше единицы) \n",
    "    - В V_n лежит значение объёма до данного шага \n",
    "    - В V_npm выполняется пересчёт объёма с учётом результатов данного шага\n",
    "    - Условием прерывания цикла является условие, что разница между 'cтарым' и 'новым' объёмом по модулю меньше погрешности\n",
    "    \n",
    "    Параметры:\n",
    "    n : размерность пространства, в котором рассматривается гипершар (оно же количество координат в случайных векторах), целочисленное\n",
    "    m : количество векторов, рассматриваемых на каждом шаге, целочисленное\n",
    "    \n",
    "    Возвращает: Кортеж из двух значений (V_npm, N_all):\n",
    "    V_npm : последний расчитанный объём гипершара\n",
    "    N_all : кол-во векторов, которое потребовалось для достижения необходимой погрешности\n",
    "    \"\"\"\n",
    "    V_n = 0\n",
    "    V_m = 0\n",
    "    N_all = 0\n",
    "    K = 0\n",
    "    T = 0\n",
    "    while True:\n",
    "        K = 0\n",
    "        T = 0\n",
    "        for i in range(m):\n",
    "            v = np.random.rand(n)\n",
    "            if np.sqrt(np.sum(v ** 2)) < 1:\n",
    "                T += 1\n",
    "        V_m = (2 ** n) * T / m\n",
    "        V_npm = (V_n * N_all + V_m * m) / (N_all + m)\n",
    "        N_all += m\n",
    "        if (N_all > 0):\n",
    "            if (abs(V_npm - V_n) / (e_r + e_a * V_npm)) < 1:\n",
    "                break\n",
    "            else:\n",
    "                if (N_all % (m * 10) == 0):\n",
    "                    print(V_npm, N_all, \" большая погрешность: \", abs(V_npm - V_n) / (e_r + e_a * V_npm))\n",
    "        V_n = V_npm\n",
    "    return V_npm, N_all"
   ]
  },
  {
   "cell_type": "code",
   "execution_count": null,
   "id": "capital-harassment",
   "metadata": {
    "id": "alike-feelings",
    "outputId": "d285dc5d-8e60-44b0-f01e-c9e9ab9da782"
   },
   "outputs": [
    {
     "name": "stdout",
     "output_type": "stream",
     "text": [
      "4.67712 100000  большая погрешность:  1402.9022540380015\n",
      "4.7091199999999995 200000  большая погрешность:  460.2054994556548\n",
      "4.73984 300000  большая погрешность:  176.8642355524249\n",
      "4.7635200000000015 400000  большая погрешность:  1016.4728392478188\n",
      "4.772096 500000  большая погрешность:  596.4798186846484\n",
      "4.779093333333333 600000  большая погрешность:  136.39658370345785\n",
      "4.7797028571428575 700000  большая погрешность:  591.030978803814\n",
      "4.770720000000001 800000  большая погрешность:  766.1549724791539\n",
      "4.782506666666667 900000  большая погрешность:  164.9816499367074\n",
      "4.773248000000001 1000000  большая погрешность:  136.38664741127795\n",
      "4.776145454545455 1100000  большая погрешность:  383.50476689493894\n",
      "4.76864 1200000  большая погрешность:  327.2402320888855\n",
      "4.757366153846156 1300000  большая погрешность:  132.1746639795136\n",
      "4.757028571428572 1400000  большая погрешность:  373.6082877058283\n",
      "4.755712000000001 1500000  большая погрешность:  52.83575386515365\n",
      "4.755600000000001 1600000  большая погрешность:  175.27365199918574\n",
      "4.758287058823528 1700000  большая погрешность:  16.55750160138397\n",
      "4.756551111111109 1800000  большая погрешность:  67.01025929830092\n",
      "4.755536842105261 1900000  большая погрешность:  41.49383054081018\n",
      "4.750847999999998 2000000  большая погрешность:  124.8214429817692\n",
      "4.746361904761903 2100000  большая погрешность:  285.73261073772846\n",
      "4.741759999999998 2200000  большая погрешность:  106.37439664975766\n",
      "4.738782608695651 2300000  большая погрешность:  157.9558480584975\n",
      "4.7370133333333335 2400000  большая погрешность:  83.27825856719235\n",
      "4.735539199999999 2500000  большая погрешность:  45.13589844519482\n",
      "4.733981538461538 2600000  большая погрешность:  165.11902252193795\n",
      "4.734103703703703 2700000  большая погрешность:  150.59982334485005\n",
      "4.730011428571427 2800000  большая погрешность:  27.765882198987438\n",
      "4.7288496551724135 2900000  большая погрешность:  104.82387572785112\n",
      "4.724309333333332 3000000  большая погрешность:  29.265943454638272\n",
      "4.726544516129031 3100000  большая погрешность:  168.26455869505634\n",
      "4.725399999999998 3200000  большая погрешность:  36.246115725010355\n",
      "4.7255660606060585 3300000  большая погрешность:  150.74819085311486\n",
      "4.729298823529409 3400000  большая погрешность:  385.6908239126708\n",
      "4.728868571428568 3500000  большая погрешность:  156.48317642374278\n",
      "4.727111111111109 3600000  большая погрешность:  163.76737596506746\n",
      "Wall time: 1min 22s\n",
      "(4.7247956639566375, 3690000)\n",
      "4.724765970331401\n"
     ]
    }
   ],
   "source": [
    "n = 7\n",
    "m = 10000\n",
    "%time V = V_n(n, m)\n",
    "print(V)\n",
    "print(V_true[n])"
   ]
  },
  {
   "cell_type": "markdown",
   "id": "interim-collar",
   "metadata": {
    "id": "african-turtle"
   },
   "source": [
    "**Компиляция в njit**"
   ]
  },
  {
   "cell_type": "code",
   "execution_count": 4,
   "id": "quarterly-lyric",
   "metadata": {
    "id": "piano-stocks"
   },
   "outputs": [],
   "source": [
    "import matplotlib.pyplot as plt\n",
    "from numba import jit, njit, prange"
   ]
  },
  {
   "cell_type": "code",
   "execution_count": null,
   "id": "derived-constitutional",
   "metadata": {
    "id": "twenty-triangle"
   },
   "outputs": [],
   "source": [
    "@njit\n",
    "def V_n_njit(n: int, m: int) -> tuple:\n",
    "    \"\"\"\n",
    "    Ускоренная программа, оптимизированная под работу с массивами numpy и функциями данной библиотеки:\n",
    "    - на каждом шаге цикла берётся m случайных векторов размерностью n: n координат с возможным значением каждой от нуля до единицы\n",
    "    - T из m векторов - вектора, лежащих в гипершаре (их модуль меньше единицы) \n",
    "    - В V_n лежит значение объёма до данного шага \n",
    "    - В V_npm выполняется пересчёт объёма с учётом результатов данного шага\n",
    "    - Условием прерывания цикла является условие, что разница между 'cтарым' и 'новым' объёмом по модулю меньше погрешности\n",
    "    \n",
    "    Параметры:\n",
    "    n : размерность пространства, в котором рассматривается гипершар (оно же количество координат в случайных векторах), целочисленное\n",
    "    m : количество векторов, рассматриваемых на каждом шаге, целочисленное\n",
    "    \n",
    "    Возвращает: Кортеж из двух значений (V_npm, N_all):\n",
    "    V_npm : последний расчитанный объём гипершара\n",
    "    N_all : кол-во векторов, которое потребовалось для достижения необходимой погрешности\n",
    "    \"\"\"\n",
    "    e_r = 10 ** -6\n",
    "    e_a = 10 ** -6\n",
    "    V_n = 0\n",
    "    V_m = 0\n",
    "    N_all = 0\n",
    "    K = 0\n",
    "    T = 0\n",
    "    while True:\n",
    "        K = 0\n",
    "        T = 0\n",
    "        for i in range(m):\n",
    "            v = np.random.rand(n)\n",
    "            if np.sqrt(np.sum(v ** 2)) < 1:\n",
    "                T += 1\n",
    "        V_m = (2 ** n) * T / m\n",
    "        V_npm = (V_n * N_all + V_m * m) / (N_all + m)\n",
    "        if (N_all > 0):\n",
    "            if (abs(V_npm - V_n) / (e_r + e_a * V_npm)) < 1:\n",
    "                break\n",
    "        N_all += m\n",
    "        V_n = V_npm\n",
    "    return V_npm, N_all"
   ]
  },
  {
   "cell_type": "code",
   "execution_count": null,
   "id": "honey-behavior",
   "metadata": {
    "id": "minus-cemetery",
    "outputId": "413890b6-8159-4ea6-cb73-98abfed22408"
   },
   "outputs": [
    {
     "name": "stdout",
     "output_type": "stream",
     "text": [
      "1 Wall time: 3.23 s\n",
      "(2.0, 10000) , V_true =  2.0\n",
      "2 Wall time: 375 ms\n",
      "(3.1428999999999996, 870000) , V_true =  3.141592653589793\n",
      "3 Wall time: 328 ms\n",
      "(4.18992, 790000) , V_true =  4.1887902047863905\n",
      "4 Wall time: 252 ms\n",
      "(4.932769811320755, 520000) , V_true =  4.934802200544679\n",
      "5 Wall time: 743 ms\n",
      "(5.2512000000000025, 1630000) , V_true =  5.263789013914324\n",
      "6 Wall time: 271 ms\n",
      "(5.248, 470000) , V_true =  5.167712780049969\n"
     ]
    }
   ],
   "source": [
    "m=10000\n",
    "for i in range(1, 7):\n",
    "    print(i, end=' ')\n",
    "    %time V = V_n_njit(i,m)\n",
    "    print(V, \", V_true = \", V_true[i])"
   ]
  },
  {
   "cell_type": "markdown",
   "id": "parental-recognition",
   "metadata": {
    "id": "toxic-collector"
   },
   "source": [
    "**Пробуем распараллелить (чтобы предотвратить проблемы плохого рандома и слишком долгих расчётов, я добавил ограничение на кол-во шагов)**"
   ]
  },
  {
   "cell_type": "code",
   "execution_count": 5,
   "id": "dutch-essay",
   "metadata": {
    "id": "thorough-renewal"
   },
   "outputs": [],
   "source": [
    "@njit(parallel=True, boundscheck=False)\n",
    "def V_n_njit_parallel(n: int, m: int) -> tuple:\n",
    "    \"\"\"\n",
    "    Ускоренная программа, оптимизированная под работу с массивами numpy и функциями данной библиотеки с распараллеленными процессами:\n",
    "    \n",
    "    - перед началом основной программы заранее расчитывается начальный объём гипершара, чтобы предотвратить случайные выходы из программы\n",
    "      (например, если на двух первых шагах ни один вектор не лежал в шаре - тогда разница между ними будет нулевой (актуально для высоких пространств))\n",
    "    - программа производит шаги до тех пор пока не найдёт хотя бы один вектор лежащий в гипершаре в шаге\n",
    "    - на основе всех полученных векторов (за все шаги) рассчитывается начальный объём V_n\n",
    "    \n",
    "    - на каждом шаге цикла ПАРАЛЛЕЛЬНО берётся m случайных векторов размерностью n: n координат с возможным значением каждой от нуля до единицы\n",
    "    - T из m векторов - вектора, лежащих в гипершаре (их модуль меньше единицы) \n",
    "    - В V_n лежит значение объёма до данного шага \n",
    "    - В V_npm выполняется пересчёт объёма с учётом результатов данного шага\n",
    "    - Условием прерывания цикла является условие, что разница между 'cтарым' и 'новым' объёмом по модулю меньше погрешности\n",
    "    \n",
    "    Параметры:\n",
    "    n : размерность пространства, в котором рассматривается гипершар (оно же количество координат в случайных векторах), целочисленное\n",
    "    m : количество векторов, рассматриваемых на каждом шаге, целочисленное\n",
    "    \n",
    "    Возвращает: Кортеж из двух значений (V_npm, N_all):\n",
    "    V_npm : последний расчитанный объём гипершара\n",
    "    N_all : кол-во шагов, которое потребовалось для достижения необходимой погрешности\n",
    "    \"\"\"\n",
    "    e_r = 10 ** -6\n",
    "    e_a = 10 ** -6\n",
    "    V_n = 0\n",
    "    V_m = 0\n",
    "    N_all = 0\n",
    "    v = np.empty(n)\n",
    "    T = 0\n",
    "    while T == 0:\n",
    "        for i in prange(m):\n",
    "            v = np.random.rand(n)\n",
    "            if np.sqrt(np.sum(v ** 2)) < 1:\n",
    "                T += 1\n",
    "        N_all += 1\n",
    "    V_n = (2 ** n) * T / N_all / m\n",
    "    while True:\n",
    "        T = 0\n",
    "        for i in prange(m):\n",
    "            v = np.random.rand(n)\n",
    "            if np.sqrt(np.sum(v ** 2)) < 1:\n",
    "                T += 1\n",
    "        V_m = (2 ** n) * T / m\n",
    "        V_npm = (V_n * N_all + V_m) / (N_all + 1)\n",
    "        if (abs(V_npm - V_n) / (e_r + e_a * V_npm)) < 1:\n",
    "            break\n",
    "        V_n = V_npm\n",
    "        N_all += 1\n",
    "    return V_npm, N_all + 1"
   ]
  },
  {
   "cell_type": "code",
   "execution_count": 6,
   "id": "unnecessary-auckland",
   "metadata": {
    "colab": {
     "base_uri": "https://localhost:8080/"
    },
    "id": "sustained-harvard",
    "outputId": "670bddb3-d754-47b8-d5c3-52010800c368"
   },
   "outputs": [
    {
     "name": "stdout",
     "output_type": "stream",
     "text": [
      "D = 1: "
     ]
    },
    {
     "name": "stderr",
     "output_type": "stream",
     "text": [
      "/usr/local/lib/python3.7/dist-packages/numba/np/ufunc/parallel.py:363: NumbaWarning: The TBB threading layer requires TBB version 2019.5 or later i.e., TBB_INTERFACE_VERSION >= 11005. Found TBB_INTERFACE_VERSION = 9107. The TBB threading layer is disabled.\n",
      "  warnings.warn(problem)\n"
     ]
    },
    {
     "name": "stdout",
     "output_type": "stream",
     "text": [
      "2.0, N = 2 * m , time = 2.3256266117095947s, error = 0.0\n",
      "D = 2: 3.1416638596491224, N = 57 * m , time = 0.09333992004394531s, error = 7.120605932930957e-05\n",
      "D = 3: 4.188315918367348, N = 98 * m , time = 0.2386314868927002s, error = 0.0004742864190427909\n",
      "D = 4: 4.935233043478261, N = 92 * m , time = 0.30375075340270996s, error = 0.0004308429335821984\n",
      "D = 5: 5.271892000000001, N = 80 * m , time = 0.3223743438720703s, error = 0.008102986085677166\n",
      "D = 6: 5.179433513513513, N = 74 * m , time = 0.3611576557159424s, error = 0.011720733463543631\n",
      "D = 7: 4.715804444444443, N = 63 * m , time = 0.35628652572631836s, error = 0.008961525886957311\n",
      "D = 8: 4.0590024347826095, N = 230 * m , time = 1.3850455284118652s, error = 0.0002903083658418737\n",
      "D = 9: 3.3022601092896173, N = 183 * m , time = 1.2186410427093506s, error = 0.0037512065509113235\n",
      "D = 10: 2.539484689655171, N = 290 * m , time = 2.149688720703125s, error = 0.010679350222174033\n",
      "D = 11: 1.8633248554913282, N = 173 * m , time = 1.424748420715332s, error = 0.02077902389857189\n",
      "D = 12: 1.3502697965571213, N = 639 * m , time = 5.559782981872559s, error = 0.015007027702532039\n",
      "D = 13: 0.9011199999999999, N = 40 * m , time = 0.39079833030700684s, error = 0.009508754783283058\n",
      "D = 14: 0.5995968793024224, N = 34864 * m , time = 351.1940357685089s, error = 0.0003323499816305642\n",
      "D = 15: 0.3276800000000002, N = 46 * m , time = 0.495929479598999s, error = 0.053763268278046394\n",
      "D = 16: 0.23397666079501092, N = 189614 * m , time = 2192.8280296325684s, error = 0.0013539695638822014\n"
     ]
    }
   ],
   "source": [
    "m=100000\n",
    "V_count = [1]\n",
    "Ns = [0]\n",
    "for i in range(1, 16+1):\n",
    "    print(\"D = \", i, ':', sep='', end=' ')\n",
    "    time_start = time.time()\n",
    "    V = V_n_njit_parallel(i,m)\n",
    "    V_count.append(V[0])\n",
    "    Ns.append(V[1])\n",
    "    print(V[0],\", N = \", V[1], \" * m , time = \", time.time() - time_start,\"s, error = \", abs(V[0] - V_true[i]), sep='')"
   ]
  },
  {
   "cell_type": "code",
   "execution_count": 7,
   "id": "economic-butterfly",
   "metadata": {
    "colab": {
     "base_uri": "https://localhost:8080/",
     "height": 606
    },
    "id": "comprehensive-reggae",
    "outputId": "267406d8-bc2a-4315-abf3-74a3b514f560"
   },
   "outputs": [
    {
     "data": {
      "image/png": "[encoded data removed]",
      "text/plain": [
       "<Figure size 1440x720 with 1 Axes>"
      ]
     },
     "metadata": {
      "needs_background": "light"
     },
     "output_type": "display_data"
    }
   ],
   "source": [
    "fig, ax = plt.subplots(figsize=(20,10))\n",
    "\n",
    "ax.plot(V_true, label=\"True\")\n",
    "ax.plot(V_count, label=\"MC\")\n",
    "ax.set_xlabel(\"Dimensions\")\n",
    "ax.set_ylabel(\"V_n\")\n",
    "plt.legend()\n",
    "plt.show()"
   ]
  },
  {
   "cell_type": "code",
   "execution_count": 8,
   "id": "gentle-collins",
   "metadata": {
    "colab": {
     "base_uri": "https://localhost:8080/",
     "height": 606
    },
    "id": "assisted-terrorist",
    "outputId": "5732da87-ec64-4658-b487-62590ae0692f"
   },
   "outputs": [
    {
     "data": {
      "image/png": "[encoded data removed]",
      "text/plain": [
       "<Figure size 1440x720 with 1 Axes>"
      ]
     },
     "metadata": {
      "needs_background": "light"
     },
     "output_type": "display_data"
    }
   ],
   "source": [
    "fig, ax = plt.subplots(figsize=(20,10))\n",
    "ax.plot(Ns)\n",
    "ax.set_xlabel(\"Dimensions\")\n",
    "ax.set_ylabel(\"Number of steps\")\n",
    "plt.show()"
   ]
  },
  {
   "cell_type": "code",
   "execution_count": null,
   "id": "pleasant-relations",
   "metadata": {
    "id": "CS7lW19NV1QJ"
   },
   "outputs": [],
   "source": []
  }
 ],
 "metadata": {
  "colab": {
   "collapsed_sections": [],
   "name": "hyperball_volume_problem.ipynb",
   "provenance": []
  },
  "kernelspec": {
   "display_name": "Python 3",
   "language": "python",
   "name": "python3"
  },
  "language_info": {
   "codemirror_mode": {
    "name": "ipython",
    "version": 3
   },
   "file_extension": ".py",
   "mimetype": "text/x-python",
   "name": "python",
   "nbconvert_exporter": "python",
   "pygments_lexer": "ipython3",
   "version": "3.8.5"
  }
 },
 "nbformat": 4,
 "nbformat_minor": 5
}
