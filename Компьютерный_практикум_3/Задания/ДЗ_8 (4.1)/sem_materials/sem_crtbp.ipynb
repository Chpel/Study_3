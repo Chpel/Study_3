{
 "cells": [
  {
   "cell_type": "markdown",
   "metadata": {
    "pycharm": {
     "name": "#%% md\n"
    }
   },
   "source": [
    "# Компьютерный практикум 2021-2022"
   ]
  },
  {
   "cell_type": "markdown",
   "metadata": {},
   "source": [
    "## Ограниченная круговая задача трех тел. Неустойчивые орбиты вокруг $L_1$\n",
    "\n",
    "### Содержание:\n",
    "\n",
    "1. Ограниченная круговая задача трех тел\n",
    "    - введение\n",
    "    - система координат\n",
    "    - уравнения движения\n",
    "    - обезразмеривание\n",
    "3. Точки Лагранжа, численный расчет координат $L_1$\n",
    "4. Неустойчивые орбиты вокруг $L_1$\n",
    "5. Алгоритм расчета орбит вокруг $L_1$"
   ]
  },
  {
   "cell_type": "markdown",
   "metadata": {
    "pycharm": {
     "name": "#%% md\n"
    }
   },
   "source": [
    "## Ограниченная круговая задача трех тел\n"
   ]
  },
  {
   "cell_type": "markdown",
   "metadata": {},
   "source": [
    "### Введение\n",
    "\n",
    "- [Задача трех тел](https://en.wikipedia.org/wiki/Three-body_problem#Restricted_three-body_problem): три массивных тела движутся в их общем гравитационном поле. По заданным начальным положениям и скоростям необходимо вычислить положения и скорости всех трех тел в любой последующий момент времени.\n",
    "\n",
    "- [Ограниченная задача трех тел](): аналогична задаче трех тел, но одно из тел имеет пренебрежимо малую массу. Из этого следует, что два массивных тела движутся по траекториям, которые можно вычислить аналитически (окружность, эллипс, гипербола, ...), и необходимо найти только положение и скорость безмассового тела (космического аппарата).\n",
    "\n",
    "- [Ограниченная круговая задача трех тел](https://disk.yandex.ru/i/HfJaUW2Sm62td): аналогичная предыдущей задаче, но массивные тела движутся только по круговым орбитам относительно центра масс системы."
   ]
  },
  {
   "cell_type": "markdown",
   "metadata": {},
   "source": [
    "\n",
    "\n",
    "### Система координат\n",
    "\n",
    "Существуют системы координат (СК), в которых уравнения движения выглядят проще, чем в других.\n",
    "Для ОКЗТТ такой системой координат является следующая:\n",
    "- центр $O$ СК расположен в барицентре (центре масс) системы массивных тел\n",
    "- ось $OX$ направлена от тела большей массы к телу меньшей массы\n",
    "- ось $OZ$ ортогональна плоскости движения массивных тел\n",
    "- ось $OY$ дополняет СК до правой тройки"
   ]
  },
  {
   "cell_type": "markdown",
   "metadata": {},
   "source": [
    "\n",
    "\n",
    "### Уравнения движения\n",
    "\n",
    "(см. [Динамика Солнечной Системы](https://disk.yandex.ru/i/HfJaUW2Sm62td), с. 81)\n",
    "\n",
    "$\\begin{cases}\n",
    "\\ddot{x} - 2\\dot{y} = \\frac{\\partial{U}}{\\partial{x}} \\\\\n",
    "\\ddot{y} + 2\\dot{x} = \\frac{\\partial{U}}{\\partial{y}} \\\\\n",
    "\\ddot{z} = \\frac{\\partial{U}}{\\partial{z}} \\\\\n",
    "U = \\frac{1}{2} (x^2 + y^2) + \\frac{\\mu_1}{r_1} + \\frac{\\mu_2}{r_2} \\\\\n",
    "r^2_1 = (x + \\mu_2)^2 + y^2 + z^2 \\\\\n",
    "r^2_2 = (x - \\mu_1)^2 + y^2 + z^2\n",
    "\\end{cases}$"
   ]
  },
  {
   "cell_type": "markdown",
   "metadata": {
    "pycharm": {
     "name": "#%% md\n"
    }
   },
   "source": [
    "В более привычном виде:\n",
    "\n",
    "$\\begin{cases}\n",
    "\\ddot{x} = 2\\dot{y} + x - \\left( \\mu_1 \\frac{x + \\mu_2}{r^3_1} + \\mu_2 \\frac{x - \\mu_1}{r^3_2} \\right) \\\\\n",
    "\\ddot{y} = -2\\dot{x} + y - \\left( \\frac{\\mu_1}{r^3_1} + \\frac{\\mu_2}{r^3_2} \\right)y \\\\\n",
    "\\ddot{z} = - \\left( \\frac{\\mu_1}{r^3_1} + \\frac{\\mu_2}{r^3_2} \\right)z \\\\\n",
    "r^2_1 = (x + \\mu_2)^2 + y^2 + z^2 \\\\\n",
    "r^2_2 = (x - \\mu_1)^2 + y^2 + z^2\n",
    "\\end{cases}$"
   ]
  },
  {
   "cell_type": "markdown",
   "metadata": {
    "pycharm": {
     "name": "#%% md\n"
    }
   },
   "source": [
    "### Обезразмеривание\n",
    "\n",
    "- $\\mu_2 = \\frac{m_2}{m_1 + m_2}$\n",
    "- $\\mu_1 = 1 - \\mu2$\n",
    "\n",
    "- Более массивное тело имеет массу $\\mu_1$ и расположено в точке $(-\\mu_2, 0, 0)$\n",
    "\n",
    "- Менее массивное тело имеет массу $\\mu_2$ b и расположено в точке с $(\\mu_1, 0, 0)$\n",
    "\n",
    "- Расстояние между массивными телами = 1.0\n",
    "    - т.о. все координаты, заданные в километрах, необходимо разделить на расстояние между массивными телами в километрах\n"
   ]
  },
  {
   "cell_type": "markdown",
   "metadata": {
    "pycharm": {
     "name": "#%% md\n"
    }
   },
   "source": [
    "### Задание\n",
    "\n",
    "Реализовать правую часть уравнений движения, представленных выше, в виде функции `crtbp_ode` с декоратором `cfunc` (см. предыдущий семинар)."
   ]
  },
  {
   "cell_type": "code",
   "execution_count": null,
   "metadata": {
    "jupyter": {
     "outputs_hidden": false
    },
    "pycharm": {
     "name": "#%%\n"
    }
   },
   "outputs": [],
   "source": []
  },
  {
   "cell_type": "markdown",
   "metadata": {
    "pycharm": {
     "name": "#%% md\n"
    }
   },
   "source": [
    "### Точки лагранжа, расчет положения $L_1$\n",
    "\n",
    "Точки Лагранжа - частные решения ОКЗТТ.\n",
    "Если в любой из этих точек расположить невесомый космический аппарат с нулевой скоростью, то в рассматриваемой системе координат суммарное ускорение будет равно нулю.\n",
    "\n",
    "<img src=\"https://upload.wikimedia.org/wikipedia/commons/thumb/e/ee/Lagrange_points2.svg/1024px-Lagrange_points2.svg.png\" width=\"200px\" alt=\"Точки Лагранжа\" />"
   ]
  },
  {
   "cell_type": "markdown",
   "metadata": {},
   "source": [
    "Точка $L_1$ расположена на оси $OX$. Для вычисления её координаты $x$ запишем систему уравнений:\n",
    "\n",
    "$\\begin{cases}\n",
    "0 = x - \\left( \\mu_1 \\frac{x + \\mu_2}{r^3_1} + \\mu_2 \\frac{x - \\mu_1}{r^3_2} \\right) \\\\\n",
    "r^2_1 = (x + \\mu_2)^2 \\\\\n",
    "r^2_2 = (x - \\mu_1)^2\n",
    "\\end{cases}$\n",
    "\n",
    "Эту систему можно решить аналитически и получить координату $L_1$ как бесконечный ряд."
   ]
  },
  {
   "cell_type": "markdown",
   "metadata": {},
   "source": [
    "### Задание\n",
    "\n",
    "Найти координату $L_1$ для системы Солнце-Земля численно с погрешностью $10^{-12}$:\n",
    "- записать функцию $g(x) = f_{\\ddot{x}}(0., (x, 0., 0., 0., 0., 0.))$, где $f_{\\ddot{x}}$ - уравнение правой части СОДУ для $\\ddot{x}$\n",
    "- взять начальное приближение $x_0 = \\frac{3}{4} \\mu_1$\n",
    "- численно найти корень функции $g(x)$\n",
    "    - можно использовать функцию `root` из модуля `scipy.optimize`\n",
    "- параметр $\\mu_2 = 3.001348389698916e-06$"
   ]
  },
  {
   "cell_type": "code",
   "execution_count": 2,
   "metadata": {
    "jupyter": {
     "outputs_hidden": false
    },
    "pycharm": {
     "name": "#%%\n"
    }
   },
   "outputs": [],
   "source": [
    "mu2 = 3.001348389698916e-06\n",
    "mu1 = 1 - mu2\n",
    "R = 149600000  # км, среднее расстояние Солнце-Земля\n",
    "# xL1 = ?"
   ]
  },
  {
   "cell_type": "code",
   "execution_count": 4,
   "metadata": {
    "jupyter": {
     "outputs_hidden": false
    },
    "pycharm": {
     "name": "#%%\n"
    }
   },
   "outputs": [
    {
     "data": {
      "text/plain": [
       "1491220.3794059805"
      ]
     },
     "execution_count": 4,
     "metadata": {},
     "output_type": "execute_result"
    }
   ],
   "source": [
    "(mu1 - xL1) * R # км, расстояние L1-Земля ~ 1.5 млн. км."
   ]
  },
  {
   "cell_type": "markdown",
   "metadata": {},
   "source": [
    "### Неустойчивые орбиты вокруг точки $L_1$\n",
    "\n",
    "Существует несколько классов орбит вокруг точки $L_1$.\n",
    "Б**о**льшая часть из них является неустойчивой, т.к. это седловая точка.\n",
    "\n",
    "В целом, орбиты можно разделить на периодические и квази-периодчические.\n",
    "Орбиты некоторых классов можно увидеть [в этой работе](https://www.dropbox.com/s/wafy1jaylclngbv/Aksenov_ASR.pdf?dl=0).\n"
   ]
  },
  {
   "cell_type": "markdown",
   "metadata": {
    "pycharm": {
     "name": "#%% md\n"
    }
   },
   "source": [
    "### Алгоритм расчета орбит вокруг $L_1$\n",
    "\n",
    "Будем искать неустойчивые орбиты, симметричные относительно плоскости $XOZ$.\n",
    "Начальный вектор состояния будем брать на плоскости $XOZ$: $\\vec{s}_0 = (x_0, 0., z_0, 0., 0., 0.)$.\n",
    "Условие симметрии (квази-симметрии) говорит о том, что существует точка орбиты на плоскости $XOZ$, в которой скорость ортогональна этой плоскости. Таким образом, будем искать скорость $\\vec{v}_0 = (0., \\dot{y}_0, 0.)$, которая позволит двигаться максимально долго вокруг $L_1$.\n",
    "Неустойчивость орбиты говорит о том, что если мы ошиблись с выбором скорости $\\vec{v}_0$, то модуль координаты $x$ будет экспоненциально расти со временем.\n",
    "Выберем плоскости $x = x_{min}$ и $x = x_{max}$ и будем интегрировать движение КА до тех пор, пока траектория не пересечет любую из плоскостей.\n",
    "Если траектория пересекла плоскость $x = x_{min}$, то $\\dot{y}_0$ нужно увеличить. Иначе - уменьшить.\n",
    "Скорость, при которой траектрия не пересекает ни одну из плоскостей, соответствует орбите вокруг точки $L_1$. Эту скорость мы не можем найти точно, поэтому при вычислениях КА всегда будет пересекать одну из плоскостей.\n",
    "Таким образом, требуется найти указанную скорость с заданной точностью.\n",
    "\n",
    "При интегрировании взять шаг, равный 1 суткам, что в безразмерном виде равно $0.01721420632103996$.\n"
   ]
  },
  {
   "cell_type": "code",
   "execution_count": 5,
   "metadata": {
    "jupyter": {
     "outputs_hidden": false
    },
    "pycharm": {
     "name": "#%%\n"
    }
   },
   "outputs": [],
   "source": [
    "import numpy as np\n",
    "import matplotlib.pyplot as plt\n",
    "from crtbp_ode import crtbp_ode, rk4_nsteps\n",
    "\n",
    "d = (mu1 - xL1) * 0.99\n",
    "xmin = xL1 - d\n",
    "xmax = xL1 + d\n",
    "h = 0.001721420632103996  # nd, одни сутки, шаг по времени"
   ]
  },
  {
   "cell_type": "code",
   "execution_count": 6,
   "metadata": {
    "jupyter": {
     "outputs_hidden": false
    },
    "pycharm": {
     "name": "#%%\n"
    }
   },
   "outputs": [],
   "source": [
    "s0 = np.zeros(6)\n",
    "s0[[0, 2, 4]] = xL1 + d * 0.1, d * 0.1, 0.02\n",
    "\n",
    "arr0 = rk4_nsteps(crtbp_ode, 0., s0, h, mc, 500)"
   ]
  },
  {
   "cell_type": "code",
   "execution_count": 7,
   "metadata": {
    "jupyter": {
     "outputs_hidden": false
    },
    "pycharm": {
     "name": "#%%\n"
    }
   },
   "outputs": [],
   "source": [
    "s0 = np.zeros(6)\n",
    "s0[[0, 2, 4]] = xL1 + d * 0.1, d * 0.1, -0.02\n",
    "\n",
    "arr1 = rk4_nsteps(crtbp_ode, 0., s0, h, mc, 500)"
   ]
  },
  {
   "cell_type": "code",
   "execution_count": 8,
   "metadata": {
    "jupyter": {
     "outputs_hidden": false
    },
    "pycharm": {
     "name": "#%%\n"
    }
   },
   "outputs": [
    {
     "data": {
      "text/plain": [
       "Text(0, 0.5, 'y, nd')"
      ]
     },
     "execution_count": 8,
     "metadata": {},
     "output_type": "execute_result"
    },
    {
     "data": {
      "image/png": "[encoded data removed]",
      "text/plain": [
       "<Figure size 1200x800 with 1 Axes>"
      ]
     },
     "metadata": {
      "needs_background": "light"
     },
     "output_type": "display_data"
    }
   ],
   "source": [
    "# График на плоскости XOY\n",
    "\n",
    "plt.figure(dpi=200)\n",
    "\n",
    "# траектории\n",
    "plt.plot(arr0[:, 1], arr0[:, 2], label='$\\dot{y}_0 > \\dot{y}^*$')\n",
    "plt.plot(arr1[:, 1], arr1[:, 2], label='$\\dot{y}_0 < \\dot{y}^*$')\n",
    "\n",
    "# точка L1\n",
    "plt.plot(xL1, 0., 'ok')\n",
    "plt.text(xL1, 0., ' $L_1$')\n",
    "\n",
    "# Земля\n",
    "plt.plot(mu1, 0., 'ok')\n",
    "plt.text(mu1, 0., ' Earth')\n",
    "\n",
    "# Плоскости\n",
    "plt.axvline(xmin, ls='--', color='gray', alpha=0.5)\n",
    "plt.axvline(xmax, ls='--', color='gray', alpha=0.5)\n",
    "\n",
    "# Ось OX\n",
    "plt.axhline(0., ls='--', color='gray', alpha=0.5)\n",
    "\n",
    "plt.legend()\n",
    "\n",
    "plt.xlabel('x, nd')\n",
    "plt.ylabel('y, nd')"
   ]
  },
  {
   "cell_type": "markdown",
   "metadata": {
    "pycharm": {
     "name": "#%% md\n"
    }
   },
   "source": [
    "### Задание\n",
    "\n",
    "Модифицировать алгоритм интегрирования так, чтобы он останавливался при пересечении траекторией любой из плоскостей $x = x_{min}$ или $x = x_{max}$"
   ]
  },
  {
   "cell_type": "code",
   "execution_count": 10,
   "metadata": {
    "jupyter": {
     "outputs_hidden": false
    },
    "pycharm": {
     "name": "#%%\n"
    }
   },
   "outputs": [],
   "source": [
    "pl = np.array([xmin, xmax])"
   ]
  },
  {
   "cell_type": "markdown",
   "metadata": {
    "pycharm": {
     "name": "#%% md\n"
    }
   },
   "source": [
    "### Задание\n",
    "\n",
    "Реализовать функцию\n",
    "\n",
    "get_plane$(\\dot{y}_0) = \\begin{cases} -1, x_f <= xmin \\\\ 1, x_f >= xmax \\end{cases}$, где $x_f$ - координата $x$ КА в момент пересечения траекторией любой из плоскостей $x = x_{min}$ или $x = x_{max}$"
   ]
  },
  {
   "cell_type": "code",
   "execution_count": null,
   "metadata": {
    "jupyter": {
     "outputs_hidden": false
    },
    "pycharm": {
     "name": "#%%\n"
    }
   },
   "outputs": [],
   "source": []
  },
  {
   "cell_type": "markdown",
   "metadata": {},
   "source": [
    "### Задание\n",
    "\n",
    "Найти с заданной точностью разрыв функции get_plane, т.е. значение скорости $\\dot{y}^*$, с точностью $10^{-12}$.\n",
    "В качестве начального вектора состояния взять рассмотренный выше. Начальный отрезок для уточнения скорости: $[-0.02, 0.02]$.\n",
    "\n",
    "Можно использовать метод `bisect` из модуля `scipy.optimize`."
   ]
  },
  {
   "cell_type": "code",
   "execution_count": null,
   "metadata": {
    "jupyter": {
     "outputs_hidden": false
    },
    "pycharm": {
     "name": "#%%\n"
    }
   },
   "outputs": [],
   "source": []
  }
 ],
 "metadata": {
  "kernelspec": {
   "display_name": "Python 3 (ipykernel)",
   "language": "python",
   "name": "python3"
  },
  "language_info": {
   "codemirror_mode": {
    "name": "ipython",
    "version": 3
   },
   "file_extension": ".py",
   "mimetype": "text/x-python",
   "name": "python",
   "nbconvert_exporter": "python",
   "pygments_lexer": "ipython3",
   "version": "3.9.12"
  }
 },
 "nbformat": 4,
 "nbformat_minor": 4
}
