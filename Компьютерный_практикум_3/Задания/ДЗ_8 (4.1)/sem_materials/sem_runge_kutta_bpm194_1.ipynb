{
 "cells": [
  {
   "cell_type": "markdown",
   "metadata": {},
   "source": [
    "# Компьютерный практикум 2021-2022"
   ]
  },
  {
   "cell_type": "markdown",
   "metadata": {
    "pycharm": {
     "name": "#%% md\n"
    }
   },
   "source": [
    "## Численное интегрирование обыкновенных дифференциальных уравнений\n",
    "\n",
    "### Содержание:\n",
    "\n",
    "1. Методы Рунге-Кутта\n",
    "2. Пример - явный метод 4 порядка\n",
    "3. Обобщение, таблица Бутчера\n",
    "4. Пример - СОДУ первого порядка\n",
    "5. СОДУ более высоких порядков\n",
    "6. Пример ОДУ второго порядка\n",
    "7. Таблицы Бутчера для методов высоких порядков"
   ]
  },
  {
   "cell_type": "markdown",
   "metadata": {},
   "source": [
    "## [Методы Рунге-Кутты](https://ru.wikipedia.org/wiki/Метод_Рунге_—_Кутты)\n",
    "\n",
    "Это класс методов для численного решения задачи Коши для систем обыкновенных дифференциальных уравнений (СОДУ).\n",
    "\n",
    "> Также эти методы называют методами интегрирования дифференциальных уравнений, т.к. они предназначены для вычисления неизвестной функции по известному уравнению (системе уравнений) для производной.\n",
    "> В программном коде часто можно встретить название *интегратор*, под которым обычно подрузамевается конкретная реализация метода с учетом технических особенностей.\n",
    "\n",
    "Задача Коши - задача с начальными условиями.\n",
    "\n",
    "\n",
    "$\\begin{cases}\n",
    "\\dot{\\vec{s}}(t) = \\vec{f}(t, \\vec{s}) \\\\\n",
    "\\vec{s}(t_0) = \\vec{s}_0\n",
    "\\end{cases}\n",
    "$\n",
    "\n",
    "Численно решить такую систему - означает получить таблицу:\n",
    "\n",
    "| Независимый аргрумент | Вектор состояния           |\n",
    "|:----------------------|:---------------------------|\n",
    "| $t_0$                 | $\\vec{s}_0 = \\vec{s}(t_0)$ |\n",
    "| $t_1$                 | $\\vec{s}_1 = \\vec{s}(t_1)$ |\n",
    "| $t_2$                 | $\\vec{s}_2 = \\vec{s}(t_2)$ |\n",
    "| ...                   | ...                        |\n",
    "| $t_n$                 | $\\vec{s}_n = \\vec{s}(t_n)$ |\n",
    "\n",
    ", где $\\vec{s}(t)$ - искомая функция.\n",
    "\n",
    "По-скольку таблица не может быть бесконечной, при численном решении всегда указывается не только начальное значение $t_0$, но и конечное $t_n$.\n",
    "\n",
    "Вычисление значений таблицы происходит по следующему алгоритму:\n",
    "\n",
    "- по условию задачи Коши $t_0, \\vec{s}_0$ заданы\n",
    "- $t_0, \\vec{s}_0$ $\\rightarrow$ $\\dot{\\vec{s}}(t_0) = \\vec{f}(t_0, \\vec{s}_0)$\n",
    "- $t_1 = t_0 + \\Delta{t}_0$, где $\\Delta{t}_0$ - константа или расчетное значение на основе допустимых погрешностей\n",
    "- $\\dot{\\vec{s}}(t_0), t_1$ $\\rightarrow$ применяется формула метода $\\rightarrow$ $\\vec{s}_1$\n",
    "- повторение алгоритма для $t_1, \\vec{s}_1$\n",
    "- и т.д. до достижения $t_n$"
   ]
  },
  {
   "cell_type": "markdown",
   "metadata": {},
   "source": [
    "## Пример - классический метод 4-го порядка\n",
    "\n",
    "Метод 4 порядка описыватеся следущими соотношениями:\n",
    "\n",
    "$\\begin{cases}\n",
    "\\vec{k}_1 = \\vec{f}(t_n, \\vec{s}_n) \\\\\n",
    "\\vec{k}_2 = \\vec{f}(t_n + \\frac{h}{2}, \\vec{s}_n + \\frac{h}{2}\\vec{k}_1) \\\\\n",
    "\\vec{k}_3 = \\vec{f}(t_n + \\frac{h}{2}, \\vec{s}_n + \\frac{h}{2}\\vec{k}_2) \\\\\n",
    "\\vec{k}_4 = \\vec{f}(t_n + h, \\vec{s}_n + h\\vec{k}_3) \\\\\n",
    "\\vec{s}_{n+1} = \\vec{s}_n + \\frac{h}{6}(\\vec{k}_1 + 2 \\vec{k}_2 + 2 \\vec{k}_3 + \\vec{k}_4)\n",
    "\\end{cases}\n",
    "$\n",
    "\n",
    ", где все $\\Delta{t}_i = h$.\n",
    "\n",
    "Четыре вычисления $k_i$ означает, что метод является *четырехэтапным*.\n",
    "\n",
    "Четвертый порядок точности означает, что абсолютная погрешность на одном шаге имеет порядок $O(h^5)$, а суммарная абсолютная погрешность на отрезке $[t_0, t_n]$ имеет порядок $O(h^4)$."
   ]
  },
  {
   "cell_type": "code",
   "execution_count": null,
   "metadata": {
    "pycharm": {
     "name": "#%%\n"
    }
   },
   "outputs": [],
   "source": []
  },
  {
   "cell_type": "markdown",
   "metadata": {},
   "source": [
    "## Обобщение, таблица Бутчера\n",
    "\n",
    "В общем виде s-этапный метод Рунге-Кутты описывается следующими соотношениями:\n",
    "\n",
    "$\\begin{cases}\n",
    "\\vec{k}_1 = \\vec{f}(t_n, \\vec{s}_n) \\\\\n",
    "\\vec{k}_2 = \\vec{f}(t_n + c_2 h, \\vec{s}_n + a_{2,1} h \\vec{k}_1) \\\\\n",
    "\\vec{k}_3 = \\vec{f}(t_n + c_3 h, \\vec{s}_n + a_{3,1} h \\vec{k}_1 + a_{3,2} h \\vec{k}_2) \\\\\n",
    "... \\\\\n",
    "\\vec{k}_s = \\vec{f}(t_n + c_s h, \\vec{s}_n + a_{s,1} h \\vec{k}_1 + a_{s,2} h \\vec{k}_2 + ... + a_{s,s-1} h \\vec{k}_{s-1}) \\\\\n",
    "\\vec{s}_{n+1} = \\vec{s}_n + h \\sum_{i=1}^{s} b_i \\vec{k_i}\n",
    "\\end{cases}\n",
    "$\n",
    "\n",
    ", где все $\\Delta{t}_i = h$\n",
    "\n",
    "Таким образом, можно выписать все коэффициенты в таблицу:\n",
    "\n",
    "$\n",
    "{\\displaystyle {\\begin{array}{c|ccccc}0&&&&&\\\\c_{2}&a_{21}&&&&\\\\c_{3}&a_{31}&a_{32}&&&\\\\\\vdots &\\vdots &\\vdots &\\ddots &&\\\\c_{s}&a_{s1}&a_{s2}&\\dots &a_{ss-1}&\\\\\\hline &b_{1}&b_{2}&\\dots &b_{s-1}&b_{s}\\end{array}}}\n",
    "$\n",
    "\n",
    "Следовательно, любой метод Рунге-Кутты можно описать таблицей Бутчера, состоящей из матрицы $\\textbf{A}$ и векторов $\\vec{b}, \\vec{c}$"
   ]
  },
  {
   "cell_type": "markdown",
   "metadata": {},
   "source": [
    "### Задание\n",
    "\n",
    "Выписать таблицу Бутчера для метода Рунге-Кутты 4 порядка\n"
   ]
  },
  {
   "cell_type": "code",
   "execution_count": 5,
   "metadata": {
    "pycharm": {
     "name": "#%%\n"
    }
   },
   "outputs": [],
   "source": [
    "c = np.array([0, 1/2, 1/2, 1])\n",
    "b = np.array([1/6, 1/3, 1/3, 1/6])\n",
    "\n",
    "A = np.array([[0, 0, 0, 0],\n",
    "              [1/2, 0, 0, 0],\n",
    "              [0, 1/2, 0, 0],\n",
    "              [0, 0, 1, 0]])"
   ]
  },
  {
   "cell_type": "markdown",
   "metadata": {},
   "source": [
    "## Пример - система ОДУ первого порядка\n",
    "\n",
    "[Модель Лотки-Вольтерры](https://ru.wikipedia.org/wiki/Модель_Лотки_—_Вольтерры?utm_source=wikipedia)\n",
    "\n",
    "Это простейшая модель взаимодействия двух видов типа \"хищник-жертва\".\n",
    "\n",
    "$\\begin{cases}\n",
    "\\frac{dx}{dt} = (\\alpha - \\beta y) x \\\\\n",
    "\\frac{dy}{dt} = (-\\gamma + \\delta x) y\n",
    "\\end{cases}$\n",
    "\n",
    "Возьмем параметры модели $\\alpha, \\beta, \\gamma, \\delta$ равными $1.0$.\n",
    "\n",
    "Известно, что стационарная точка этой системы:\n",
    "$\\begin{cases}\n",
    "\\hat{x} = \\frac{\\gamma}{\\delta} \\\\\n",
    "\\hat{y} = \\frac{\\alpha}{\\beta} \\\\\n",
    "\\end{cases}$\n",
    "\n",
    "Решим задачу Коши:\n",
    "- $t_0 = 0.$\n",
    "- $x_0 = \\hat{x} + 1.0$\n",
    "- $y_0 = \\hat{y} + 1.0$\n",
    "- $t_1 = 10.0$\n",
    "- $\\Delta t = 0.1$"
   ]
  },
  {
   "cell_type": "code",
   "execution_count": 6,
   "metadata": {
    "pycharm": {
     "is_executing": true
    }
   },
   "outputs": [],
   "source": [
    "import numpy as np\n",
    "import matplotlib.pyplot as plt\n",
    "from rk_examples import rk4_nsteps, lv_ode\n",
    "# пояснения по rk_examples"
   ]
  },
  {
   "cell_type": "code",
   "execution_count": 7,
   "metadata": {
    "pycharm": {
     "name": "#%%\n"
    }
   },
   "outputs": [],
   "source": [
    "t0 = 0.\n",
    "t1 = 10.\n",
    "n = 100\n",
    "h = (t1 - t0) / n\n",
    "a, b, c, d = 1.0, 1.0, 1.0, 1.0\n",
    "mc = np.array([a, b, c, d])\n",
    "\n",
    "xhat = c/d\n",
    "yhat = a/b\n",
    "\n",
    "s0 = np.array([xhat, yhat]) + np.array([1., 1.])"
   ]
  },
  {
   "cell_type": "code",
   "execution_count": 3,
   "metadata": {
    "pycharm": {
     "name": "#%%\n"
    }
   },
   "outputs": [],
   "source": [
    "arr = rk4_nsteps(lv_ode, # правая часть СОДУ Лотки-Вольтерры\n",
    "                 t0,     # начальный момент времени\n",
    "                 s0,     # начальный вектор состояния\n",
    "                 h,      # шаг по времени\n",
    "                 mc,     # параметры (константы) модели\n",
    "                 n)      # количество шагов"
   ]
  },
  {
   "cell_type": "code",
   "execution_count": 4,
   "metadata": {
    "pycharm": {
     "name": "#%%\n"
    }
   },
   "outputs": [
    {
     "data": {
      "text/plain": [
       "<matplotlib.legend.Legend at 0x1698b8a4f10>"
      ]
     },
     "execution_count": 4,
     "metadata": {},
     "output_type": "execute_result"
    },
    {
     "data": {
      "image/png": "[encoded data removed]",
      "text/plain": [
       "<Figure size 432x288 with 1 Axes>"
      ]
     },
     "metadata": {
      "needs_background": "light"
     },
     "output_type": "display_data"
    }
   ],
   "source": [
    "plt.plot(arr[:, 0], arr[:, 1], '-r', label='жертвы')\n",
    "plt.plot(arr[:, 0], arr[:, 2], '-g', label='хищники')\n",
    "plt.ylabel('Размер популяции')\n",
    "plt.xlabel('Время')\n",
    "plt.legend()"
   ]
  },
  {
   "cell_type": "markdown",
   "metadata": {},
   "source": [
    "## Системы ОДУ более высоких порядков\n",
    "\n",
    "Система ОДУ n-го порядка записывается так:\n",
    "\n",
    "$\\vec{s}^{(n)}(t) = \\vec{f}(t, \\vec{s}, \\dot{\\vec{s}}, \\ddot{\\vec{s}}, ... \\vec{s}^{(n-1)})$\n",
    "\n",
    "Такие системы пожно привести к системе ОДУ первого порядка:\n",
    "\n",
    "$\\begin{cases}\n",
    "\\dot{\\vec{s}} = \\vec{v}_1 \\\\\n",
    "\\dot{\\vec{v}}_1 = \\ddot{\\vec{s}} = \\vec{v}_2 \\\\\n",
    "... \\\\\n",
    "\\dot{\\vec{v}}_{n-2} = \\vec{s}^{(n-1)} = \\vec{v}_{n-1} \\\\\n",
    "\\dot{\\vec{v}}_{n-1} = \\vec{f}(t, \\vec{s}, \\vec{v}_1, \\vec{v}_2, ... \\vec{v}_{n-1})\n",
    "\\end{cases}$"
   ]
  },
  {
   "cell_type": "markdown",
   "metadata": {},
   "source": [
    "## Пример - ОДУ второго порядка\n",
    "\n",
    "[Модель математического маятника](https://ru.wikipedia.org/wiki/Математический_маятник?utm_source=wikipedia):\n",
    "\n",
    "\n",
    "$\\ddot{\\theta} + \\frac{g}{L} \\sin(\\theta) = 0$"
   ]
  },
  {
   "cell_type": "markdown",
   "metadata": {},
   "source": [
    "### Задание\n",
    "\n",
    "1. Привести уравнение математического маятника к системе уравнений первого порядка и создать функцию правой части в файле `rk_examples.py`\n",
    "2. Решить задачу Коши:\n",
    "    - $g, L = 1.0$\n",
    "    - $\\theta_0 = 170^{\\circ}$\n",
    "    - $\\dot{\\theta}_0 = 0.0$\n",
    "    - $t_0 = 0.0$\n",
    "    - $t_1 = 50.0$"
   ]
  },
  {
   "cell_type": "markdown",
   "metadata": {
    "pycharm": {
     "name": "#%% md\n"
    }
   },
   "source": [
    "$\\begin{cases}\n",
    "\\dot{\\theta} = \\omega \\\\\n",
    "\\dot{\\omega} = -\\frac{g}{L} \\sin(\\theta)\n",
    "\\end{cases}$"
   ]
  },
  {
   "cell_type": "code",
   "execution_count": 1,
   "metadata": {
    "pycharm": {
     "is_executing": true
    }
   },
   "outputs": [],
   "source": [
    "import numpy as np\n",
    "import matplotlib.pyplot as plt\n",
    "from rk_examples import rk4_nsteps, mp_ode"
   ]
  },
  {
   "cell_type": "code",
   "execution_count": 17,
   "metadata": {
    "pycharm": {
     "name": "#%%\n"
    }
   },
   "outputs": [],
   "source": [
    "t0 = 0.\n",
    "t1 = 50.\n",
    "n = 1000\n",
    "h = (t1 - t0) / n\n",
    "g, L = 1.0, 1.0\n",
    "mc = np.array([g, L])\n",
    "\n",
    "s0 = np.array([np.deg2rad(150), 0.])"
   ]
  },
  {
   "cell_type": "code",
   "execution_count": 18,
   "metadata": {
    "pycharm": {
     "name": "#%%\n"
    }
   },
   "outputs": [],
   "source": [
    "arr = rk4_nsteps(mp_ode, # правая часть СОДУ Лотки-Вольтерры\n",
    "                 t0,     # начальный момент времени\n",
    "                 s0,     # начальный вектор состояния\n",
    "                 h,      # шаг по времени\n",
    "                 mc,     # параметры (константы) модели\n",
    "                 n)      # количество шагов"
   ]
  },
  {
   "cell_type": "code",
   "execution_count": 19,
   "metadata": {
    "pycharm": {
     "name": "#%%\n"
    }
   },
   "outputs": [
    {
     "data": {
      "text/plain": [
       "<matplotlib.legend.Legend at 0x1c74a85d0a0>"
      ]
     },
     "execution_count": 19,
     "metadata": {},
     "output_type": "execute_result"
    },
    {
     "data": {
      "image/png": "[encoded data removed]",
      "text/plain": [
       "<Figure size 432x288 with 1 Axes>"
      ]
     },
     "metadata": {
      "needs_background": "light"
     },
     "output_type": "display_data"
    }
   ],
   "source": [
    "plt.plot(arr[:, 0], arr[:, 1], '-r', label=r'$\\theta$')\n",
    "plt.plot(arr[:, 0], arr[:, 2], '-g', label=r'$\\omega$')\n",
    "plt.ylabel('Угол, угловая скорость')\n",
    "plt.xlabel('Время')\n",
    "plt.legend()"
   ]
  },
  {
   "cell_type": "code",
   "execution_count": null,
   "metadata": {},
   "outputs": [],
   "source": []
  },
  {
   "cell_type": "markdown",
   "metadata": {},
   "source": [
    "## Таблицы Бутчера для методов высоких порядков\n",
    "\n",
    "[Tracker Component Library | Differential Equations](https://github.com/USNavalResearchLaboratory/TrackerComponentLibrary/tree/master/Mathematical_Functions/Differential_Equations)\n",
    "\n",
    "[Один шаг Рунге-Кутты](https://github.com/USNavalResearchLaboratory/TrackerComponentLibrary/blob/master/Mathematical_Functions/Differential_Equations/RungeKStep.m)"
   ]
  },
  {
   "cell_type": "markdown",
   "metadata": {},
   "source": [
    "### Задание\n",
    "\n",
    "- реализовать один шаг обобщенным методом Рунге-Кутты (на основе таблицы Бутчера $A, b, c$)\n",
    "- реализовать функцию $n$-шагов обобщенным методом Рунге-Кутты\n",
    "- сравнить решение задачи Коши для математического маятника для двух случаев:\n",
    "    - рассмотренную выше (на основе специальной реализации метода РК 4 порядка)\n",
    "    - реализованную на основе обобщенных функций и таблицы Бутчера, построенной ранее\n",
    "- перенести таблицу Бутчера для одного из методов 7 или 8 порядка из библиотеки `Tracker Component Library`\n",
    "    - решить задачу Коши для математического маятника реализованным методом"
   ]
  },
  {
   "cell_type": "code",
   "execution_count": null,
   "metadata": {
    "pycharm": {
     "name": "#%%\n"
    }
   },
   "outputs": [],
   "source": []
  }
 ],
 "metadata": {
  "kernelspec": {
   "display_name": "Python 3",
   "language": "python",
   "name": "python3"
  },
  "language_info": {
   "codemirror_mode": {
    "name": "ipython",
    "version": 3
   },
   "file_extension": ".py",
   "mimetype": "text/x-python",
   "name": "python",
   "nbconvert_exporter": "python",
   "pygments_lexer": "ipython3",
   "version": "3.8.5"
  }
 },
 "nbformat": 4,
 "nbformat_minor": 4
}
