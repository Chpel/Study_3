{
 "cells": [
  {
   "cell_type": "markdown",
   "metadata": {
    "collapsed": true,
    "pycharm": {
     "name": "#%% md\n"
    }
   },
   "source": [
    "# Карты видимости\n",
    "космических аппаратов с наземных пунктов с учетом различных условий"
   ]
  },
  {
   "cell_type": "markdown",
   "metadata": {
    "pycharm": {
     "name": "#%% md\n"
    }
   },
   "source": [
    "### Условие задачи\n",
    "\n",
    "\n",
    "**Дано:**\n",
    "\n",
    "- модуль [spiceypy](https://pypi.org/project/spiceypy/), реализующий python-интерфейс для библиотеки [SPICE](https://naif.jpl.nasa.gov/naif/aboutspice.html)\n",
    "- датасет kernels.zip, содержащий файлы (ядра) с необходимыми данными для расчета временных интервалов\n",
    "- набор функций `utils.py`, упрощающих работу со `spiceypy`\n",
    "\n",
    "\n",
    "**Требуется:**\n",
    "\n",
    "\n",
    "1. Выполнить расчеты окон видимости для следующих наземных пунктов, аппаратов и условий, представленных в таблице.\n",
    "Окно видимости - это набор интервалов видимости внутри заданного временного отрезка.\n",
    "**При расчетах необходимо корректно учесть, что для некоторых объектов информация в датасете покрывает заданный временной отрезок только частично.**\n",
    "\n",
    "```\n",
    "KIP = (BEAR, USSURIYSK)\n",
    "dates = [2022-JUN-01, 2026-JUN-01]\n",
    "\n",
    "№   target    observer  frame         min_elev  trg_spk               obs_spk\n",
    "---------------------------------------------------------------------------------------------\n",
    "1   LG_SITE1  KIP       KIP_TOPO      10        LunaGlob_site.bsp     earthstns_iau_earth.bsp\n",
    "    intersect with\n",
    "    SUN       LG_SITE1  LG_SITE1_TOPO  5        de432s.bsp            LunaGlob_site.bsp\n",
    "2   -551      KIP       KIP_TOPO      10        spektr_rg.bsp         earthstns_iau_earth.bsp\n",
    "3   -172      KIP       KIP_TOPO      10        exomars.bsp           earthstns_iau_earth.bsp\n",
    "4   MARS      KIP       KIP_TOPO      10        mar097_2022_2032.bsp  earthstns_iau_earth.bsp\n",
    "```\n",
    "Обозначения:\n",
    "\n",
    "`target` - цель наблюдения\n",
    "`observer` - наблюдатель\n",
    "`frame` - система отсчета\n",
    "`min_elev` - минимальный угол места (широта в системе отсчета `_TOPO`)\n",
    "`trg_spk` - SPK-файл с данными о траектории цели наблюдения\n",
    "`obs_spk` - SPK-файл с данными о траектории наблюдателя\n",
    "`dates` - заданный временной отрезок\n",
    "\n",
    "`KIP` - наземный пункт (контрольно-измерительный пункт):\n",
    "- Медвежьи озера (`BEAR`)\n",
    "- Уссурийск (`USSURIYSK`)\n",
    "\n",
    "`LG_SITE1` - одно из возможных мест посадки модуля Луна-Глоб\n",
    "`SUN` - Солнце (звезда)\n",
    "`-551` - космический аппарат Спектр-РГ\n",
    "`-172` - космический аппарат Экзомарс\n",
    "`MARS` - Марс (планета)\n",
    "\n",
    "`intersect with` обозначает, что необходимо выполнить пересечение двух окон\n",
    "\n",
    "\n",
    "2. Преобразовать рассчитанные окна видимости в `pandas DataFrame` со столбцами:\n",
    "\n",
    "    - `start` (начало интервала видимости, формат `datetime`)\n",
    "    - `end` (конец интервала видимости, формат `datetime`)\n",
    "    - `duration` (продолжительность, формат `timedelta`)\n",
    "\n",
    "    и **сохранить их в файлы** в форматах `pickle` и `csv`.\n",
    "\n",
    "\n",
    "3. Повторить карты видимости:\n",
    "   - [Медвежьи озера (BEAR.png)](BEAR.png)\n",
    "   - [Уссурийск (USSURIYSK.png)](USSURIYSK.png)\n",
    "\n",
    "    Карты видимости рассмотрены на семинаре 16.\n",
    "\n",
    "\n",
    "4. Задокументировать все реализованные функции\n",
    "\n",
    "\n",
    "**Материалы:**\n",
    "- Библиотека [SPICE](https://naif.jpl.nasa.gov/naif/aboutspice.html)\n",
    "- Семинары 15, 16\n",
    "\n",
    "\n",
    "**Рекомендации:**\n",
    "- использовать IDE **Pycharm** (полная версия для студентов и преподавателей)\n",
    "\n",
    "\n",
    "**Правила оценивания:**\n",
    "\n",
    "- оценка за корректно выполненные расчеты:\n",
    "```\n",
    "    KIP    =  BEAR USSURIYSK\n",
    "    g(KIP) =  50   50\n",
    "```\n",
    "\n",
    "- штрафы $p(j)$, баллов:\n",
    "    - небольшие погрешности в расчетах - 10\n",
    "    - не сохранены файлы с результатами вычислений - 20\n",
    "    - нет документации функций - 20\n",
    "    - небольшие погрешности на графиках - 10\n",
    "    - менее значимые недоработки - 10\n",
    "\n",
    "\n",
    "- итоговая оценка за задание = $\\sum_{KIP}g(KIP) - \\sum_{j}{p(j)}$"
   ]
  },
  {
   "cell_type": "code",
   "execution_count": null,
   "metadata": {
    "pycharm": {
     "name": "#%%\n"
    }
   },
   "outputs": [],
   "source": []
  }
 ],
 "metadata": {
  "kernelspec": {
   "display_name": "Python 3 (ipykernel)",
   "language": "python",
   "name": "python3"
  },
  "language_info": {
   "codemirror_mode": {
    "name": "ipython",
    "version": 3
   },
   "file_extension": ".py",
   "mimetype": "text/x-python",
   "name": "python",
   "nbconvert_exporter": "python",
   "pygments_lexer": "ipython3",
   "version": "3.9.12"
  }
 },
 "nbformat": 4,
 "nbformat_minor": 1
}
