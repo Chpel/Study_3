{
 "cells": [
  {
   "cell_type": "code",
   "execution_count": 3,
   "id": "serial-soviet",
   "metadata": {},
   "outputs": [],
   "source": [
    "import numpy as np\n",
    "from sympy import *\n",
    "from sympy.matrices.dense import MutableDenseMatrix as mtrx\n",
    "from sympy.vector import gradient"
   ]
  },
  {
   "cell_type": "code",
   "execution_count": 4,
   "id": "impossible-catering",
   "metadata": {},
   "outputs": [],
   "source": [
    "def GradDown2D(A: mtrx, B: mtrx, C: float, x0: mtrx, e: float):\n",
    "    x = x0 #x1 на бумаге\n",
    "    v = Matrix([Symbol('x'), Symbol('y')])\n",
    "    f = (A*v).dot(v)/2 + B.dot(v) + C\n",
    "    i = 1 #номер шага\n",
    "    print('f(x,y) =', f)\n",
    "    print(f'x{i} = x0 =', x)\n",
    "    GrF = Matrix([f.diff('x').subs([('x',x[0]),('y', x[1])]), f.diff('y').subs([('x',x0[0]),('y', x0[1])])]) # df(x1) = -h1\n",
    "    print(f'h{i} = -Grad(f(x{i})) =', -GrF)\n",
    "    while (abs(GrF[0]) > e or abs(GrF[1]) > e): # условие остановки\n",
    "        a = - (A * x + B).dot(-GrF) / (A * (-GrF)).dot(-GrF) #alpha1,2 и т.д.\n",
    "        print(f'a{i} = -(Ax{i} + B, h{i}) / (Ah{i}, h{i}) =', a)\n",
    "        x = x + a * (-GrF) # x_n = x_n-1 + alpha_n-1 * h_n-1\n",
    "        i += 1\n",
    "        print(f'x{i} = x{i-1} + a{i-1} * h{i-1} =', x)\n",
    "        GrF = Matrix([f.diff('x').subs([('x',x[0]),('y', x[1])]), f.diff('y').subs([('x',x[0]),('y', x[1])])]) #df(x_n) = -h_n\n",
    "        print(f'h{i} = -Grad(f(x{i})) =', -GrF)\n",
    "    print(f'h{i} подходит под условие остановки')\n",
    "    return x.T"
   ]
  },
  {
   "cell_type": "code",
   "execution_count": 11,
   "id": "contained-progressive",
   "metadata": {},
   "outputs": [],
   "source": [
    "def SoprDown2D(A: mtrx, B: mtrx, C: float, x0: mtrx):\n",
    "    x = x0\n",
    "    v = Matrix([Symbol('x'), Symbol('y')])\n",
    "    f = (A*v).dot(v)/2 + B.dot(v) + C\n",
    "    i = 0\n",
    "    print('f(x,y) =', f)\n",
    "    print('Шаг', i)\n",
    "    print(f'x{i} =', x)\n",
    "    GrF = Matrix([f.diff('x').subs([('x',x[0]),('y', x[1])]), f.diff('y').subs([('x',x[0]),('y', x[1])])])\n",
    "    h = -GrF\n",
    "    print(f'h{i} = -Grad(f(x{i})) =', h)\n",
    "    a = - (A * x + B).dot(-GrF) / (A * (-GrF)).dot(-GrF)\n",
    "    print(f'a{i} = -(Ax{i} + B, h{i}) / (Ah{i}, h{i}) =', a)\n",
    "    x = x + a * h\n",
    "    i += 1\n",
    "    print('Шаг', i)\n",
    "    print(f'x{i} =', x)\n",
    "    for i in range(1,len(x)):\n",
    "        GrF = Matrix([f.diff('x').subs([('x',x[0]),('y', x[1])]), f.diff('y').subs([('x',x[0]),('y', x[1])])])\n",
    "        b = (A * h).dot(GrF) / (A * h).dot(h)\n",
    "        print(f'b{i-1} = (Ah{i-1}, Grad(f(x{i}))) / (Ah{i-1}, h{i-1}) =', b)\n",
    "        h = -GrF + b * h\n",
    "        print(f'h{i} = -Grad(f(x{i})) + b{i-1} * h{i-1} =', h)\n",
    "        a = - (A * x + B).dot(h) / (A * (h)).dot(h)\n",
    "        print(f'a{i} =', a)\n",
    "        x = x + a * h\n",
    "        print(f'x{i+1} = x{i} + a{i} * h{i}', x)\n",
    "    return x.T"
   ]
  },
  {
   "cell_type": "code",
   "execution_count": 12,
   "id": "median-tumor",
   "metadata": {},
   "outputs": [],
   "source": [
    "A = Matrix([[2, 0], [0, 5]])\n",
    "B = Matrix([-3,4])\n",
    "C = 0\n",
    "x0 = Matrix([1, -0.7])"
   ]
  },
  {
   "cell_type": "code",
   "execution_count": 13,
   "id": "orange-criterion",
   "metadata": {},
   "outputs": [
    {
     "name": "stdout",
     "output_type": "stream",
     "text": [
      "f(x,y) = x**2 - 3*x + 5*y**2/2 + 4*y\n",
      "x1 = x0 = Matrix([[1], [-0.700000000000000]])\n",
      "h1 = -Grad(f(x1)) = Matrix([[1], [-0.500000000000000]])\n",
      "a1 = -(Ax1 + B, h1) / (Ah1, h1) = 0.384615384615385\n",
      "x2 = x1 + a1 * h1 = Matrix([[1.38461538461538], [-0.892307692307692]])\n",
      "h2 = -Grad(f(x2)) = Matrix([[0.230769230769231], [0.461538461538462]])\n",
      "a2 = -(Ax2 + B, h2) / (Ah2, h2) = 0.227272727272727\n",
      "x3 = x2 + a2 * h2 = Matrix([[1.43706293706294], [-0.787412587412587]])\n",
      "h3 = -Grad(f(x3)) = Matrix([[0.125874125874126], [-0.0629370629370634]])\n",
      "a3 = -(Ax3 + B, h3) / (Ah3, h3) = 0.384615384615384\n",
      "x4 = x3 + a3 * h3 = Matrix([[1.48547606239914], [-0.811619150080689]])\n",
      "h4 = -Grad(f(x4)) = Matrix([[0.0290478752017216], [0.0580957504034432]])\n",
      "a4 = -(Ax4 + B, h4) / (Ah4, h4) = 0.227272727272727\n",
      "x5 = x4 + a4 * h4 = Matrix([[1.49207785221771], [-0.798415570443542]])\n",
      "h5 = -Grad(f(x5)) = Matrix([[0.0158442955645755], [-0.00792214778228750]])\n",
      "a5 = -(Ax5 + B, h5) / (Ah5, h5) = 0.384615384615389\n",
      "x6 = x5 + a5 * h5 = Matrix([[1.49817181205024], [-0.801462550359807]])\n",
      "h6 = -Grad(f(x6)) = Matrix([[0.00365637589951717], [0.00731275179903434]])\n",
      "h6 подходит под условие остановки\n"
     ]
    },
    {
     "data": {
      "text/latex": [
       "$\\displaystyle \\left[\\begin{matrix}1.49817181205024 & -0.801462550359807\\end{matrix}\\right]$"
      ],
      "text/plain": [
       "Matrix([[1.49817181205024, -0.801462550359807]])"
      ]
     },
     "execution_count": 13,
     "metadata": {},
     "output_type": "execute_result"
    }
   ],
   "source": [
    "GradDown2D(A,B,C,x0,0.01)"
   ]
  },
  {
   "cell_type": "code",
   "execution_count": 14,
   "id": "continued-romania",
   "metadata": {},
   "outputs": [
    {
     "name": "stdout",
     "output_type": "stream",
     "text": [
      "f(x,y) = x**2 - 3*x + 5*y**2/2 + 4*y\n",
      "Шаг 0\n",
      "x0 = Matrix([[1], [-0.700000000000000]])\n",
      "h0 = -Grad(f(x0)) = Matrix([[1], [-0.500000000000000]])\n",
      "a0 = -(Ax0 + B, h0) / (Ah0, h0) = 0.384615384615385\n",
      "Шаг 1\n",
      "x1 = Matrix([[1.38461538461538], [-0.892307692307692]])\n",
      "b0 = (Ah0, Grad(f(x1))) / (Ah0, h0) = 0.213017751479290\n",
      "h1 = -Grad(f(x1)) + b0 * h0 = Matrix([[0.443786982248521], [0.355029585798817]])\n",
      "a1 = 0.260000000000000\n",
      "x2 = x1 + a1 * h1 Matrix([[1.50000000000000], [-0.800000000000000]])\n"
     ]
    },
    {
     "data": {
      "text/latex": [
       "$\\displaystyle \\left[\\begin{matrix}1.5 & -0.8\\end{matrix}\\right]$"
      ],
      "text/plain": [
       "Matrix([[1.5, -0.8]])"
      ]
     },
     "execution_count": 14,
     "metadata": {},
     "output_type": "execute_result"
    }
   ],
   "source": [
    "SoprDown2D(A,B,C,x0)"
   ]
  },
  {
   "cell_type": "code",
   "execution_count": null,
   "id": "technical-office",
   "metadata": {},
   "outputs": [],
   "source": []
  }
 ],
 "metadata": {
  "kernelspec": {
   "display_name": "Python 3 (ipykernel)",
   "language": "python",
   "name": "python3"
  },
  "language_info": {
   "codemirror_mode": {
    "name": "ipython",
    "version": 3
   },
   "file_extension": ".py",
   "mimetype": "text/x-python",
   "name": "python",
   "nbconvert_exporter": "python",
   "pygments_lexer": "ipython3",
   "version": "3.9.12"
  }
 },
 "nbformat": 4,
 "nbformat_minor": 5
}
