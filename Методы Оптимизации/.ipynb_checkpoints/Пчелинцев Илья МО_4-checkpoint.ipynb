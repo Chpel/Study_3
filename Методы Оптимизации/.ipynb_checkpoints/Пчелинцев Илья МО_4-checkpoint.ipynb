{
 "cells": [
  {
   "cell_type": "code",
   "execution_count": 1,
   "id": "rough-rabbit",
   "metadata": {},
   "outputs": [],
   "source": [
    "import numpy as np"
   ]
  },
  {
   "cell_type": "code",
   "execution_count": 2,
   "id": "gentle-cream",
   "metadata": {},
   "outputs": [],
   "source": [
    "b = 700\n",
    "mod = 100\n",
    "n = 4\n",
    "f1 = [0, 51, 52, 47, 66 ,72 ,64, 72]\n",
    "f2 = [0, 28, 19, 22, 64, 84, 45, 36]\n",
    "f3 = [0, 84 ,70, 85, 52, 91, 85, 97]\n",
    "f4 = [0, 19, 45, 48, 50, 51, 54 ,80]\n",
    "f = np.array([f1, f2, f3, f4])"
   ]
  },
  {
   "cell_type": "code",
   "execution_count": 3,
   "id": "pacific-interaction",
   "metadata": {},
   "outputs": [],
   "source": [
    "def DinamicProg(b, n, mod, f):\n",
    "    F_full = []\n",
    "    path = []\n",
    "    for i in range(n, 0, -1):\n",
    "        if i == n:\n",
    "            print(f\"F{n}(X0) = f{n}(X0)\")\n",
    "            F = [(f[n-1][k], (None, k)) for k in range(b+1)]\n",
    "        else:\n",
    "            F = []\n",
    "            for j in range(b+1):\n",
    "                if j == 0:\n",
    "                    F_one_list = [(0, (0,0))]\n",
    "                else:\n",
    "                    F_one_list = [(F_full[n-i-1][j - k][0] + f[i-1][k], (j-k,k)) for k in range(j+1)]\n",
    "                F_one = max(F_one_list, key= lambda x: x[0])\n",
    "                F.append(F_one)\n",
    "        print(f\"F{i}(X{i-1}) = \", F)\n",
    "        F_full.append(F)\n",
    "    F_full = F_full[::-1]\n",
    "    path = []\n",
    "    i = 0\n",
    "    ans = F_full[i][b]\n",
    "    e1 = ans[1][1]\n",
    "    e2 = ans[1][0]\n",
    "    while True:\n",
    "        path.append(e1)\n",
    "        i += 1\n",
    "        e1 = F_full[i][e2][1][1]\n",
    "        e2 = F_full[i][e2][1][0]    \n",
    "        if e2 == None:\n",
    "            path.append(e1)\n",
    "            break\n",
    "    print(f\"Answer: Max Profit = {F_full[0][b][0]}, system is {[p * mod for p in path]}\")"
   ]
  },
  {
   "cell_type": "code",
   "execution_count": 4,
   "id": "designed-director",
   "metadata": {},
   "outputs": [
    {
     "name": "stdout",
     "output_type": "stream",
     "text": [
      "F4(X0) = f4(X0)\n",
      "F4(X3) =  [(0, (None, 0)), (19, (None, 1)), (45, (None, 2)), (48, (None, 3)), (50, (None, 4)), (51, (None, 5)), (54, (None, 6)), (80, (None, 7))]\n",
      "F3(X2) =  [(0, (0, 0)), (84, (0, 1)), (103, (1, 1)), (129, (2, 1)), (132, (3, 1)), (134, (4, 1)), (135, (5, 1)), (138, (6, 1))]\n",
      "F2(X1) =  [(0, (0, 0)), (84, (1, 0)), (112, (1, 1)), (131, (2, 1)), (157, (3, 1)), (160, (4, 1)), (168, (1, 5)), (193, (3, 4))]\n",
      "F1(X0) =  [(0, (0, 0)), (84, (1, 0)), (135, (1, 1)), (163, (2, 1)), (182, (3, 1)), (208, (4, 1)), (211, (5, 1)), (219, (6, 1))]\n",
      "Answer: Max Profit = 219, system is [100, 500, 100, 0]\n"
     ]
    }
   ],
   "source": [
    "DinamicProg(b // mod,n, mod, f)"
   ]
  },
  {
   "cell_type": "code",
   "execution_count": 5,
   "id": "mysterious-bolivia",
   "metadata": {},
   "outputs": [],
   "source": [
    "b = 700\n",
    "mod = 100\n",
    "n = 4\n",
    "f1 = [0, 24, 29, 39, 82, 94, 102, 117]\n",
    "f2 = [0, 19, 22, 36, 45, 64, 87, 100]\n",
    "f3 = [0, 34, 39, 54, 59, 78, 98, 110]\n",
    "f4 = [0, 41, 45, 49, 58, 87, 88, 98]\n",
    "f = np.array([f1, f2, f3, f4])"
   ]
  },
  {
   "cell_type": "code",
   "execution_count": 6,
   "id": "hollywood-falls",
   "metadata": {},
   "outputs": [
    {
     "name": "stdout",
     "output_type": "stream",
     "text": [
      "F4(X0) = f4(X0)\n",
      "F4(X3) =  [(0, (None, 0)), (41, (None, 1)), (45, (None, 2)), (49, (None, 3)), (58, (None, 4)), (87, (None, 5)), (88, (None, 6)), (98, (None, 7))]\n",
      "F3(X2) =  [(0, (0, 0)), (41, (1, 0)), (75, (1, 1)), (80, (1, 2)), (95, (1, 3)), (100, (1, 4)), (121, (5, 1)), (139, (1, 6))]\n",
      "F2(X1) =  [(0, (0, 0)), (41, (1, 0)), (75, (2, 0)), (94, (2, 1)), (99, (3, 1)), (114, (4, 1)), (121, (6, 0)), (140, (6, 1))]\n",
      "F1(X0) =  [(0, (0, 0)), (41, (1, 0)), (75, (2, 0)), (99, (2, 1)), (118, (3, 1)), (123, (4, 1)), (157, (2, 4)), (176, (3, 4))]\n",
      "Answer: Max Profit = 176, system is [400, 100, 100, 100]\n"
     ]
    }
   ],
   "source": [
    "DinamicProg(b // mod,n, mod, f)"
   ]
  },
  {
   "cell_type": "code",
   "execution_count": null,
   "id": "improving-geometry",
   "metadata": {},
   "outputs": [],
   "source": []
  }
 ],
 "metadata": {
  "kernelspec": {
   "display_name": "Python 3 (ipykernel)",
   "language": "python",
   "name": "python3"
  },
  "language_info": {
   "codemirror_mode": {
    "name": "ipython",
    "version": 3
   },
   "file_extension": ".py",
   "mimetype": "text/x-python",
   "name": "python",
   "nbconvert_exporter": "python",
   "pygments_lexer": "ipython3",
   "version": "3.9.12"
  }
 },
 "nbformat": 4,
 "nbformat_minor": 5
}
