{
 "cells": [
  {
   "cell_type": "code",
   "execution_count": 4,
   "id": "b130617e",
   "metadata": {},
   "outputs": [],
   "source": [
    "import numpy as np"
   ]
  },
  {
   "cell_type": "markdown",
   "id": "8af0a080",
   "metadata": {},
   "source": [
    "Написать программы (2 шт.), реализующие явную и неявную схемы\n",
    "для уравнения\n",
    "\n",
    "$$\n",
    "\\begin{array}{l}\n",
    "u_t + (f(u))_x = 0 \\\\\n",
    "u|_{t=0} = u_0(x) \\\\\n",
    "x \\in [a,b]\n",
    "\\end{array}\n",
    "$$\n",
    "\n",
    "Входные данные (которые могут быть изменены по указанию преподавателя):\n",
    "    \n",
    "    Нелинейность f (u) (для отладки можно взять f (u) = u^2);\n",
    "    u0(x) (для отладки можно взять u0(x) = th(−x));\n",
    "    Начало и конец отрезка и его длина;\n",
    "    Краевые условия;\n",
    "    Время окончания вычислений T , t ∈ [0, T ].\n",
    "\n"
   ]
  },
  {
   "cell_type": "markdown",
   "id": "795ca3c2",
   "metadata": {},
   "source": [
    "# Явная схема"
   ]
  },
  {
   "cell_type": "code",
   "execution_count": 5,
   "id": "515ff128",
   "metadata": {},
   "outputs": [],
   "source": [
    "def u_1_m(u, m, tau, h, F):\n",
    "    return u[m] - (tau/h) * (F(u[m+1]) - F(u[m]))\n",
    "\n",
    "def heat_expl(init, bound1, bound2, F, N, alpha, beta, tau, T):\n",
    "    \n",
    "    \n",
    "    # YOUR CODE HERE\n",
    "    w_x, h = np.linspace(alpha, beta, N+1, retstep=True)\n",
    "    N_t = int(T / tau)\n",
    "    u_0 = np.array([init(x) for x in w_x], dtype=np.float64)\n",
    "    u_end = np.zeros(u_0.shape)\n",
    "    \n",
    "    for t0 in range(1, N_t+1):\n",
    "        u_0 = u_end.copy()\n",
    "        for m in range(1, N):\n",
    "            u1m = u_1_m(u_0, m, tau, h, F)\n",
    "            u1mm1 = u_1_m(u_0, m-1, tau, h, F)\n",
    "            u_end[m] = 0.5 * (u_0[m] + u1m - (tau/h) * (F(u1m) - F(u1mm1)))\n",
    "        u_end[0] = bound1(tau * t0)\n",
    "        u_end[-1] = bound2(tau * t0)\n",
    "    \n",
    "    return u_end"
   ]
  },
  {
   "cell_type": "code",
   "execution_count": 6,
   "id": "d7d46223",
   "metadata": {},
   "outputs": [],
   "source": [
    "def F(u):\n",
    "    return u"
   ]
  },
  {
   "cell_type": "code",
   "execution_count": 7,
   "id": "b431f29d",
   "metadata": {},
   "outputs": [],
   "source": [
    "from numpy.testing import assert_allclose\n",
    "\n",
    "u_0 = heat_expl(lambda x: 0., lambda x: 1., lambda x: 1., F, 10,\n",
    "                     alpha=0., beta=1., tau=0.005, T=2)"
   ]
  },
  {
   "cell_type": "markdown",
   "id": "069d5a1c",
   "metadata": {},
   "source": [
    "# Неявная схема"
   ]
  },
  {
   "cell_type": "code",
   "execution_count": null,
   "id": "8241daec",
   "metadata": {},
   "outputs": [],
   "source": [
    "from scipy.linalg import solve_banded\n",
    "\n",
    "def heat_impl(init, bound1, bound2, alpha, lx, h, tau, tol=1e-3):\n",
    "\n",
    "    \n",
    "    w_x = np.arange(0, lx+h, h)[:int(lx/h)+1]\n",
    "    t_0 = 0.\n",
    "    t_end = t_0 + tau\n",
    "    u_0 = np.array([init(x) for x in w_x], dtype=np.float64)\n",
    "    N = u_0.shape[0]\n",
    "    \n",
    "    A = np.zeros((N-2,N-2), dtype=np.float64)\n",
    "    b = np.zeros(N-2, dtype=np.float64)\n",
    "    u_end = np.zeros(N, dtype=np.float64)\n",
    "    u_end[0] = bound1(t_end)\n",
    "    u_end[-1] = bound2(t_end)\n",
    "    \n",
    "    A[0][:2] = (2 * alpha * tau / np.power(h, 2) + 1), -(alpha * tau / np.power(h, 2))\n",
    "    b[0] = u_0[1] + (alpha * tau / np.power(h, 2)) * u_end[0]\n",
    "    for i in range(1,N-3):\n",
    "        A[i][i-1], A[i][i], A[i][i+1] = -(alpha * tau / np.power(h, 2)), (2 * alpha * tau / np.power(h, 2) + 1), -(alpha * tau / np.power(h, 2))\n",
    "        b[i] = u_0[i+1]\n",
    "    A[-1][-2:] = -(alpha * tau / np.power(h, 2)), (2 * alpha * tau / np.power(h, 2) + 1)\n",
    "    b[-1] = u_0[-2] + (alpha * tau / np.power(h, 2)) * u_end[-1]\n",
    "    \n",
    "    ab = np.zeros((3, A.shape[0]))\n",
    "    ab[0,1:] = np.diag(A,k=1)\n",
    "    ab[1] = np.diag(A)\n",
    "    ab[2,:-1] = np.diag(A, k=-1)\n",
    "    u_end[1:-1] = solve_banded((1,1),ab,b) \n",
    "    \n",
    "    while np.linalg.norm(u_end - u_0) >= tol:\n",
    "        u_0 = u_end.copy()\n",
    "        t_end += tau\n",
    "        \n",
    "        u_end = np.zeros(N, dtype=np.float64)\n",
    "        u_end[0] = bound1(t_end)\n",
    "        u_end[-1] = bound2(t_end)\n",
    "        \n",
    "        b[0] = u_0[1] + (alpha * tau / np.power(h, 2)) * u_end[0]\n",
    "        for i in range(1,N-3):\n",
    "            b[i] = u_0[i+1]\n",
    "        b[-1] = u_0[-2] + (alpha * tau / np.power(h, 2)) * u_end[-1]\n",
    "        \n",
    "        u_end[1:-1] = solve_banded((1,1),ab,b)   \n",
    "        \n",
    "    u_0 = u_end.copy()\n",
    "    t_end += tau\n",
    "    u_end = np.zeros(N, dtype=np.float64)\n",
    "    u_end[0] = bound1(t_end)\n",
    "    u_end[-1] = bound2(t_end)\n",
    "    b[0] = u_0[1] + (alpha * tau / np.power(h, 2)) * u_end[0]\n",
    "    for i in range(1,N-3):\n",
    "        b[i] = u_0[i+1]\n",
    "    b[-1] = u_0[-2] + (alpha * tau / np.power(h, 2)) * u_end[-1]\n",
    "    u_end[1:-1] = solve_banded((1,1),ab,b) \n",
    "    \n",
    "    return t_end, u_end"
   ]
  }
 ],
 "metadata": {
  "kernelspec": {
   "display_name": "Python 3 (ipykernel)",
   "language": "python",
   "name": "python3"
  },
  "language_info": {
   "codemirror_mode": {
    "name": "ipython",
    "version": 3
   },
   "file_extension": ".py",
   "mimetype": "text/x-python",
   "name": "python",
   "nbconvert_exporter": "python",
   "pygments_lexer": "ipython3",
   "version": "3.9.12"
  }
 },
 "nbformat": 4,
 "nbformat_minor": 5
}
