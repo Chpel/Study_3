{
 "cells": [
  {
   "cell_type": "code",
   "execution_count": 2,
   "id": "b130617e",
   "metadata": {},
   "outputs": [],
   "source": [
    "import numpy as np"
   ]
  },
  {
   "cell_type": "markdown",
   "id": "8af0a080",
   "metadata": {},
   "source": [
    "Написать программы (2 шт.), реализующие явную и неявную схемы\n",
    "для уравнения\n",
    "\n",
    "$$\n",
    "\\begin{array}{l}\n",
    "u_t + (f(u))_x = 0 \\\\\n",
    "u|_{t=0} = u_0(x) \\\\\n",
    "x \\in [a,b]\n",
    "\\end{array}\n",
    "$$\n",
    "\n",
    "Входные данные (которые могут быть изменены по указанию преподавателя):\n",
    "    \n",
    "    Нелинейность f (u) (для отладки можно взять f (u) = u^2);\n",
    "    u0(x) (для отладки можно взять u0(x) = th(−x));\n",
    "    Начало и конец отрезка и его длина;\n",
    "    Краевые условия;\n",
    "    Время окончания вычислений T , t ∈ [0, T ].\n",
    "\n"
   ]
  },
  {
   "cell_type": "markdown",
   "id": "795ca3c2",
   "metadata": {},
   "source": [
    "# Явная схема"
   ]
  },
  {
   "cell_type": "code",
   "execution_count": 5,
   "id": "515ff128",
   "metadata": {},
   "outputs": [],
   "source": [
    "def u_1_m(u, m, tau, h, F):\n",
    "    return u[m] - (tau/h) * (F(u[m+1]) - F(u[m]))\n",
    "\n",
    "def heat_expl(init, bound1, bound2, F, N, alpha, beta, tau, T):\n",
    "    \n",
    "    \n",
    "    # YOUR CODE HERE\n",
    "    w_x, h = np.linspace(alpha, beta, N+1, retstep=True)\n",
    "    N_t = int(T / tau)\n",
    "    u_0 = np.array([init(x) for x in w_x], dtype=np.float64)\n",
    "    u_end = np.zeros(u_0.shape)\n",
    "    \n",
    "    for t0 in range(1, N_t+1):\n",
    "        u_0 = u_end.copy()\n",
    "        for m in range(1, N):\n",
    "            u1m = u_1_m(u_0, m, tau, h, F)\n",
    "            u1mm1 = u_1_m(u_0, m-1, tau, h, F)\n",
    "            u_end[m] = 0.5 * (u_0[m] + u1m - (tau/h) * (F(u1m) - F(u1mm1)))\n",
    "        u_end[0] = bound1(tau * t0)\n",
    "        u_end[-1] = bound2(tau * t0)\n",
    "    \n",
    "    return u_end"
   ]
  },
  {
   "cell_type": "code",
   "execution_count": 8,
   "id": "d7d46223",
   "metadata": {},
   "outputs": [],
   "source": [
    "def F(u):\n",
    "    return u ** 2\n",
    "\n",
    "def F_u(u):\n",
    "    return 2 * u"
   ]
  },
  {
   "cell_type": "code",
   "execution_count": 7,
   "id": "b431f29d",
   "metadata": {},
   "outputs": [],
   "source": [
    "from numpy.testing import assert_allclose\n",
    "\n",
    "u_0 = heat_expl(lambda x: 0., lambda x: 1., lambda x: 1., F, 10,\n",
    "                     alpha=0., beta=1., tau=0.005, T=2)"
   ]
  },
  {
   "cell_type": "markdown",
   "id": "069d5a1c",
   "metadata": {},
   "source": [
    "# Неявная схема"
   ]
  },
  {
   "cell_type": "code",
   "execution_count": 13,
   "id": "8241daec",
   "metadata": {},
   "outputs": [],
   "source": [
    "from scipy.linalg import solve_banded\n",
    "\n",
    "def heat_impl(init, bound1, bound2, F, F_u, N, alpha, beta, tau, T):\n",
    "\n",
    "    w_x, h = np.linspace(alpha, beta, N+1, retstep=True)\n",
    "    N_t = int(T / tau)\n",
    "    u_0 = np.array([init(x) for x in w_x], dtype=np.float64)\n",
    "    u_end = np.zeros(u_0.shape)\n",
    "    c = tau / (2*h)\n",
    "    \n",
    "    A = np.zeros((3, N - 1))\n",
    "    b = np.zeros(N - 1)\n",
    "    for t0 in range(1, N_t+1):\n",
    "        u_0 = u_end.copy()\n",
    "        u_end[0] = bound1(tau * t0)\n",
    "        u_end[-1] = bound2(tau * t0)\n",
    "        \n",
    "\n",
    "        A[0] = c * F_u(u_0[1:-1])\n",
    "        A[1] = 1\n",
    "        A[2] = -A[0,:]\n",
    "        b[0] += u_end[0] * c * F_u(u_0[1])\n",
    "        b[-1] -= u_end[-1] * c * F_u(u_0[-2])\n",
    "        u_end[1:-1] = solve_banded((1,1), A, b)\n",
    "        \n",
    "    return u_end"
   ]
  },
  {
   "cell_type": "code",
   "execution_count": 14,
   "id": "5d375dd0",
   "metadata": {},
   "outputs": [],
   "source": [
    "u_0 = heat_impl(lambda x: 0., lambda x: 1., lambda x: 1., F, F_u, 10,\n",
    "                     alpha=0., beta=1., tau=0.005, T=2)"
   ]
  }
 ],
 "metadata": {
  "kernelspec": {
   "display_name": "Python 3 (ipykernel)",
   "language": "python",
   "name": "python3"
  },
  "language_info": {
   "codemirror_mode": {
    "name": "ipython",
    "version": 3
   },
   "file_extension": ".py",
   "mimetype": "text/x-python",
   "name": "python",
   "nbconvert_exporter": "python",
   "pygments_lexer": "ipython3",
   "version": "3.9.12"
  }
 },
 "nbformat": 4,
 "nbformat_minor": 5
}
